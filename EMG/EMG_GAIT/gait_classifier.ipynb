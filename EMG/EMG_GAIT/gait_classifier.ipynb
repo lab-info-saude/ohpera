{
 "cells": [
  {
   "cell_type": "code",
   "execution_count": 1,
   "metadata": {
    "scrolled": true
   },
   "outputs": [
    {
     "name": "stderr",
     "output_type": "stream",
     "text": [
      "WARNING (theano.sandbox.cuda): The cuda backend is deprecated and will be removed in the next release (v0.10).  Please switch to the gpuarray backend. You can get more information about how to switch at this URL:\n",
      " https://github.com/Theano/Theano/wiki/Converting-to-the-new-gpu-back-end%28gpuarray%29\n",
      "\n",
      "WARNING (theano.sandbox.cuda): CUDA is installed, but device gpu is not available  (error: Unable to get the number of gpus available: unknown error)\n"
     ]
    }
   ],
   "source": [
    "import os\n",
    "import pandas as pd\n",
    "import numpy as np\n",
    "import scipy as sp\n",
    "from scipy import signal\n",
    "#from ml_time_series import generate_envelope\n",
    "import ml_time_series as mls\n",
    "import timeit\n",
    "from sklearn.externals import joblib\n",
    "from ml_time_series_theano import generate_envelope_nd_T"
   ]
  },
  {
   "cell_type": "markdown",
   "metadata": {},
   "source": [
    "---\n",
    "# Processing\n",
    "---"
   ]
  },
  {
   "cell_type": "code",
   "execution_count": 10,
   "metadata": {
    "collapsed": true
   },
   "outputs": [],
   "source": [
    "import numpy as np\n",
    "import theano\n",
    "from theano import tensor as T\n",
    "\n",
    "def generate_envelope_nd_TT(original_data, num_samples):\n",
    "    # initialize\n",
    "    new_Xc = np.array([])\n",
    "    x = T.dmatrix('x')\n",
    "    w = theano.shared(num_samples-1)\n",
    "    update = [(w, w + 1)]\n",
    "    envelope_nd = x[w-(num_samples-1):w+1][0 : num_samples, :].ravel()\n",
    "    \n",
    "    # compile model\n",
    "    net_input = theano.function(inputs=[x],\n",
    "                                updates=update,\n",
    "                                outputs=envelope_nd)\n",
    "    # execute\n",
    "    X_input =  np.array((original_data), \n",
    "                          dtype=theano.config.floatX)\n",
    "\n",
    "    if num_samples < len(original_data):\n",
    "        new_Xc = net_input(X_input) \n",
    "        for i in np.arange(num_samples, original_data.shape[0]):\n",
    "            new_Xc = np.vstack((new_Xc, net_input(X_input)))\n",
    "\n",
    "    else:\n",
    "        print 'num_samples must be lower than original_data.'\n",
    "    return new_Xc"
   ]
  },
  {
   "cell_type": "code",
   "execution_count": 11,
   "metadata": {
    "collapsed": true
   },
   "outputs": [],
   "source": [
    "def proccess_data(FILE_,DATA,NUM_SAMPLES,LABEL):\n",
    "\n",
    "    Xc = np.genfromtxt('DB_GAIT/'+FILE_+'.txt', delimiter=\",\", usecols=(1,2,3,4))\n",
    "    \n",
    "    print '\\nXc shape ', Xc.shape\n",
    "    \n",
    "    #Create temporal serie\n",
    "    #Xc = mls.generate_envelope(Xc, NUM_SAMPLES)\n",
    "    Xc = generate_envelope_nd_TT(Xc, NUM_SAMPLES)\n",
    "    print 'Xc temporal-serie shape ', Xc.shape\n",
    "    \n",
    "    #Labeling the type of movement\n",
    "    C = (np.ones(len(Xc))*LABEL).reshape((len(Xc),1))\n",
    "    Xc = np.hstack((Xc.reshape(Xc.shape),C.reshape((len(Xc),1))))\n",
    "    print 'Xc labeled shape ', Xc.shape\n",
    "    \n",
    "    np.save('./preprocessed_data/'+FILE_, Xc, allow_pickle=False)\n",
    "    print FILE_+'.npy'\n",
    "    \n",
    "    DATA.append(FILE_+'.npy')"
   ]
  },
  {
   "cell_type": "code",
   "execution_count": 12,
   "metadata": {
    "collapsed": true
   },
   "outputs": [],
   "source": [
    "def window_nd(a, window, steps = None, axis = None, outlist = False):\n",
    "    \"\"\"\n",
    "    Create a windowed view over `n`-dimensional input that uses an \n",
    "    `m`-dimensional window, with `m <= n`\n",
    "\n",
    "    Parameters\n",
    "    -------------\n",
    "    a : Array-like\n",
    "        The array to create the view on\n",
    "\n",
    "    window : tuple or int\n",
    "        If int, the size of the window in `axis`, or in all dimensions if \n",
    "        `axis == None`\n",
    "\n",
    "        If tuple, the shape of the desired window.  `window.size` must be:\n",
    "            equal to `len(axis)` if `axis != None`, else \n",
    "            equal to `len(a.shape)`, or \n",
    "            1\n",
    "\n",
    "    steps : tuple, int or None\n",
    "        The offset between consecutive windows in desired dimension\n",
    "        If None, offset is one in all dimensions\n",
    "        If int, the offset for all windows over `axis`\n",
    "        If tuple, the steps along each `axis`.  \n",
    "            `len(steps)` must me equal to `len(axis)`\n",
    "\n",
    "    axis : tuple, int or None\n",
    "        The axes over which to apply the window\n",
    "        If None, apply over all dimensions\n",
    "        if tuple or int, the dimensions over which to apply the window\n",
    "\n",
    "    outlist : boolean\n",
    "        If output should be as list of windows.  \n",
    "        If False, it will be an array with \n",
    "            `a.nidim + 1 <= a_view.ndim <= a.ndim *2`.  \n",
    "        If True, output is a list of arrays with `a_view[0].ndim = a.ndim`\n",
    "            Warning: this is a memory-intensive copy and not a view\n",
    "\n",
    "    Returns\n",
    "    -------\n",
    "\n",
    "    a_view : ndarray\n",
    "        A windowed view on the input array `a`, or copied list of windows   \n",
    "\n",
    "    \"\"\"\n",
    "    ashp = np.array(a.shape)\n",
    "\n",
    "    if axis != None:\n",
    "        axs = np.array(axis).reshape(-1)\n",
    "        assert np.all(np.in1d(axs, np.arange(ashp.size))), \"Axes out of range\"\n",
    "    else:\n",
    "        axs = np.arange(ashp.size)\n",
    "\n",
    "    window = np.array(window).reshape(-1)\n",
    "    assert (window.size == axs.size) | (window.size == 1), \"Window dims and axes don't match\"\n",
    "    wshp = ashp.copy()\n",
    "    wshp[axs] = window\n",
    "    assert np.all(wshp <= ashp), \"Window is bigger than input array in axes\"\n",
    "\n",
    "    stp = np.ones_like(ashp)\n",
    "    if steps:\n",
    "        steps = np.array(steps).reshape(-1)\n",
    "        assert np.all(steps > 0), \"Only positive steps allowed\"\n",
    "        assert (steps.size == axs.size) | (steps.size == 1), \"Steps and axes don't match\"\n",
    "        stp[axs] = steps\n",
    "\n",
    "    astr = np.array(a.strides)\n",
    "\n",
    "    shape = tuple((ashp - wshp) // stp + 1) + tuple(wshp)\n",
    "    strides = tuple(astr * stp) + tuple(astr)\n",
    "\n",
    "    as_strided = np.lib.stride_tricks.as_strided\n",
    "    a_view = np.squeeze(as_strided(a, \n",
    "                                 shape = shape, \n",
    "                                 strides = strides))\n",
    "    if outlist:\n",
    "        return list(a_view.reshape((-1,) + tuple(wshp)))\n",
    "    else:\n",
    "        return a_view"
   ]
  },
  {
   "cell_type": "code",
   "execution_count": 14,
   "metadata": {},
   "outputs": [
    {
     "name": "stdout",
     "output_type": "stream",
     "text": [
      "\n",
      "Xc shape  (5001, 4)\n",
      "Xc temporal-serie shape  (4502, 2000)\n",
      "Xc labeled shape  (4502, 2001)\n",
      "data_w_1.npy\n",
      "Tempo total para o envelopamento: 0.61 min\n"
     ]
    }
   ],
   "source": [
    "NUM_SAMPLES = 500\n",
    "\n",
    "DATA = []\n",
    "\n",
    "start = timeit.default_timer()\n",
    "proccess_data('data_w_1',DATA,NUM_SAMPLES,0)\n",
    "\n",
    "stop = timeit.default_timer()\n",
    "\n",
    "ti = stop - start \n",
    "print ('Tempo total para o envelopamento: %.2f min' % (ti/60))"
   ]
  },
  {
   "cell_type": "code",
   "execution_count": 13,
   "metadata": {
    "scrolled": false
   },
   "outputs": [
    {
     "name": "stdout",
     "output_type": "stream",
     "text": [
      "\n",
      "Xc shape  (5001, 4)\n",
      "Xc temporal-serie shape  (4502, 2000)\n",
      "Xc labeled shape  (4502, 2001)\n",
      "data_w_1.npy\n",
      "\n",
      "Xc shape  (5001, 4)\n",
      "Xc temporal-serie shape  (4502, 2000)\n",
      "Xc labeled shape  (4502, 2001)\n",
      "data_w_2.npy\n",
      "\n",
      "Xc shape  (5001, 4)\n",
      "Xc temporal-serie shape  (4502, 2000)\n",
      "Xc labeled shape  (4502, 2001)\n",
      "data_w_3.npy\n",
      "\n",
      "Xc shape  (6001, 4)\n",
      "Xc temporal-serie shape  (5502, 2000)\n",
      "Xc labeled shape  (5502, 2001)\n",
      "data_w_4.npy\n",
      "\n",
      "Xc shape  (5001, 4)\n",
      "Xc temporal-serie shape  (4502, 2000)\n",
      "Xc labeled shape  (4502, 2001)\n",
      "data_w_5.npy\n",
      "\n",
      "Xc shape  (6001, 4)\n",
      "Xc temporal-serie shape  (5502, 2000)\n",
      "Xc labeled shape  (5502, 2001)\n",
      "data_w_6.npy\n",
      "\n",
      "Xc shape  (5001, 4)\n",
      "Xc temporal-serie shape  (4502, 2000)\n",
      "Xc labeled shape  (4502, 2001)\n",
      "data_w_7.npy\n",
      "\n",
      "Xc shape  (5001, 4)\n",
      "Xc temporal-serie shape  (4502, 2000)\n",
      "Xc labeled shape  (4502, 2001)\n",
      "data_w_8.npy\n",
      "\n",
      "Xc shape  (5001, 4)\n",
      "Xc temporal-serie shape  (4502, 2000)\n",
      "Xc labeled shape  (4502, 2001)\n",
      "data_w_9.npy\n",
      "\n",
      "Xc shape  (5001, 4)\n",
      "Xc temporal-serie shape  (4502, 2000)\n",
      "Xc labeled shape  (4502, 2001)\n",
      "data_w_10.npy\n",
      "\n",
      "Xc shape  (6001, 4)\n",
      "Xc temporal-serie shape  (5502, 2000)\n",
      "Xc labeled shape  (5502, 2001)\n",
      "data_w_11.npy\n",
      "\n",
      "Xc shape  (6001, 4)\n",
      "Xc temporal-serie shape  (5502, 2000)\n",
      "Xc labeled shape  (5502, 2001)\n",
      "data_w_12.npy\n",
      "\n",
      "Xc shape  (5001, 4)\n",
      "Xc temporal-serie shape  (4502, 2000)\n",
      "Xc labeled shape  (4502, 2001)\n",
      "data_r_1.npy\n",
      "\n",
      "Xc shape  (5001, 4)\n",
      "Xc temporal-serie shape  (4502, 2000)\n",
      "Xc labeled shape  (4502, 2001)\n",
      "data_r_2.npy\n",
      "\n",
      "Xc shape  (5001, 4)\n",
      "Xc temporal-serie shape  (4502, 2000)\n",
      "Xc labeled shape  (4502, 2001)\n",
      "data_r_3.npy\n",
      "\n",
      "Xc shape  (6001, 4)\n",
      "Xc temporal-serie shape  (5502, 2000)\n",
      "Xc labeled shape  (5502, 2001)\n",
      "data_r_4.npy\n",
      "\n",
      "Xc shape  (5001, 4)\n",
      "Xc temporal-serie shape  (4502, 2000)\n",
      "Xc labeled shape  (4502, 2001)\n",
      "data_r_5.npy\n",
      "\n",
      "Xc shape  (6001, 4)\n",
      "Xc temporal-serie shape  (5502, 2000)\n",
      "Xc labeled shape  (5502, 2001)\n",
      "data_r_6.npy\n",
      "\n",
      "Xc shape  (5001, 4)\n",
      "Xc temporal-serie shape  (4502, 2000)\n",
      "Xc labeled shape  (4502, 2001)\n",
      "data_r_7.npy\n",
      "\n",
      "Xc shape  (5001, 4)\n",
      "Xc temporal-serie shape  (4502, 2000)\n",
      "Xc labeled shape  (4502, 2001)\n",
      "data_r_8.npy\n",
      "\n",
      "Xc shape  (5001, 4)\n",
      "Xc temporal-serie shape  (4502, 2000)\n",
      "Xc labeled shape  (4502, 2001)\n",
      "data_r_9.npy\n",
      "\n",
      "Xc shape  (5001, 4)\n",
      "Xc temporal-serie shape  (4502, 2000)\n",
      "Xc labeled shape  (4502, 2001)\n",
      "data_r_10.npy\n",
      "\n",
      "Xc shape  (5001, 4)\n",
      "Xc temporal-serie shape  (4502, 2000)\n",
      "Xc labeled shape  (4502, 2001)\n",
      "data_r_11.npy\n",
      "\n",
      "Xc shape  (5001, 4)\n",
      "Xc temporal-serie shape  (4502, 2000)\n",
      "Xc labeled shape  (4502, 2001)\n",
      "data_r_12.npy\n",
      "\n",
      "Xc shape  (5001, 4)\n",
      "Xc temporal-serie shape  (4502, 2000)\n",
      "Xc labeled shape  (4502, 2001)\n",
      "data_us_1.npy\n",
      "\n",
      "Xc shape  (5001, 4)\n",
      "Xc temporal-serie shape  (4502, 2000)\n",
      "Xc labeled shape  (4502, 2001)\n",
      "data_us_2.npy\n",
      "\n",
      "Xc shape  (5001, 4)\n",
      "Xc temporal-serie shape  (4502, 2000)\n",
      "Xc labeled shape  (4502, 2001)\n",
      "data_us_3.npy\n",
      "\n",
      "Xc shape  (6001, 4)\n",
      "Xc temporal-serie shape  (5502, 2000)\n",
      "Xc labeled shape  (5502, 2001)\n",
      "data_us_4.npy\n",
      "\n",
      "Xc shape  (5001, 4)\n",
      "Xc temporal-serie shape  (4502, 2000)\n",
      "Xc labeled shape  (4502, 2001)\n",
      "data_us_5.npy\n",
      "\n",
      "Xc shape  (6001, 4)\n",
      "Xc temporal-serie shape  (5502, 2000)\n",
      "Xc labeled shape  (5502, 2001)\n",
      "data_us_6.npy\n",
      "\n",
      "Xc shape  (5001, 4)\n",
      "Xc temporal-serie shape  (4502, 2000)\n",
      "Xc labeled shape  (4502, 2001)\n",
      "data_us_7.npy\n",
      "\n",
      "Xc shape  (5001, 4)\n",
      "Xc temporal-serie shape  (4502, 2000)\n",
      "Xc labeled shape  (4502, 2001)\n",
      "data_us_8.npy\n",
      "\n",
      "Xc shape  (5001, 4)\n",
      "Xc temporal-serie shape  (4502, 2000)\n",
      "Xc labeled shape  (4502, 2001)\n",
      "data_us_9.npy\n",
      "\n",
      "Xc shape  (6001, 4)\n",
      "Xc temporal-serie shape  (5502, 2000)\n",
      "Xc labeled shape  (5502, 2001)\n",
      "data_us_10.npy\n",
      "\n",
      "Xc shape  (6001, 4)\n",
      "Xc temporal-serie shape  (5502, 2000)\n",
      "Xc labeled shape  (5502, 2001)\n",
      "data_us_11.npy\n",
      "\n",
      "Xc shape  (6001, 4)\n",
      "Xc temporal-serie shape  (5502, 2000)\n",
      "Xc labeled shape  (5502, 2001)\n",
      "data_us_12.npy\n",
      "\n",
      "Xc shape  (5001, 4)\n",
      "Xc temporal-serie shape  (4502, 2000)\n",
      "Xc labeled shape  (4502, 2001)\n",
      "data_ds_1.npy\n",
      "\n",
      "Xc shape  (5001, 4)\n",
      "Xc temporal-serie shape  (4502, 2000)\n",
      "Xc labeled shape  (4502, 2001)\n",
      "data_ds_2.npy\n",
      "\n",
      "Xc shape  (5001, 4)\n",
      "Xc temporal-serie shape  (4502, 2000)\n",
      "Xc labeled shape  (4502, 2001)\n",
      "data_ds_3.npy\n",
      "\n",
      "Xc shape  (6001, 4)\n",
      "Xc temporal-serie shape  (5502, 2000)\n",
      "Xc labeled shape  (5502, 2001)\n",
      "data_ds_4.npy\n",
      "\n",
      "Xc shape  (5001, 4)\n",
      "Xc temporal-serie shape  (4502, 2000)\n",
      "Xc labeled shape  (4502, 2001)\n",
      "data_ds_5.npy\n",
      "\n",
      "Xc shape  (6001, 4)\n",
      "Xc temporal-serie shape  (5502, 2000)\n",
      "Xc labeled shape  (5502, 2001)\n",
      "data_ds_6.npy\n",
      "\n",
      "Xc shape  (5001, 4)\n",
      "Xc temporal-serie shape  (4502, 2000)\n",
      "Xc labeled shape  (4502, 2001)\n",
      "data_ds_7.npy\n",
      "\n",
      "Xc shape  (5001, 4)\n",
      "Xc temporal-serie shape  (4502, 2000)\n",
      "Xc labeled shape  (4502, 2001)\n",
      "data_ds_8.npy\n",
      "\n",
      "Xc shape  (5001, 4)\n",
      "Xc temporal-serie shape  (4502, 2000)\n",
      "Xc labeled shape  (4502, 2001)\n",
      "data_ds_9.npy\n",
      "\n",
      "Xc shape  (5001, 4)\n",
      "Xc temporal-serie shape  (4502, 2000)\n",
      "Xc labeled shape  (4502, 2001)\n",
      "data_ds_10.npy\n",
      "\n",
      "Xc shape  (6001, 4)\n",
      "Xc temporal-serie shape  (5502, 2000)\n",
      "Xc labeled shape  (5502, 2001)\n",
      "data_ds_11.npy\n",
      "\n",
      "Xc shape  (6001, 4)\n",
      "Xc temporal-serie shape  (5502, 2000)\n",
      "Xc labeled shape  (5502, 2001)\n",
      "data_ds_12.npy\n",
      "['data_w_1.npy', 'data_w_2.npy', 'data_w_3.npy', 'data_w_4.npy', 'data_w_5.npy', 'data_w_6.npy', 'data_w_7.npy', 'data_w_8.npy', 'data_w_9.npy', 'data_w_10.npy', 'data_w_11.npy', 'data_w_12.npy', 'data_r_1.npy', 'data_r_2.npy', 'data_r_3.npy', 'data_r_4.npy', 'data_r_5.npy', 'data_r_6.npy', 'data_r_7.npy', 'data_r_8.npy', 'data_r_9.npy', 'data_r_10.npy', 'data_r_11.npy', 'data_r_12.npy', 'data_us_1.npy', 'data_us_2.npy', 'data_us_3.npy', 'data_us_4.npy', 'data_us_5.npy', 'data_us_6.npy', 'data_us_7.npy', 'data_us_8.npy', 'data_us_9.npy', 'data_us_10.npy', 'data_us_11.npy', 'data_us_12.npy', 'data_ds_1.npy', 'data_ds_2.npy', 'data_ds_3.npy', 'data_ds_4.npy', 'data_ds_5.npy', 'data_ds_6.npy', 'data_ds_7.npy', 'data_ds_8.npy', 'data_ds_9.npy', 'data_ds_10.npy', 'data_ds_11.npy', 'data_ds_12.npy']\n",
      "Tempo total para o envelopamento: 42.02 min\n"
     ]
    }
   ],
   "source": [
    "files_w = ['data_w_1', 'data_w_2', 'data_w_3', 'data_w_4', 'data_w_5', 'data_w_6', 'data_w_7', 'data_w_8', 'data_w_9', \n",
    "           'data_w_10', 'data_w_11', 'data_w_12']\n",
    "files_r = ['data_r_1', 'data_r_2', 'data_r_3', 'data_r_4', 'data_r_5', 'data_r_6', 'data_r_7', 'data_r_8', 'data_r_9', \n",
    "           'data_r_10', 'data_r_11', 'data_r_12']\n",
    "files_us = ['data_us_1', 'data_us_2', 'data_us_3', 'data_us_4', 'data_us_5', 'data_us_6', 'data_us_7', 'data_us_8', \n",
    "            'data_us_9', 'data_us_10', 'data_us_11', 'data_us_12']\n",
    "files_ds = ['data_ds_1', 'data_ds_2', 'data_ds_3', 'data_ds_4', 'data_ds_5', 'data_ds_6', 'data_ds_7', 'data_ds_8', \n",
    "            'data_ds_9', 'data_ds_10', 'data_ds_11', 'data_ds_12']\n",
    "\n",
    "NUM_SAMPLES = 500\n",
    "\n",
    "DATA = []\n",
    "\n",
    "start = timeit.default_timer()\n",
    "\n",
    "for i in files_w:\n",
    "    proccess_data(i,DATA,NUM_SAMPLES,0)\n",
    "\n",
    "for i in files_r:\n",
    "    proccess_data(i,DATA,NUM_SAMPLES,1)\n",
    "\n",
    "for i in files_us:\n",
    "    proccess_data(i,DATA,NUM_SAMPLES,2)\n",
    "\n",
    "for i in files_ds:\n",
    "    proccess_data(i,DATA,NUM_SAMPLES,3)\n",
    "\n",
    "print DATA\n",
    "\n",
    "stop = timeit.default_timer()\n",
    "\n",
    "ti = stop - start \n",
    "print ('Tempo total para o envelopamento: %.2f min' % (ti/60))"
   ]
  },
  {
   "cell_type": "code",
   "execution_count": 22,
   "metadata": {
    "collapsed": true
   },
   "outputs": [],
   "source": [
    "%%bash\n",
    "paplay /usr/share/sounds/freedesktop/stereo/complete.oga"
   ]
  },
  {
   "cell_type": "markdown",
   "metadata": {},
   "source": [
    "['data_w_1.npy', 'data_w_2.npy', 'data_w_3.npy', 'data_w_4.npy', 'data_w_5.npy', 'data_w_6.npy', 'data_w_7.npy', 'data_w_8.npy', 'data_w_9.npy', 'data_w_10.npy', 'data_w_11.npy', 'data_w_12.npy', 'data_r_1.npy', 'data_r_2.npy', 'data_r_3.npy', 'data_r_4.npy', 'data_r_5.npy', 'data_r_6.npy', 'data_r_7.npy', 'data_r_8.npy', 'data_r_9.npy', 'data_r_10.npy', 'data_r_11.npy', 'data_r_12.npy', 'data_us_1.npy', 'data_us_2.npy', 'data_us_3.npy', 'data_us_4.npy', 'data_us_5.npy', 'data_us_6.npy', 'data_us_7.npy', 'data_us_8.npy', 'data_us_9.npy', 'data_us_10.npy', 'data_us_11.npy', 'data_us_12.npy', 'data_ds_1.npy', 'data_ds_2.npy', 'data_ds_3.npy', 'data_ds_4.npy', 'data_ds_5.npy', 'data_ds_6.npy', 'data_ds_7.npy', 'data_ds_8.npy', 'data_ds_9.npy', 'data_ds_10.npy', 'data_ds_11.npy', 'data_ds_12.npy']"
   ]
  },
  {
   "cell_type": "code",
   "execution_count": 2,
   "metadata": {},
   "outputs": [
    {
     "data": {
      "text/plain": [
       "28"
      ]
     },
     "execution_count": 2,
     "metadata": {},
     "output_type": "execute_result"
    }
   ],
   "source": [
    "DATA = ['data_w_1.npy', 'data_w_2.npy', 'data_w_3.npy', 'data_w_4.npy', 'data_w_5.npy', 'data_w_6.npy', \n",
    "        'data_w_7.npy',  \n",
    "        'data_r_1.npy', 'data_r_2.npy', 'data_r_3.npy', 'data_r_4.npy', 'data_r_5.npy', 'data_r_6.npy', \n",
    "        'data_r_7.npy', \n",
    "        'data_us_1.npy', 'data_us_2.npy', 'data_us_3.npy', 'data_us_4.npy', 'data_us_5.npy', 'data_us_6.npy', \n",
    "        'data_us_7.npy',  \n",
    "        'data_ds_1.npy', 'data_ds_2.npy', 'data_ds_3.npy', 'data_ds_4.npy', 'data_ds_5.npy', 'data_ds_6.npy', \n",
    "        'data_ds_7.npy']\n",
    "\n",
    "len(DATA)"
   ]
  },
  {
   "cell_type": "code",
   "execution_count": 3,
   "metadata": {
    "scrolled": false
   },
   "outputs": [
    {
     "name": "stdout",
     "output_type": "stream",
     "text": [
      "Tempo total para o envelopamento: 0.20 min\n"
     ]
    },
    {
     "data": {
      "text/plain": [
       "(134056, 2001)"
      ]
     },
     "execution_count": 3,
     "metadata": {},
     "output_type": "execute_result"
    }
   ],
   "source": [
    "start = timeit.default_timer()\n",
    "\n",
    "Xc = np.load(\"preprocessed_data/\"+DATA[0])\n",
    "for i in DATA[1:]:\n",
    "    Xc = np.vstack((Xc,np.load(\"preprocessed_data/\"+i))) \n",
    "    \n",
    "stop = timeit.default_timer()\n",
    "ti = stop - start \n",
    "print ('Tempo total para o envelopamento: %.2f min' % (ti/60))\n",
    "Xc.shape"
   ]
  },
  {
   "cell_type": "markdown",
   "metadata": {},
   "source": [
    "save_it_now(Xc, './preprocessed_data/vstack1.data')"
   ]
  },
  {
   "cell_type": "markdown",
   "metadata": {},
   "source": [
    "start = timeit.default_timer()\n",
    "\n",
    "for i in DATA[30:]:\n",
    "    Xc = np.vstack((Xc,load_file(\"preprocessed_data/\"+i))) \n",
    "    \n",
    "stop = timeit.default_timer()\n",
    "ti = stop - start \n",
    "print ('Tempo total para o envelopamento: %.2f min' % (ti/60))\n",
    "\n",
    "Xc.shape"
   ]
  },
  {
   "cell_type": "code",
   "execution_count": 4,
   "metadata": {},
   "outputs": [
    {
     "data": {
      "text/plain": [
       "(134056, 2001)"
      ]
     },
     "execution_count": 4,
     "metadata": {},
     "output_type": "execute_result"
    }
   ],
   "source": [
    "Xc.shape"
   ]
  },
  {
   "cell_type": "code",
   "execution_count": 5,
   "metadata": {},
   "outputs": [
    {
     "data": {
      "text/plain": [
       "((134056, 1999), (134056,))"
      ]
     },
     "execution_count": 5,
     "metadata": {},
     "output_type": "execute_result"
    }
   ],
   "source": [
    "X = Xc[:,0:(Xc.shape[1]-2)]\n",
    "\n",
    "yz = Xc[:,[(Xc.shape[1]-1)]]\n",
    "y = np.array([])\n",
    "for i in range(len(yz)):\n",
    "    y = np.hstack((y,yz[i]))\n",
    "\n",
    "X.shape, y.shape"
   ]
  },
  {
   "cell_type": "code",
   "execution_count": 6,
   "metadata": {
    "collapsed": true,
    "scrolled": true
   },
   "outputs": [],
   "source": [
    "from sklearn.model_selection import train_test_split\n",
    "X_train, X_test, y_train, y_test = train_test_split(X, y, test_size=0.3, \n",
    "                                                    random_state=10)"
   ]
  },
  {
   "cell_type": "code",
   "execution_count": 7,
   "metadata": {
    "collapsed": true
   },
   "outputs": [],
   "source": [
    "from sklearn.preprocessing import StandardScaler\n",
    "sc = StandardScaler()\n",
    "sc.fit(X_train)\n",
    "X_train_std = sc.transform(X_train)\n",
    "X_test_std = sc.transform(X_test)"
   ]
  },
  {
   "cell_type": "code",
   "execution_count": 8,
   "metadata": {},
   "outputs": [
    {
     "name": "stdout",
     "output_type": "stream",
     "text": [
      "(93839, 1999)\n"
     ]
    }
   ],
   "source": [
    "print X_train_std.shape"
   ]
  },
  {
   "cell_type": "markdown",
   "metadata": {},
   "source": [
    "# Random Forest Classifier"
   ]
  },
  {
   "cell_type": "code",
   "execution_count": 9,
   "metadata": {},
   "outputs": [
    {
     "name": "stdout",
     "output_type": "stream",
     "text": [
      "Training time\n",
      "CPU times: user 11min 49s, sys: 972 ms, total: 11min 50s\n",
      "Wall time: 3min 1s\n",
      "\n",
      "Predict time\n",
      "CPU times: user 6.58 s, sys: 120 ms, total: 6.7 s\n",
      "Wall time: 1.83 s\n",
      "\n",
      "ClassifyRF accuracy:---------->95.92 %\n"
     ]
    }
   ],
   "source": [
    "from sklearn.ensemble import RandomForestClassifier\n",
    "rfc = RandomForestClassifier(n_estimators=100, n_jobs = 4)\n",
    "\n",
    "print 'Training time'\n",
    "%time rfc = rfc.fit(X_train_std, y_train)\n",
    "\n",
    "print''\n",
    "\n",
    "print 'Predict time'\n",
    "%time y_pred = rfc.predict(X_test_std)\n",
    "\n",
    "print''\n",
    "\n",
    "from sklearn.metrics import accuracy_score\n",
    "print ('ClassifyRF accuracy:---------->%.2f %%' % (accuracy_score(y_test, y_pred)*100))"
   ]
  },
  {
   "cell_type": "code",
   "execution_count": 10,
   "metadata": {},
   "outputs": [
    {
     "data": {
      "text/plain": [
       "['rfc.pkl']"
      ]
     },
     "execution_count": 10,
     "metadata": {},
     "output_type": "execute_result"
    }
   ],
   "source": [
    "#Save the classifier to file\n",
    "joblib.dump(rfc, 'rfc.pkl') \n"
   ]
  },
  {
   "cell_type": "code",
   "execution_count": 7,
   "metadata": {
    "collapsed": true
   },
   "outputs": [],
   "source": [
    "#Load the classifier from file\n",
    "rfc = joblib.load('rfc.pkl')"
   ]
  },
  {
   "cell_type": "markdown",
   "metadata": {},
   "source": [
    "## Validation"
   ]
  },
  {
   "cell_type": "code",
   "execution_count": 34,
   "metadata": {
    "scrolled": true
   },
   "outputs": [
    {
     "name": "stdout",
     "output_type": "stream",
     "text": [
      "(18008, 1999) (18008,)\n",
      "(18008, 1999)\n"
     ]
    }
   ],
   "source": [
    "DATAV = ['data_w_9.npy', 'data_r_9.npy', 'data_us_9.npy', 'data_ds_9.npy']\n",
    "\n",
    "Xc = np.load(\"preprocessed_data/\"+DATAV[0])\n",
    "for i in DATAV[1:]:\n",
    "    Xc = np.vstack((Xc,np.load(\"preprocessed_data/\"+i)))\n",
    "    \n",
    "Xvalid = Xc[:,0:(Xc.shape[1]-2)]\n",
    "\n",
    "yz = Xc[:,[(Xc.shape[1]-1)]]\n",
    "yvalid = np.array([])\n",
    "for i in range(len(yz)):\n",
    "    yvalid = np.hstack((yvalid,yz[i]))\n",
    "\n",
    "print Xvalid.shape, yvalid.shape\n",
    "\n",
    "from sklearn.preprocessing import StandardScaler\n",
    "sc = StandardScaler()\n",
    "#sc.fit(Xvalid)\n",
    "sc.fit(X_train)\n",
    "X_valid_std = sc.transform(Xvalid)\n",
    "\n",
    "print X_valid_std.shape"
   ]
  },
  {
   "cell_type": "code",
   "execution_count": 35,
   "metadata": {
    "scrolled": true
   },
   "outputs": [
    {
     "name": "stdout",
     "output_type": "stream",
     "text": [
      "Predict time\n",
      "CPU times: user 1.94 s, sys: 76 ms, total: 2.01 s\n",
      "Wall time: 741 ms\n",
      "\n",
      "ClassifyRF accuracy:---------->36.00 %\n"
     ]
    }
   ],
   "source": [
    "#Validation\n",
    "print 'Predict time'\n",
    "%time y_pred = rfc.predict(X_valid_std)\n",
    "\n",
    "print''\n",
    "\n",
    "from sklearn.metrics import accuracy_score\n",
    "\n",
    "result = ('ClassifyRF accuracy:---------->%.2f %%' % (accuracy_score(y_pred, yvalid)*100))\n",
    "\n",
    "print result"
   ]
  },
  {
   "cell_type": "markdown",
   "metadata": {
    "collapsed": true
   },
   "source": [
    "ClassifyRF 8  accuracy:---------->36.00 %\n",
    "ClassifyRF 9  accuracy:---------->50.07 %\n",
    "ClassifyRF 10 accuracy:---------->60.37 %\n",
    "ClassifyRF 11 accuracy:---------->59.10 %\n",
    "ClassifyRF 12 accuracy:---------->50.10 %"
   ]
  },
  {
   "cell_type": "code",
   "execution_count": null,
   "metadata": {
    "collapsed": true
   },
   "outputs": [],
   "source": []
  }
 ],
 "metadata": {
  "anaconda-cloud": {},
  "kernelspec": {
   "display_name": "Python 2",
   "language": "python",
   "name": "python2"
  },
  "language_info": {
   "codemirror_mode": {
    "name": "ipython",
    "version": 2
   },
   "file_extension": ".py",
   "mimetype": "text/x-python",
   "name": "python",
   "nbconvert_exporter": "python",
   "pygments_lexer": "ipython2",
   "version": "2.7.13"
  }
 },
 "nbformat": 4,
 "nbformat_minor": 2
}
