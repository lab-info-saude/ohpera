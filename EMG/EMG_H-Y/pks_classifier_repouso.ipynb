{
 "cells": [
  {
   "cell_type": "markdown",
   "metadata": {},
   "source": [
    "# Bibliotecas"
   ]
  },
  {
   "cell_type": "code",
   "execution_count": 4,
   "metadata": {},
   "outputs": [
    {
     "ename": "ImportError",
     "evalue": "No module named ml_time_series",
     "output_type": "error",
     "traceback": [
      "\u001b[0;31m---------------------------------------------------------------------------\u001b[0m",
      "\u001b[0;31mImportError\u001b[0m                               Traceback (most recent call last)",
      "\u001b[0;32m<ipython-input-4-5f0812f7af12>\u001b[0m in \u001b[0;36m<module>\u001b[0;34m()\u001b[0m\n\u001b[1;32m     11\u001b[0m \u001b[0;32mfrom\u001b[0m \u001b[0msklearn\u001b[0m \u001b[0;32mimport\u001b[0m \u001b[0mpreprocessing\u001b[0m\u001b[0;34m\u001b[0m\u001b[0m\n\u001b[1;32m     12\u001b[0m \u001b[0;32mfrom\u001b[0m \u001b[0msklearn\u001b[0m \u001b[0;32mimport\u001b[0m \u001b[0mutils\u001b[0m\u001b[0;34m\u001b[0m\u001b[0m\n\u001b[0;32m---> 13\u001b[0;31m \u001b[0;32mfrom\u001b[0m \u001b[0mml_time_series\u001b[0m \u001b[0;32mimport\u001b[0m \u001b[0mgenerate_envelope\u001b[0m\u001b[0;34m\u001b[0m\u001b[0m\n\u001b[0m\u001b[1;32m     14\u001b[0m \u001b[0;34m\u001b[0m\u001b[0m\n\u001b[1;32m     15\u001b[0m \u001b[0mget_ipython\u001b[0m\u001b[0;34m(\u001b[0m\u001b[0;34m)\u001b[0m\u001b[0;34m.\u001b[0m\u001b[0mmagic\u001b[0m\u001b[0;34m(\u001b[0m\u001b[0;34mu'matplotlib notebook'\u001b[0m\u001b[0;34m)\u001b[0m\u001b[0;34m\u001b[0m\u001b[0m\n",
      "\u001b[0;31mImportError\u001b[0m: No module named ml_time_series"
     ]
    }
   ],
   "source": [
    "import os\n",
    "import pandas as pd\n",
    "import numpy as np\n",
    "import scipy as sp\n",
    "from scipy import signal\n",
    "import timeit\n",
    "from datetime import datetime\n",
    "from sklearn.externals import joblib\n",
    "import matplotlib.pyplot as plt\n",
    "from sklearn.decomposition import PCA\n",
    "from sklearn import preprocessing\n",
    "from sklearn import utils\n",
    "from ml_time_series import generate_envelope\n",
    "\n",
    "%matplotlib notebook"
   ]
  },
  {
   "cell_type": "code",
   "execution_count": 3,
   "metadata": {},
   "outputs": [],
   "source": [
    "def HStacker(files_,t):\n",
    "    \n",
    "    #Lê dados do arquivo e remove janela\n",
    "    Xc = np.load('DB_REPO/preproc/'+files_[3])\n",
    "    Xc = Xc[:-49] #Exclui do STD para igualar o Hshape\n",
    "    Xci = np.load('DB_REPO/preproc/'+files_[0])\n",
    "    Xci = Xci[:-49]\n",
    "    Xc = np.hstack((Xc.reshape(Xc.shape),Xci.reshape(Xci.shape)))\n",
    "    \n",
    "    #Aplica Hstack nos dados\n",
    "    for j in range(1,len(files_)-1):\n",
    "        Xci = np.load('DB_REPO/preproc/'+files_[j])\n",
    "        Xc = np.hstack((Xc.reshape(Xc.shape),Xci.reshape(Xci.shape)))\n",
    "          \n",
    "    \n",
    "    # Salving in file on the folder <DB_PKS/preproc/labeled>\n",
    "    np.save('./DB_REPO/stacked/'+t+'_hs', Xc, allow_pickle=False)\n",
    "    DATA_hs.append(t+'_hs.npy')"
   ]
  },
  {
   "cell_type": "code",
   "execution_count": 19,
   "metadata": {},
   "outputs": [],
   "source": [
    "def VStacker(files_,t):\n",
    "    \n",
    "    #Lê dados do arquivo e remove janela\n",
    "    Xc = np.load('DB_REPO/stacked/'+files_[0])\n",
    "    \n",
    "    #Aplica Hstack nos dados\n",
    "    for j in range(0,len(files_)-1):\n",
    "        Xci = np.load('DB_REPO/stacked/'+files_[j])\n",
    "        Xc = np.vstack((Xc,Xci)) \n",
    "          \n",
    "    \n",
    "    # Salving in file on the folder <DB_PKS/preproc/labeled>\n",
    "    np.save('./DB_REPO/stacked/'+t+'_vs', Xc, allow_pickle=False)\n",
    "    DATA_vs.append(t+'_vs.npy')"
   ]
  },
  {
   "cell_type": "code",
   "execution_count": 5,
   "metadata": {},
   "outputs": [],
   "source": [
    "def HStackerF(files_,t):\n",
    "    \n",
    "    #Lê dados do arquivo e remove janela\n",
    "    Xc = np.load('DB_REPO/stacked/'+files_[5])\n",
    "    Xc = Xc[:35853] #Exclui amostras para igualar tamanho e possibilitar o vstack\n",
    "    \n",
    "    #Aplica Hstack nos dados\n",
    "    for j in range(0,len(files_)-1):\n",
    "        Xci = np.load('DB_REPO/stacked/'+files_[j])\n",
    "        Xci = Xci[:35853] #Exclui amostras para igualar tamanho e possibilitar o vstack\n",
    "        Xc = np.hstack((Xc.reshape(Xc.shape),Xci.reshape(Xci.shape)))\n",
    "          \n",
    "    \n",
    "    # Salving in file on the folder <DB_PKS/preproc/labeled>\n",
    "    np.save('./DB_REPO/stacked/'+t+'_fs', Xc, allow_pickle=False)\n",
    "    DATA_fs.append(t+'_fs.npy')"
   ]
  },
  {
   "cell_type": "code",
   "execution_count": 6,
   "metadata": {},
   "outputs": [],
   "source": [
    "#Carregando arquivos\n",
    "import commands\n",
    "\n",
    "A = commands.getoutput('ls DB_REPO/preproc')\n",
    "files_ = A.split('\\n')\n",
    "DATA_hs = []\n",
    "\n",
    "for i in range(0,len(files_),4):\n",
    "    HStacker(files_[i:i+4],files_[i:i+4][0].split('-')[0]+str(i/4))\n",
    "    #print (files_[i:i+3],files_[0:3][0].split('-')[0]+str(i/3))"
   ]
  },
  {
   "cell_type": "code",
   "execution_count": 7,
   "metadata": {},
   "outputs": [
    {
     "data": {
      "text/plain": [
       "'Arthur Araujo Filho '"
      ]
     },
     "execution_count": 7,
     "metadata": {},
     "output_type": "execute_result"
    }
   ],
   "source": [
    "files_[0:][0].split('-')[0]"
   ]
  },
  {
   "cell_type": "code",
   "execution_count": 8,
   "metadata": {},
   "outputs": [
    {
     "data": {
      "text/plain": [
       "['Arthur Araujo Filho - Dia 17.11.18 as 16.12.34.edf_fft.npy',\n",
       " 'Arthur Araujo Filho - Dia 17.11.18 as 16.12.34.edf_filt.npy',\n",
       " 'Arthur Araujo Filho - Dia 17.11.18 as 16.12.34.edf_rms.npy',\n",
       " 'Arthur Araujo Filho - Dia 17.11.18 as 16.12.34.edf_std.npy']"
      ]
     },
     "execution_count": 8,
     "metadata": {},
     "output_type": "execute_result"
    }
   ],
   "source": [
    "files_[0:4]"
   ]
  },
  {
   "cell_type": "code",
   "execution_count": 9,
   "metadata": {},
   "outputs": [
    {
     "name": "stdout",
     "output_type": "stream",
     "text": [
      "(12000, 11951, 11951, 12000)\n",
      "(12000, 11951, 11951, 12000)\n",
      "(12000, 11951, 11951, 12000)\n",
      "(12000, 11951, 11951, 12000)\n",
      "(12000, 11951, 11951, 12000)\n",
      "(12000, 11951, 11951, 12000)\n",
      "(14000, 13951, 13951, 14000)\n",
      "(12000, 11951, 11951, 12000)\n",
      "(12000, 11951, 11951, 12000)\n",
      "(12000, 11951, 11951, 12000)\n",
      "(12000, 11951, 11951, 12000)\n",
      "(14000, 13951, 13951, 14000)\n",
      "(12000, 11951, 11951, 12000)\n",
      "(12000, 11951, 11951, 12000)\n",
      "(12000, 11951, 11951, 12000)\n",
      "(12000, 11951, 11951, 12000)\n",
      "(12000, 11951, 11951, 12000)\n",
      "(12000, 11951, 11951, 12000)\n",
      "(12000, 11951, 11951, 12000)\n",
      "(12000, 11951, 11951, 12000)\n",
      "(12000, 11951, 11951, 12000)\n",
      "(14000, 13951, 13951, 14000)\n",
      "(12000, 11951, 11951, 12000)\n",
      "(14000, 13951, 13951, 14000)\n",
      "(12000, 11951, 11951, 12000)\n",
      "(12000, 11951, 11951, 12000)\n",
      "(12000, 11951, 11951, 12000)\n",
      "(14000, 13951, 13951, 14000)\n",
      "(12000, 11951, 11951, 12000)\n",
      "(12000, 11951, 11951, 12000)\n",
      "(12000, 11951, 11951, 12000)\n",
      "(12000, 11951, 11951, 12000)\n",
      "(12000, 11951, 11951, 12000)\n",
      "(12000, 11951, 11951, 12000)\n",
      "(12000, 11951, 11951, 12000)\n",
      "(12000, 11951, 11951, 12000)\n",
      "(12000, 11951, 11951, 12000)\n",
      "(12000, 11951, 11951, 12000)\n",
      "(14000, 13951, 13951, 14000)\n",
      "(12000, 11951, 11951, 12000)\n",
      "(12000, 11951, 11951, 12000)\n",
      "(12000, 11951, 11951, 12000)\n"
     ]
    }
   ],
   "source": [
    "for i in range(0,len(files_),4):\n",
    "    r = files_[i:i+4]\n",
    "    \n",
    "    print (((np.load('DB_REPO/preproc/'+r[0])).shape[0],(np.load('DB_REPO/preproc/'+r[1])).shape[0],\n",
    "            (np.load('DB_REPO/preproc/'+r[2])).shape[0],(np.load('DB_REPO/preproc/'+r[3])).shape[0]))"
   ]
  },
  {
   "cell_type": "code",
   "execution_count": 26,
   "metadata": {},
   "outputs": [
    {
     "name": "stdout",
     "output_type": "stream",
     "text": [
      "Arthur Araujo Filho \n"
     ]
    }
   ],
   "source": [
    "import re \n",
    "\n",
    "print  (re.findall('\\d*\\D+',(DATA_hs[0:4][0]))[0])\n",
    "\n"
   ]
  },
  {
   "cell_type": "code",
   "execution_count": 13,
   "metadata": {},
   "outputs": [
    {
     "data": {
      "text/plain": [
       "['Arthur Araujo Filho 0_hs.npy',\n",
       " 'Arthur Araujo Filho 1_hs.npy',\n",
       " 'Arthur Araujo Filho 2_hs.npy',\n",
       " 'Boanerges Ramos Cunha 3_hs.npy',\n",
       " 'Boanerges Ramos Cunha 4_hs.npy',\n",
       " 'Boanerges Ramos Cunha 5_hs.npy',\n",
       " 'Carmino Pereira da Silva 6_hs.npy',\n",
       " 'Carmino Pereira da Silva 7_hs.npy',\n",
       " 'Carmino Pereira da Silva 8_hs.npy',\n",
       " 'Diniz Esmeraldo 9_hs.npy',\n",
       " 'Diniz Esmeraldo 10_hs.npy',\n",
       " 'Diniz Esmeraldo 11_hs.npy',\n",
       " 'Donia Aires 12_hs.npy',\n",
       " 'Donia Aires 13_hs.npy',\n",
       " 'Donia Aires 14_hs.npy',\n",
       " 'Fernando Francisco da Silva 15_hs.npy',\n",
       " 'Fernando Francisco da Silva 16_hs.npy',\n",
       " 'Fernando Francisco da Silva 17_hs.npy',\n",
       " 'Gastao Goncalves da Silva 18_hs.npy',\n",
       " 'Gastao Goncalves da Silva 19_hs.npy',\n",
       " 'Gastao Goncalves da Silva 20_hs.npy',\n",
       " 'Ismael Rodrigues do Carmo 21_hs.npy',\n",
       " 'Ismael Rodrigues do Carmo 22_hs.npy',\n",
       " 'Ismael Rodrigues do Carmo 23_hs.npy',\n",
       " 'Ivanildes Barbosa 24_hs.npy',\n",
       " 'Ivanildes Barbosa 25_hs.npy',\n",
       " 'Ivanildes Barbosa 26_hs.npy',\n",
       " 'Jose Fernandes Araujo 27_hs.npy',\n",
       " 'Jose Fernandes Araujo 28_hs.npy',\n",
       " 'Jose Fernandes Araujo 29_hs.npy',\n",
       " 'Jose Francisto Fontineli  30_hs.npy',\n",
       " 'Jose Francisto Fontineli  31_hs.npy',\n",
       " 'Jose Francisto Fontineli  32_hs.npy',\n",
       " 'Marcilio Pontinho de Rezende 33_hs.npy',\n",
       " 'Marcilio Pontinho de Rezende 34_hs.npy',\n",
       " 'Marcilio Pontinho de Rezende 35_hs.npy',\n",
       " 'Osvaldir Borborema 36_hs.npy',\n",
       " 'Osvaldir Borborema 37_hs.npy',\n",
       " 'Osvaldir Borborema 38_hs.npy',\n",
       " 'Sergio Lamenza 39_hs.npy',\n",
       " 'Sergio Lamenza 40_hs.npy',\n",
       " 'Sergio Lamenza 41_hs.npy']"
      ]
     },
     "execution_count": 13,
     "metadata": {},
     "output_type": "execute_result"
    }
   ],
   "source": [
    "DATA_hs"
   ]
  },
  {
   "cell_type": "code",
   "execution_count": 14,
   "metadata": {},
   "outputs": [],
   "source": [
    "Xc = np.load('DB_REPO/stacked/Arthur Araujo Filho 0_hs.npy')"
   ]
  },
  {
   "cell_type": "code",
   "execution_count": 15,
   "metadata": {
    "scrolled": false
   },
   "outputs": [
    {
     "data": {
      "text/html": [
       "<div>\n",
       "<style>\n",
       "    .dataframe thead tr:only-child th {\n",
       "        text-align: right;\n",
       "    }\n",
       "\n",
       "    .dataframe thead th {\n",
       "        text-align: left;\n",
       "    }\n",
       "\n",
       "    .dataframe tbody tr th {\n",
       "        vertical-align: top;\n",
       "    }\n",
       "</style>\n",
       "<table border=\"1\" class=\"dataframe\">\n",
       "  <thead>\n",
       "    <tr style=\"text-align: right;\">\n",
       "      <th></th>\n",
       "      <th>0</th>\n",
       "      <th>1</th>\n",
       "      <th>2</th>\n",
       "      <th>3</th>\n",
       "      <th>4</th>\n",
       "      <th>5</th>\n",
       "      <th>6</th>\n",
       "      <th>7</th>\n",
       "      <th>8</th>\n",
       "      <th>9</th>\n",
       "      <th>10</th>\n",
       "      <th>11</th>\n",
       "      <th>12</th>\n",
       "      <th>13</th>\n",
       "      <th>14</th>\n",
       "      <th>15</th>\n",
       "    </tr>\n",
       "  </thead>\n",
       "  <tbody>\n",
       "    <tr>\n",
       "      <th>0</th>\n",
       "      <td>0.022327</td>\n",
       "      <td>-0.001221</td>\n",
       "      <td>0.186603</td>\n",
       "      <td>0.017612</td>\n",
       "      <td>83175.300000</td>\n",
       "      <td>31503.679104</td>\n",
       "      <td>64245.622857</td>\n",
       "      <td>85142.152672</td>\n",
       "      <td>0.177580</td>\n",
       "      <td>0.159890</td>\n",
       "      <td>-0.286540</td>\n",
       "      <td>0.051892</td>\n",
       "      <td>11.446258</td>\n",
       "      <td>13.161945</td>\n",
       "      <td>24.856702</td>\n",
       "      <td>19.817440</td>\n",
       "    </tr>\n",
       "    <tr>\n",
       "      <th>1</th>\n",
       "      <td>0.019318</td>\n",
       "      <td>-0.001221</td>\n",
       "      <td>0.186603</td>\n",
       "      <td>0.015084</td>\n",
       "      <td>35594.691359</td>\n",
       "      <td>12367.931209</td>\n",
       "      <td>44455.620186</td>\n",
       "      <td>39285.893634</td>\n",
       "      <td>0.137408</td>\n",
       "      <td>0.217005</td>\n",
       "      <td>-0.212902</td>\n",
       "      <td>-0.126882</td>\n",
       "      <td>11.403695</td>\n",
       "      <td>13.155661</td>\n",
       "      <td>24.961891</td>\n",
       "      <td>19.516842</td>\n",
       "    </tr>\n",
       "    <tr>\n",
       "      <th>2</th>\n",
       "      <td>0.025335</td>\n",
       "      <td>0.000705</td>\n",
       "      <td>0.173561</td>\n",
       "      <td>0.024354</td>\n",
       "      <td>57290.183123</td>\n",
       "      <td>5324.741546</td>\n",
       "      <td>89391.768584</td>\n",
       "      <td>35538.258799</td>\n",
       "      <td>0.147789</td>\n",
       "      <td>0.318284</td>\n",
       "      <td>-0.122926</td>\n",
       "      <td>-0.406303</td>\n",
       "      <td>11.341954</td>\n",
       "      <td>13.177480</td>\n",
       "      <td>25.011108</td>\n",
       "      <td>19.332502</td>\n",
       "    </tr>\n",
       "    <tr>\n",
       "      <th>3</th>\n",
       "      <td>0.016310</td>\n",
       "      <td>-0.000258</td>\n",
       "      <td>0.173561</td>\n",
       "      <td>0.013398</td>\n",
       "      <td>36185.811721</td>\n",
       "      <td>7167.004118</td>\n",
       "      <td>26367.619636</td>\n",
       "      <td>56738.077665</td>\n",
       "      <td>0.282882</td>\n",
       "      <td>0.487074</td>\n",
       "      <td>-0.007218</td>\n",
       "      <td>-0.741849</td>\n",
       "      <td>11.341954</td>\n",
       "      <td>13.261443</td>\n",
       "      <td>25.167758</td>\n",
       "      <td>18.626781</td>\n",
       "    </tr>\n",
       "    <tr>\n",
       "      <th>4</th>\n",
       "      <td>0.022327</td>\n",
       "      <td>0.000224</td>\n",
       "      <td>0.199644</td>\n",
       "      <td>0.015926</td>\n",
       "      <td>22033.382078</td>\n",
       "      <td>4793.733812</td>\n",
       "      <td>28252.036321</td>\n",
       "      <td>34124.670679</td>\n",
       "      <td>0.552582</td>\n",
       "      <td>0.706690</td>\n",
       "      <td>0.125195</td>\n",
       "      <td>-0.980704</td>\n",
       "      <td>11.657292</td>\n",
       "      <td>13.429970</td>\n",
       "      <td>25.293589</td>\n",
       "      <td>18.562591</td>\n",
       "    </tr>\n",
       "  </tbody>\n",
       "</table>\n",
       "</div>"
      ],
      "text/plain": [
       "         0         1         2         3             4             5   \\\n",
       "0  0.022327 -0.001221  0.186603  0.017612  83175.300000  31503.679104   \n",
       "1  0.019318 -0.001221  0.186603  0.015084  35594.691359  12367.931209   \n",
       "2  0.025335  0.000705  0.173561  0.024354  57290.183123   5324.741546   \n",
       "3  0.016310 -0.000258  0.173561  0.013398  36185.811721   7167.004118   \n",
       "4  0.022327  0.000224  0.199644  0.015926  22033.382078   4793.733812   \n",
       "\n",
       "             6             7         8         9         10        11  \\\n",
       "0  64245.622857  85142.152672  0.177580  0.159890 -0.286540  0.051892   \n",
       "1  44455.620186  39285.893634  0.137408  0.217005 -0.212902 -0.126882   \n",
       "2  89391.768584  35538.258799  0.147789  0.318284 -0.122926 -0.406303   \n",
       "3  26367.619636  56738.077665  0.282882  0.487074 -0.007218 -0.741849   \n",
       "4  28252.036321  34124.670679  0.552582  0.706690  0.125195 -0.980704   \n",
       "\n",
       "          12         13         14         15  \n",
       "0  11.446258  13.161945  24.856702  19.817440  \n",
       "1  11.403695  13.155661  24.961891  19.516842  \n",
       "2  11.341954  13.177480  25.011108  19.332502  \n",
       "3  11.341954  13.261443  25.167758  18.626781  \n",
       "4  11.657292  13.429970  25.293589  18.562591  "
      ]
     },
     "execution_count": 15,
     "metadata": {},
     "output_type": "execute_result"
    }
   ],
   "source": [
    "dfn = pd.DataFrame(data=Xc)\n",
    "dfn.head()"
   ]
  },
  {
   "cell_type": "code",
   "execution_count": 16,
   "metadata": {},
   "outputs": [
    {
     "data": {
      "text/plain": [
       "(11951, 16)"
      ]
     },
     "execution_count": 16,
     "metadata": {},
     "output_type": "execute_result"
    }
   ],
   "source": [
    "Xc.shape"
   ]
  },
  {
   "cell_type": "code",
   "execution_count": 17,
   "metadata": {},
   "outputs": [
    {
     "data": {
      "text/plain": [
       "42"
      ]
     },
     "execution_count": 17,
     "metadata": {},
     "output_type": "execute_result"
    }
   ],
   "source": [
    "len(DATA_hs)"
   ]
  },
  {
   "cell_type": "code",
   "execution_count": 20,
   "metadata": {},
   "outputs": [],
   "source": [
    "#Carregando arquivos\n",
    "DATA_vs = []\n",
    "\n",
    "for i in range(0,len(DATA_hs),3):\n",
    "    VStacker(DATA_hs[i:i+3],(re.findall('\\d*\\D+',DATA_hs[i:i+3][0])[0]+str(i/3)))"
   ]
  },
  {
   "cell_type": "code",
   "execution_count": 21,
   "metadata": {},
   "outputs": [
    {
     "data": {
      "text/plain": [
       "14"
      ]
     },
     "execution_count": 21,
     "metadata": {},
     "output_type": "execute_result"
    }
   ],
   "source": [
    "len(DATA_vs)"
   ]
  },
  {
   "cell_type": "code",
   "execution_count": 24,
   "metadata": {},
   "outputs": [
    {
     "data": {
      "text/plain": [
       "(35853, 16)"
      ]
     },
     "execution_count": 24,
     "metadata": {},
     "output_type": "execute_result"
    }
   ],
   "source": [
    "Xc = np.load('DB_REPO/stacked/Arthur Araujo Filho 0_vs.npy')\n",
    "dfn = pd.DataFrame(data=Xc)\n",
    "#dfn.head()\n",
    "\n",
    "Xc[:35853].shape"
   ]
  },
  {
   "cell_type": "markdown",
   "metadata": {},
   "source": [
    "for i in range(0,len(DATA_vs),1):\n",
    "    print min(np.load('DB_REPO/stacked/'+DATA_vs[i:i+1][0]).shape[0],np.load('DB_REPO/stacked/'+DATA_vs[i:i+1][1]).shape[0],\n",
    "              np.load('DB_REPO/stacked/'+DATA_vs[i:i+1][2]).shape[0],np.load('DB_REPO/stacked/'+DATA_vs[i:i+1][3]).shape[0],\n",
    "              np.load('DB_REPO/stacked/'+DATA_vs[i:i+1][4]).shape[0], np.load('DB_REPO/stacked/'+DATA_vs[i:i+1][5]).shape[0])"
   ]
  },
  {
   "cell_type": "markdown",
   "metadata": {},
   "source": [
    "i= 6\n",
    "print min(np.load('DB_REPO/stacked/'+DATA_vs[i:i+6][0]).shape[0],np.load('DB_REPO/stacked/'+DATA_vs[i:i+6][1]).shape[0],\n",
    "           np.load('DB_REPO/stacked/'+DATA_vs[i:i+6][2]).shape[0],np.load('DB_REPO/stacked/'+DATA_vs[i:i+6][3]).shape[0],\n",
    "           np.load('DB_REPO/stacked/'+DATA_vs[i:i+6][4]).shape[0], np.load('DB_REPO/stacked/'+DATA_vs[i:i+6][5]).shape[0])"
   ]
  },
  {
   "cell_type": "code",
   "execution_count": 27,
   "metadata": {
    "scrolled": true
   },
   "outputs": [
    {
     "data": {
      "text/plain": [
       "['Arthur Araujo Filho 0_vs.npy',\n",
       " 'Boanerges Ramos Cunha 1_vs.npy',\n",
       " 'Carmino Pereira da Silva 2_vs.npy',\n",
       " 'Diniz Esmeraldo 3_vs.npy',\n",
       " 'Donia Aires 4_vs.npy',\n",
       " 'Fernando Francisco da Silva 5_vs.npy',\n",
       " 'Gastao Goncalves da Silva 6_vs.npy',\n",
       " 'Ismael Rodrigues do Carmo 7_vs.npy',\n",
       " 'Ivanildes Barbosa 8_vs.npy',\n",
       " 'Jose Fernandes Araujo 9_vs.npy',\n",
       " 'Jose Francisto Fontineli  10_vs.npy',\n",
       " 'Marcilio Pontinho de Rezende 11_vs.npy',\n",
       " 'Osvaldir Borborema 12_vs.npy',\n",
       " 'Sergio Lamenza 13_vs.npy']"
      ]
     },
     "execution_count": 27,
     "metadata": {},
     "output_type": "execute_result"
    }
   ],
   "source": [
    "DATA_vs"
   ]
  },
  {
   "cell_type": "markdown",
   "metadata": {},
   "source": [
    "DATA_vs[78:78+6]"
   ]
  },
  {
   "cell_type": "markdown",
   "metadata": {
    "collapsed": true,
    "scrolled": false
   },
   "source": [
    "DATA_fs = []\n",
    "\n",
    "for i in range(0,len(DATA_vs),6):\n",
    "    HStackerF(DATA_vs[i:i+6],(re.findall('\\d*\\D+',DATA_vs[i:i+6][0])[0]+str(i/6)))"
   ]
  },
  {
   "cell_type": "markdown",
   "metadata": {
    "scrolled": true
   },
   "source": [
    "DATA_fs"
   ]
  },
  {
   "cell_type": "code",
   "execution_count": 45,
   "metadata": {},
   "outputs": [],
   "source": [
    "def proccess_data(x,DATA,LABEL):\n",
    "    \n",
    "    Xc = np.load(\"DB_REPO/stacked/\"+x)\n",
    "    print '\\nXc initial shape ', Xc.shape\n",
    "    \n",
    "    #Principal component analysis\n",
    "    pca = PCA(n_components=12)\n",
    "    pca.fit(Xc)\n",
    "    Xc = pca.transform(Xc)\n",
    "    print pca.explained_variance_ratio_\n",
    "    print ('Entropia: %3f' % (sum(pca.explained_variance_ratio_)))\n",
    "    print '\\nXc PCA shape ', Xc.shape\n",
    "    \n",
    "    #Create temporal serie\n",
    "    #Xc = mls.generate_envelope(Xc, NUM_SAMPLES)\n",
    "    #print 'Xc temporal-serie shape ', Xc.shape\n",
    "    \n",
    "    #Labeling the PKS level    \n",
    "    C = (np.ones(len(Xc))*LABEL).reshape((len(Xc),1))\n",
    "    Xc = np.hstack((Xc.reshape(Xc.shape),C.reshape((len(Xc),1)))) \n",
    "    print 'Xc labeled shape ', Xc.shape\n",
    "    \n",
    "    # Salving in file on the folder <DB_PKS/preproc/labeled>\n",
    "    np.save('./DB_REPO/labeled/'+x[:2]+'_tsl', Xc, allow_pickle=False)\n",
    "    print ''+x[:2]+'_tsl'\n",
    "    \n",
    "    DATA.append(x[:2]+'_tsl.npy')"
   ]
  },
  {
   "cell_type": "markdown",
   "metadata": {},
   "source": [
    "---"
   ]
  },
  {
   "cell_type": "markdown",
   "metadata": {},
   "source": [
    "#Validação\n",
    "start = timeit.default_timer()\n",
    "\n",
    "NUM_SAMPLES = 500\n",
    "l = [1]\n",
    "DATA = []\n",
    "\n",
    "for x, y in zip(DATA_hs, l):\n",
    "    proccess_data(x,DATA,NUM_SAMPLES,y)\n",
    "    \n",
    "stop = timeit.default_timer()\n",
    "ti = stop - start \n",
    "print ('Tempo total para o envelopamento: %.2f min' % (ti/60))"
   ]
  },
  {
   "cell_type": "markdown",
   "metadata": {},
   "source": [
    "DATA"
   ]
  },
  {
   "cell_type": "markdown",
   "metadata": {},
   "source": [
    "Xc = np.load('DB_INTENC/preproc/labeled/p4_hs.npy_tsl.npy')\n",
    "dfn = pd.DataFrame(data=Xc)\n",
    "dfn.head()"
   ]
  },
  {
   "cell_type": "markdown",
   "metadata": {},
   "source": [
    "---"
   ]
  },
  {
   "cell_type": "code",
   "execution_count": 46,
   "metadata": {
    "scrolled": true
   },
   "outputs": [
    {
     "name": "stdout",
     "output_type": "stream",
     "text": [
      "Arthur Araujo Filho 0_vs 1\n",
      "Boanerges Ramos Cunha 1_vs 2\n",
      "Carmino Pereira da Silva 2_vs 15\n",
      "Diniz Esmeraldo 3_vs 15\n",
      "Donia Aires 4_vs 2\n",
      "Fernando Francisco da Silva 5_vs 1\n",
      "Gastao Goncalves da Silva 6_vs 15\n",
      "Ismael Rodrigues do Carmo 7_vs 15\n",
      "Ivanildes Barbosa 8_vs 1\n",
      "Jose Fernandes Araujo 9_vs 1\n",
      "Jose Francisto Fontineli  10_vs 3\n",
      "Marcilio Pontinho de Rezende 11_vs 1\n",
      "Osvaldir Borborema 12_vs 4\n",
      "Sergio Lamenza 13_vs 1\n"
     ]
    }
   ],
   "source": [
    "#X = 'F'\n",
    "#Y = 'F'\n",
    "#Z = 'F'\n",
    "#l = [1, 1, 1, 1, 1, 1, 2, 2, 2, 2, 2, 2, 15, 15, 15, 15, 15, 15, 15, 15, 15, 15, 15, 15, 2, 2, 2, 2, 2, 2, 1, 1, 1, 1, 1, 1,\n",
    "# X, X, X, X, X, X, 15, 15, 15, 15, 15, 15, Y, Y, Y, Y, Y, Y, 15, 15, 15, 15, 15, 15, 1, 1, 1, 1, 1, 1, 1, 1, 1, 1, 1, 1,\n",
    "# 3, 3, 3, 3, 3, 3, Z, Z, Z, Z, Z, Z, 1, 1, 1, 1, 1, 1, 4, 4, 4, 4, 4, 4, 1, 1, 1, 1, 1, 1]\n",
    "\n",
    "l = [1, 2, 15, 15, 2, 1, 15, 15, 1, 1, 3, 1, 4, 1]\n",
    "\n",
    "#l = [2, 15, 4, 1, 0, 0, 15]\n",
    "for x, y in zip(DATA_vs, l):\n",
    "    print x[:-4],y"
   ]
  },
  {
   "cell_type": "code",
   "execution_count": null,
   "metadata": {
    "collapsed": true
   },
   "outputs": [],
   "source": []
  },
  {
   "cell_type": "code",
   "execution_count": 47,
   "metadata": {
    "scrolled": true
   },
   "outputs": [
    {
     "name": "stdout",
     "output_type": "stream",
     "text": [
      "\n",
      "Xc initial shape  (35853, 16)\n",
      "[  8.05734026e-01   8.14866087e-02   6.32310722e-02   4.94984519e-02\n",
      "   2.11570451e-05   1.66235600e-05   1.01982632e-05   1.49014884e-06\n",
      "   1.13058288e-07   1.02227488e-07   9.56532301e-08   5.79183169e-08]\n",
      "Entropia: 1.000000\n",
      "\n",
      "Xc PCA shape  (35853, 12)\n",
      "Xc labeled shape  (35853, 13)\n",
      "Ar_tsl\n",
      "\n",
      "Xc initial shape  (35853, 16)\n",
      "[  6.76110564e-01   1.67747005e-01   1.25130850e-01   3.09760376e-02\n",
      "   2.81249729e-05   3.64905668e-06   2.94115373e-06   4.26097122e-07\n",
      "   1.85984710e-07   1.36297912e-07   4.33934967e-08   2.89245924e-08]\n",
      "Entropia: 1.000000\n",
      "\n",
      "Xc PCA shape  (35853, 12)\n",
      "Xc labeled shape  (35853, 13)\n",
      "Bo_tsl\n",
      "\n",
      "Xc initial shape  (39853, 16)\n",
      "[  7.58279586e-01   1.22848201e-01   7.20199220e-02   4.68356016e-02\n",
      "   9.44226350e-06   3.65585877e-06   2.22313530e-06   8.21713138e-07\n",
      "   1.98444124e-07   1.56161366e-07   9.93122359e-08   9.06495182e-08]\n",
      "Entropia: 1.000000\n",
      "\n",
      "Xc PCA shape  (39853, 12)\n",
      "Xc labeled shape  (39853, 13)\n",
      "Ca_tsl\n",
      "\n",
      "Xc initial shape  (35853, 16)\n",
      "[  8.76673565e-01   6.23520735e-02   4.24564853e-02   1.84581983e-02\n",
      "   5.50639569e-05   2.43739063e-06   1.09597265e-06   8.45747963e-07\n",
      "   1.05602405e-07   6.99783621e-08   3.49962162e-08   1.33902670e-08]\n",
      "Entropia: 1.000000\n",
      "\n",
      "Xc PCA shape  (35853, 12)\n",
      "Xc labeled shape  (35853, 13)\n",
      "Di_tsl\n",
      "\n",
      "Xc initial shape  (35853, 16)\n",
      "[  4.61410699e-01   2.31111239e-01   1.61828995e-01   1.45624970e-01\n",
      "   1.69138491e-05   2.89912197e-06   1.79059690e-06   1.46492965e-06\n",
      "   3.73333470e-07   2.65793916e-07   2.51003684e-07   1.32642898e-07]\n",
      "Entropia: 1.000000\n",
      "\n",
      "Xc PCA shape  (35853, 12)\n",
      "Xc labeled shape  (35853, 13)\n",
      "Do_tsl\n",
      "\n",
      "Xc initial shape  (35853, 16)\n",
      "[  7.59886498e-01   1.20621803e-01   6.44504076e-02   5.50145810e-02\n",
      "   1.78433453e-05   4.67903519e-06   1.70664556e-06   1.06573665e-06\n",
      "   8.87927437e-07   2.35402818e-07   1.59230542e-07   1.25192676e-07]\n",
      "Entropia: 1.000000\n",
      "\n",
      "Xc PCA shape  (35853, 12)\n",
      "Xc labeled shape  (35853, 13)\n",
      "Fe_tsl\n",
      "\n",
      "Xc initial shape  (35853, 16)\n",
      "[  7.22373945e-01   1.33931226e-01   1.11580989e-01   3.20475446e-02\n",
      "   3.14011618e-05   2.37532506e-05   7.91118283e-06   2.92349541e-06\n",
      "   1.13126849e-07   8.61849411e-08   5.80517967e-08   4.31047794e-08]\n",
      "Entropia: 1.000000\n",
      "\n",
      "Xc PCA shape  (35853, 12)\n",
      "Xc labeled shape  (35853, 13)\n",
      "Ga_tsl\n",
      "\n",
      "Xc initial shape  (39853, 16)\n",
      "[  9.99766032e-01   1.65014794e-04   6.11304280e-05   5.17830883e-06\n",
      "   2.63511347e-06   3.52312550e-09   3.47089104e-09   2.38333878e-09\n",
      "   1.36542896e-10   1.32521941e-10   3.77848059e-11   5.13933304e-12]\n",
      "Entropia: 1.000000\n",
      "\n",
      "Xc PCA shape  (39853, 12)\n",
      "Xc labeled shape  (39853, 13)\n",
      "Is_tsl\n",
      "\n",
      "Xc initial shape  (35853, 16)\n",
      "[  9.92459999e-01   5.58618728e-03   1.39636291e-03   4.09397602e-04\n",
      "   1.46280208e-04   1.33475695e-06   2.67543635e-07   1.10352890e-07\n",
      "   4.46952354e-08   1.44005880e-08   9.42764328e-10   5.17334711e-10]\n",
      "Entropia: 1.000000\n",
      "\n",
      "Xc PCA shape  (35853, 12)\n",
      "Xc labeled shape  (35853, 13)\n",
      "Iv_tsl\n",
      "\n",
      "Xc initial shape  (39853, 16)\n",
      "[  9.04047204e-01   5.73723665e-02   1.99018560e-02   1.86468172e-02\n",
      "   2.60240335e-05   2.89449058e-06   1.15937698e-06   1.00953242e-06\n",
      "   4.64937538e-07   9.29123150e-08   6.75538484e-08   4.23112387e-08]\n",
      "Entropia: 1.000000\n",
      "\n",
      "Xc PCA shape  (39853, 12)\n",
      "Xc labeled shape  (39853, 13)\n",
      "Jo_tsl\n",
      "\n",
      "Xc initial shape  (35853, 16)\n",
      "[  7.78209693e-01   1.25677825e-01   7.60697129e-02   2.00055730e-02\n",
      "   2.45541814e-05   6.14523876e-06   4.29088469e-06   1.33719982e-06\n",
      "   3.99145515e-07   3.07563537e-07   1.26510276e-07   3.22472470e-08]\n",
      "Entropia: 1.000000\n",
      "\n",
      "Xc PCA shape  (35853, 12)\n",
      "Xc labeled shape  (35853, 13)\n",
      "Jo_tsl\n",
      "\n",
      "Xc initial shape  (35853, 16)\n",
      "[  9.00444879e-01   5.04219136e-02   2.83205252e-02   2.07553135e-02\n",
      "   5.20709684e-05   3.93468906e-06   7.66339222e-07   3.18813481e-07\n",
      "   1.84387613e-07   4.43673707e-08   3.18061524e-08   1.65966392e-08]\n",
      "Entropia: 1.000000\n",
      "\n",
      "Xc PCA shape  (35853, 12)\n",
      "Xc labeled shape  (35853, 13)\n",
      "Ma_tsl\n",
      "\n",
      "Xc initial shape  (35853, 16)\n",
      "[  6.70330283e-01   2.19970070e-01   9.06057518e-02   1.90665905e-02\n",
      "   1.08497476e-05   8.15636024e-06   6.84428639e-06   7.93800309e-07\n",
      "   2.96161862e-07   2.02814171e-07   1.22698016e-07   3.28711581e-08]\n",
      "Entropia: 1.000000\n",
      "\n",
      "Xc PCA shape  (35853, 12)\n",
      "Xc labeled shape  (35853, 13)\n",
      "Os_tsl\n",
      "\n",
      "Xc initial shape  (35853, 16)\n",
      "[  5.77306806e-01   1.74671273e-01   1.39648312e-01   1.08351238e-01\n",
      "   7.93942941e-06   6.13031091e-06   4.82410233e-06   1.73186147e-06\n",
      "   7.07576108e-07   5.62720649e-07   2.58305494e-07   2.12349769e-07]\n",
      "Entropia: 1.000000\n",
      "\n",
      "Xc PCA shape  (35853, 12)\n",
      "Xc labeled shape  (35853, 13)\n",
      "Se_tsl\n",
      "Tempo total para o envelopamento: 0.02 min\n"
     ]
    }
   ],
   "source": [
    "#Grupo total\n",
    "start = timeit.default_timer()\n",
    "\n",
    "DATA = []\n",
    "\n",
    "for x, y in zip(DATA_vs, l):\n",
    "    proccess_data(x,DATA,y)\n",
    "    \n",
    "stop = timeit.default_timer()\n",
    "ti = stop - start \n",
    "print ('Tempo total para o envelopamento: %.2f min' % (ti/60))"
   ]
  },
  {
   "cell_type": "markdown",
   "metadata": {},
   "source": [
    "#Não foram incluidas as amostras p4 e c3, serão utilizadas para validação!"
   ]
  },
  {
   "cell_type": "code",
   "execution_count": 48,
   "metadata": {},
   "outputs": [
    {
     "data": {
      "text/plain": [
       "['Bo_tsl.npy',\n",
       " 'Ca_tsl.npy',\n",
       " 'Di_tsl.npy',\n",
       " 'Do_tsl.npy',\n",
       " 'Fe_tsl.npy',\n",
       " 'Ga_tsl.npy',\n",
       " 'Is_tsl.npy',\n",
       " 'Iv_tsl.npy',\n",
       " 'Jo_tsl.npy',\n",
       " 'Jo_tsl.npy',\n",
       " 'Ma_tsl.npy']"
      ]
     },
     "execution_count": 48,
     "metadata": {},
     "output_type": "execute_result"
    }
   ],
   "source": [
    "DATA[1:-2]"
   ]
  },
  {
   "cell_type": "markdown",
   "metadata": {},
   "source": [
    "---"
   ]
  },
  {
   "cell_type": "markdown",
   "metadata": {},
   "source": [
    "## Shape data"
   ]
  },
  {
   "cell_type": "code",
   "execution_count": 49,
   "metadata": {},
   "outputs": [],
   "source": [
    "Xc = np.load(\"DB_REPO/labeled/\"+DATA[0])\n",
    "for i in DATA[1:-2]:\n",
    "    Xc = np.vstack((Xc,np.load('DB_REPO/labeled/'+i))) "
   ]
  },
  {
   "cell_type": "markdown",
   "metadata": {},
   "source": [
    "### Split tipo 1"
   ]
  },
  {
   "cell_type": "markdown",
   "metadata": {},
   "source": [
    "#Dividindo os dados em sets de treino, test e validação\n",
    "dfn = pd.DataFrame(data=Xc)\n",
    "train, validate, test = np.split(dfn.sample(frac=1), [int(.6*len(dfn)), int(.8*len(dfn))])"
   ]
  },
  {
   "cell_type": "markdown",
   "metadata": {},
   "source": [
    "np.save('./DB_INTENC/preproc/labeled/train', train, allow_pickle=False)\n",
    "np.save('./DB_INTENC/preproc/labeled/validate', validate, allow_pickle=False)\n",
    "np.save('./DB_INTENC/preproc/labeled/test', test, allow_pickle=False)"
   ]
  },
  {
   "cell_type": "markdown",
   "metadata": {},
   "source": [
    "Xc_train = np.load(\"DB_INTENC/preproc/labeled/train.npy\")\n",
    "\n",
    "X_train = Xc_train[:,0:(Xc_train.shape[1]-1)]\n",
    "\n",
    "yz = Xc_train[:,[(Xc_train.shape[1]-1)]]\n",
    "y_train = np.array([])\n",
    "for i in range(len(yz)):\n",
    "    y_train = np.hstack((y_train,yz[i]))\n",
    "    \n",
    "lab_enc = preprocessing.LabelEncoder()\n",
    "y_train = lab_enc.fit_transform(y_train)\n",
    "\n",
    "X_train.shape, y_train.shape"
   ]
  },
  {
   "cell_type": "markdown",
   "metadata": {},
   "source": [
    "#Xc_validate = np.load(\"DB_INTENC/preproc/labeled/validate.npy\")\n",
    "Xc_validate = Xc\n",
    "\n",
    "X_validate = Xc_validate[:,0:(Xc_validate.shape[1]-1)]\n",
    "\n",
    "yz = Xc_validate[:,[(Xc_validate.shape[1]-1)]]\n",
    "y_validate = np.array([])\n",
    "for i in range(len(yz)):\n",
    "    y_validate = np.hstack((y_validate,yz[i]))\n",
    "    \n",
    "#lab_enc = preprocessing.LabelEncoder()\n",
    "#y_validate = lab_enc.fit_transform(y_validate)\n",
    "\n",
    "X_validate.shape, y_validate.shape"
   ]
  },
  {
   "cell_type": "markdown",
   "metadata": {},
   "source": [
    "Xc_test= np.load(\"DB_INTENC/preproc/labeled/validate.npy\")\n",
    "\n",
    "X_test = Xc_test[:,0:(Xc_test.shape[1]-1)]\n",
    "\n",
    "yz = Xc_test[:,[(Xc_test.shape[1]-1)]]\n",
    "y_test = np.array([])\n",
    "for i in range(len(yz)):\n",
    "    y_test = np.hstack((y_test,yz[i]))\n",
    "    \n",
    "lab_enc = preprocessing.LabelEncoder()\n",
    "y_test = lab_enc.fit_transform(y_test)\n",
    "\n",
    "X_test.shape, y_test.shape"
   ]
  },
  {
   "cell_type": "markdown",
   "metadata": {},
   "source": [
    "### Split tipo 2"
   ]
  },
  {
   "cell_type": "code",
   "execution_count": 50,
   "metadata": {},
   "outputs": [
    {
     "data": {
      "text/plain": [
       "'Ca_tsl.npy'"
      ]
     },
     "execution_count": 50,
     "metadata": {},
     "output_type": "execute_result"
    }
   ],
   "source": [
    "DATA[2]"
   ]
  },
  {
   "cell_type": "code",
   "execution_count": 51,
   "metadata": {
    "scrolled": true
   },
   "outputs": [
    {
     "name": "stdout",
     "output_type": "stream",
     "text": [
      "Bo_tsl.npy\n",
      "Ca_tsl.npy\n"
     ]
    }
   ],
   "source": [
    "for i in DATA[1:3]:\n",
    "    print i"
   ]
  },
  {
   "cell_type": "code",
   "execution_count": 52,
   "metadata": {},
   "outputs": [
    {
     "data": {
      "text/plain": [
       "((111559, 12), (111559,))"
      ]
     },
     "execution_count": 52,
     "metadata": {},
     "output_type": "execute_result"
    }
   ],
   "source": [
    "#Separando set de dados X, e set de labels y - Validação DATA[5] e DATA[6]\n",
    "Xc = np.load(\"DB_REPO/labeled/\"+DATA[0])\n",
    "\n",
    "for i in DATA[1:3]:\n",
    "    Xc = np.vstack((Xc,np.load('DB_REPO/labeled/'+i))) \n",
    "    \n",
    "X_validate = Xc[:,0:(Xc.shape[1]-1)]\n",
    "\n",
    "yz = Xc[:,[(Xc.shape[1]-1)]]\n",
    "y_validate = np.array([])\n",
    "for i in range(len(yz)):\n",
    "    y_validate = np.hstack((y_validate,yz[i]))\n",
    "    \n",
    "X_validate.shape, y_validate.shape"
   ]
  },
  {
   "cell_type": "code",
   "execution_count": 61,
   "metadata": {},
   "outputs": [
    {
     "data": {
      "text/plain": [
       "((111559, 12), (111559,))"
      ]
     },
     "execution_count": 61,
     "metadata": {},
     "output_type": "execute_result"
    }
   ],
   "source": [
    "X_validate_std = sc.transform(X_validate)\n",
    "\n",
    "X_validate_std.shape, y_validate.shape"
   ]
  },
  {
   "cell_type": "code",
   "execution_count": 57,
   "metadata": {},
   "outputs": [
    {
     "data": {
      "text/plain": [
       "((398383, 12), (398383,))"
      ]
     },
     "execution_count": 57,
     "metadata": {},
     "output_type": "execute_result"
    }
   ],
   "source": [
    "#Separando set de dados X, e set de labels y - Treino e Teste\n",
    "Xc = np.load(\"DB_REPO/labeled/\"+DATA[3])\n",
    "#for i in DATA[1:-2]:\n",
    "for i in DATA[4:]:\n",
    "    Xc = np.vstack((Xc,np.load('DB_REPO/labeled/'+i))) \n",
    "    \n",
    "X = Xc[:,0:(Xc.shape[1]-1)]\n",
    "\n",
    "yz = Xc[:,[(Xc.shape[1]-1)]]\n",
    "y = np.array([])\n",
    "for i in range(len(yz)):\n",
    "    y = np.hstack((y,yz[i]))\n",
    "    \n",
    "X.shape, y.shape"
   ]
  },
  {
   "cell_type": "code",
   "execution_count": 58,
   "metadata": {},
   "outputs": [
    {
     "data": {
      "text/plain": [
       "array([  1.,   2.,   3.,   4.,  15.])"
      ]
     },
     "execution_count": 58,
     "metadata": {},
     "output_type": "execute_result"
    }
   ],
   "source": [
    "np.unique(y)"
   ]
  },
  {
   "cell_type": "code",
   "execution_count": 59,
   "metadata": {},
   "outputs": [],
   "source": [
    "#Dividindo os dados em sets de treino e test\n",
    "from sklearn.model_selection import train_test_split\n",
    "X_train, X_test, y_train, y_test = train_test_split(X, y, test_size=0.3, random_state=1)\n",
    "\n",
    "#X_test, X_validate, y_test, y_validate = train_test_split(X, y, test_size=0.5, random_state=1)"
   ]
  },
  {
   "cell_type": "code",
   "execution_count": 60,
   "metadata": {},
   "outputs": [
    {
     "name": "stdout",
     "output_type": "stream",
     "text": [
      "(278868, 12) (119515, 12) (111559, 12) (278868,) (119515,) (111559,)\n"
     ]
    }
   ],
   "source": [
    "#Aplica normalizador P.S.: Verificar necessidade pois os dados já foram normalizados anteriormente\n",
    "from sklearn.preprocessing import StandardScaler\n",
    "sc = StandardScaler()\n",
    "sc.fit(X_train)\n",
    "X_train_std = sc.transform(X_train)\n",
    "X_test_std = sc.transform(X_test)\n",
    "X_validate_std = sc.transform(X_validate)\n",
    "\n",
    "print X_train_std.shape, X_test_std.shape, X_validate_std.shape, y_train.shape, y_test.shape, y_validate.shape"
   ]
  },
  {
   "cell_type": "markdown",
   "metadata": {},
   "source": [
    "---"
   ]
  },
  {
   "cell_type": "markdown",
   "metadata": {},
   "source": [
    "## Classifiers"
   ]
  },
  {
   "cell_type": "markdown",
   "metadata": {},
   "source": [
    "### Random Forest"
   ]
  },
  {
   "cell_type": "code",
   "execution_count": 62,
   "metadata": {},
   "outputs": [
    {
     "name": "stdout",
     "output_type": "stream",
     "text": [
      "Training time\n",
      "CPU times: user 3min 55s, sys: 848 ms, total: 3min 56s\n",
      "Wall time: 1min 3s\n",
      "\n",
      "Predict time\n",
      "CPU times: user 5.86 s, sys: 48 ms, total: 5.91 s\n",
      "Wall time: 1.63 s\n",
      "\n",
      "ClassifyRF accuracy:---------->97.34 %\n"
     ]
    }
   ],
   "source": [
    "#Training and test\n",
    "from sklearn.ensemble import RandomForestClassifier\n",
    "rfc = RandomForestClassifier(n_estimators=100, n_jobs = 4)\n",
    "\n",
    "print 'Training time'\n",
    "%time rfc = rfc.fit(X_train_std, y_train)\n",
    "\n",
    "print''\n",
    "\n",
    "print 'Predict time'\n",
    "%time y_pred = rfc.predict(X_test_std)\n",
    "\n",
    "print''\n",
    "\n",
    "from sklearn.metrics import accuracy_score\n",
    "print ('ClassifyRF accuracy:---------->%.2f %%' % (accuracy_score(y_test, y_pred)*100))"
   ]
  },
  {
   "cell_type": "markdown",
   "metadata": {},
   "source": [
    "### Memória anterior\n",
    "Training time\n",
    "CPU times: user 4min 12s, sys: 1.13 s, total: 4min 13s\n",
    "Wall time: 1min 20s\n",
    "\n",
    "Predict time\n",
    "CPU times: user 3.82 s, sys: 188 ms, total: 4 s\n",
    "Wall time: 1.45 s\n",
    "\n",
    "ClassifyRF accuracy:---------->98.35 %\n"
   ]
  },
  {
   "cell_type": "markdown",
   "metadata": {},
   "source": [
    "#Salva a rede treinada para um arquivo\n",
    "joblib.dump(rfc, 'DB_INTENC/preproc/labeled/rfc_split2.pkl') "
   ]
  },
  {
   "cell_type": "markdown",
   "metadata": {
    "collapsed": true
   },
   "source": [
    "rfc = joblib.load('DB_INTENC/preproc/labeled/rfc.pkl')"
   ]
  },
  {
   "cell_type": "code",
   "execution_count": 63,
   "metadata": {},
   "outputs": [
    {
     "name": "stdout",
     "output_type": "stream",
     "text": [
      "Predict time\n",
      "CPU times: user 1.53 s, sys: 52 ms, total: 1.58 s\n",
      "Wall time: 543 ms\n",
      "\n",
      "ClassifyRF accuracy:---------->35.96 %\n"
     ]
    }
   ],
   "source": [
    "#Validation\n",
    "print 'Predict time'\n",
    "%time y_pred = rfc.predict(X_validate)\n",
    "\n",
    "print''\n",
    "\n",
    "from sklearn.metrics import accuracy_score\n",
    "\n",
    "result = ('ClassifyRF accuracy:---------->%.2f %%' % (accuracy_score(y_pred, y_validate)*100))\n",
    "\n",
    "print result"
   ]
  },
  {
   "cell_type": "markdown",
   "metadata": {},
   "source": [
    "### Memória anterior\n",
    "Predict time\n",
    "CPU times: user 1.37 s, sys: 216 ms, total: 1.59 s\n",
    "Wall time: 591 ms\n",
    "\n",
    "ClassifyRF accuracy:---------->22.04 %\n"
   ]
  },
  {
   "cell_type": "code",
   "execution_count": 64,
   "metadata": {},
   "outputs": [
    {
     "name": "stdout",
     "output_type": "stream",
     "text": [
      "Predict time\n",
      "CPU times: user 3.22 s, sys: 8 ms, total: 3.22 s\n",
      "Wall time: 932 ms\n",
      "\n",
      "ClassifyRF accuracy:---------->7.13 %\n"
     ]
    }
   ],
   "source": [
    "#Validation\n",
    "print 'Predict time'\n",
    "%time y_pred = rfc.predict(X_validate_std)\n",
    "\n",
    "print''\n",
    "\n",
    "from sklearn.metrics import accuracy_score\n",
    "\n",
    "result = ('ClassifyRF accuracy:---------->%.2f %%' % (accuracy_score(y_pred, y_validate)*100))\n",
    "\n",
    "print result"
   ]
  },
  {
   "cell_type": "markdown",
   "metadata": {},
   "source": [
    "### Memória anterior\n",
    "Predict time\n",
    "CPU times: user 2.17 s, sys: 104 ms, total: 2.27 s\n",
    "Wall time: 810 ms\n",
    "\n",
    "ClassifyRF accuracy:---------->18.04 %"
   ]
  },
  {
   "cell_type": "markdown",
   "metadata": {},
   "source": [
    "---"
   ]
  },
  {
   "cell_type": "markdown",
   "metadata": {},
   "source": [
    "## Support Vector Machine"
   ]
  },
  {
   "cell_type": "code",
   "execution_count": 65,
   "metadata": {},
   "outputs": [
    {
     "name": "stdout",
     "output_type": "stream",
     "text": [
      "Processing time SVM\n",
      "CPU times: user 1h 45min 48s, sys: 2.05 s, total: 1h 45min 50s\n",
      "Wall time: 1h 45min 54s\n",
      "\n",
      "Predict time\n",
      "CPU times: user 11min 41s, sys: 48 ms, total: 11min 41s\n",
      "Wall time: 11min 42s\n",
      "SVM-RBF accuracy:---------->81.72 %\n"
     ]
    }
   ],
   "source": [
    "from sklearn import svm, datasets\n",
    "\n",
    "print 'Processing time SVM'\n",
    "%time svm = svm.SVC(kernel='rbf', gamma=0.2, C=6, decision_function_shape='ovr').fit(X_train_std, y_train)\n",
    "\n",
    "print ''\n",
    "\n",
    "from sklearn.metrics import accuracy_score\n",
    "\n",
    "print 'Predict time'  \n",
    "%time y_pred = svm.predict(X_test_std)\n",
    "from sklearn.metrics import accuracy_score\n",
    "print ('SVM-RBF accuracy:---------->%.2f %%' % (accuracy_score(y_test, y_pred)*100))"
   ]
  },
  {
   "cell_type": "code",
   "execution_count": 66,
   "metadata": {
    "scrolled": true
   },
   "outputs": [
    {
     "name": "stdout",
     "output_type": "stream",
     "text": [
      "Predict time\n",
      "CPU times: user 10min 56s, sys: 24 ms, total: 10min 56s\n",
      "Wall time: 10min 56s\n",
      "SVM-RBF accuracy:---------->6.63 %\n"
     ]
    }
   ],
   "source": [
    "print 'Predict time'  \n",
    "%time y_pred = svm.predict(X_validate_std)\n",
    "from sklearn.metrics import accuracy_score\n",
    "print ('SVM-RBF accuracy:---------->%.2f %%' % (accuracy_score(y_validate, y_pred)*100))"
   ]
  },
  {
   "cell_type": "markdown",
   "metadata": {
    "collapsed": true
   },
   "source": [
    "## TESTS"
   ]
  },
  {
   "cell_type": "code",
   "execution_count": 79,
   "metadata": {},
   "outputs": [
    {
     "name": "stdout",
     "output_type": "stream",
     "text": [
      "Processing time ADA\n",
      "CPU times: user 6min 55s, sys: 52 ms, total: 6min 55s\n",
      "Wall time: 6min 55s\n",
      "\n",
      "Predict time\n",
      "CPU times: user 15.4 s, sys: 12 ms, total: 15.5 s\n",
      "Wall time: 15.5 s\n",
      "ADA accuracy:---------->59.37 %\n"
     ]
    }
   ],
   "source": [
    "from sklearn.ensemble import AdaBoostClassifier\n",
    "print 'Processing time ADA'\n",
    "%time ada = AdaBoostClassifier(n_estimators=600,learning_rate=0.3).fit(X_train_std, y_train)\n",
    "\n",
    "print ''\n",
    "\n",
    "print 'Predict time'  \n",
    "%time y_pred = ada.predict(X_test_std)\n",
    "print ('ADA accuracy:---------->%.2f %%' % (accuracy_score(y_test, y_pred)*100))"
   ]
  },
  {
   "cell_type": "code",
   "execution_count": 80,
   "metadata": {},
   "outputs": [
    {
     "name": "stdout",
     "output_type": "stream",
     "text": [
      "Predict time\n",
      "CPU times: user 13.9 s, sys: 0 ns, total: 13.9 s\n",
      "Wall time: 13.9 s\n",
      "ADA accuracy:---------->6.72 %\n"
     ]
    }
   ],
   "source": [
    "print 'Predict time'  \n",
    "%time y_pred = ada.predict(X_validate_std)\n",
    "print ('ADA accuracy:---------->%.2f %%' % (accuracy_score(y_validate, y_pred)*100))"
   ]
  },
  {
   "cell_type": "markdown",
   "metadata": {},
   "source": [
    "## 2"
   ]
  },
  {
   "cell_type": "code",
   "execution_count": 73,
   "metadata": {},
   "outputs": [
    {
     "name": "stdout",
     "output_type": "stream",
     "text": [
      "Processing time ADA\n",
      "CPU times: user 13min 4s, sys: 288 ms, total: 13min 4s\n",
      "Wall time: 13min 5s\n",
      "\n",
      "Predict time\n",
      "CPU times: user 15 s, sys: 0 ns, total: 15 s\n",
      "Wall time: 15 s\n",
      "ADA accuracy:---------->39.56 %\n"
     ]
    }
   ],
   "source": [
    "from sklearn.tree import DecisionTreeClassifier\n",
    "print 'Processing time ADA'\n",
    "%time ada = AdaBoostClassifier(DecisionTreeClassifier(max_depth=2),n_estimators=600,learning_rate=1).fit(X_train_std, y_train)\n",
    "\n",
    "print ''\n",
    "\n",
    "print 'Predict time'  \n",
    "%time y_pred = ada.predict(X_test_std)\n",
    "print ('ADA accuracy:---------->%.2f %%' % (accuracy_score(y_test, y_pred)*100))"
   ]
  },
  {
   "cell_type": "code",
   "execution_count": 74,
   "metadata": {},
   "outputs": [
    {
     "name": "stdout",
     "output_type": "stream",
     "text": [
      "Predict time\n",
      "CPU times: user 14.3 s, sys: 0 ns, total: 14.3 s\n",
      "Wall time: 14.3 s\n",
      "ADA accuracy:---------->10.59 %\n"
     ]
    }
   ],
   "source": [
    "print 'Predict time'  \n",
    "%time y_pred = ada.predict(X_validate_std)\n",
    "print ('ADA accuracy:---------->%.2f %%' % (accuracy_score(y_validate, y_pred)*100))"
   ]
  },
  {
   "cell_type": "code",
   "execution_count": null,
   "metadata": {},
   "outputs": [],
   "source": []
  }
 ],
 "metadata": {
  "kernelspec": {
   "display_name": "Python 2",
   "language": "python",
   "name": "python2"
  },
  "language_info": {
   "codemirror_mode": {
    "name": "ipython",
    "version": 2
   },
   "file_extension": ".py",
   "mimetype": "text/x-python",
   "name": "python",
   "nbconvert_exporter": "python",
   "pygments_lexer": "ipython2",
   "version": "2.7.13"
  }
 },
 "nbformat": 4,
 "nbformat_minor": 2
}
