{
 "cells": [
  {
   "cell_type": "code",
   "execution_count": 1,
   "metadata": {},
   "outputs": [
    {
     "name": "stderr",
     "output_type": "stream",
     "text": [
      "WARNING (theano.sandbox.cuda): The cuda backend is deprecated and will be removed in the next release (v0.10).  Please switch to the gpuarray backend. You can get more information about how to switch at this URL:\n",
      " https://github.com/Theano/Theano/wiki/Converting-to-the-new-gpu-back-end%28gpuarray%29\n",
      "\n",
      "Using gpu device 0: GeForce 940MX (CNMeM is enabled with initial size: 75.0% of memory, cuDNN 5110)\n"
     ]
    }
   ],
   "source": [
    "import timeit\n",
    "import theano\n",
    "from theano import tensor as T\n",
    "import numpy as np\n",
    "from datetime import datetime\n",
    "\n",
    "from ml_time_series_theano import generate_envelope_T\n",
    "from ml_time_series_theano import generate_envelope_nd_T"
   ]
  },
  {
   "cell_type": "markdown",
   "metadata": {},
   "source": [
    "# Python function"
   ]
  },
  {
   "cell_type": "code",
   "execution_count": 2,
   "metadata": {
    "collapsed": true
   },
   "outputs": [],
   "source": [
    "def generate_envelope(original_data, num_samples):\n",
    "    new_Xc = np.array([])\n",
    "    for i in np.arange(num_samples - 1, original_data.shape[0]):\n",
    "        #x = Xc_1[i - (NUM_SAMPLES - 1) : i+1, :].ravel()\n",
    "        x = original_data[i - (num_samples - 1) : i+1].ravel()        \n",
    "        if new_Xc.shape[0] == 0:\n",
    "            new_Xc = x\n",
    "        else:\n",
    "            new_Xc = np.vstack((new_Xc, x))\n",
    "    return new_Xc\n",
    "\n",
    "def proccess_data(file_,DATA):\n",
    "    \n",
    "    #datafile = os.path.join(DATADIR, DATAFILE)\n",
    "    #datafile = DATAFILE\n",
    "\n",
    "    # Remove header, Nan and trash\n",
    "    data = np.load('DB_GRIP/'+file_+'.npy')\n",
    "    Xc_1 = data[:10000 ,0]\n",
    "    Xc_2 = data[10000: ,0]\n",
    "\n",
    "    \n",
    "    print '\\nXc_1 cleaned shape ', Xc_1.shape\n",
    "    #print 'Xc_2 cleaned shape ', Xc_2.shape\n",
    "    \n",
    "    #Create temporal serie\n",
    "    NUM_SAMPLES = 50\n",
    "    #NUM_COLS = Xc_1.shape[1]\n",
    "\n",
    "    \n",
    "    Xc_1 = generate_envelope(Xc_1, NUM_SAMPLES)\n",
    "    Xc_2 = generate_envelope(Xc_2, NUM_SAMPLES)\n",
    "    \n",
    "    \n",
    "    print 'Xc_1 temporal-serie shape ', Xc_1.shape\n",
    "    print 'Xc_2 temporal-serie shape ', Xc_2.shape"
   ]
  },
  {
   "cell_type": "markdown",
   "metadata": {},
   "source": [
    "# Theano function"
   ]
  },
  {
   "cell_type": "code",
   "execution_count": 3,
   "metadata": {
    "collapsed": true
   },
   "outputs": [],
   "source": [
    "\n",
    "def generate_envelope_T(original_data, num_samples):\n",
    "    # initialize\n",
    "    new_Xc = np.array([])\n",
    "    x = T.fmatrix('x')\n",
    "    w = theano.shared(num_samples-1)\n",
    "    update = [(w, w + 1)]\n",
    "    envelope1d = x[0][w - (num_samples - 1) : w+1].ravel()\n",
    "\n",
    "    # compile model\n",
    "    net_input = theano.function(inputs=[x],\n",
    "                                updates=update,\n",
    "                                outputs=envelope1d)\n",
    "\n",
    "    # execute\n",
    "    X_input =  np.array([(original_data)], \n",
    "                          dtype=theano.config.floatX)\n",
    "    if num_samples < len(original_data):\n",
    "        new_Xc = net_input(X_input) \n",
    "        for i in np.arange(num_samples , original_data.shape[0]):\n",
    "            new_Xc = np.vstack((new_Xc, net_input(X_input)))\n",
    "    else:\n",
    "        print 'num_samples must be lower than original_data.'\n",
    "        \n",
    "    return new_Xc\n",
    "\n",
    "def generate_envelope_nd_T(original_data, num_samples):\n",
    "    # initialize\n",
    "    new_Xc = np.array([])\n",
    "    x = T.dmatrix('x')\n",
    "    w = theano.shared(num_samples-1)\n",
    "    update = [(w, w + 1)]\n",
    "    envelope_nd = x[w-(num_samples-1):w+1][0 : num_samples, :].ravel()\n",
    "    \n",
    "    # compile model\n",
    "    net_input = theano.function(inputs=[x],\n",
    "                                updates=update,\n",
    "                                outputs=envelope_nd)\n",
    "    # execute\n",
    "    X_input =  np.array((original_data), \n",
    "                          dtype=theano.config.floatX)\n",
    "\n",
    "    if num_samples < len(original_data):\n",
    "        new_Xc = net_input(X_input) \n",
    "        for i in np.arange(num_samples, original_data.shape[0]):\n",
    "            new_Xc = np.vstack((new_Xc, net_input(X_input)))\n",
    "\n",
    "    else:\n",
    "        print 'num_samples must be lower than original_data.'\n",
    "    return new_Xc"
   ]
  },
  {
   "cell_type": "code",
   "execution_count": 415,
   "metadata": {
    "scrolled": true
   },
   "outputs": [
    {
     "name": "stdout",
     "output_type": "stream",
     "text": [
      "(7, 16)\n",
      "[[  0.   1.   2.   3.   4.   5.   6.   7.   8.   9.  10.  11.  12.  13.\n",
      "   14.  15.]\n",
      " [  4.   5.   6.   7.   8.   9.  10.  11.  12.  13.  14.  15.  16.  17.\n",
      "   18.  19.]\n",
      " [  8.   9.  10.  11.  12.  13.  14.  15.  16.  17.  18.  19.  20.  21.\n",
      "   22.  23.]\n",
      " [ 12.  13.  14.  15.  16.  17.  18.  19.  20.  21.  22.  23.  24.  25.\n",
      "   26.  27.]\n",
      " [ 16.  17.  18.  19.  20.  21.  22.  23.  24.  25.  26.  27.  28.  29.\n",
      "   30.  31.]\n",
      " [ 20.  21.  22.  23.  24.  25.  26.  27.  28.  29.  30.  31.  32.  33.\n",
      "   34.  35.]\n",
      " [ 24.  25.  26.  27.  28.  29.  30.  31.  32.  33.  34.  35.  36.  37.\n",
      "   38.  39.]]\n"
     ]
    }
   ],
   "source": [
    "num_samples = 4\n",
    "\n",
    "X_input =  np.array(np.ndarray((10,4), \n",
    "                                buffer=np.array(np.arange(0,40)),\n",
    "                                dtype=int),dtype=theano.config.floatX)\n",
    "\n",
    "\n",
    "x = T.dmatrix('x')\n",
    "\n",
    "w = theano.shared(num_samples-1)\n",
    "\n",
    "update = [(w, w + 1)]\n",
    "\n",
    "calc_series = x[w-(num_samples-1):w+1][0 : num_samples, :].ravel()\n",
    "\n",
    "\n",
    "# compile model\n",
    "net_input = theano.function(inputs=[x],\n",
    "                            updates=update,\n",
    "                            outputs=calc_series)\n",
    "\n",
    "# execute\n",
    "new_Xc = np.array([])\n",
    "new_Xc = net_input(X_input) \n",
    "\n",
    "for i in np.arange(num_samples, original_data.shape[0]):\n",
    "    new_Xc = np.vstack((new_Xc, net_input(X_input)))\n",
    "\n",
    "\n",
    "print new_Xc.shape\n",
    "print new_Xc\n",
    "\n",
    "\n"
   ]
  },
  {
   "cell_type": "code",
   "execution_count": 378,
   "metadata": {},
   "outputs": [
    {
     "name": "stdout",
     "output_type": "stream",
     "text": [
      "[ 0  1  2  3  4  5  6  7  8  9 10 11 12 13 14 15]\n",
      "[ 4  5  6  7  8  9 10 11 12 13 14 15 16 17 18 19]\n",
      "[ 8  9 10 11 12 13 14 15 16 17 18 19 20 21 22 23]\n",
      "[12 13 14 15 16 17 18 19 20 21 22 23 24 25 26 27]\n",
      "[16 17 18 19 20 21 22 23 24 25 26 27 28 29 30 31]\n",
      "[20 21 22 23 24 25 26 27 28 29 30 31 32 33 34 35]\n",
      "[24 25 26 27 28 29 30 31 32 33 34 35 36 37 38 39]\n"
     ]
    }
   ],
   "source": [
    "np.array(np.arange(0,40))\n",
    "JJ = np.ndarray((10,4), buffer=np.array(np.arange(0,40)),dtype=int)\n",
    "#print JJ[2:6][0:4,:]\n",
    "w = 9\n",
    "num_samples = 4\n",
    "for i in range(len(np.arange(num_samples - 1, original_data.shape[0]))):\n",
    "    w = 3+i\n",
    "    print (JJ[w-(num_samples-1):w+1][0 : num_samples, :].ravel()\n",
    ")"
   ]
  },
  {
   "cell_type": "code",
   "execution_count": 473,
   "metadata": {},
   "outputs": [
    {
     "data": {
      "text/plain": [
       "array([[  0.,   1.,   2.,   3.,   4.,   5.,   6.,   7.,   8.,   9.,  10.,\n",
       "         11.,  12.,  13.,  14.,  15.],\n",
       "       [  4.,   5.,   6.,   7.,   8.,   9.,  10.,  11.,  12.,  13.,  14.,\n",
       "         15.,  16.,  17.,  18.,  19.],\n",
       "       [  8.,   9.,  10.,  11.,  12.,  13.,  14.,  15.,  16.,  17.,  18.,\n",
       "         19.,  20.,  21.,  22.,  23.],\n",
       "       [ 12.,  13.,  14.,  15.,  16.,  17.,  18.,  19.,  20.,  21.,  22.,\n",
       "         23.,  24.,  25.,  26.,  27.],\n",
       "       [ 16.,  17.,  18.,  19.,  20.,  21.,  22.,  23.,  24.,  25.,  26.,\n",
       "         27.,  28.,  29.,  30.,  31.],\n",
       "       [ 20.,  21.,  22.,  23.,  24.,  25.,  26.,  27.,  28.,  29.,  30.,\n",
       "         31.,  32.,  33.,  34.,  35.],\n",
       "       [ 24.,  25.,  26.,  27.,  28.,  29.,  30.,  31.,  32.,  33.,  34.,\n",
       "         35.,  36.,  37.,  38.,  39.]])"
      ]
     },
     "execution_count": 473,
     "metadata": {},
     "output_type": "execute_result"
    }
   ],
   "source": [
    "num_samples = 4\n",
    "original_data = (np.ndarray((10,4), buffer=np.array(np.arange(0,40)),dtype=int))\n",
    "#original_data = np.array(np.array(np.arange(0,20)))\n",
    "#proccess_data_T(original_data,DATA)\n",
    "generate_envelope_nd_T(original_data,4)\n",
    "#generate_envelope_T(original_data,4)"
   ]
  },
  {
   "cell_type": "code",
   "execution_count": 447,
   "metadata": {},
   "outputs": [
    {
     "name": "stdout",
     "output_type": "stream",
     "text": [
      "\n",
      "Xc_1 cleaned shape  (10, 4)\n",
      "Xc_1 temporal-serie shape  (7, 16)\n"
     ]
    },
    {
     "data": {
      "text/plain": [
       "array([[ 0,  1,  2,  3,  4,  5,  6,  7,  8,  9, 10, 11, 12, 13, 14, 15],\n",
       "       [ 4,  5,  6,  7,  8,  9, 10, 11, 12, 13, 14, 15, 16, 17, 18, 19],\n",
       "       [ 8,  9, 10, 11, 12, 13, 14, 15, 16, 17, 18, 19, 20, 21, 22, 23],\n",
       "       [12, 13, 14, 15, 16, 17, 18, 19, 20, 21, 22, 23, 24, 25, 26, 27],\n",
       "       [16, 17, 18, 19, 20, 21, 22, 23, 24, 25, 26, 27, 28, 29, 30, 31],\n",
       "       [20, 21, 22, 23, 24, 25, 26, 27, 28, 29, 30, 31, 32, 33, 34, 35],\n",
       "       [24, 25, 26, 27, 28, 29, 30, 31, 32, 33, 34, 35, 36, 37, 38, 39]])"
      ]
     },
     "execution_count": 447,
     "metadata": {},
     "output_type": "execute_result"
    }
   ],
   "source": [
    "proccess_data(original_data,DATA)\n",
    "generate_envelope(original_data,4)"
   ]
  },
  {
   "cell_type": "code",
   "execution_count": 4,
   "metadata": {
    "collapsed": true
   },
   "outputs": [],
   "source": [
    "def proccess_data_T(file_,DATA):\n",
    "    \n",
    "    #datafile = os.path.join(DATADIR, DATAFILE)\n",
    "    #datafile = DATAFILE\n",
    "\n",
    "    # Remove header, Nan and trash\n",
    "    data = np.load('DB_GRIP/'+file_+'.npy')\n",
    "    Xc_1 = data[:10000 ,0]\n",
    "    Xc_2 = data[10000: ,0]\n",
    "    \n",
    "    print '\\nXc_1 cleaned shape ', Xc_1.shape\n",
    "    print 'Xc_2 cleaned shape ', Xc_2.shape\n",
    "    \n",
    "    #Create temporal serie\n",
    "    NUM_SAMPLES = 50\n",
    "    #NUM_COLS = Xc_1.shape[1]\n",
    "\n",
    "    \n",
    "    Xc_1 = generate_envelope_T(Xc_1, NUM_SAMPLES)\n",
    "    Xc_2 = generate_envelope_T(Xc_2, NUM_SAMPLES)\n",
    "    \n",
    "    \n",
    "    print 'Xc_1 temporal-serie shape ', Xc_1.shape\n",
    "    print 'Xc_2 temporal-serie shape ', Xc_2.shape\n",
    "    "
   ]
  },
  {
   "cell_type": "markdown",
   "metadata": {},
   "source": [
    "## Without Theano"
   ]
  },
  {
   "cell_type": "code",
   "execution_count": 9,
   "metadata": {},
   "outputs": [
    {
     "name": "stdout",
     "output_type": "stream",
     "text": [
      "\n",
      "Xc_1 cleaned shape  (10000,)\n",
      "Xc_1 temporal-serie shape  (9951, 50)\n",
      "Xc_2 temporal-serie shape  (9951, 50)\n",
      "\n",
      "Xc_1 cleaned shape  (10000,)\n",
      "Xc_1 temporal-serie shape  (9951, 50)\n",
      "Xc_2 temporal-serie shape  (9951, 50)\n",
      "\n",
      "Xc_1 cleaned shape  (10000,)\n",
      "Xc_1 temporal-serie shape  (9951, 50)\n",
      "Xc_2 temporal-serie shape  (9951, 50)\n",
      "\n",
      "Xc_1 cleaned shape  (10000,)\n",
      "Xc_1 temporal-serie shape  (9951, 50)\n",
      "Xc_2 temporal-serie shape  (9951, 50)\n",
      "\n",
      "Xc_1 cleaned shape  (10000,)\n",
      "Xc_1 temporal-serie shape  (9951, 50)\n",
      "Xc_2 temporal-serie shape  (9951, 50)\n",
      "Tempo total para o envelopamento: 0.52 min\n"
     ]
    }
   ],
   "source": [
    "start = timeit.default_timer()\n",
    "\n",
    "files = ['data_220833','data_220853','data_220915','data_220933', 'data_220951']\n",
    "DATA = []\n",
    "for i in files:\n",
    "    HH = proccess_data(i,DATA)\n",
    "    \n",
    "stop = timeit.default_timer()\n",
    "ti = stop - start \n",
    "print ('Tempo total para o envelopamento: %.2f min' % (ti/60))"
   ]
  },
  {
   "cell_type": "markdown",
   "metadata": {},
   "source": [
    "## With Theano"
   ]
  },
  {
   "cell_type": "code",
   "execution_count": 10,
   "metadata": {
    "scrolled": false
   },
   "outputs": [
    {
     "name": "stdout",
     "output_type": "stream",
     "text": [
      "\n",
      "Xc_1 cleaned shape  (10000,)\n",
      "Xc_2 cleaned shape  (10000,)\n",
      "Xc_1 temporal-serie shape  (9951, 50)\n",
      "Xc_2 temporal-serie shape  (9951, 50)\n",
      "\n",
      "Xc_1 cleaned shape  (10000,)\n",
      "Xc_2 cleaned shape  (10000,)\n",
      "Xc_1 temporal-serie shape  (9951, 50)\n",
      "Xc_2 temporal-serie shape  (9951, 50)\n",
      "\n",
      "Xc_1 cleaned shape  (10000,)\n",
      "Xc_2 cleaned shape  (10000,)\n",
      "Xc_1 temporal-serie shape  (9951, 50)\n",
      "Xc_2 temporal-serie shape  (9951, 50)\n",
      "\n",
      "Xc_1 cleaned shape  (10000,)\n",
      "Xc_2 cleaned shape  (10000,)\n",
      "Xc_1 temporal-serie shape  (9951, 50)\n",
      "Xc_2 temporal-serie shape  (9951, 50)\n",
      "\n",
      "Xc_1 cleaned shape  (10000,)\n",
      "Xc_2 cleaned shape  (10000,)\n",
      "Xc_1 temporal-serie shape  (9951, 50)\n",
      "Xc_2 temporal-serie shape  (9951, 50)\n",
      "Tempo total para o envelopamento: 0.19 min\n"
     ]
    }
   ],
   "source": [
    "start = timeit.default_timer()\n",
    "\n",
    "files = ['data_220833','data_220853','data_220915','data_220933', 'data_220951']\n",
    "DATA = []\n",
    "for i in files:\n",
    "    proccess_data_T(i,DATA)\n",
    "    \n",
    "stop = timeit.default_timer()\n",
    "ti = stop - start \n",
    "print ('Tempo total para o envelopamento: %.2f min' % (ti/60))"
   ]
  },
  {
   "cell_type": "code",
   "execution_count": 36,
   "metadata": {
    "collapsed": true
   },
   "outputs": [],
   "source": [
    "w = theano.shared(0)"
   ]
  },
  {
   "cell_type": "code",
   "execution_count": null,
   "metadata": {
    "collapsed": true
   },
   "outputs": [],
   "source": []
  },
  {
   "cell_type": "code",
   "execution_count": 296,
   "metadata": {},
   "outputs": [
    {
     "name": "stdout",
     "output_type": "stream",
     "text": [
      "('z0:', array([[ 0.,  0.,  0.,  0.]]))\n",
      "('z1:', array([[ 0.,  1.,  2.,  3.]]))\n",
      "('z2:', array([[ 0.,  2.,  4.,  6.]]))\n",
      "('z3:', array([[ 0.,  3.,  6.,  9.]]))\n",
      "('z4:', array([[  0.,   4.,   8.,  12.]]))\n"
     ]
    }
   ],
   "source": [
    "# initialize\n",
    "x = T.fmatrix('x')\n",
    "#w = theano.shared(np.asarray([[0.0, 0.0, 0.0]],dtype=theano.config.floatX))\n",
    "w = theano.shared(0)\n",
    "#z = x.dot(w.T)\n",
    "z = x*(w)\n",
    "update = [(w, w + 1)]\n",
    "\n",
    "\n",
    "# compile\n",
    "net_input = theano.function(inputs=[x],\n",
    "                            updates=update,\n",
    "                            outputs=z)\n",
    "\n",
    "# execute\n",
    "#data = np.array([[1, 2, 3]],dtype=theano.config.floatX)\n",
    "\n",
    "data = np.array([(np.array(np.arange(0,4)))],dtype=theano.config.floatX)\n",
    "\n",
    "for i in range(5):\n",
    "    print('z%d:' % i, net_input(data))\n"
   ]
  },
  {
   "cell_type": "code",
   "execution_count": null,
   "metadata": {
    "collapsed": true
   },
   "outputs": [],
   "source": []
  }
 ],
 "metadata": {
  "kernelspec": {
   "display_name": "Python 2",
   "language": "python",
   "name": "python2"
  },
  "language_info": {
   "codemirror_mode": {
    "name": "ipython",
    "version": 2
   },
   "file_extension": ".py",
   "mimetype": "text/x-python",
   "name": "python",
   "nbconvert_exporter": "python",
   "pygments_lexer": "ipython2",
   "version": "2.7.13"
  }
 },
 "nbformat": 4,
 "nbformat_minor": 2
}
