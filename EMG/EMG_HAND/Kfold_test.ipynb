{
 "cells": [
  {
   "cell_type": "code",
   "execution_count": 4,
   "metadata": {
    "collapsed": true
   },
   "outputs": [],
   "source": [
    "import os\n",
    "import pandas as pd\n",
    "import numpy as np\n",
    "import Data_Savior_J\n",
    "from Data_Savior_J import load_file\n",
    "from Data_Savior_J import save_it_now\n",
    "import scipy as sp\n",
    "from scipy import signal\n",
    "from ml_time_series import generate_envelope"
   ]
  },
  {
   "cell_type": "markdown",
   "metadata": {},
   "source": [
    "# Filtering"
   ]
  },
  {
   "cell_type": "code",
   "execution_count": 17,
   "metadata": {
    "collapsed": true
   },
   "outputs": [],
   "source": [
    "def filter_signal(emg, low_pass=10., sfreq=2000., high_band=20., low_band=450.):\n",
    "    \"\"\"\n",
    "    emg: EMG data\n",
    "    high: high-pass cut off frequency\n",
    "    low: low-pass cut off frequency\n",
    "    sfreq: sampling frequency\n",
    "    \"\"\"\n",
    "    \n",
    "    # normalise cut-off frequencies to sampling frequency\n",
    "    high_band = high_band/(sfreq/2)\n",
    "    low_band = low_band/(sfreq/2)\n",
    "    \n",
    "    # create bandpass filter for EMG\n",
    "    b1, a1 = sp.signal.butter(4, [high_band,low_band], btype='bandpass')\n",
    "    \n",
    "    # process EMG signal: filter EMG\n",
    "    emg_filtered = sp.signal.filtfilt(b1, a1, emg)    \n",
    "    \n",
    "    # process EMG signal: rectify\n",
    "    emg_rectified = abs(emg_filtered)\n",
    "    \n",
    "    # create lowpass filter and apply to rectified signal to get EMG envelope\n",
    "    low_pass = low_pass/sfreq\n",
    "    b2, a2 = sp.signal.butter(4, low_pass, btype='lowpass')\n",
    "    emg_envelope = sp.signal.filtfilt(b2, a2, emg_rectified)\n",
    "    \n",
    "    return emg_envelope"
   ]
  },
  {
   "cell_type": "markdown",
   "metadata": {},
   "source": [
    "# Processing"
   ]
  },
  {
   "cell_type": "code",
   "execution_count": 18,
   "metadata": {
    "collapsed": true
   },
   "outputs": [],
   "source": [
    "def proccess_data(file_,DATA):\n",
    "    \n",
    "    #datafile = os.path.join(DATADIR, DATAFILE)\n",
    "    #datafile = DATAFILE\n",
    "\n",
    "    # Remove header, Nan and trash\n",
    "    data = np.load('DB_HAND/'+file_+'.npy')\n",
    "    data = filter_signal(data[:,0], low_pass=30)\n",
    "    #plot_fremg(data)\n",
    "    Xc_1 = data[:10000]\n",
    "    Xc_2 = data[10000:20000]\n",
    "    Xc_3 = data[20000:]\n",
    "    \n",
    "    print '\\nXc_1 cleaned shape ', Xc_1.shape\n",
    "    print 'Xc_2 cleaned shape ', Xc_2.shape\n",
    "    print 'Xc_3 cleaned shape ', Xc_3.shape\n",
    "    \n",
    "    #Create temporal serie\n",
    "    NUM_SAMPLES = 500\n",
    "    \n",
    "    Xc_1 = generate_envelope(Xc_1, NUM_SAMPLES)\n",
    "    Xc_2 = generate_envelope(Xc_2, NUM_SAMPLES)\n",
    "    Xc_3 = generate_envelope(Xc_3, NUM_SAMPLES)\n",
    "    \n",
    "    print 'Xc_1 temporal-serie shape ', Xc_1.shape\n",
    "    print 'Xc_2 temporal-serie shape ', Xc_2.shape\n",
    "    print 'Xc_3 temporal-serie shape ', Xc_3.shape\n",
    "    \n",
    "    #Labeling the type of movement\n",
    "    C = (np.ones(len(Xc_1))*0).reshape((len(Xc_1),1))\n",
    "    Xc_1 = np.hstack((Xc_1.reshape(Xc_1.shape),C.reshape((len(Xc_1),1))))\n",
    "\n",
    "\n",
    "    C = (np.ones(len(Xc_2))*1).reshape((len(Xc_2),1))\n",
    "    Xc_2 = np.hstack((Xc_2.reshape(Xc_2.shape),C.reshape((len(Xc_2),1))))\n",
    "    \n",
    "    C = (np.ones(len(Xc_3))*2).reshape((len(Xc_3),1))\n",
    "    Xc_3 = np.hstack((Xc_3.reshape(Xc_3.shape),C.reshape((len(Xc_3),1))))\n",
    "    \n",
    "    print 'Xc_1 labeled shape ', Xc_1.shape\n",
    "    print 'Xc_2 labeled shape ', Xc_2.shape\n",
    "    print 'Xc_3 labeled shape ', Xc_3.shape\n",
    "    \n",
    "    # Salving in file on the folder <classifier_data>\n",
    "    from Data_Savior_J import save_it_now\n",
    "    save_it_now(Xc_1, './preproc_filtered_data/'+file_+'_f_honp.'+'data')\n",
    "    print file_+'_o.'+'data'\n",
    "    \n",
    "    save_it_now(Xc_2, './preproc_filtered_data/'+file_+'_f_hclp.'+'data')\n",
    "    print file_+'_cmf.'+'data'\n",
    "    \n",
    "    save_it_now(Xc_3, './preproc_filtered_data/'+file_+'_f_hchp.'+'data')\n",
    "    print file_+'_ctf.'+'data'\n",
    "    \n",
    "    DATA.append(file_+'_f_honp.'+'data')\n",
    "    DATA.append(file_+'_f_hclp.'+'data')\n",
    "    DATA.append(file_+'_f_hchp.'+'data')"
   ]
  },
  {
   "cell_type": "code",
   "execution_count": 19,
   "metadata": {
    "collapsed": true
   },
   "outputs": [],
   "source": [
    "def proccess_data_validation(file_,DATA):\n",
    "    \n",
    "    #datafile = os.path.join(DATADIR, DATAFILE)\n",
    "    #datafile = DATAFILE\n",
    "\n",
    "    # Remove header, Nan and trash\n",
    "    data = np.load('DB_HAND/'+file_+'.npy')\n",
    "    data = filter_signal(data[:,0], low_pass=30)\n",
    "    Xc_t = data\n",
    "    print '\\nXc_t cleaned shape ', Xc_t.shape\n",
    "    \n",
    "    #Create temporal serie\n",
    "    NUM_SAMPLES = 500\n",
    "    \n",
    "    Xc_t = generate_envelope(Xc_t, NUM_SAMPLES)\n",
    "    print 'Xc_t temporal-serie shape ', Xc_t.shape\n",
    "    from Data_Savior_J import save_it_now\n",
    "    save_it_now(Xc_t, './preproc_filtered_data/'+file_+'validation.'+'data')\n",
    "    print file_+'validation.'+'data'\n",
    "    \n",
    "    DATA.append(file_+'validation.'+'data')"
   ]
  },
  {
   "cell_type": "code",
   "execution_count": 20,
   "metadata": {
    "collapsed": false
   },
   "outputs": [
    {
     "name": "stdout",
     "output_type": "stream",
     "text": [
      "\n",
      "Xc_1 cleaned shape  (10000,)\n",
      "Xc_2 cleaned shape  (10000,)\n",
      "Xc_3 cleaned shape  (10000,)\n",
      "Xc_1 temporal-serie shape  (9501, 500)\n",
      "Xc_2 temporal-serie shape  (9501, 500)\n",
      "Xc_3 temporal-serie shape  (9501, 500)\n",
      "Xc_1 labeled shape  (9501, 501)\n",
      "Xc_2 labeled shape  (9501, 501)\n",
      "Xc_3 labeled shape  (9501, 501)\n",
      "Saved to file\n",
      "data_154743_o.data\n",
      "Saved to file\n",
      "data_154743_cmf.data\n",
      "Saved to file\n",
      "data_154743_ctf.data\n",
      "\n",
      "Xc_1 cleaned shape  (10000,)\n",
      "Xc_2 cleaned shape  (10000,)\n",
      "Xc_3 cleaned shape  (10000,)\n",
      "Xc_1 temporal-serie shape  (9501, 500)\n",
      "Xc_2 temporal-serie shape  (9501, 500)\n",
      "Xc_3 temporal-serie shape  (9501, 500)\n",
      "Xc_1 labeled shape  (9501, 501)\n",
      "Xc_2 labeled shape  (9501, 501)\n",
      "Xc_3 labeled shape  (9501, 501)\n",
      "Saved to file\n",
      "data_155334_o.data\n",
      "Saved to file\n",
      "data_155334_cmf.data\n",
      "Saved to file\n",
      "data_155334_ctf.data\n",
      "\n",
      "Xc_1 cleaned shape  (10000,)\n",
      "Xc_2 cleaned shape  (10000,)\n",
      "Xc_3 cleaned shape  (10000,)\n",
      "Xc_1 temporal-serie shape  (9501, 500)\n",
      "Xc_2 temporal-serie shape  (9501, 500)\n",
      "Xc_3 temporal-serie shape  (9501, 500)\n",
      "Xc_1 labeled shape  (9501, 501)\n",
      "Xc_2 labeled shape  (9501, 501)\n",
      "Xc_3 labeled shape  (9501, 501)\n",
      "Saved to file\n",
      "data_155743_o.data\n",
      "Saved to file\n",
      "data_155743_cmf.data\n",
      "Saved to file\n",
      "data_155743_ctf.data\n",
      "\n",
      "Xc_1 cleaned shape  (10000,)\n",
      "Xc_2 cleaned shape  (10000,)\n",
      "Xc_3 cleaned shape  (10000,)\n",
      "Xc_1 temporal-serie shape  (9501, 500)\n",
      "Xc_2 temporal-serie shape  (9501, 500)\n",
      "Xc_3 temporal-serie shape  (9501, 500)\n",
      "Xc_1 labeled shape  (9501, 501)\n",
      "Xc_2 labeled shape  (9501, 501)\n",
      "Xc_3 labeled shape  (9501, 501)\n",
      "Saved to file\n",
      "data_161034_o.data\n",
      "Saved to file\n",
      "data_161034_cmf.data\n",
      "Saved to file\n",
      "data_161034_ctf.data\n",
      "\n",
      "Xc_1 cleaned shape  (10000,)\n",
      "Xc_2 cleaned shape  (10000,)\n",
      "Xc_3 cleaned shape  (10000,)\n",
      "Xc_1 temporal-serie shape  (9501, 500)\n",
      "Xc_2 temporal-serie shape  (9501, 500)\n",
      "Xc_3 temporal-serie shape  (9501, 500)\n",
      "Xc_1 labeled shape  (9501, 501)\n",
      "Xc_2 labeled shape  (9501, 501)\n",
      "Xc_3 labeled shape  (9501, 501)\n",
      "Saved to file\n",
      "data_161420_o.data\n",
      "Saved to file\n",
      "data_161420_cmf.data\n",
      "Saved to file\n",
      "data_161420_ctf.data\n"
     ]
    }
   ],
   "source": [
    "files = ['data_154743','data_155334','data_155743','data_161034', 'data_161420']\n",
    "DATA = []\n",
    "for i in files:\n",
    "    proccess_data(i,DATA)"
   ]
  },
  {
   "cell_type": "code",
   "execution_count": 5,
   "metadata": {
    "collapsed": false
   },
   "outputs": [
    {
     "data": {
      "text/plain": [
       "(29501, 499)"
      ]
     },
     "execution_count": 5,
     "metadata": {},
     "output_type": "execute_result"
    }
   ],
   "source": [
    "#Validation set\n",
    "\n",
    "Xvalid = load_file(\"preproc_filtered_data/rob_data_170159validation.data\")\n",
    "X_valid = Xvalid[:,:499]\n",
    "X_valid.shape"
   ]
  },
  {
   "cell_type": "code",
   "execution_count": 6,
   "metadata": {
    "collapsed": true
   },
   "outputs": [],
   "source": [
    "Xc = load_file(\"preproc_filtered_data/Xc_set.data\")\n"
   ]
  },
  {
   "cell_type": "code",
   "execution_count": 8,
   "metadata": {
    "collapsed": false,
    "scrolled": true
   },
   "outputs": [
    {
     "ename": "NameError",
     "evalue": "name 'DATA' is not defined",
     "output_type": "error",
     "traceback": [
      "\u001b[0;31m---------------------------------------------------------------------------\u001b[0m",
      "\u001b[0;31mNameError\u001b[0m                                 Traceback (most recent call last)",
      "\u001b[0;32m<ipython-input-8-a52b10d37ae9>\u001b[0m in \u001b[0;36m<module>\u001b[0;34m()\u001b[0m\n\u001b[1;32m      1\u001b[0m \u001b[0;31m#Training and test set\u001b[0m\u001b[0;34m\u001b[0m\u001b[0;34m\u001b[0m\u001b[0m\n\u001b[0;32m----> 2\u001b[0;31m \u001b[0mXc\u001b[0m \u001b[0;34m=\u001b[0m \u001b[0mload_file\u001b[0m\u001b[0;34m(\u001b[0m\u001b[0;34m\"preproc_filtered_data/\"\u001b[0m\u001b[0;34m+\u001b[0m\u001b[0mDATA\u001b[0m\u001b[0;34m[\u001b[0m\u001b[0;36m0\u001b[0m\u001b[0;34m]\u001b[0m\u001b[0;34m)\u001b[0m\u001b[0;34m\u001b[0m\u001b[0m\n\u001b[0m\u001b[1;32m      3\u001b[0m \u001b[0;32mfor\u001b[0m \u001b[0mi\u001b[0m \u001b[0;32min\u001b[0m \u001b[0mDATA\u001b[0m\u001b[0;34m[\u001b[0m\u001b[0;36m1\u001b[0m\u001b[0;34m:\u001b[0m\u001b[0;34m]\u001b[0m\u001b[0;34m:\u001b[0m\u001b[0;34m\u001b[0m\u001b[0m\n\u001b[1;32m      4\u001b[0m     \u001b[0mXc\u001b[0m \u001b[0;34m=\u001b[0m \u001b[0mnp\u001b[0m\u001b[0;34m.\u001b[0m\u001b[0mvstack\u001b[0m\u001b[0;34m(\u001b[0m\u001b[0;34m(\u001b[0m\u001b[0mXc\u001b[0m\u001b[0;34m,\u001b[0m\u001b[0mload_file\u001b[0m\u001b[0;34m(\u001b[0m\u001b[0;34m\"preproc_filtered_data/\"\u001b[0m\u001b[0;34m+\u001b[0m\u001b[0mi\u001b[0m\u001b[0;34m)\u001b[0m\u001b[0;34m)\u001b[0m\u001b[0;34m)\u001b[0m\u001b[0;34m\u001b[0m\u001b[0m\n",
      "\u001b[0;31mNameError\u001b[0m: name 'DATA' is not defined"
     ]
    }
   ],
   "source": [
    "#Training and test set\n",
    "Xc = load_file(\"preproc_filtered_data/\"+DATA[0])\n",
    "for i in DATA[1:]:\n",
    "    Xc = np.vstack((Xc,load_file(\"preproc_filtered_data/\"+i))) "
   ]
  },
  {
   "cell_type": "code",
   "execution_count": 9,
   "metadata": {
    "collapsed": false
   },
   "outputs": [
    {
     "data": {
      "text/plain": [
       "((142515, 499), (142515,))"
      ]
     },
     "execution_count": 9,
     "metadata": {},
     "output_type": "execute_result"
    }
   ],
   "source": [
    "X = Xc[:,0:(Xc.shape[1]-2)]\n",
    "\n",
    "yz = Xc[:,[(Xc.shape[1]-1)]]\n",
    "y = np.array([])\n",
    "for i in range(len(yz)):\n",
    "    y = np.hstack((y,yz[i]))\n",
    "\n",
    "X.shape, y.shape"
   ]
  },
  {
   "cell_type": "code",
   "execution_count": 10,
   "metadata": {
    "collapsed": true
   },
   "outputs": [],
   "source": [
    "from sklearn import model_selection\n",
    "kfold = model_selection.ShuffleSplit(n_splits=2, test_size=.33, random_state=10)"
   ]
  },
  {
   "cell_type": "code",
   "execution_count": 11,
   "metadata": {
    "collapsed": false
   },
   "outputs": [
    {
     "name": "stdout",
     "output_type": "stream",
     "text": [
      "CPU times: user 8min 16s, sys: 444 ms, total: 8min 16s\n",
      "Wall time: 8min 17s\n"
     ]
    }
   ],
   "source": [
    "from sklearn.ensemble import RandomForestClassifier\n",
    "rfc = RandomForestClassifier(n_estimators=100)\n",
    "\n",
    "%time results = model_selection.cross_val_score(rfc, X, y, cv=kfold)"
   ]
  },
  {
   "cell_type": "code",
   "execution_count": 12,
   "metadata": {
    "collapsed": false
   },
   "outputs": [],
   "source": [
    "%%bash\n",
    "paplay /usr/share/sounds/freedesktop/stereo/complete.oga"
   ]
  },
  {
   "cell_type": "code",
   "execution_count": 13,
   "metadata": {
    "collapsed": false
   },
   "outputs": [
    {
     "name": "stdout",
     "output_type": "stream",
     "text": [
      "Accuracy: 99.993% (0.007%)\n"
     ]
    }
   ],
   "source": [
    "print(\"Accuracy: %.3f%% (%.3f%%)\") % (results.mean()*100.0, results.std()*100.0)"
   ]
  },
  {
   "cell_type": "code",
   "execution_count": 22,
   "metadata": {
    "collapsed": false
   },
   "outputs": [],
   "source": [
    "x = (\"Accuracy: %.3f%% (%.3f%%)\") % (results.mean()*100.0, results.std()*100.0)"
   ]
  },
  {
   "cell_type": "code",
   "execution_count": 37,
   "metadata": {
    "collapsed": false
   },
   "outputs": [
    {
     "data": {
      "text/plain": [
       "'Accuracy: 99.993% (0.007%)'"
      ]
     },
     "execution_count": 37,
     "metadata": {},
     "output_type": "execute_result"
    }
   ],
   "source": [
    "str(x)"
   ]
  },
  {
   "cell_type": "code",
   "execution_count": 70,
   "metadata": {
    "collapsed": true
   },
   "outputs": [],
   "source": [
    "import smtplib\n",
    "from email.MIMEMultipart import MIMEMultipart\n",
    "from email.MIMEText import MIMEText\n",
    "\n",
    "def send_email(text, toaddr='jorgeluizjk@gmail.com'):\n",
    "    fromaddr = 'ohperaml@gmail.com'\n",
    "    passw = 'ohperaml11'\n",
    "    msg = MIMEMultipart()\n",
    "    msg['From'] = fromaddr\n",
    "    msg['To'] = toaddr\n",
    "    msg['Subject'] = \"Jupyter - Processing completed\"\n",
    "\n",
    "    body = 'Processing completed:\\n' + text\n",
    "    msg.attach(MIMEText(body, 'plain'))\n",
    "\n",
    "    server = smtplib.SMTP('smtp.gmail.com', 587)\n",
    "    server.starttls()\n",
    "    server.login(fromaddr, passw)\n",
    "    text = msg.as_string()\n",
    "    server.sendmail(fromaddr, toaddr, text)\n",
    "    server.quit()"
   ]
  },
  {
   "cell_type": "code",
   "execution_count": 71,
   "metadata": {
    "collapsed": false
   },
   "outputs": [],
   "source": [
    "\n",
    "send_email(x,'thaislealss@gmail.com')"
   ]
  },
  {
   "cell_type": "code",
   "execution_count": null,
   "metadata": {
    "collapsed": true
   },
   "outputs": [],
   "source": []
  }
 ],
 "metadata": {
  "kernelspec": {
   "display_name": "Python 2",
   "language": "python",
   "name": "python2"
  },
  "language_info": {
   "codemirror_mode": {
    "name": "ipython",
    "version": 2
   },
   "file_extension": ".py",
   "mimetype": "text/x-python",
   "name": "python",
   "nbconvert_exporter": "python",
   "pygments_lexer": "ipython2",
   "version": "2.7.13"
  }
 },
 "nbformat": 4,
 "nbformat_minor": 2
}
