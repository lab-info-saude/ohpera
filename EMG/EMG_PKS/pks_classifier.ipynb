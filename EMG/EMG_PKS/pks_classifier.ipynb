{
 "cells": [
  {
   "cell_type": "markdown",
   "metadata": {},
   "source": [
    "# Bibliotecas"
   ]
  },
  {
   "cell_type": "code",
   "execution_count": 1,
   "metadata": {
    "collapsed": true
   },
   "outputs": [],
   "source": [
    "import os\n",
    "import pandas as pd\n",
    "import numpy as np\n",
    "import scipy as sp\n",
    "from scipy import signal\n",
    "import ml_time_series as mls\n",
    "import timeit\n",
    "from datetime import datetime\n",
    "from sklearn.externals import joblib\n",
    "import matplotlib.pyplot as plt\n",
    "from sklearn.decomposition import PCA\n",
    "from sklearn import preprocessing\n",
    "from sklearn import utils\n",
    "\n",
    "%matplotlib notebook"
   ]
  },
  {
   "cell_type": "code",
   "execution_count": 2,
   "metadata": {},
   "outputs": [],
   "source": [
    "def Stacker(files_,t):\n",
    "    \n",
    "    #Lê dados do arquivo e remove janela\n",
    "    Xc = np.load('DB_INTENC/preproc/'+files_[0]+'.npy')\n",
    "    Xc = Xc[:-49]\n",
    "    \n",
    "    #Aplica Hstack nos dados\n",
    "    for j in range(1,len(files_)):\n",
    "        Xci = np.load('DB_INTENC/preproc/'+files_[j]+'.npy')\n",
    "        Xc = np.hstack((Xc.reshape(Xc.shape),Xci.reshape(Xci.shape)))\n",
    "        \n",
    "    #Labeling the PKS level    \n",
    "    #C = (np.ones(len(Xc))*l).reshape((len(Xc),1))\n",
    "    #Xc = np.hstack((Xc.reshape(Xc.shape),C.reshape((len(Xc),1))))    \n",
    "    \n",
    "    # Salving in file on the folder <DB_INTENC/preproc/labeled>\n",
    "    np.save('./DB_INTENC/preproc/labeled/'+t+'_hs', Xc, allow_pickle=False)\n",
    "    DATA_hs.append(t+'_hs.npy')"
   ]
  },
  {
   "cell_type": "code",
   "execution_count": 15,
   "metadata": {},
   "outputs": [],
   "source": [
    "files_ = [['p1_std', 'p1_rms', 'p1_filt'],['p2_std', 'p2_rms', 'p2_filt'],['p3_std', 'p3_rms', 'p3_filt'],\n",
    "          ['p5_std', 'p5_rms', 'p5_filt'],['c1_std', 'c1_rms', 'c1_filt'],['c3_std', 'c3_rms', 'c3_filt'],\n",
    "          ['p4_std', 'p4_rms', 'p4_filt']]\n",
    "DATA_hs = []"
   ]
  },
  {
   "cell_type": "code",
   "execution_count": 4,
   "metadata": {
    "collapsed": true
   },
   "outputs": [],
   "source": [
    "files_ = [['p4_std', 'p4_rms', 'p4_filt']]\n",
    "DATA_hs = []"
   ]
  },
  {
   "cell_type": "code",
   "execution_count": 16,
   "metadata": {
    "collapsed": true
   },
   "outputs": [],
   "source": [
    "#Grupo de validação\n",
    "Stacker(files_[0],files_[0][0][:2])"
   ]
  },
  {
   "cell_type": "code",
   "execution_count": 17,
   "metadata": {},
   "outputs": [],
   "source": [
    "#Grupo total\n",
    "for i in range(len(files_)):\n",
    "    Stacker(files_[i],files_[i][0][:2])"
   ]
  },
  {
   "cell_type": "code",
   "execution_count": 18,
   "metadata": {},
   "outputs": [
    {
     "data": {
      "text/plain": [
       "['p1_hs.npy',\n",
       " 'p1_hs.npy',\n",
       " 'p2_hs.npy',\n",
       " 'p3_hs.npy',\n",
       " 'p5_hs.npy',\n",
       " 'c1_hs.npy',\n",
       " 'c3_hs.npy',\n",
       " 'p4_hs.npy']"
      ]
     },
     "execution_count": 18,
     "metadata": {},
     "output_type": "execute_result"
    }
   ],
   "source": [
    "DATA_hs"
   ]
  },
  {
   "cell_type": "code",
   "execution_count": 19,
   "metadata": {},
   "outputs": [],
   "source": [
    "Xc = np.load('DB_INTENC/preproc/labeled/p1_hs.npy')"
   ]
  },
  {
   "cell_type": "code",
   "execution_count": 20,
   "metadata": {
    "scrolled": false
   },
   "outputs": [
    {
     "data": {
      "text/html": [
       "<div>\n",
       "<style>\n",
       "    .dataframe thead tr:only-child th {\n",
       "        text-align: right;\n",
       "    }\n",
       "\n",
       "    .dataframe thead th {\n",
       "        text-align: left;\n",
       "    }\n",
       "\n",
       "    .dataframe tbody tr th {\n",
       "        vertical-align: top;\n",
       "    }\n",
       "</style>\n",
       "<table border=\"1\" class=\"dataframe\">\n",
       "  <thead>\n",
       "    <tr style=\"text-align: right;\">\n",
       "      <th></th>\n",
       "      <th>0</th>\n",
       "      <th>1</th>\n",
       "      <th>2</th>\n",
       "      <th>3</th>\n",
       "      <th>4</th>\n",
       "      <th>5</th>\n",
       "      <th>6</th>\n",
       "      <th>7</th>\n",
       "      <th>8</th>\n",
       "      <th>9</th>\n",
       "      <th>10</th>\n",
       "      <th>11</th>\n",
       "    </tr>\n",
       "  </thead>\n",
       "  <tbody>\n",
       "    <tr>\n",
       "      <th>0</th>\n",
       "      <td>-0.079685</td>\n",
       "      <td>0.009403</td>\n",
       "      <td>-0.013066</td>\n",
       "      <td>-0.004118</td>\n",
       "      <td>44.537192</td>\n",
       "      <td>7.559818</td>\n",
       "      <td>18.959109</td>\n",
       "      <td>25.976221</td>\n",
       "      <td>0.045622</td>\n",
       "      <td>-0.071708</td>\n",
       "      <td>0.928207</td>\n",
       "      <td>0.316825</td>\n",
       "    </tr>\n",
       "    <tr>\n",
       "      <th>1</th>\n",
       "      <td>-0.021022</td>\n",
       "      <td>0.003217</td>\n",
       "      <td>-0.013066</td>\n",
       "      <td>0.021096</td>\n",
       "      <td>44.625654</td>\n",
       "      <td>7.583042</td>\n",
       "      <td>19.512969</td>\n",
       "      <td>25.987871</td>\n",
       "      <td>-0.653900</td>\n",
       "      <td>-0.028405</td>\n",
       "      <td>1.233691</td>\n",
       "      <td>0.323795</td>\n",
       "    </tr>\n",
       "    <tr>\n",
       "      <th>2</th>\n",
       "      <td>0.078706</td>\n",
       "      <td>0.023837</td>\n",
       "      <td>-0.013066</td>\n",
       "      <td>0.042108</td>\n",
       "      <td>44.652662</td>\n",
       "      <td>7.607774</td>\n",
       "      <td>20.306241</td>\n",
       "      <td>26.098226</td>\n",
       "      <td>-1.344409</td>\n",
       "      <td>-0.094986</td>\n",
       "      <td>1.645009</td>\n",
       "      <td>0.363447</td>\n",
       "    </tr>\n",
       "    <tr>\n",
       "      <th>3</th>\n",
       "      <td>0.078706</td>\n",
       "      <td>0.001155</td>\n",
       "      <td>-0.001691</td>\n",
       "      <td>0.050512</td>\n",
       "      <td>44.692366</td>\n",
       "      <td>7.280775</td>\n",
       "      <td>21.180114</td>\n",
       "      <td>26.114275</td>\n",
       "      <td>-1.876668</td>\n",
       "      <td>-0.237642</td>\n",
       "      <td>2.238290</td>\n",
       "      <td>0.454788</td>\n",
       "    </tr>\n",
       "    <tr>\n",
       "      <th>4</th>\n",
       "      <td>0.131503</td>\n",
       "      <td>0.007341</td>\n",
       "      <td>-0.009275</td>\n",
       "      <td>0.012691</td>\n",
       "      <td>45.297386</td>\n",
       "      <td>7.296239</td>\n",
       "      <td>22.324117</td>\n",
       "      <td>26.340057</td>\n",
       "      <td>-2.066876</td>\n",
       "      <td>-0.336827</td>\n",
       "      <td>3.042093</td>\n",
       "      <td>0.596534</td>\n",
       "    </tr>\n",
       "  </tbody>\n",
       "</table>\n",
       "</div>"
      ],
      "text/plain": [
       "         0         1         2         3          4         5          6   \\\n",
       "0 -0.079685  0.009403 -0.013066 -0.004118  44.537192  7.559818  18.959109   \n",
       "1 -0.021022  0.003217 -0.013066  0.021096  44.625654  7.583042  19.512969   \n",
       "2  0.078706  0.023837 -0.013066  0.042108  44.652662  7.607774  20.306241   \n",
       "3  0.078706  0.001155 -0.001691  0.050512  44.692366  7.280775  21.180114   \n",
       "4  0.131503  0.007341 -0.009275  0.012691  45.297386  7.296239  22.324117   \n",
       "\n",
       "          7         8         9         10        11  \n",
       "0  25.976221  0.045622 -0.071708  0.928207  0.316825  \n",
       "1  25.987871 -0.653900 -0.028405  1.233691  0.323795  \n",
       "2  26.098226 -1.344409 -0.094986  1.645009  0.363447  \n",
       "3  26.114275 -1.876668 -0.237642  2.238290  0.454788  \n",
       "4  26.340057 -2.066876 -0.336827  3.042093  0.596534  "
      ]
     },
     "execution_count": 20,
     "metadata": {},
     "output_type": "execute_result"
    }
   ],
   "source": [
    "dfn = pd.DataFrame(data=Xc)\n",
    "dfn.head()"
   ]
  },
  {
   "cell_type": "code",
   "execution_count": 21,
   "metadata": {},
   "outputs": [
    {
     "data": {
      "text/plain": [
       "(53951, 12)"
      ]
     },
     "execution_count": 21,
     "metadata": {},
     "output_type": "execute_result"
    }
   ],
   "source": [
    "Xc.shape"
   ]
  },
  {
   "cell_type": "code",
   "execution_count": 22,
   "metadata": {},
   "outputs": [],
   "source": [
    "def proccess_data(x,DATA,NUM_SAMPLES,LABEL):\n",
    "    \n",
    "    Xc = np.load(\"DB_INTENC/preproc/labeled/\"+x)\n",
    "    print '\\nXc initial shape ', Xc.shape\n",
    "    \n",
    "    #Principal component analysis\n",
    "    pca = PCA(n_components=3)\n",
    "    pca.fit(Xc)\n",
    "    Xc = pca.transform(Xc)\n",
    "    print pca.explained_variance_ratio_\n",
    "    \n",
    "    print 'Xc PCA shape ', Xc.shape\n",
    "    \n",
    "    #Create temporal serie\n",
    "    #Xc = mls.generate_envelope(Xc, NUM_SAMPLES)\n",
    "    #print 'Xc temporal-serie shape ', Xc.shape\n",
    "    \n",
    "    #Labeling the PKS level    \n",
    "    C = (np.ones(len(Xc))*LABEL).reshape((len(Xc),1))\n",
    "    Xc = np.hstack((Xc.reshape(Xc.shape),C.reshape((len(Xc),1)))) \n",
    "    print 'Xc labeled shape ', Xc.shape\n",
    "    \n",
    "    # Salving in file on the folder <DB_INTENC/preproc/labeled>\n",
    "    np.save('./DB_INTENC/preproc/labeled/'+x[:2]+'_tsl', Xc, allow_pickle=False)\n",
    "    print '\\n'+x[:2]+'_tsl'\n",
    "    \n",
    "    DATA.append(x[:2]+'_tsl.npy')"
   ]
  },
  {
   "cell_type": "code",
   "execution_count": 23,
   "metadata": {
    "scrolled": true
   },
   "outputs": [
    {
     "data": {
      "text/plain": [
       "['p1_hs.npy',\n",
       " 'p1_hs.npy',\n",
       " 'p2_hs.npy',\n",
       " 'p3_hs.npy',\n",
       " 'p5_hs.npy',\n",
       " 'c1_hs.npy',\n",
       " 'c3_hs.npy',\n",
       " 'p4_hs.npy']"
      ]
     },
     "execution_count": 23,
     "metadata": {},
     "output_type": "execute_result"
    }
   ],
   "source": [
    "DATA_hs"
   ]
  },
  {
   "cell_type": "markdown",
   "metadata": {},
   "source": [
    "---"
   ]
  },
  {
   "cell_type": "code",
   "execution_count": 54,
   "metadata": {},
   "outputs": [
    {
     "name": "stdout",
     "output_type": "stream",
     "text": [
      "\n",
      "Xc initial shape  (29951, 12)\n",
      "[ 0.82172641  0.12642296  0.02960795]\n",
      "Xc PCA shape  (29951, 3)\n",
      "Xc temporal-serie shape  (29452, 1500)\n",
      "Xc labeled shape  (29452, 1501)\n",
      "\n",
      "p4_hs.npy_tsl\n",
      "Tempo total para o envelopamento: 27.59 min\n"
     ]
    }
   ],
   "source": [
    "#Validação\n",
    "start = timeit.default_timer()\n",
    "\n",
    "NUM_SAMPLES = 500\n",
    "l = [1]\n",
    "DATA = []\n",
    "\n",
    "for x, y in zip(DATA_hs, l):\n",
    "    proccess_data(x,DATA,NUM_SAMPLES,y)\n",
    "    \n",
    "stop = timeit.default_timer()\n",
    "ti = stop - start \n",
    "print ('Tempo total para o envelopamento: %.2f min' % (ti/60))"
   ]
  },
  {
   "cell_type": "code",
   "execution_count": 55,
   "metadata": {},
   "outputs": [
    {
     "data": {
      "text/plain": [
       "['p4_hs.npy_tsl.npy']"
      ]
     },
     "execution_count": 55,
     "metadata": {},
     "output_type": "execute_result"
    }
   ],
   "source": [
    "DATA"
   ]
  },
  {
   "cell_type": "code",
   "execution_count": 56,
   "metadata": {},
   "outputs": [
    {
     "data": {
      "text/html": [
       "<div>\n",
       "<style>\n",
       "    .dataframe thead tr:only-child th {\n",
       "        text-align: right;\n",
       "    }\n",
       "\n",
       "    .dataframe thead th {\n",
       "        text-align: left;\n",
       "    }\n",
       "\n",
       "    .dataframe tbody tr th {\n",
       "        vertical-align: top;\n",
       "    }\n",
       "</style>\n",
       "<table border=\"1\" class=\"dataframe\">\n",
       "  <thead>\n",
       "    <tr style=\"text-align: right;\">\n",
       "      <th></th>\n",
       "      <th>0</th>\n",
       "      <th>1</th>\n",
       "      <th>2</th>\n",
       "      <th>3</th>\n",
       "      <th>4</th>\n",
       "      <th>5</th>\n",
       "      <th>6</th>\n",
       "      <th>7</th>\n",
       "      <th>8</th>\n",
       "      <th>9</th>\n",
       "      <th>...</th>\n",
       "      <th>1491</th>\n",
       "      <th>1492</th>\n",
       "      <th>1493</th>\n",
       "      <th>1494</th>\n",
       "      <th>1495</th>\n",
       "      <th>1496</th>\n",
       "      <th>1497</th>\n",
       "      <th>1498</th>\n",
       "      <th>1499</th>\n",
       "      <th>1500</th>\n",
       "    </tr>\n",
       "  </thead>\n",
       "  <tbody>\n",
       "    <tr>\n",
       "      <th>0</th>\n",
       "      <td>-24.899834</td>\n",
       "      <td>-12.359730</td>\n",
       "      <td>3.314693</td>\n",
       "      <td>-25.308322</td>\n",
       "      <td>-12.263494</td>\n",
       "      <td>3.355825</td>\n",
       "      <td>-25.753507</td>\n",
       "      <td>-12.189007</td>\n",
       "      <td>3.461927</td>\n",
       "      <td>-26.464323</td>\n",
       "      <td>...</td>\n",
       "      <td>-24.605918</td>\n",
       "      <td>-8.172779</td>\n",
       "      <td>8.611135</td>\n",
       "      <td>-24.858806</td>\n",
       "      <td>-8.181450</td>\n",
       "      <td>8.651859</td>\n",
       "      <td>-25.145841</td>\n",
       "      <td>-8.138746</td>\n",
       "      <td>8.924400</td>\n",
       "      <td>1.0</td>\n",
       "    </tr>\n",
       "    <tr>\n",
       "      <th>1</th>\n",
       "      <td>-25.308322</td>\n",
       "      <td>-12.263494</td>\n",
       "      <td>3.355825</td>\n",
       "      <td>-25.753507</td>\n",
       "      <td>-12.189007</td>\n",
       "      <td>3.461927</td>\n",
       "      <td>-26.464323</td>\n",
       "      <td>-12.072625</td>\n",
       "      <td>3.473236</td>\n",
       "      <td>-26.833126</td>\n",
       "      <td>...</td>\n",
       "      <td>-24.858806</td>\n",
       "      <td>-8.181450</td>\n",
       "      <td>8.651859</td>\n",
       "      <td>-25.145841</td>\n",
       "      <td>-8.138746</td>\n",
       "      <td>8.924400</td>\n",
       "      <td>-25.431671</td>\n",
       "      <td>-8.098234</td>\n",
       "      <td>9.147232</td>\n",
       "      <td>1.0</td>\n",
       "    </tr>\n",
       "    <tr>\n",
       "      <th>2</th>\n",
       "      <td>-25.753507</td>\n",
       "      <td>-12.189007</td>\n",
       "      <td>3.461927</td>\n",
       "      <td>-26.464323</td>\n",
       "      <td>-12.072625</td>\n",
       "      <td>3.473236</td>\n",
       "      <td>-26.833126</td>\n",
       "      <td>-11.989849</td>\n",
       "      <td>3.397637</td>\n",
       "      <td>-27.248365</td>\n",
       "      <td>...</td>\n",
       "      <td>-25.145841</td>\n",
       "      <td>-8.138746</td>\n",
       "      <td>8.924400</td>\n",
       "      <td>-25.431671</td>\n",
       "      <td>-8.098234</td>\n",
       "      <td>9.147232</td>\n",
       "      <td>-25.686794</td>\n",
       "      <td>-7.915669</td>\n",
       "      <td>9.248339</td>\n",
       "      <td>1.0</td>\n",
       "    </tr>\n",
       "    <tr>\n",
       "      <th>3</th>\n",
       "      <td>-26.464323</td>\n",
       "      <td>-12.072625</td>\n",
       "      <td>3.473236</td>\n",
       "      <td>-26.833126</td>\n",
       "      <td>-11.989849</td>\n",
       "      <td>3.397637</td>\n",
       "      <td>-27.248365</td>\n",
       "      <td>-11.907640</td>\n",
       "      <td>3.321180</td>\n",
       "      <td>-27.878416</td>\n",
       "      <td>...</td>\n",
       "      <td>-25.431671</td>\n",
       "      <td>-8.098234</td>\n",
       "      <td>9.147232</td>\n",
       "      <td>-25.686794</td>\n",
       "      <td>-7.915669</td>\n",
       "      <td>9.248339</td>\n",
       "      <td>-25.836654</td>\n",
       "      <td>-7.596296</td>\n",
       "      <td>9.085521</td>\n",
       "      <td>1.0</td>\n",
       "    </tr>\n",
       "    <tr>\n",
       "      <th>4</th>\n",
       "      <td>-26.833126</td>\n",
       "      <td>-11.989849</td>\n",
       "      <td>3.397637</td>\n",
       "      <td>-27.248365</td>\n",
       "      <td>-11.907640</td>\n",
       "      <td>3.321180</td>\n",
       "      <td>-27.878416</td>\n",
       "      <td>-11.829128</td>\n",
       "      <td>3.291034</td>\n",
       "      <td>-28.623097</td>\n",
       "      <td>...</td>\n",
       "      <td>-25.686794</td>\n",
       "      <td>-7.915669</td>\n",
       "      <td>9.248339</td>\n",
       "      <td>-25.836654</td>\n",
       "      <td>-7.596296</td>\n",
       "      <td>9.085521</td>\n",
       "      <td>-25.639430</td>\n",
       "      <td>-7.276366</td>\n",
       "      <td>8.819659</td>\n",
       "      <td>1.0</td>\n",
       "    </tr>\n",
       "  </tbody>\n",
       "</table>\n",
       "<p>5 rows × 1501 columns</p>\n",
       "</div>"
      ],
      "text/plain": [
       "        0          1         2          3          4         5          6     \\\n",
       "0 -24.899834 -12.359730  3.314693 -25.308322 -12.263494  3.355825 -25.753507   \n",
       "1 -25.308322 -12.263494  3.355825 -25.753507 -12.189007  3.461927 -26.464323   \n",
       "2 -25.753507 -12.189007  3.461927 -26.464323 -12.072625  3.473236 -26.833126   \n",
       "3 -26.464323 -12.072625  3.473236 -26.833126 -11.989849  3.397637 -27.248365   \n",
       "4 -26.833126 -11.989849  3.397637 -27.248365 -11.907640  3.321180 -27.878416   \n",
       "\n",
       "        7         8          9     ...        1491      1492      1493  \\\n",
       "0 -12.189007  3.461927 -26.464323  ...  -24.605918 -8.172779  8.611135   \n",
       "1 -12.072625  3.473236 -26.833126  ...  -24.858806 -8.181450  8.651859   \n",
       "2 -11.989849  3.397637 -27.248365  ...  -25.145841 -8.138746  8.924400   \n",
       "3 -11.907640  3.321180 -27.878416  ...  -25.431671 -8.098234  9.147232   \n",
       "4 -11.829128  3.291034 -28.623097  ...  -25.686794 -7.915669  9.248339   \n",
       "\n",
       "        1494      1495      1496       1497      1498      1499  1500  \n",
       "0 -24.858806 -8.181450  8.651859 -25.145841 -8.138746  8.924400   1.0  \n",
       "1 -25.145841 -8.138746  8.924400 -25.431671 -8.098234  9.147232   1.0  \n",
       "2 -25.431671 -8.098234  9.147232 -25.686794 -7.915669  9.248339   1.0  \n",
       "3 -25.686794 -7.915669  9.248339 -25.836654 -7.596296  9.085521   1.0  \n",
       "4 -25.836654 -7.596296  9.085521 -25.639430 -7.276366  8.819659   1.0  \n",
       "\n",
       "[5 rows x 1501 columns]"
      ]
     },
     "execution_count": 56,
     "metadata": {},
     "output_type": "execute_result"
    }
   ],
   "source": [
    "Xc = np.load('DB_INTENC/preproc/labeled/p4_hs.npy_tsl.npy')\n",
    "dfn = pd.DataFrame(data=Xc)\n",
    "dfn.head()"
   ]
  },
  {
   "cell_type": "markdown",
   "metadata": {},
   "source": [
    "---"
   ]
  },
  {
   "cell_type": "code",
   "execution_count": 24,
   "metadata": {},
   "outputs": [
    {
     "name": "stdout",
     "output_type": "stream",
     "text": [
      "p1 2\n",
      "p1 15\n",
      "p2 4\n",
      "p3 1\n",
      "p5 0\n",
      "c1 0\n",
      "c3 15\n"
     ]
    }
   ],
   "source": [
    "l = [2, 15, 4, 1, 0, 0, 15]\n",
    "for x, y in zip(DATA_hs, l):\n",
    "    print x[:2],y"
   ]
  },
  {
   "cell_type": "code",
   "execution_count": 25,
   "metadata": {
    "scrolled": false
   },
   "outputs": [
    {
     "name": "stdout",
     "output_type": "stream",
     "text": [
      "\n",
      "Xc initial shape  (53951, 12)\n",
      "[ 0.61593794  0.29817543  0.02675621]\n",
      "Xc PCA shape  (53951, 3)\n",
      "Xc labeled shape  (53951, 4)\n",
      "\n",
      "p1_tsl\n",
      "\n",
      "Xc initial shape  (53951, 12)\n",
      "[ 0.61593794  0.29817543  0.02675621]\n",
      "Xc PCA shape  (53951, 3)\n",
      "Xc labeled shape  (53951, 4)\n",
      "\n",
      "p1_tsl\n",
      "\n",
      "Xc initial shape  (25951, 12)\n",
      "[ 0.74124299  0.17419237  0.0367697 ]\n",
      "Xc PCA shape  (25951, 3)\n",
      "Xc labeled shape  (25951, 4)\n",
      "\n",
      "p2_tsl\n",
      "\n",
      "Xc initial shape  (61951, 12)\n",
      "[ 0.71992864  0.18989168  0.06194009]\n",
      "Xc PCA shape  (61951, 3)\n",
      "Xc labeled shape  (61951, 4)\n",
      "\n",
      "p3_tsl\n",
      "\n",
      "Xc initial shape  (23951, 12)\n",
      "[ 0.64202733  0.25305677  0.08240487]\n",
      "Xc PCA shape  (23951, 3)\n",
      "Xc labeled shape  (23951, 4)\n",
      "\n",
      "p5_tsl\n",
      "\n",
      "Xc initial shape  (17951, 12)\n",
      "[ 0.64981489  0.26427588  0.06478059]\n",
      "Xc PCA shape  (17951, 3)\n",
      "Xc labeled shape  (17951, 4)\n",
      "\n",
      "c1_tsl\n",
      "\n",
      "Xc initial shape  (19951, 12)\n",
      "[ 0.75157388  0.12123081  0.05738713]\n",
      "Xc PCA shape  (19951, 3)\n",
      "Xc labeled shape  (19951, 4)\n",
      "\n",
      "c3_tsl\n",
      "Tempo total para o envelopamento: 0.01 min\n"
     ]
    }
   ],
   "source": [
    "#Grupo total\n",
    "start = timeit.default_timer()\n",
    "\n",
    "NUM_SAMPLES = 500\n",
    "l = [2, 15, 4, 1, 0, 0, 15]\n",
    "DATA = []\n",
    "\n",
    "for x, y in zip(DATA_hs, l):\n",
    "    proccess_data(x,DATA,NUM_SAMPLES,y)\n",
    "    \n",
    "stop = timeit.default_timer()\n",
    "ti = stop - start \n",
    "print ('Tempo total para o envelopamento: %.2f min' % (ti/60))"
   ]
  },
  {
   "cell_type": "code",
   "execution_count": 13,
   "metadata": {},
   "outputs": [],
   "source": [
    "#Não foram incluidas as amostras p4 e c3, serão utilizadas para validação!"
   ]
  },
  {
   "cell_type": "code",
   "execution_count": 26,
   "metadata": {},
   "outputs": [
    {
     "data": {
      "text/plain": [
       "['p1_tsl.npy', 'p2_tsl.npy', 'p3_tsl.npy', 'p5_tsl.npy']"
      ]
     },
     "execution_count": 26,
     "metadata": {},
     "output_type": "execute_result"
    }
   ],
   "source": [
    "DATA[1:-2]"
   ]
  },
  {
   "cell_type": "markdown",
   "metadata": {},
   "source": [
    "---"
   ]
  },
  {
   "cell_type": "markdown",
   "metadata": {},
   "source": [
    "## Shape data"
   ]
  },
  {
   "cell_type": "code",
   "execution_count": 27,
   "metadata": {
    "collapsed": true
   },
   "outputs": [],
   "source": [
    "Xc = np.load(\"DB_INTENC/preproc/labeled/\"+DATA[0])\n",
    "for i in DATA[1:-2]:\n",
    "    Xc = np.vstack((Xc,np.load('DB_INTENC/preproc/labeled/'+i))) "
   ]
  },
  {
   "cell_type": "markdown",
   "metadata": {},
   "source": [
    "### Split tipo 1"
   ]
  },
  {
   "cell_type": "code",
   "execution_count": 242,
   "metadata": {},
   "outputs": [],
   "source": [
    "#Dividindo os dados em sets de treino, test e validação\n",
    "dfn = pd.DataFrame(data=Xc)\n",
    "train, validate, test = np.split(dfn.sample(frac=1), [int(.6*len(dfn)), int(.8*len(dfn))])"
   ]
  },
  {
   "cell_type": "code",
   "execution_count": 244,
   "metadata": {},
   "outputs": [],
   "source": [
    "np.save('./DB_INTENC/preproc/labeled/train', train, allow_pickle=False)\n",
    "np.save('./DB_INTENC/preproc/labeled/validate', validate, allow_pickle=False)\n",
    "np.save('./DB_INTENC/preproc/labeled/test', test, allow_pickle=False)"
   ]
  },
  {
   "cell_type": "code",
   "execution_count": 14,
   "metadata": {},
   "outputs": [
    {
     "data": {
      "text/plain": [
       "((98284, 1500), (98284,))"
      ]
     },
     "execution_count": 14,
     "metadata": {},
     "output_type": "execute_result"
    }
   ],
   "source": [
    "Xc_train = np.load(\"DB_INTENC/preproc/labeled/train.npy\")\n",
    "\n",
    "X_train = Xc_train[:,0:(Xc_train.shape[1]-1)]\n",
    "\n",
    "yz = Xc_train[:,[(Xc_train.shape[1]-1)]]\n",
    "y_train = np.array([])\n",
    "for i in range(len(yz)):\n",
    "    y_train = np.hstack((y_train,yz[i]))\n",
    "    \n",
    "lab_enc = preprocessing.LabelEncoder()\n",
    "y_train = lab_enc.fit_transform(y_train)\n",
    "\n",
    "X_train.shape, y_train.shape"
   ]
  },
  {
   "cell_type": "code",
   "execution_count": 77,
   "metadata": {},
   "outputs": [
    {
     "data": {
      "text/plain": [
       "((29452, 1500), (29452,))"
      ]
     },
     "execution_count": 77,
     "metadata": {},
     "output_type": "execute_result"
    }
   ],
   "source": [
    "#Xc_validate = np.load(\"DB_INTENC/preproc/labeled/validate.npy\")\n",
    "Xc_validate = Xc\n",
    "\n",
    "X_validate = Xc_validate[:,0:(Xc_validate.shape[1]-1)]\n",
    "\n",
    "yz = Xc_validate[:,[(Xc_validate.shape[1]-1)]]\n",
    "y_validate = np.array([])\n",
    "for i in range(len(yz)):\n",
    "    y_validate = np.hstack((y_validate,yz[i]))\n",
    "    \n",
    "#lab_enc = preprocessing.LabelEncoder()\n",
    "#y_validate = lab_enc.fit_transform(y_validate)\n",
    "\n",
    "X_validate.shape, y_validate.shape"
   ]
  },
  {
   "cell_type": "code",
   "execution_count": 24,
   "metadata": {},
   "outputs": [
    {
     "data": {
      "text/plain": [
       "((32762, 1500), (32762,))"
      ]
     },
     "execution_count": 24,
     "metadata": {},
     "output_type": "execute_result"
    }
   ],
   "source": [
    "Xc_test= np.load(\"DB_INTENC/preproc/labeled/validate.npy\")\n",
    "\n",
    "X_test = Xc_test[:,0:(Xc_test.shape[1]-1)]\n",
    "\n",
    "yz = Xc_test[:,[(Xc_test.shape[1]-1)]]\n",
    "y_test = np.array([])\n",
    "for i in range(len(yz)):\n",
    "    y_test = np.hstack((y_test,yz[i]))\n",
    "    \n",
    "lab_enc = preprocessing.LabelEncoder()\n",
    "y_test = lab_enc.fit_transform(y_test)\n",
    "\n",
    "X_test.shape, y_test.shape"
   ]
  },
  {
   "cell_type": "markdown",
   "metadata": {},
   "source": [
    "### Split tipo 2"
   ]
  },
  {
   "cell_type": "code",
   "execution_count": 28,
   "metadata": {},
   "outputs": [
    {
     "data": {
      "text/plain": [
       "((17951, 3), (17951,))"
      ]
     },
     "execution_count": 28,
     "metadata": {},
     "output_type": "execute_result"
    }
   ],
   "source": [
    "#Separando set de dados X, e set de labels y - Validação DATA[5] e DATA[6]\n",
    "Xc = np.load(\"DB_INTENC/preproc/labeled/\"+DATA[5])\n",
    "    \n",
    "X_validate = Xc[:,0:(Xc.shape[1]-1)]\n",
    "\n",
    "yz = Xc[:,[(Xc.shape[1]-1)]]\n",
    "y_validate = np.array([])\n",
    "for i in range(len(yz)):\n",
    "    y_validate = np.hstack((y_validate,yz[i]))\n",
    "    \n",
    "X_validate.shape, y_validate.shape"
   ]
  },
  {
   "cell_type": "code",
   "execution_count": 29,
   "metadata": {},
   "outputs": [
    {
     "data": {
      "text/plain": [
       "((219755, 3), (219755,))"
      ]
     },
     "execution_count": 29,
     "metadata": {},
     "output_type": "execute_result"
    }
   ],
   "source": [
    "#Separando set de dados X, e set de labels y - Treino e Teste\n",
    "Xc = np.load(\"DB_INTENC/preproc/labeled/\"+DATA[0])\n",
    "for i in DATA[1:-2]:\n",
    "    Xc = np.vstack((Xc,np.load('DB_INTENC/preproc/labeled/'+i))) \n",
    "    \n",
    "X = Xc[:,0:(Xc.shape[1]-1)]\n",
    "\n",
    "yz = Xc[:,[(Xc.shape[1]-1)]]\n",
    "y = np.array([])\n",
    "for i in range(len(yz)):\n",
    "    y = np.hstack((y,yz[i]))\n",
    "    \n",
    "X.shape, y.shape"
   ]
  },
  {
   "cell_type": "code",
   "execution_count": 30,
   "metadata": {},
   "outputs": [
    {
     "data": {
      "text/plain": [
       "array([  0.,   1.,   4.,  15.])"
      ]
     },
     "execution_count": 30,
     "metadata": {},
     "output_type": "execute_result"
    }
   ],
   "source": [
    "np.unique(y)"
   ]
  },
  {
   "cell_type": "code",
   "execution_count": 31,
   "metadata": {},
   "outputs": [],
   "source": [
    "#Dividindo os dados em sets de treino e test\n",
    "from sklearn.model_selection import train_test_split\n",
    "X_train, X_test, y_train, y_test = train_test_split(X, y, test_size=0.3, random_state=1)\n",
    "\n",
    "X_test, X_validate, y_test, y_validate = train_test_split(X, y, test_size=0.5, random_state=1)"
   ]
  },
  {
   "cell_type": "code",
   "execution_count": null,
   "metadata": {
    "collapsed": true
   },
   "outputs": [],
   "source": []
  },
  {
   "cell_type": "code",
   "execution_count": 32,
   "metadata": {},
   "outputs": [
    {
     "name": "stdout",
     "output_type": "stream",
     "text": [
      "(153828, 3) (109877, 3) (109878, 3) (153828,) (109877,) (109878,)\n"
     ]
    }
   ],
   "source": [
    "#Aplica normalizador P.S.: Verificar necessidade pois os dados já foram normalizados anteriormente\n",
    "from sklearn.preprocessing import StandardScaler\n",
    "sc = StandardScaler()\n",
    "sc.fit(X_train)\n",
    "X_train_std = sc.transform(X_train)\n",
    "X_test_std = sc.transform(X_test)\n",
    "X_validate_std = sc.transform(X_validate)\n",
    "\n",
    "print X_train_std.shape, X_test_std.shape, X_validate_std.shape, y_train.shape, y_test.shape, y_validate.shape"
   ]
  },
  {
   "cell_type": "code",
   "execution_count": 33,
   "metadata": {},
   "outputs": [
    {
     "data": {
      "text/plain": [
       "((109878, 3), (109878,))"
      ]
     },
     "execution_count": 33,
     "metadata": {},
     "output_type": "execute_result"
    }
   ],
   "source": [
    "X_validate_std = sc.transform(X_validate)\n",
    "\n",
    "X_validate_std.shape, y_validate.shape"
   ]
  },
  {
   "cell_type": "markdown",
   "metadata": {},
   "source": [
    "---"
   ]
  },
  {
   "cell_type": "markdown",
   "metadata": {},
   "source": [
    "## Classifiers"
   ]
  },
  {
   "cell_type": "markdown",
   "metadata": {},
   "source": [
    "### Random Forest"
   ]
  },
  {
   "cell_type": "code",
   "execution_count": 34,
   "metadata": {},
   "outputs": [
    {
     "name": "stdout",
     "output_type": "stream",
     "text": [
      "Training time\n",
      "CPU times: user 47.7 s, sys: 264 ms, total: 47.9 s\n",
      "Wall time: 12.4 s\n",
      "\n",
      "Predict time\n",
      "CPU times: user 5.66 s, sys: 304 ms, total: 5.96 s\n",
      "Wall time: 1.68 s\n",
      "\n",
      "ClassifyRF accuracy:---------->100.00 %\n"
     ]
    }
   ],
   "source": [
    "#Training and test\n",
    "from sklearn.ensemble import RandomForestClassifier\n",
    "rfc = RandomForestClassifier(n_estimators=100, n_jobs = 4)\n",
    "\n",
    "print 'Training time'\n",
    "%time rfc = rfc.fit(X_train_std, y_train)\n",
    "\n",
    "print''\n",
    "\n",
    "print 'Predict time'\n",
    "%time y_pred = rfc.predict(X_test_std)\n",
    "\n",
    "print''\n",
    "\n",
    "from sklearn.metrics import accuracy_score\n",
    "print ('ClassifyRF accuracy:---------->%.2f %%' % (accuracy_score(y_test, y_pred)*100))"
   ]
  },
  {
   "cell_type": "code",
   "execution_count": 67,
   "metadata": {},
   "outputs": [
    {
     "data": {
      "text/plain": [
       "['DB_INTENC/preproc/labeled/rfc_split2.pkl']"
      ]
     },
     "execution_count": 67,
     "metadata": {},
     "output_type": "execute_result"
    }
   ],
   "source": [
    "#Salva a rede treinada para um arquivo\n",
    "joblib.dump(rfc, 'DB_INTENC/preproc/labeled/rfc_split2.pkl') "
   ]
  },
  {
   "cell_type": "code",
   "execution_count": 26,
   "metadata": {
    "collapsed": true
   },
   "outputs": [],
   "source": [
    "rfc = joblib.load('DB_INTENC/preproc/labeled/rfc.pkl')"
   ]
  },
  {
   "cell_type": "code",
   "execution_count": 35,
   "metadata": {},
   "outputs": [
    {
     "name": "stdout",
     "output_type": "stream",
     "text": [
      "Predict time\n",
      "CPU times: user 1.38 s, sys: 168 ms, total: 1.55 s\n",
      "Wall time: 587 ms\n",
      "\n",
      "ClassifyRF accuracy:---------->25.66 %\n"
     ]
    }
   ],
   "source": [
    "#Validation\n",
    "print 'Predict time'\n",
    "%time y_pred = rfc.predict(X_validate)\n",
    "\n",
    "print''\n",
    "\n",
    "from sklearn.metrics import accuracy_score\n",
    "\n",
    "result = ('ClassifyRF accuracy:---------->%.2f %%' % (accuracy_score(y_pred, y_validate)*100))\n",
    "\n",
    "print result"
   ]
  },
  {
   "cell_type": "code",
   "execution_count": 36,
   "metadata": {},
   "outputs": [
    {
     "name": "stdout",
     "output_type": "stream",
     "text": [
      "Predict time\n",
      "CPU times: user 5.54 s, sys: 204 ms, total: 5.75 s\n",
      "Wall time: 1.56 s\n",
      "\n",
      "ClassifyRF accuracy:---------->91.00 %\n"
     ]
    }
   ],
   "source": [
    "#Validation\n",
    "print 'Predict time'\n",
    "%time y_pred = rfc.predict(X_validate_std)\n",
    "\n",
    "print''\n",
    "\n",
    "from sklearn.metrics import accuracy_score\n",
    "\n",
    "result = ('ClassifyRF accuracy:---------->%.2f %%' % (accuracy_score(y_pred, y_validate)*100))\n",
    "\n",
    "print result"
   ]
  },
  {
   "cell_type": "markdown",
   "metadata": {},
   "source": [
    "---"
   ]
  },
  {
   "cell_type": "markdown",
   "metadata": {},
   "source": [
    "## Support Vector Machine"
   ]
  },
  {
   "cell_type": "code",
   "execution_count": null,
   "metadata": {},
   "outputs": [
    {
     "name": "stdout",
     "output_type": "stream",
     "text": [
      "Processing time SVM\n"
     ]
    }
   ],
   "source": [
    "from sklearn import svm, datasets\n",
    "\n",
    "print 'Processing time SVM'\n",
    "%time svm = svm.SVC(kernel='rbf', gamma=0.2, C=6, decision_function_shape='ovr').fit(X_train_std, y_train)\n",
    "\n",
    "print ''\n",
    "\n",
    "from sklearn.metrics import accuracy_score\n",
    "\n",
    "print 'Predict time'  \n",
    "%time y_pred = svm.predict(X_test_std)\n",
    "from sklearn.metrics import accuracy_score\n",
    "print ('SVM-RBF accuracy:---------->%.2f %%' % (accuracy_score(y_test, y_pred)*100))"
   ]
  },
  {
   "cell_type": "code",
   "execution_count": null,
   "metadata": {
    "collapsed": true
   },
   "outputs": [],
   "source": []
  }
 ],
 "metadata": {
  "kernelspec": {
   "display_name": "Python 2",
   "language": "python",
   "name": "python2"
  },
  "language_info": {
   "codemirror_mode": {
    "name": "ipython",
    "version": 2
   },
   "file_extension": ".py",
   "mimetype": "text/x-python",
   "name": "python",
   "nbconvert_exporter": "python",
   "pygments_lexer": "ipython2",
   "version": "2.7.13"
  }
 },
 "nbformat": 4,
 "nbformat_minor": 2
}
