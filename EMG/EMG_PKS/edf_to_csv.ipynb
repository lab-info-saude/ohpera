{
 "cells": [
  {
   "cell_type": "code",
   "execution_count": 1,
   "metadata": {
    "collapsed": true
   },
   "outputs": [],
   "source": [
    "import pyedflib\n",
    "import numpy as np\n",
    "import pandas as pd\n",
    "import commands"
   ]
  },
  {
   "cell_type": "code",
   "execution_count": 19,
   "metadata": {},
   "outputs": [],
   "source": [
    "files = commands.getoutput('ls PKS_EDF_L/Yuji_Miyasaka/')\n",
    "files = files.split('\\n')\n",
    "\n",
    "for i in files:\n",
    "    \n",
    "    file_name = pyedflib.EdfReader('PKS_EDF_L/Yuji_Miyasaka/'+i)\n",
    "    n = file_name.signals_in_file\n",
    "    signal_labels = file_name.getSignalLabels()\n",
    "    sigbufs = np.zeros((n, file_name.getNSamples()[0]))\n",
    "    for j in np.arange(n):\n",
    "         sigbufs[j, :] = file_name.readSignal(j)\n",
    "    \n",
    "    file_name._close()\n",
    "    \n",
    "    df = pd.DataFrame(np.transpose(sigbufs))\n",
    "    df.insert(loc=0, column='Time', value=np.arange(0,len(df)*0.0005,0.0005))\n",
    "\n",
    "    df = df.rename(columns={0: 'Channel 1'})\n",
    "    df = df.rename(columns={1: 'Channel 2'})\n",
    "    df = df.rename(columns={2: 'Channel 3'})\n",
    "    df = df.rename(columns={3: 'Channel 4'})\n",
    "\n",
    "    df.to_csv('PKS_EDF_L/PKS_CSV_L/Yuji_Miyasaka/'+i[:-3]+'csv', sep='\\t', encoding='utf-8')"
   ]
  },
  {
   "cell_type": "code",
   "execution_count": null,
   "metadata": {
    "collapsed": true
   },
   "outputs": [],
   "source": []
  }
 ],
 "metadata": {
  "kernelspec": {
   "display_name": "Python 2",
   "language": "python",
   "name": "python2"
  },
  "language_info": {
   "codemirror_mode": {
    "name": "ipython",
    "version": 2
   },
   "file_extension": ".py",
   "mimetype": "text/x-python",
   "name": "python",
   "nbconvert_exporter": "python",
   "pygments_lexer": "ipython2",
   "version": "2.7.13"
  }
 },
 "nbformat": 4,
 "nbformat_minor": 2
}
