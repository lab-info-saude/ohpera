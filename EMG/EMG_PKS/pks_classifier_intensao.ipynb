{
 "cells": [
  {
   "cell_type": "markdown",
   "metadata": {},
   "source": [
    "# Bibliotecas"
   ]
  },
  {
   "cell_type": "code",
   "execution_count": 1,
   "metadata": {
    "collapsed": true
   },
   "outputs": [],
   "source": [
    "import os\n",
    "import pandas as pd\n",
    "import numpy as np\n",
    "import scipy as sp\n",
    "from scipy import signal\n",
    "import ml_time_series as mls\n",
    "import timeit\n",
    "from datetime import datetime\n",
    "from sklearn.externals import joblib\n",
    "import matplotlib.pyplot as plt\n",
    "from sklearn.decomposition import PCA\n",
    "from sklearn import preprocessing\n",
    "from sklearn import utils\n",
    "\n",
    "%matplotlib notebook"
   ]
  },
  {
   "cell_type": "code",
   "execution_count": 2,
   "metadata": {
    "collapsed": true
   },
   "outputs": [],
   "source": [
    "def Stacker(files_,t):\n",
    "    \n",
    "    #Lê dados do arquivo e remove janela\n",
    "    Xc = np.load('DB_INTENC/preproc/'+files_[0]+'.npy')\n",
    "    Xc = Xc[:-49]\n",
    "    \n",
    "    #Aplica Hstack nos dados\n",
    "    for j in range(1,len(files_)):\n",
    "        Xci = np.load('DB_INTENC/preproc/'+files_[j]+'.npy')\n",
    "        Xc = np.hstack((Xc.reshape(Xc.shape),Xci.reshape(Xci.shape)))\n",
    "        \n",
    "    #Labeling the PKS level    \n",
    "    #C = (np.ones(len(Xc))*l).reshape((len(Xc),1))\n",
    "    #Xc = np.hstack((Xc.reshape(Xc.shape),C.reshape((len(Xc),1))))    \n",
    "    \n",
    "    # Salving in file on the folder <DB_INTENC/preproc/labeled>\n",
    "    np.save('./DB_INTENC/preproc/labeled/'+t+'_hs', Xc, allow_pickle=False)\n",
    "    DATA_hs.append(t+'_hs.npy')"
   ]
  },
  {
   "cell_type": "code",
   "execution_count": 3,
   "metadata": {
    "collapsed": true
   },
   "outputs": [],
   "source": [
    "#Carregando arquivos\n",
    "\n",
    "files_ = [['p1_std', 'p1_rms', 'p1_filt'],['p2_std', 'p2_rms', 'p2_filt'],['p3_std', 'p3_rms', 'p3_filt'],\n",
    "          ['p5_std', 'p5_rms', 'p5_filt'],['c1_std', 'c1_rms', 'c1_filt'],['c3_std', 'c3_rms', 'c3_filt'],\n",
    "          ['p4_std', 'p4_rms', 'p4_filt']]\n",
    "DATA_hs = []"
   ]
  },
  {
   "cell_type": "markdown",
   "metadata": {
    "collapsed": true
   },
   "source": [
    "files_ = [['p4_std', 'p4_rms', 'p4_filt']]\n",
    "DATA_hs = []"
   ]
  },
  {
   "cell_type": "markdown",
   "metadata": {
    "collapsed": true
   },
   "source": [
    "#Grupo de validação\n",
    "Stacker(files_[0],files_[0][0][:2])"
   ]
  },
  {
   "cell_type": "code",
   "execution_count": 4,
   "metadata": {},
   "outputs": [
    {
     "data": {
      "text/plain": [
       "(['p1_std', 'p1_rms', 'p1_filt'], 'p1')"
      ]
     },
     "execution_count": 4,
     "metadata": {},
     "output_type": "execute_result"
    }
   ],
   "source": [
    "files_[0],files_[0][0][:2]"
   ]
  },
  {
   "cell_type": "code",
   "execution_count": 5,
   "metadata": {
    "collapsed": true
   },
   "outputs": [],
   "source": [
    "#Grupo total\n",
    "for i in range(len(files_)):\n",
    "    Stacker(files_[i],files_[i][0][:2])"
   ]
  },
  {
   "cell_type": "code",
   "execution_count": 6,
   "metadata": {},
   "outputs": [
    {
     "data": {
      "text/plain": [
       "['p1_hs.npy',\n",
       " 'p2_hs.npy',\n",
       " 'p3_hs.npy',\n",
       " 'p5_hs.npy',\n",
       " 'c1_hs.npy',\n",
       " 'c3_hs.npy',\n",
       " 'p4_hs.npy']"
      ]
     },
     "execution_count": 6,
     "metadata": {},
     "output_type": "execute_result"
    }
   ],
   "source": [
    "DATA_hs"
   ]
  },
  {
   "cell_type": "code",
   "execution_count": 7,
   "metadata": {
    "collapsed": true
   },
   "outputs": [],
   "source": [
    "Xc = np.load('DB_INTENC/preproc/labeled/p1_hs.npy')"
   ]
  },
  {
   "cell_type": "code",
   "execution_count": 8,
   "metadata": {
    "scrolled": false
   },
   "outputs": [
    {
     "data": {
      "text/html": [
       "<div>\n",
       "<style>\n",
       "    .dataframe thead tr:only-child th {\n",
       "        text-align: right;\n",
       "    }\n",
       "\n",
       "    .dataframe thead th {\n",
       "        text-align: left;\n",
       "    }\n",
       "\n",
       "    .dataframe tbody tr th {\n",
       "        vertical-align: top;\n",
       "    }\n",
       "</style>\n",
       "<table border=\"1\" class=\"dataframe\">\n",
       "  <thead>\n",
       "    <tr style=\"text-align: right;\">\n",
       "      <th></th>\n",
       "      <th>0</th>\n",
       "      <th>1</th>\n",
       "      <th>2</th>\n",
       "      <th>3</th>\n",
       "      <th>4</th>\n",
       "      <th>5</th>\n",
       "      <th>6</th>\n",
       "      <th>7</th>\n",
       "      <th>8</th>\n",
       "      <th>9</th>\n",
       "      <th>10</th>\n",
       "      <th>11</th>\n",
       "    </tr>\n",
       "  </thead>\n",
       "  <tbody>\n",
       "    <tr>\n",
       "      <th>0</th>\n",
       "      <td>-0.079685</td>\n",
       "      <td>0.009403</td>\n",
       "      <td>-0.013066</td>\n",
       "      <td>-0.004118</td>\n",
       "      <td>44.537192</td>\n",
       "      <td>7.559818</td>\n",
       "      <td>18.959109</td>\n",
       "      <td>25.976221</td>\n",
       "      <td>0.045622</td>\n",
       "      <td>-0.071708</td>\n",
       "      <td>0.928207</td>\n",
       "      <td>0.316825</td>\n",
       "    </tr>\n",
       "    <tr>\n",
       "      <th>1</th>\n",
       "      <td>-0.021022</td>\n",
       "      <td>0.003217</td>\n",
       "      <td>-0.013066</td>\n",
       "      <td>0.021096</td>\n",
       "      <td>44.625654</td>\n",
       "      <td>7.583042</td>\n",
       "      <td>19.512969</td>\n",
       "      <td>25.987871</td>\n",
       "      <td>-0.653900</td>\n",
       "      <td>-0.028405</td>\n",
       "      <td>1.233691</td>\n",
       "      <td>0.323795</td>\n",
       "    </tr>\n",
       "    <tr>\n",
       "      <th>2</th>\n",
       "      <td>0.078706</td>\n",
       "      <td>0.023837</td>\n",
       "      <td>-0.013066</td>\n",
       "      <td>0.042108</td>\n",
       "      <td>44.652662</td>\n",
       "      <td>7.607774</td>\n",
       "      <td>20.306241</td>\n",
       "      <td>26.098226</td>\n",
       "      <td>-1.344409</td>\n",
       "      <td>-0.094986</td>\n",
       "      <td>1.645009</td>\n",
       "      <td>0.363447</td>\n",
       "    </tr>\n",
       "    <tr>\n",
       "      <th>3</th>\n",
       "      <td>0.078706</td>\n",
       "      <td>0.001155</td>\n",
       "      <td>-0.001691</td>\n",
       "      <td>0.050512</td>\n",
       "      <td>44.692366</td>\n",
       "      <td>7.280775</td>\n",
       "      <td>21.180114</td>\n",
       "      <td>26.114275</td>\n",
       "      <td>-1.876668</td>\n",
       "      <td>-0.237642</td>\n",
       "      <td>2.238290</td>\n",
       "      <td>0.454788</td>\n",
       "    </tr>\n",
       "    <tr>\n",
       "      <th>4</th>\n",
       "      <td>0.131503</td>\n",
       "      <td>0.007341</td>\n",
       "      <td>-0.009275</td>\n",
       "      <td>0.012691</td>\n",
       "      <td>45.297386</td>\n",
       "      <td>7.296239</td>\n",
       "      <td>22.324117</td>\n",
       "      <td>26.340057</td>\n",
       "      <td>-2.066876</td>\n",
       "      <td>-0.336827</td>\n",
       "      <td>3.042093</td>\n",
       "      <td>0.596534</td>\n",
       "    </tr>\n",
       "  </tbody>\n",
       "</table>\n",
       "</div>"
      ],
      "text/plain": [
       "         0         1         2         3          4         5          6   \\\n",
       "0 -0.079685  0.009403 -0.013066 -0.004118  44.537192  7.559818  18.959109   \n",
       "1 -0.021022  0.003217 -0.013066  0.021096  44.625654  7.583042  19.512969   \n",
       "2  0.078706  0.023837 -0.013066  0.042108  44.652662  7.607774  20.306241   \n",
       "3  0.078706  0.001155 -0.001691  0.050512  44.692366  7.280775  21.180114   \n",
       "4  0.131503  0.007341 -0.009275  0.012691  45.297386  7.296239  22.324117   \n",
       "\n",
       "          7         8         9         10        11  \n",
       "0  25.976221  0.045622 -0.071708  0.928207  0.316825  \n",
       "1  25.987871 -0.653900 -0.028405  1.233691  0.323795  \n",
       "2  26.098226 -1.344409 -0.094986  1.645009  0.363447  \n",
       "3  26.114275 -1.876668 -0.237642  2.238290  0.454788  \n",
       "4  26.340057 -2.066876 -0.336827  3.042093  0.596534  "
      ]
     },
     "execution_count": 8,
     "metadata": {},
     "output_type": "execute_result"
    }
   ],
   "source": [
    "dfn = pd.DataFrame(data=Xc)\n",
    "dfn.head()"
   ]
  },
  {
   "cell_type": "code",
   "execution_count": 8,
   "metadata": {},
   "outputs": [
    {
     "data": {
      "text/plain": [
       "(53951, 12)"
      ]
     },
     "execution_count": 8,
     "metadata": {},
     "output_type": "execute_result"
    }
   ],
   "source": [
    "Xc.shape"
   ]
  },
  {
   "cell_type": "code",
   "execution_count": 9,
   "metadata": {
    "collapsed": true
   },
   "outputs": [],
   "source": [
    "def proccess_data(x,DATA,NUM_SAMPLES,LABEL):\n",
    "    \n",
    "    Xc = np.load(\"DB_INTENC/preproc/labeled/\"+x)\n",
    "    print '\\nXc initial shape ', Xc.shape\n",
    "    \n",
    "    #Principal component analysis\n",
    "    pca = PCA(n_components=3)\n",
    "    pca.fit(Xc)\n",
    "    Xc = pca.transform(Xc)\n",
    "    print pca.explained_variance_ratio_\n",
    "    \n",
    "    print 'Xc PCA shape ', Xc.shape\n",
    "    \n",
    "    #Create temporal serie\n",
    "    #Xc = mls.generate_envelope(Xc, NUM_SAMPLES)\n",
    "    #print 'Xc temporal-serie shape ', Xc.shape\n",
    "    \n",
    "    #Labeling the PKS level    \n",
    "    C = (np.ones(len(Xc))*LABEL).reshape((len(Xc),1))\n",
    "    Xc = np.hstack((Xc.reshape(Xc.shape),C.reshape((len(Xc),1)))) \n",
    "    print 'Xc labeled shape ', Xc.shape\n",
    "    \n",
    "    # Salving in file on the folder <DB_INTENC/preproc/labeled>\n",
    "    np.save('./DB_INTENC/preproc/labeled/'+x[:2]+'_tsl', Xc, allow_pickle=False)\n",
    "    print '\\n'+x[:2]+'_tsl'\n",
    "    \n",
    "    DATA.append(x[:2]+'_tsl.npy')"
   ]
  },
  {
   "cell_type": "code",
   "execution_count": 10,
   "metadata": {
    "scrolled": true
   },
   "outputs": [
    {
     "data": {
      "text/plain": [
       "['p1_hs.npy',\n",
       " 'p2_hs.npy',\n",
       " 'p3_hs.npy',\n",
       " 'p5_hs.npy',\n",
       " 'c1_hs.npy',\n",
       " 'c3_hs.npy',\n",
       " 'p4_hs.npy']"
      ]
     },
     "execution_count": 10,
     "metadata": {},
     "output_type": "execute_result"
    }
   ],
   "source": [
    "DATA_hs"
   ]
  },
  {
   "cell_type": "markdown",
   "metadata": {},
   "source": [
    "---"
   ]
  },
  {
   "cell_type": "markdown",
   "metadata": {},
   "source": [
    "#Validação\n",
    "start = timeit.default_timer()\n",
    "\n",
    "NUM_SAMPLES = 500\n",
    "l = [1]\n",
    "DATA = []\n",
    "\n",
    "for x, y in zip(DATA_hs, l):\n",
    "    proccess_data(x,DATA,NUM_SAMPLES,y)\n",
    "    \n",
    "stop = timeit.default_timer()\n",
    "ti = stop - start \n",
    "print ('Tempo total para o envelopamento: %.2f min' % (ti/60))"
   ]
  },
  {
   "cell_type": "markdown",
   "metadata": {},
   "source": [
    "DATA"
   ]
  },
  {
   "cell_type": "markdown",
   "metadata": {},
   "source": [
    "Xc = np.load('DB_INTENC/preproc/labeled/p4_hs.npy_tsl.npy')\n",
    "dfn = pd.DataFrame(data=Xc)\n",
    "dfn.head()"
   ]
  },
  {
   "cell_type": "markdown",
   "metadata": {},
   "source": [
    "---"
   ]
  },
  {
   "cell_type": "code",
   "execution_count": 11,
   "metadata": {},
   "outputs": [
    {
     "name": "stdout",
     "output_type": "stream",
     "text": [
      "p1 2\n",
      "p2 15\n",
      "p3 4\n",
      "p5 1\n",
      "c1 0\n",
      "c3 0\n",
      "p4 15\n"
     ]
    }
   ],
   "source": [
    "l = [2, 15, 4, 1, 0, 0, 15]\n",
    "for x, y in zip(DATA_hs, l):\n",
    "    print x[:2],y"
   ]
  },
  {
   "cell_type": "code",
   "execution_count": 12,
   "metadata": {
    "scrolled": false
   },
   "outputs": [
    {
     "name": "stdout",
     "output_type": "stream",
     "text": [
      "\n",
      "Xc initial shape  (53951, 12)\n",
      "[ 0.61593794  0.29817543  0.02675621]\n",
      "Xc PCA shape  (53951, 3)\n",
      "Xc labeled shape  (53951, 4)\n",
      "\n",
      "p1_tsl\n",
      "\n",
      "Xc initial shape  (25951, 12)\n",
      "[ 0.74124299  0.17419237  0.0367697 ]\n",
      "Xc PCA shape  (25951, 3)\n",
      "Xc labeled shape  (25951, 4)\n",
      "\n",
      "p2_tsl\n",
      "\n",
      "Xc initial shape  (61951, 12)\n",
      "[ 0.71992864  0.18989168  0.06194009]\n",
      "Xc PCA shape  (61951, 3)\n",
      "Xc labeled shape  (61951, 4)\n",
      "\n",
      "p3_tsl\n",
      "\n",
      "Xc initial shape  (23951, 12)\n",
      "[ 0.64202733  0.25305677  0.08240487]\n",
      "Xc PCA shape  (23951, 3)\n",
      "Xc labeled shape  (23951, 4)\n",
      "\n",
      "p5_tsl\n",
      "\n",
      "Xc initial shape  (17951, 12)\n",
      "[ 0.64981489  0.26427588  0.06478059]\n",
      "Xc PCA shape  (17951, 3)\n",
      "Xc labeled shape  (17951, 4)\n",
      "\n",
      "c1_tsl\n",
      "\n",
      "Xc initial shape  (19951, 12)\n",
      "[ 0.75157388  0.12123081  0.05738713]\n",
      "Xc PCA shape  (19951, 3)\n",
      "Xc labeled shape  (19951, 4)\n",
      "\n",
      "c3_tsl\n",
      "\n",
      "Xc initial shape  (29951, 12)\n",
      "[ 0.79051812  0.12226498  0.03525331]\n",
      "Xc PCA shape  (29951, 3)\n",
      "Xc labeled shape  (29951, 4)\n",
      "\n",
      "p4_tsl\n",
      "Tempo total para o envelopamento: 0.01 min\n"
     ]
    }
   ],
   "source": [
    "#Grupo total\n",
    "start = timeit.default_timer()\n",
    "\n",
    "NUM_SAMPLES = 500\n",
    "l = [2, 15, 4, 1, 0, 0, 15]\n",
    "DATA = []\n",
    "\n",
    "for x, y in zip(DATA_hs, l):\n",
    "    proccess_data(x,DATA,NUM_SAMPLES,y)\n",
    "    \n",
    "stop = timeit.default_timer()\n",
    "ti = stop - start \n",
    "print ('Tempo total para o envelopamento: %.2f min' % (ti/60))"
   ]
  },
  {
   "cell_type": "markdown",
   "metadata": {},
   "source": [
    "#Não foram incluidas as amostras p4 e c3, serão utilizadas para validação!"
   ]
  },
  {
   "cell_type": "code",
   "execution_count": 13,
   "metadata": {},
   "outputs": [
    {
     "data": {
      "text/plain": [
       "['p2_tsl.npy', 'p3_tsl.npy', 'p5_tsl.npy', 'c1_tsl.npy']"
      ]
     },
     "execution_count": 13,
     "metadata": {},
     "output_type": "execute_result"
    }
   ],
   "source": [
    "DATA[1:-2]"
   ]
  },
  {
   "cell_type": "markdown",
   "metadata": {},
   "source": [
    "---"
   ]
  },
  {
   "cell_type": "markdown",
   "metadata": {},
   "source": [
    "## Shape data"
   ]
  },
  {
   "cell_type": "code",
   "execution_count": 27,
   "metadata": {
    "collapsed": true
   },
   "outputs": [],
   "source": [
    "Xc = np.load(\"DB_INTENC/preproc/labeled/\"+DATA[0])\n",
    "for i in DATA[1:-2]:\n",
    "    Xc = np.vstack((Xc,np.load('DB_INTENC/preproc/labeled/'+i))) "
   ]
  },
  {
   "cell_type": "markdown",
   "metadata": {},
   "source": [
    "### Split tipo 1"
   ]
  },
  {
   "cell_type": "markdown",
   "metadata": {},
   "source": [
    "#Dividindo os dados em sets de treino, test e validação\n",
    "dfn = pd.DataFrame(data=Xc)\n",
    "train, validate, test = np.split(dfn.sample(frac=1), [int(.6*len(dfn)), int(.8*len(dfn))])"
   ]
  },
  {
   "cell_type": "markdown",
   "metadata": {},
   "source": [
    "np.save('./DB_INTENC/preproc/labeled/train', train, allow_pickle=False)\n",
    "np.save('./DB_INTENC/preproc/labeled/validate', validate, allow_pickle=False)\n",
    "np.save('./DB_INTENC/preproc/labeled/test', test, allow_pickle=False)"
   ]
  },
  {
   "cell_type": "markdown",
   "metadata": {},
   "source": [
    "Xc_train = np.load(\"DB_INTENC/preproc/labeled/train.npy\")\n",
    "\n",
    "X_train = Xc_train[:,0:(Xc_train.shape[1]-1)]\n",
    "\n",
    "yz = Xc_train[:,[(Xc_train.shape[1]-1)]]\n",
    "y_train = np.array([])\n",
    "for i in range(len(yz)):\n",
    "    y_train = np.hstack((y_train,yz[i]))\n",
    "    \n",
    "lab_enc = preprocessing.LabelEncoder()\n",
    "y_train = lab_enc.fit_transform(y_train)\n",
    "\n",
    "X_train.shape, y_train.shape"
   ]
  },
  {
   "cell_type": "markdown",
   "metadata": {},
   "source": [
    "#Xc_validate = np.load(\"DB_INTENC/preproc/labeled/validate.npy\")\n",
    "Xc_validate = Xc\n",
    "\n",
    "X_validate = Xc_validate[:,0:(Xc_validate.shape[1]-1)]\n",
    "\n",
    "yz = Xc_validate[:,[(Xc_validate.shape[1]-1)]]\n",
    "y_validate = np.array([])\n",
    "for i in range(len(yz)):\n",
    "    y_validate = np.hstack((y_validate,yz[i]))\n",
    "    \n",
    "#lab_enc = preprocessing.LabelEncoder()\n",
    "#y_validate = lab_enc.fit_transform(y_validate)\n",
    "\n",
    "X_validate.shape, y_validate.shape"
   ]
  },
  {
   "cell_type": "markdown",
   "metadata": {},
   "source": [
    "Xc_test= np.load(\"DB_INTENC/preproc/labeled/validate.npy\")\n",
    "\n",
    "X_test = Xc_test[:,0:(Xc_test.shape[1]-1)]\n",
    "\n",
    "yz = Xc_test[:,[(Xc_test.shape[1]-1)]]\n",
    "y_test = np.array([])\n",
    "for i in range(len(yz)):\n",
    "    y_test = np.hstack((y_test,yz[i]))\n",
    "    \n",
    "lab_enc = preprocessing.LabelEncoder()\n",
    "y_test = lab_enc.fit_transform(y_test)\n",
    "\n",
    "X_test.shape, y_test.shape"
   ]
  },
  {
   "cell_type": "markdown",
   "metadata": {},
   "source": [
    "### Split tipo 2"
   ]
  },
  {
   "cell_type": "code",
   "execution_count": 14,
   "metadata": {},
   "outputs": [
    {
     "data": {
      "text/plain": [
       "((19951, 3), (19951,))"
      ]
     },
     "execution_count": 14,
     "metadata": {},
     "output_type": "execute_result"
    }
   ],
   "source": [
    "#Separando set de dados X, e set de labels y - Validação DATA[5] e DATA[6]\n",
    "Xc = np.load(\"DB_INTENC/preproc/labeled/\"+DATA[5])\n",
    "    \n",
    "X_validate = Xc[:,0:(Xc.shape[1]-1)]\n",
    "\n",
    "yz = Xc[:,[(Xc.shape[1]-1)]]\n",
    "y_validate = np.array([])\n",
    "for i in range(len(yz)):\n",
    "    y_validate = np.hstack((y_validate,yz[i]))\n",
    "    \n",
    "X_validate.shape, y_validate.shape"
   ]
  },
  {
   "cell_type": "code",
   "execution_count": 45,
   "metadata": {},
   "outputs": [
    {
     "data": {
      "text/plain": [
       "((233657, 3), (233657,))"
      ]
     },
     "execution_count": 45,
     "metadata": {},
     "output_type": "execute_result"
    }
   ],
   "source": [
    "#Separando set de dados X, e set de labels y - Treino e Teste\n",
    "Xc = np.load(\"DB_INTENC/preproc/labeled/\"+DATA[0])\n",
    "#for i in DATA[1:-2]:\n",
    "for i in DATA[1:]:\n",
    "    Xc = np.vstack((Xc,np.load('DB_INTENC/preproc/labeled/'+i))) \n",
    "    \n",
    "X = Xc[:,0:(Xc.shape[1]-1)]\n",
    "\n",
    "yz = Xc[:,[(Xc.shape[1]-1)]]\n",
    "y = np.array([])\n",
    "for i in range(len(yz)):\n",
    "    y = np.hstack((y,yz[i]))\n",
    "    \n",
    "X.shape, y.shape"
   ]
  },
  {
   "cell_type": "code",
   "execution_count": 46,
   "metadata": {},
   "outputs": [
    {
     "data": {
      "text/plain": [
       "array([  0.,   1.,   2.,   4.,  15.])"
      ]
     },
     "execution_count": 46,
     "metadata": {},
     "output_type": "execute_result"
    }
   ],
   "source": [
    "np.unique(y)"
   ]
  },
  {
   "cell_type": "code",
   "execution_count": 47,
   "metadata": {
    "collapsed": true
   },
   "outputs": [],
   "source": [
    "#Dividindo os dados em sets de treino e test\n",
    "from sklearn.model_selection import train_test_split\n",
    "X_train, X_test, y_train, y_test = train_test_split(X, y, test_size=0.3, random_state=1)\n",
    "\n",
    "X_test, X_validate, y_test, y_validate = train_test_split(X, y, test_size=0.5, random_state=1)"
   ]
  },
  {
   "cell_type": "code",
   "execution_count": 48,
   "metadata": {},
   "outputs": [
    {
     "name": "stdout",
     "output_type": "stream",
     "text": [
      "(163559, 3) (116828, 3) (116829, 3) (163559,) (116828,) (116829,)\n"
     ]
    }
   ],
   "source": [
    "#Aplica normalizador P.S.: Verificar necessidade pois os dados já foram normalizados anteriormente\n",
    "from sklearn.preprocessing import StandardScaler\n",
    "sc = StandardScaler()\n",
    "sc.fit(X_train)\n",
    "X_train_std = sc.transform(X_train)\n",
    "X_test_std = sc.transform(X_test)\n",
    "X_validate_std = sc.transform(X_validate)\n",
    "\n",
    "print X_train_std.shape, X_test_std.shape, X_validate_std.shape, y_train.shape, y_test.shape, y_validate.shape"
   ]
  },
  {
   "cell_type": "code",
   "execution_count": 49,
   "metadata": {},
   "outputs": [
    {
     "data": {
      "text/plain": [
       "((116829, 3), (116829,))"
      ]
     },
     "execution_count": 49,
     "metadata": {},
     "output_type": "execute_result"
    }
   ],
   "source": [
    "X_validate_std = sc.transform(X_validate)\n",
    "\n",
    "X_validate_std.shape, y_validate.shape"
   ]
  },
  {
   "cell_type": "markdown",
   "metadata": {},
   "source": [
    "---"
   ]
  },
  {
   "cell_type": "markdown",
   "metadata": {},
   "source": [
    "## Classifiers"
   ]
  },
  {
   "cell_type": "markdown",
   "metadata": {},
   "source": [
    "### Random Forest"
   ]
  },
  {
   "cell_type": "code",
   "execution_count": 50,
   "metadata": {},
   "outputs": [
    {
     "name": "stdout",
     "output_type": "stream",
     "text": [
      "Training time\n",
      "CPU times: user 48.9 s, sys: 488 ms, total: 49.4 s\n",
      "Wall time: 12.9 s\n",
      "\n",
      "Predict time\n",
      "CPU times: user 6.69 s, sys: 536 ms, total: 7.22 s\n",
      "Wall time: 2.03 s\n",
      "\n",
      "ClassifyRF accuracy:---------->100.00 %\n"
     ]
    }
   ],
   "source": [
    "#Training and test\n",
    "from sklearn.ensemble import RandomForestClassifier\n",
    "rfc = RandomForestClassifier(n_estimators=100, n_jobs = 4)\n",
    "\n",
    "print 'Training time'\n",
    "%time rfc = rfc.fit(X_train_std, y_train)\n",
    "\n",
    "print''\n",
    "\n",
    "print 'Predict time'\n",
    "%time y_pred = rfc.predict(X_test_std)\n",
    "\n",
    "print''\n",
    "\n",
    "from sklearn.metrics import accuracy_score\n",
    "print ('ClassifyRF accuracy:---------->%.2f %%' % (accuracy_score(y_test, y_pred)*100))"
   ]
  },
  {
   "cell_type": "markdown",
   "metadata": {},
   "source": [
    "#Salva a rede treinada para um arquivo\n",
    "joblib.dump(rfc, 'DB_INTENC/preproc/labeled/rfc_split2.pkl') "
   ]
  },
  {
   "cell_type": "markdown",
   "metadata": {
    "collapsed": true
   },
   "source": [
    "rfc = joblib.load('DB_INTENC/preproc/labeled/rfc.pkl')"
   ]
  },
  {
   "cell_type": "code",
   "execution_count": 51,
   "metadata": {},
   "outputs": [
    {
     "name": "stdout",
     "output_type": "stream",
     "text": [
      "Predict time\n",
      "CPU times: user 1.73 s, sys: 220 ms, total: 1.95 s\n",
      "Wall time: 707 ms\n",
      "\n",
      "ClassifyRF accuracy:---------->27.10 %\n"
     ]
    }
   ],
   "source": [
    "#Validation\n",
    "print 'Predict time'\n",
    "%time y_pred = rfc.predict(X_validate)\n",
    "\n",
    "print''\n",
    "\n",
    "from sklearn.metrics import accuracy_score\n",
    "\n",
    "result = ('ClassifyRF accuracy:---------->%.2f %%' % (accuracy_score(y_pred, y_validate)*100))\n",
    "\n",
    "print result"
   ]
  },
  {
   "cell_type": "code",
   "execution_count": 52,
   "metadata": {},
   "outputs": [
    {
     "name": "stdout",
     "output_type": "stream",
     "text": [
      "Predict time\n",
      "CPU times: user 6.7 s, sys: 372 ms, total: 7.07 s\n",
      "Wall time: 2.05 s\n",
      "\n",
      "ClassifyRF accuracy:---------->85.97 %\n"
     ]
    }
   ],
   "source": [
    "#Validation\n",
    "print 'Predict time'\n",
    "%time y_pred = rfc.predict(X_validate_std)\n",
    "\n",
    "print''\n",
    "\n",
    "from sklearn.metrics import accuracy_score\n",
    "\n",
    "result = ('ClassifyRF accuracy:---------->%.2f %%' % (accuracy_score(y_pred, y_validate)*100))\n",
    "\n",
    "print result"
   ]
  },
  {
   "cell_type": "markdown",
   "metadata": {},
   "source": [
    "---"
   ]
  },
  {
   "cell_type": "markdown",
   "metadata": {},
   "source": [
    "## Support Vector Machine"
   ]
  },
  {
   "cell_type": "code",
   "execution_count": 53,
   "metadata": {},
   "outputs": [
    {
     "name": "stdout",
     "output_type": "stream",
     "text": [
      "Processing time SVM\n",
      "CPU times: user 20min 35s, sys: 600 ms, total: 20min 36s\n",
      "Wall time: 20min 37s\n",
      "\n",
      "Predict time\n",
      "CPU times: user 9min 10s, sys: 1.6 s, total: 9min 11s\n",
      "Wall time: 9min 14s\n",
      "SVM-RBF accuracy:---------->59.78 %\n"
     ]
    }
   ],
   "source": [
    "from sklearn import svm, datasets\n",
    "\n",
    "print 'Processing time SVM'\n",
    "%time svm = svm.SVC(kernel='rbf', gamma=0.2, C=6, decision_function_shape='ovr').fit(X_train_std, y_train)\n",
    "\n",
    "print ''\n",
    "\n",
    "from sklearn.metrics import accuracy_score\n",
    "\n",
    "print 'Predict time'  \n",
    "%time y_pred = svm.predict(X_test_std)\n",
    "from sklearn.metrics import accuracy_score\n",
    "print ('SVM-RBF accuracy:---------->%.2f %%' % (accuracy_score(y_test, y_pred)*100))"
   ]
  },
  {
   "cell_type": "code",
   "execution_count": 54,
   "metadata": {},
   "outputs": [
    {
     "name": "stdout",
     "output_type": "stream",
     "text": [
      "Predict time\n",
      "CPU times: user 7min 15s, sys: 436 ms, total: 7min 15s\n",
      "Wall time: 7min 16s\n",
      "SVM-RBF accuracy:---------->59.99 %\n"
     ]
    }
   ],
   "source": [
    "print 'Predict time'  \n",
    "%time y_pred = svm.predict(X_validate_std)\n",
    "from sklearn.metrics import accuracy_score\n",
    "print ('SVM-RBF accuracy:---------->%.2f %%' % (accuracy_score(y_validate, y_pred)*100))"
   ]
  },
  {
   "cell_type": "code",
   "execution_count": null,
   "metadata": {
    "collapsed": true
   },
   "outputs": [],
   "source": []
  }
 ],
 "metadata": {
  "kernelspec": {
   "display_name": "Python 2",
   "language": "python",
   "name": "python2"
  },
  "language_info": {
   "codemirror_mode": {
    "name": "ipython",
    "version": 2
   },
   "file_extension": ".py",
   "mimetype": "text/x-python",
   "name": "python",
   "nbconvert_exporter": "python",
   "pygments_lexer": "ipython2",
   "version": "2.7.13"
  }
 },
 "nbformat": 4,
 "nbformat_minor": 2
}
