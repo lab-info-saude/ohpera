{
 "cells": [
  {
   "cell_type": "markdown",
   "metadata": {},
   "source": [
    "# Bibliotecas"
   ]
  },
  {
   "cell_type": "code",
   "execution_count": 79,
   "metadata": {
    "collapsed": true
   },
   "outputs": [],
   "source": [
    "import os\n",
    "import pandas as pd\n",
    "import numpy as np\n",
    "import scipy as sp\n",
    "from scipy import signal\n",
    "import ml_time_series as mls\n",
    "import timeit\n",
    "from datetime import datetime\n",
    "from sklearn.externals import joblib\n",
    "import matplotlib.pyplot as plt\n",
    "from sklearn.decomposition import PCA\n",
    "from sklearn import preprocessing\n",
    "from sklearn import utils\n",
    "\n",
    "%matplotlib notebook"
   ]
  },
  {
   "cell_type": "code",
   "execution_count": 92,
   "metadata": {
    "collapsed": true
   },
   "outputs": [],
   "source": [
    "def HStacker(files_,t):\n",
    "    \n",
    "    #Lê dados do arquivo e remove janela\n",
    "    Xc = np.load('DB_PKS/preproc/'+files_[3])\n",
    "    Xc = Xc[:-49] #Exclui do STD para igualar o Hshape\n",
    "    Xci = np.load('DB_PKS/preproc/'+files_[0])\n",
    "    Xci = Xci[:-49]\n",
    "    Xc = np.hstack((Xc.reshape(Xc.shape),Xci.reshape(Xci.shape)))\n",
    "    \n",
    "    #Aplica Hstack nos dados\n",
    "    for j in range(1,len(files_)-1):\n",
    "        Xci = np.load('DB_PKS/preproc/'+files_[j])\n",
    "        Xc = np.hstack((Xc.reshape(Xc.shape),Xci.reshape(Xci.shape)))\n",
    "          \n",
    "    \n",
    "    # Salving in file on the folder <DB_PKS/preproc/labeled>\n",
    "    np.save('./DB_PKS/stacked/'+t+'_hs', Xc, allow_pickle=False)\n",
    "    DATA_hs.append(t+'_hs.npy')"
   ]
  },
  {
   "cell_type": "code",
   "execution_count": 81,
   "metadata": {
    "collapsed": true
   },
   "outputs": [],
   "source": [
    "def VStacker(files_,t):\n",
    "    \n",
    "    #Lê dados do arquivo e remove janela\n",
    "    Xc = np.load('DB_PKS/stacked/'+files_[0])\n",
    "    \n",
    "    #Aplica Hstack nos dados\n",
    "    for j in range(0,len(files_)-1):\n",
    "        Xci = np.load('DB_PKS/stacked/'+files_[j])\n",
    "        Xc = np.vstack((Xc,Xci)) \n",
    "          \n",
    "    \n",
    "    # Salving in file on the folder <DB_PKS/preproc/labeled>\n",
    "    np.save('./DB_PKS/stacked/'+t+'_vs', Xc, allow_pickle=False)\n",
    "    DATA_vs.append(t+'_vs.npy')"
   ]
  },
  {
   "cell_type": "code",
   "execution_count": 82,
   "metadata": {
    "collapsed": true
   },
   "outputs": [],
   "source": [
    "def HStackerF(files_,t):\n",
    "    \n",
    "    #Lê dados do arquivo e remove janela\n",
    "    Xc = np.load('DB_PKS/stacked/'+files_[5])\n",
    "    Xc = Xc[:35853] #Exclui amostras para igualar tamanho e possibilitar o vstack\n",
    "    \n",
    "    #Aplica Hstack nos dados\n",
    "    for j in range(0,len(files_)-1):\n",
    "        Xci = np.load('DB_PKS/stacked/'+files_[j])\n",
    "        Xci = Xci[:35853] #Exclui amostras para igualar tamanho e possibilitar o vstack\n",
    "        Xc = np.hstack((Xc.reshape(Xc.shape),Xci.reshape(Xci.shape)))\n",
    "          \n",
    "    \n",
    "    # Salving in file on the folder <DB_PKS/preproc/labeled>\n",
    "    np.save('./DB_PKS/stacked/'+t+'_fs', Xc, allow_pickle=False)\n",
    "    DATA_fs.append(t+'_fs.npy')"
   ]
  },
  {
   "cell_type": "code",
   "execution_count": 94,
   "metadata": {},
   "outputs": [],
   "source": [
    "#Carregando arquivos\n",
    "import commands\n",
    "\n",
    "A = commands.getoutput('ls DB_PKS/preproc')\n",
    "files_ = A.split('\\n')\n",
    "DATA_hs = []\n",
    "\n",
    "for i in range(0,len(files_),4):\n",
    "    HStacker(files_[i:i+4],files_[i:i+4][0].split('-')[0]+str(i/4))\n",
    "    #print (files_[i:i+3],files_[0:3][0].split('-')[0]+str(i/3))"
   ]
  },
  {
   "cell_type": "code",
   "execution_count": 84,
   "metadata": {},
   "outputs": [
    {
     "data": {
      "text/plain": [
       "'Arthur Araujo Filho '"
      ]
     },
     "execution_count": 84,
     "metadata": {},
     "output_type": "execute_result"
    }
   ],
   "source": [
    "files_[0:][0].split('-')[0]"
   ]
  },
  {
   "cell_type": "code",
   "execution_count": 89,
   "metadata": {},
   "outputs": [
    {
     "data": {
      "text/plain": [
       "['Arthur Araujo Filho - Dia 17.11.18 as 16.12.34_fft.npy',\n",
       " 'Arthur Araujo Filho - Dia 17.11.18 as 16.12.34_filt.npy',\n",
       " 'Arthur Araujo Filho - Dia 17.11.18 as 16.12.34_rms.npy',\n",
       " 'Arthur Araujo Filho - Dia 17.11.18 as 16.12.34_std.npy']"
      ]
     },
     "execution_count": 89,
     "metadata": {},
     "output_type": "execute_result"
    }
   ],
   "source": [
    "files_[0:4]"
   ]
  },
  {
   "cell_type": "code",
   "execution_count": 87,
   "metadata": {},
   "outputs": [
    {
     "name": "stdout",
     "output_type": "stream",
     "text": [
      "(12000, 11951, 11951, 12000)\n",
      "(12000, 11951, 11951, 12000)\n",
      "(12000, 11951, 11951, 12000)\n",
      "(12000, 11951, 11951, 12000)\n",
      "(14000, 13951, 13951, 14000)\n",
      "(14000, 13951, 13951, 14000)\n",
      "(30000, 29951, 29951, 30000)\n",
      "(26000, 25951, 25951, 26000)\n",
      "(22000, 21951, 21951, 22000)\n",
      "(22000, 21951, 21951, 22000)\n",
      "(24000, 23951, 23951, 24000)\n",
      "(26000, 25951, 25951, 26000)\n",
      "(26000, 25951, 25951, 26000)\n",
      "(28000, 27951, 27951, 28000)\n",
      "(26000, 25951, 25951, 26000)\n",
      "(24000, 23951, 23951, 24000)\n",
      "(24000, 23951, 23951, 24000)\n",
      "(24000, 23951, 23951, 24000)\n",
      "(12000, 11951, 11951, 12000)\n",
      "(12000, 11951, 11951, 12000)\n",
      "(12000, 11951, 11951, 12000)\n",
      "(14000, 13951, 13951, 14000)\n",
      "(16000, 15951, 15951, 16000)\n",
      "(12000, 11951, 11951, 12000)\n",
      "(52000, 51951, 51951, 52000)\n",
      "(48000, 47951, 47951, 48000)\n",
      "(36000, 35951, 35951, 36000)\n",
      "(34000, 33951, 33951, 34000)\n",
      "(34000, 33951, 33951, 34000)\n",
      "(34000, 33951, 33951, 34000)\n",
      "(54000, 53951, 53951, 54000)\n",
      "(32000, 31951, 31951, 32000)\n",
      "(36000, 35951, 35951, 36000)\n",
      "(36000, 35951, 35951, 36000)\n",
      "(34000, 33951, 33951, 34000)\n",
      "(30000, 29951, 29951, 30000)\n",
      "(14000, 13951, 13951, 14000)\n",
      "(12000, 11951, 11951, 12000)\n",
      "(12000, 11951, 11951, 12000)\n",
      "(14000, 13951, 13951, 14000)\n",
      "(12000, 11951, 11951, 12000)\n",
      "(14000, 13951, 13951, 14000)\n",
      "(26000, 25951, 25951, 26000)\n",
      "(20000, 19951, 19951, 20000)\n",
      "(22000, 21951, 21951, 22000)\n",
      "(28000, 27951, 27951, 28000)\n",
      "(28000, 27951, 27951, 28000)\n",
      "(26000, 25951, 25951, 26000)\n",
      "(40000, 39951, 39951, 40000)\n",
      "(38000, 37951, 37951, 38000)\n",
      "(30000, 29951, 29951, 30000)\n",
      "(34000, 33951, 33951, 34000)\n",
      "(34000, 33951, 33951, 34000)\n",
      "(34000, 33951, 33951, 34000)\n",
      "(12000, 11951, 11951, 12000)\n",
      "(12000, 11951, 11951, 12000)\n",
      "(14000, 13951, 13951, 14000)\n",
      "(12000, 11951, 11951, 12000)\n",
      "(12000, 11951, 11951, 12000)\n",
      "(12000, 11951, 11951, 12000)\n",
      "(18000, 17951, 17951, 18000)\n",
      "(22000, 21951, 21951, 22000)\n",
      "(16000, 15951, 15951, 16000)\n",
      "(18000, 17951, 17951, 18000)\n",
      "(16000, 15951, 15951, 16000)\n",
      "(16000, 15951, 15951, 16000)\n",
      "(22000, 21951, 21951, 22000)\n",
      "(24000, 23951, 23951, 24000)\n",
      "(20000, 19951, 19951, 20000)\n",
      "(18000, 17951, 17951, 18000)\n",
      "(20000, 19951, 19951, 20000)\n",
      "(22000, 21951, 21951, 22000)\n",
      "(12000, 11951, 11951, 12000)\n",
      "(12000, 11951, 11951, 12000)\n",
      "(12000, 11951, 11951, 12000)\n",
      "(12000, 11951, 11951, 12000)\n",
      "(14000, 13951, 13951, 14000)\n",
      "(14000, 13951, 13951, 14000)\n",
      "(20000, 19951, 19951, 20000)\n",
      "(18000, 17951, 17951, 18000)\n",
      "(16000, 15951, 15951, 16000)\n",
      "(18000, 17951, 17951, 18000)\n",
      "(16000, 15951, 15951, 16000)\n",
      "(16000, 15951, 15951, 16000)\n",
      "(18000, 17951, 17951, 18000)\n",
      "(16000, 15951, 15951, 16000)\n",
      "(18000, 17951, 17951, 18000)\n",
      "(20000, 19951, 19951, 20000)\n",
      "(20000, 19951, 19951, 20000)\n",
      "(20000, 19951, 19951, 20000)\n",
      "(12000, 11951, 11951, 12000)\n",
      "(12000, 11951, 11951, 12000)\n",
      "(12000, 11951, 11951, 12000)\n",
      "(12000, 11951, 11951, 12000)\n",
      "(14000, 13951, 13951, 14000)\n",
      "(14000, 13951, 13951, 14000)\n",
      "(24000, 23951, 23951, 24000)\n",
      "(22000, 21951, 21951, 22000)\n",
      "(20000, 19951, 19951, 20000)\n",
      "(20000, 19951, 19951, 20000)\n",
      "(20000, 19951, 19951, 20000)\n",
      "(20000, 19951, 19951, 20000)\n",
      "(24000, 23951, 23951, 24000)\n",
      "(26000, 25951, 25951, 26000)\n",
      "(22000, 21951, 21951, 22000)\n",
      "(24000, 23951, 23951, 24000)\n",
      "(22000, 21951, 21951, 22000)\n",
      "(24000, 23951, 23951, 24000)\n",
      "(12000, 11951, 11951, 12000)\n",
      "(12000, 11951, 11951, 12000)\n",
      "(12000, 11951, 11951, 12000)\n",
      "(14000, 13951, 13951, 14000)\n",
      "(12000, 11951, 11951, 12000)\n",
      "(12000, 11951, 11951, 12000)\n",
      "(32000, 31951, 31951, 32000)\n",
      "(32000, 31951, 31951, 32000)\n",
      "(30000, 29951, 29951, 30000)\n",
      "(26000, 25951, 25951, 26000)\n",
      "(26000, 25951, 25951, 26000)\n",
      "(24000, 23951, 23951, 24000)\n",
      "(32000, 31951, 31951, 32000)\n",
      "(34000, 33951, 33951, 34000)\n",
      "(30000, 29951, 29951, 30000)\n",
      "(34000, 33951, 33951, 34000)\n",
      "(32000, 31951, 31951, 32000)\n",
      "(32000, 31951, 31951, 32000)\n",
      "(14000, 13951, 13951, 14000)\n",
      "(12000, 11951, 11951, 12000)\n",
      "(14000, 13951, 13951, 14000)\n",
      "(12000, 11951, 11951, 12000)\n",
      "(12000, 11951, 11951, 12000)\n",
      "(16000, 15951, 15951, 16000)\n",
      "(44000, 43951, 43951, 44000)\n",
      "(32000, 31951, 31951, 32000)\n",
      "(28000, 27951, 27951, 28000)\n",
      "(28000, 27951, 27951, 28000)\n",
      "(30000, 29951, 29951, 30000)\n",
      "(22000, 21951, 21951, 22000)\n",
      "(26000, 25951, 25951, 26000)\n",
      "(24000, 23951, 23951, 24000)\n",
      "(22000, 21951, 21951, 22000)\n",
      "(28000, 27951, 27951, 28000)\n",
      "(24000, 23951, 23951, 24000)\n",
      "(22000, 21951, 21951, 22000)\n",
      "(12000, 11951, 11951, 12000)\n",
      "(12000, 11951, 11951, 12000)\n",
      "(12000, 11951, 11951, 12000)\n",
      "(12000, 11951, 11951, 12000)\n",
      "(12000, 11951, 11951, 12000)\n",
      "(12000, 11951, 11951, 12000)\n",
      "(26000, 25951, 25951, 26000)\n",
      "(22000, 21951, 21951, 22000)\n",
      "(28000, 27951, 27951, 28000)\n",
      "(22000, 21951, 21951, 22000)\n",
      "(20000, 19951, 19951, 20000)\n",
      "(30000, 29951, 29951, 30000)\n",
      "(26000, 25951, 25951, 26000)\n",
      "(22000, 21951, 21951, 22000)\n",
      "(24000, 23951, 23951, 24000)\n",
      "(26000, 25951, 25951, 26000)\n",
      "(22000, 21951, 21951, 22000)\n",
      "(22000, 21951, 21951, 22000)\n",
      "(14000, 13951, 13951, 14000)\n",
      "(12000, 11951, 11951, 12000)\n",
      "(12000, 11951, 11951, 12000)\n",
      "(12000, 11951, 11951, 12000)\n",
      "(12000, 11951, 11951, 12000)\n",
      "(12000, 11951, 11951, 12000)\n",
      "(18000, 17951, 17951, 18000)\n",
      "(18000, 17951, 17951, 18000)\n",
      "(18000, 17951, 17951, 18000)\n",
      "(20000, 19951, 19951, 20000)\n",
      "(18000, 17951, 17951, 18000)\n",
      "(18000, 17951, 17951, 18000)\n",
      "(20000, 19951, 19951, 20000)\n",
      "(18000, 17951, 17951, 18000)\n",
      "(20000, 19951, 19951, 20000)\n",
      "(18000, 17951, 17951, 18000)\n",
      "(18000, 17951, 17951, 18000)\n",
      "(22000, 21951, 21951, 22000)\n",
      "(12000, 11951, 11951, 12000)\n",
      "(12000, 11951, 11951, 12000)\n",
      "(12000, 11951, 11951, 12000)\n",
      "(12000, 11951, 11951, 12000)\n",
      "(12000, 11951, 11951, 12000)\n",
      "(12000, 11951, 11951, 12000)\n",
      "(28000, 27951, 27951, 28000)\n",
      "(26000, 25951, 25951, 26000)\n",
      "(26000, 25951, 25951, 26000)\n",
      "(30000, 29951, 29951, 30000)\n",
      "(26000, 25951, 25951, 26000)\n",
      "(26000, 25951, 25951, 26000)\n",
      "(30000, 29951, 29951, 30000)\n",
      "(30000, 29951, 29951, 30000)\n",
      "(30000, 29951, 29951, 30000)\n",
      "(28000, 27951, 27951, 28000)\n",
      "(28000, 27951, 27951, 28000)\n",
      "(28000, 27951, 27951, 28000)\n",
      "(12000, 11951, 11951, 12000)\n",
      "(12000, 11951, 11951, 12000)\n",
      "(12000, 11951, 11951, 12000)\n",
      "(12000, 11951, 11951, 12000)\n",
      "(14000, 13951, 13951, 14000)\n",
      "(14000, 13951, 13951, 14000)\n",
      "(30000, 29951, 29951, 30000)\n",
      "(26000, 25951, 25951, 26000)\n",
      "(28000, 27951, 27951, 28000)\n",
      "(26000, 25951, 25951, 26000)\n",
      "(24000, 23951, 23951, 24000)\n",
      "(22000, 21951, 21951, 22000)\n",
      "(28000, 27951, 27951, 28000)\n",
      "(24000, 23951, 23951, 24000)\n",
      "(22000, 21951, 21951, 22000)\n",
      "(24000, 23951, 23951, 24000)\n",
      "(24000, 23951, 23951, 24000)\n",
      "(22000, 21951, 21951, 22000)\n",
      "(12000, 11951, 11951, 12000)\n",
      "(12000, 11951, 11951, 12000)\n",
      "(14000, 13951, 13951, 14000)\n",
      "(12000, 11951, 11951, 12000)\n",
      "(12000, 11951, 11951, 12000)\n",
      "(14000, 13951, 13951, 14000)\n",
      "(66000, 65951, 65951, 66000)\n",
      "(80000, 79951, 79951, 80000)\n",
      "(80000, 79951, 79951, 80000)\n",
      "(96000, 95951, 95951, 96000)\n",
      "(62000, 61951, 61951, 62000)\n",
      "(92000, 91951, 91951, 92000)\n",
      "(80000, 79951, 79951, 80000)\n",
      "(56000, 55951, 55951, 56000)\n",
      "(62000, 61951, 61951, 62000)\n",
      "(96000, 95951, 95951, 96000)\n",
      "(80000, 79951, 79951, 80000)\n",
      "(72000, 71951, 71951, 72000)\n",
      "(12000, 11951, 11951, 12000)\n",
      "(12000, 11951, 11951, 12000)\n",
      "(12000, 11951, 11951, 12000)\n",
      "(12000, 11951, 11951, 12000)\n",
      "(12000, 11951, 11951, 12000)\n",
      "(12000, 11951, 11951, 12000)\n",
      "(26000, 25951, 25951, 26000)\n",
      "(24000, 23951, 23951, 24000)\n",
      "(26000, 25951, 25951, 26000)\n",
      "(20000, 19951, 19951, 20000)\n",
      "(18000, 17951, 17951, 18000)\n",
      "(20000, 19951, 19951, 20000)\n",
      "(24000, 23951, 23951, 24000)\n",
      "(22000, 21951, 21951, 22000)\n",
      "(20000, 19951, 19951, 20000)\n",
      "(26000, 25951, 25951, 26000)\n",
      "(24000, 23951, 23951, 24000)\n",
      "(22000, 21951, 21951, 22000)\n"
     ]
    }
   ],
   "source": [
    "for i in range(0,len(files_),4):\n",
    "    r = files_[i:i+4]\n",
    "    \n",
    "    print (((np.load('DB_PKS/preproc/'+r[0])).shape[0],(np.load('DB_PKS/preproc/'+r[1])).shape[0],\n",
    "            (np.load('DB_PKS/preproc/'+r[2])).shape[0],(np.load('DB_PKS/preproc/'+r[3])).shape[0]))"
   ]
  },
  {
   "cell_type": "code",
   "execution_count": 9,
   "metadata": {},
   "outputs": [
    {
     "name": "stdout",
     "output_type": "stream",
     "text": [
      "Carmino Pereira da Silva \n"
     ]
    }
   ],
   "source": [
    "import re \n",
    "\n",
    "print  (re.findall('\\d*\\D+',(DATA_hs[50:53][0]))[0])\n",
    "\n"
   ]
  },
  {
   "cell_type": "code",
   "execution_count": 95,
   "metadata": {},
   "outputs": [
    {
     "data": {
      "text/plain": [
       "['Arthur Araujo Filho 0_hs.npy',\n",
       " 'Arthur Araujo Filho 1_hs.npy',\n",
       " 'Arthur Araujo Filho 2_hs.npy',\n",
       " 'Arthur Araujo Filho 3_hs.npy',\n",
       " 'Arthur Araujo Filho 4_hs.npy',\n",
       " 'Arthur Araujo Filho 5_hs.npy',\n",
       " 'Arthur Araujo Filho 6_hs.npy',\n",
       " 'Arthur Araujo Filho 7_hs.npy',\n",
       " 'Arthur Araujo Filho 8_hs.npy',\n",
       " 'Arthur Araujo Filho 9_hs.npy',\n",
       " 'Arthur Araujo Filho 10_hs.npy',\n",
       " 'Arthur Araujo Filho 11_hs.npy',\n",
       " 'Arthur Araujo Filho 12_hs.npy',\n",
       " 'Arthur Araujo Filho 13_hs.npy',\n",
       " 'Arthur Araujo Filho 14_hs.npy',\n",
       " 'Arthur Araujo Filho 15_hs.npy',\n",
       " 'Arthur Araujo Filho 16_hs.npy',\n",
       " 'Arthur Araujo Filho 17_hs.npy',\n",
       " 'Boanerges Ramos Cunha 18_hs.npy',\n",
       " 'Boanerges Ramos Cunha 19_hs.npy',\n",
       " 'Boanerges Ramos Cunha 20_hs.npy',\n",
       " 'Boanerges Ramos Cunha 21_hs.npy',\n",
       " 'Boanerges Ramos Cunha 22_hs.npy',\n",
       " 'Boanerges Ramos Cunha 23_hs.npy',\n",
       " 'Boanerges Ramos Cunha 24_hs.npy',\n",
       " 'Boanerges Ramos Cunha 25_hs.npy',\n",
       " 'Boanerges Ramos Cunha 26_hs.npy',\n",
       " 'Boanerges Ramos Cunha 27_hs.npy',\n",
       " 'Boanerges Ramos Cunha 28_hs.npy',\n",
       " 'Boanerges Ramos Cunha 29_hs.npy',\n",
       " 'Boanerges Ramos Cunha 30_hs.npy',\n",
       " 'Boanerges Ramos Cunha 31_hs.npy',\n",
       " 'Boanerges Ramos Cunha 32_hs.npy',\n",
       " 'Boanerges Ramos Cunha 33_hs.npy',\n",
       " 'Boanerges Ramos Cunha 34_hs.npy',\n",
       " 'Boanerges Ramos Cunha 35_hs.npy',\n",
       " 'Carmino Pereira da Silva 36_hs.npy',\n",
       " 'Carmino Pereira da Silva 37_hs.npy',\n",
       " 'Carmino Pereira da Silva 38_hs.npy',\n",
       " 'Carmino Pereira da Silva 39_hs.npy',\n",
       " 'Carmino Pereira da Silva 40_hs.npy',\n",
       " 'Carmino Pereira da Silva 41_hs.npy',\n",
       " 'Carmino Pereira da Silva 42_hs.npy',\n",
       " 'Carmino Pereira da Silva 43_hs.npy',\n",
       " 'Carmino Pereira da Silva 44_hs.npy',\n",
       " 'Carmino Pereira da Silva 45_hs.npy',\n",
       " 'Carmino Pereira da Silva 46_hs.npy',\n",
       " 'Carmino Pereira da Silva 47_hs.npy',\n",
       " 'Carmino Pereira da Silva 48_hs.npy',\n",
       " 'Carmino Pereira da Silva 49_hs.npy',\n",
       " 'Carmino Pereira da Silva 50_hs.npy',\n",
       " 'Carmino Pereira da Silva 51_hs.npy',\n",
       " 'Carmino Pereira da Silva 52_hs.npy',\n",
       " 'Carmino Pereira da Silva 53_hs.npy',\n",
       " 'Diniz Esmeraldo 54_hs.npy',\n",
       " 'Diniz Esmeraldo 55_hs.npy',\n",
       " 'Diniz Esmeraldo 56_hs.npy',\n",
       " 'Diniz Esmeraldo 57_hs.npy',\n",
       " 'Diniz Esmeraldo 58_hs.npy',\n",
       " 'Diniz Esmeraldo 59_hs.npy',\n",
       " 'Diniz Esmeraldo 60_hs.npy',\n",
       " 'Diniz Esmeraldo 61_hs.npy',\n",
       " 'Diniz Esmeraldo 62_hs.npy',\n",
       " 'Diniz Esmeraldo 63_hs.npy',\n",
       " 'Diniz Esmeraldo 64_hs.npy',\n",
       " 'Diniz Esmeraldo 65_hs.npy',\n",
       " 'Diniz Esmeraldo 66_hs.npy',\n",
       " 'Diniz Esmeraldo 67_hs.npy',\n",
       " 'Diniz Esmeraldo 68_hs.npy',\n",
       " 'Diniz Esmeraldo 69_hs.npy',\n",
       " 'Diniz Esmeraldo 70_hs.npy',\n",
       " 'Diniz Esmeraldo 71_hs.npy',\n",
       " 'Donia Aires 72_hs.npy',\n",
       " 'Donia Aires 73_hs.npy',\n",
       " 'Donia Aires 74_hs.npy',\n",
       " 'Donia Aires 75_hs.npy',\n",
       " 'Donia Aires 76_hs.npy',\n",
       " 'Donia Aires 77_hs.npy',\n",
       " 'Donia Aires 78_hs.npy',\n",
       " 'Donia Aires 79_hs.npy',\n",
       " 'Donia Aires 80_hs.npy',\n",
       " 'Donia Aires 81_hs.npy',\n",
       " 'Donia Aires 82_hs.npy',\n",
       " 'Donia Aires 83_hs.npy',\n",
       " 'Donia Aires 84_hs.npy',\n",
       " 'Donia Aires 85_hs.npy',\n",
       " 'Donia Aires 86_hs.npy',\n",
       " 'Donia Aires 87_hs.npy',\n",
       " 'Donia Aires 88_hs.npy',\n",
       " 'Donia Aires 89_hs.npy',\n",
       " 'Fernando Francisco da Silva 90_hs.npy',\n",
       " 'Fernando Francisco da Silva 91_hs.npy',\n",
       " 'Fernando Francisco da Silva 92_hs.npy',\n",
       " 'Fernando Francisco da Silva 93_hs.npy',\n",
       " 'Fernando Francisco da Silva 94_hs.npy',\n",
       " 'Fernando Francisco da Silva 95_hs.npy',\n",
       " 'Fernando Francisco da Silva 96_hs.npy',\n",
       " 'Fernando Francisco da Silva 97_hs.npy',\n",
       " 'Fernando Francisco da Silva 98_hs.npy',\n",
       " 'Fernando Francisco da Silva 99_hs.npy',\n",
       " 'Fernando Francisco da Silva 100_hs.npy',\n",
       " 'Fernando Francisco da Silva 101_hs.npy',\n",
       " 'Fernando Francisco da Silva 102_hs.npy',\n",
       " 'Fernando Francisco da Silva 103_hs.npy',\n",
       " 'Fernando Francisco da Silva 104_hs.npy',\n",
       " 'Fernando Francisco da Silva 105_hs.npy',\n",
       " 'Fernando Francisco da Silva 106_hs.npy',\n",
       " 'Fernando Francisco da Silva 107_hs.npy',\n",
       " 'Gastao Goncalves da Silva 108_hs.npy',\n",
       " 'Gastao Goncalves da Silva 109_hs.npy',\n",
       " 'Gastao Goncalves da Silva 110_hs.npy',\n",
       " 'Gastao Goncalves da Silva 111_hs.npy',\n",
       " 'Gastao Goncalves da Silva 112_hs.npy',\n",
       " 'Gastao Goncalves da Silva 113_hs.npy',\n",
       " 'Gastao Goncalves da Silva 114_hs.npy',\n",
       " 'Gastao Goncalves da Silva 115_hs.npy',\n",
       " 'Gastao Goncalves da Silva 116_hs.npy',\n",
       " 'Gastao Goncalves da Silva 117_hs.npy',\n",
       " 'Gastao Goncalves da Silva 118_hs.npy',\n",
       " 'Gastao Goncalves da Silva 119_hs.npy',\n",
       " 'Gastao Goncalves da Silva 120_hs.npy',\n",
       " 'Gastao Goncalves da Silva 121_hs.npy',\n",
       " 'Gastao Goncalves da Silva 122_hs.npy',\n",
       " 'Gastao Goncalves da Silva 123_hs.npy',\n",
       " 'Gastao Goncalves da Silva 124_hs.npy',\n",
       " 'Gastao Goncalves 125_hs.npy',\n",
       " 'Ismael Rodrigues do Carmo 126_hs.npy',\n",
       " 'Ismael Rodrigues do Carmo 127_hs.npy',\n",
       " 'Ismael Rodrigues do Carmo 128_hs.npy',\n",
       " 'Ismael Rodrigues do Carmo 129_hs.npy',\n",
       " 'Ismael Rodrigues do Carmo 130_hs.npy',\n",
       " 'Ismael Rodrigues do Carmo 131_hs.npy',\n",
       " 'Ismael Rodrigues do Carmo 132_hs.npy',\n",
       " 'Ismael Rodrigues do Carmo 133_hs.npy',\n",
       " 'Ismael Rodrigues do Carmo 134_hs.npy',\n",
       " 'Ismael Rodrigues do Carmo 135_hs.npy',\n",
       " 'Ismael Rodrigues do Carmo 136_hs.npy',\n",
       " 'Ismael Rodrigues do Carmo 137_hs.npy',\n",
       " 'Ismael Rodrigues do Carmo 138_hs.npy',\n",
       " 'Ismael Rodrigues do Carmo 139_hs.npy',\n",
       " 'Ismael Rodrigues do Carmo 140_hs.npy',\n",
       " 'Ismael Rodrigues do Carmo 141_hs.npy',\n",
       " 'Ismael Rodrigues do Carmo 142_hs.npy',\n",
       " 'Ismael Rodrigues do Carmo 143_hs.npy',\n",
       " 'Ivanildes Barbosa 144_hs.npy',\n",
       " 'Ivanildes Barbosa 145_hs.npy',\n",
       " 'Ivanildes Barbosa 146_hs.npy',\n",
       " 'Ivanildes Barbosa 147_hs.npy',\n",
       " 'Ivanildes Barbosa 148_hs.npy',\n",
       " 'Ivanildes Barbosa 149_hs.npy',\n",
       " 'Ivanildes Barbosa 150_hs.npy',\n",
       " 'Ivanildes Barbosa 151_hs.npy',\n",
       " 'Ivanildes Barbosa 152_hs.npy',\n",
       " 'Ivanildes Barbosa 153_hs.npy',\n",
       " 'Ivanildes Barbosa 154_hs.npy',\n",
       " 'Ivanildes Barbosa 155_hs.npy',\n",
       " 'Ivanildes Barbosa 156_hs.npy',\n",
       " 'Ivanildes Barbosa 157_hs.npy',\n",
       " 'Ivanildes Barbosa 158_hs.npy',\n",
       " 'Ivanildes Barbosa 159_hs.npy',\n",
       " 'Ivanildes Barbosa 160_hs.npy',\n",
       " 'Ivanildes Barbosa 161_hs.npy',\n",
       " 'Jose Fernandes Araujo 162_hs.npy',\n",
       " 'Jose Fernandes Araujo 163_hs.npy',\n",
       " 'Jose Fernandes Araujo 164_hs.npy',\n",
       " 'Jose Fernandes Araujo 165_hs.npy',\n",
       " 'Jose Fernandes Araujo 166_hs.npy',\n",
       " 'Jose Fernandes Araujo 167_hs.npy',\n",
       " 'Jose Fernandes Araujo 168_hs.npy',\n",
       " 'Jose Fernandes Araujo 169_hs.npy',\n",
       " 'Jose Fernandes Araujo 170_hs.npy',\n",
       " 'Jose Fernandes Araujo 171_hs.npy',\n",
       " 'Jose Fernandes Araujo 172_hs.npy',\n",
       " 'Jose Fernandes Araujo 173_hs.npy',\n",
       " 'Jose Fernandes Araujo 174_hs.npy',\n",
       " 'Jose Fernandes Araujo 175_hs.npy',\n",
       " 'Jose Fernandes Araujo 176_hs.npy',\n",
       " 'Jose Fernandes Araujo 177_hs.npy',\n",
       " 'Jose Fernandes Araujo 178_hs.npy',\n",
       " 'Jose Fernandes Araujo 179_hs.npy',\n",
       " 'Jose Francisto Fontineli  180_hs.npy',\n",
       " 'Jose Francisto Fontineli  181_hs.npy',\n",
       " 'Jose Francisto Fontineli  182_hs.npy',\n",
       " 'Jose Francisto Fontineli  183_hs.npy',\n",
       " 'Jose Francisto Fontineli  184_hs.npy',\n",
       " 'Jose Francisto Fontineli  185_hs.npy',\n",
       " 'Jose Francisto Fontineli  186_hs.npy',\n",
       " 'Jose Francisto Fontineli  187_hs.npy',\n",
       " 'Jose Francisto Fontineli  188_hs.npy',\n",
       " 'Jose Francisto Fontineli  189_hs.npy',\n",
       " 'Jose Francisto Fontineli  190_hs.npy',\n",
       " 'Jose Francisto Fontineli  191_hs.npy',\n",
       " 'Jose Francisto Fontineli  192_hs.npy',\n",
       " 'Jose Francisto Fontineli  193_hs.npy',\n",
       " 'Jose Francisto Fontineli  194_hs.npy',\n",
       " 'Jose Francisto Fontineli  195_hs.npy',\n",
       " 'Jose Francisto Fontineli  196_hs.npy',\n",
       " 'Jose Francisto Fontineli  197_hs.npy',\n",
       " 'Marcilio Pontinho de Rezende 198_hs.npy',\n",
       " 'Marcilio Pontinho de Rezende 199_hs.npy',\n",
       " 'Marcilio Pontinho de Rezende 200_hs.npy',\n",
       " 'Marcilio Pontinho de Rezende 201_hs.npy',\n",
       " 'Marcilio Pontinho de Rezende 202_hs.npy',\n",
       " 'Marcilio Pontinho de Rezende 203_hs.npy',\n",
       " 'Marcilio Pontinho de Rezende 204_hs.npy',\n",
       " 'Marcilio Pontinho de Rezende 205_hs.npy',\n",
       " 'Marcilio Pontinho de Rezende 206_hs.npy',\n",
       " 'Marcilio Pontinho de Rezende 207_hs.npy',\n",
       " 'Marcilio Pontinho de Rezende 208_hs.npy',\n",
       " 'Marcilio Pontinho de Rezende 209_hs.npy',\n",
       " 'Marcilio Pontinho de Rezende 210_hs.npy',\n",
       " 'Marcilio Pontinho de Rezende 211_hs.npy',\n",
       " 'Marcilio Pontinho de Rezende 212_hs.npy',\n",
       " 'Marcilio Pontinho de Rezende 213_hs.npy',\n",
       " 'Marcilio Pontinho de Rezende 214_hs.npy',\n",
       " 'Marcilio Pontinho de Rezende 215_hs.npy',\n",
       " 'Osvaldir Borborema 216_hs.npy',\n",
       " 'Osvaldir Borborema 217_hs.npy',\n",
       " 'Osvaldir Borborema 218_hs.npy',\n",
       " 'Osvaldir Borborema 219_hs.npy',\n",
       " 'Osvaldir Borborema 220_hs.npy',\n",
       " 'Osvaldir Borborema 221_hs.npy',\n",
       " 'Osvaldir Borborema 222_hs.npy',\n",
       " 'Osvaldir Borborema 223_hs.npy',\n",
       " 'Osvaldir Borborema 224_hs.npy',\n",
       " 'Osvaldir Borborema 225_hs.npy',\n",
       " 'Osvaldir Borborema 226_hs.npy',\n",
       " 'Osvaldir Borborema 227_hs.npy',\n",
       " 'Osvaldir Borborema 228_hs.npy',\n",
       " 'Osvaldir Borborema 229_hs.npy',\n",
       " 'Osvaldir Borborema 230_hs.npy',\n",
       " 'Osvaldir Borborema 231_hs.npy',\n",
       " 'Osvaldir Borborema 232_hs.npy',\n",
       " 'Osvaldir Borborema 233_hs.npy',\n",
       " 'Sergio Lamenza 234_hs.npy',\n",
       " 'Sergio Lamenza 235_hs.npy',\n",
       " 'Sergio Lamenza 236_hs.npy',\n",
       " 'Sergio Lamenza 237_hs.npy',\n",
       " 'Sergio Lamenza 238_hs.npy',\n",
       " 'Sergio Lamenza 239_hs.npy',\n",
       " 'Sergio Lamenza 240_hs.npy',\n",
       " 'Sergio Lamenza 241_hs.npy',\n",
       " 'Sergio Lamenza 242_hs.npy',\n",
       " 'Sergio Lamenza 243_hs.npy',\n",
       " 'Sergio Lamenza 244_hs.npy',\n",
       " 'Sergio Lamenza 245_hs.npy',\n",
       " 'Sergio Lamenza 246_hs.npy',\n",
       " 'Sergio Lamenza 247_hs.npy',\n",
       " 'Sergio Lamenza 248_hs.npy',\n",
       " 'Sergio Lamenza 249_hs.npy',\n",
       " 'Sergio Lamenza 250_hs.npy',\n",
       " 'Sergio Lamenza 251_hs.npy']"
      ]
     },
     "execution_count": 95,
     "metadata": {},
     "output_type": "execute_result"
    }
   ],
   "source": [
    "DATA_hs"
   ]
  },
  {
   "cell_type": "code",
   "execution_count": 96,
   "metadata": {
    "collapsed": true
   },
   "outputs": [],
   "source": [
    "Xc = np.load('DB_PKS/stacked/Arthur Araujo Filho 0_hs.npy')"
   ]
  },
  {
   "cell_type": "code",
   "execution_count": 97,
   "metadata": {
    "scrolled": false
   },
   "outputs": [
    {
     "data": {
      "text/html": [
       "<div>\n",
       "<style>\n",
       "    .dataframe thead tr:only-child th {\n",
       "        text-align: right;\n",
       "    }\n",
       "\n",
       "    .dataframe thead th {\n",
       "        text-align: left;\n",
       "    }\n",
       "\n",
       "    .dataframe tbody tr th {\n",
       "        vertical-align: top;\n",
       "    }\n",
       "</style>\n",
       "<table border=\"1\" class=\"dataframe\">\n",
       "  <thead>\n",
       "    <tr style=\"text-align: right;\">\n",
       "      <th></th>\n",
       "      <th>0</th>\n",
       "      <th>1</th>\n",
       "      <th>2</th>\n",
       "      <th>3</th>\n",
       "      <th>4</th>\n",
       "      <th>5</th>\n",
       "      <th>6</th>\n",
       "      <th>7</th>\n",
       "      <th>8</th>\n",
       "      <th>9</th>\n",
       "      <th>10</th>\n",
       "      <th>11</th>\n",
       "      <th>12</th>\n",
       "      <th>13</th>\n",
       "      <th>14</th>\n",
       "      <th>15</th>\n",
       "    </tr>\n",
       "  </thead>\n",
       "  <tbody>\n",
       "    <tr>\n",
       "      <th>0</th>\n",
       "      <td>0.002454</td>\n",
       "      <td>-0.001221</td>\n",
       "      <td>0.016078</td>\n",
       "      <td>0.016148</td>\n",
       "      <td>83175.300000</td>\n",
       "      <td>31503.679104</td>\n",
       "      <td>64245.622857</td>\n",
       "      <td>85142.152672</td>\n",
       "      <td>0.177580</td>\n",
       "      <td>0.159890</td>\n",
       "      <td>-0.286540</td>\n",
       "      <td>0.051892</td>\n",
       "      <td>11.446258</td>\n",
       "      <td>13.161945</td>\n",
       "      <td>24.856702</td>\n",
       "      <td>19.817440</td>\n",
       "    </tr>\n",
       "    <tr>\n",
       "      <th>1</th>\n",
       "      <td>0.002123</td>\n",
       "      <td>-0.001221</td>\n",
       "      <td>0.016078</td>\n",
       "      <td>0.013830</td>\n",
       "      <td>35594.691359</td>\n",
       "      <td>12367.931209</td>\n",
       "      <td>44455.620186</td>\n",
       "      <td>39285.893634</td>\n",
       "      <td>0.137408</td>\n",
       "      <td>0.217005</td>\n",
       "      <td>-0.212902</td>\n",
       "      <td>-0.126882</td>\n",
       "      <td>11.403695</td>\n",
       "      <td>13.155661</td>\n",
       "      <td>24.961891</td>\n",
       "      <td>19.516842</td>\n",
       "    </tr>\n",
       "    <tr>\n",
       "      <th>2</th>\n",
       "      <td>0.002784</td>\n",
       "      <td>0.000705</td>\n",
       "      <td>0.014955</td>\n",
       "      <td>0.022330</td>\n",
       "      <td>57290.183123</td>\n",
       "      <td>5324.741546</td>\n",
       "      <td>89391.768584</td>\n",
       "      <td>35538.258799</td>\n",
       "      <td>0.147789</td>\n",
       "      <td>0.318284</td>\n",
       "      <td>-0.122926</td>\n",
       "      <td>-0.406303</td>\n",
       "      <td>11.341954</td>\n",
       "      <td>13.177480</td>\n",
       "      <td>25.011108</td>\n",
       "      <td>19.332502</td>\n",
       "    </tr>\n",
       "    <tr>\n",
       "      <th>3</th>\n",
       "      <td>0.001792</td>\n",
       "      <td>-0.000258</td>\n",
       "      <td>0.014955</td>\n",
       "      <td>0.012284</td>\n",
       "      <td>36185.811721</td>\n",
       "      <td>7167.004118</td>\n",
       "      <td>26367.619636</td>\n",
       "      <td>56738.077665</td>\n",
       "      <td>0.282882</td>\n",
       "      <td>0.487074</td>\n",
       "      <td>-0.007218</td>\n",
       "      <td>-0.741849</td>\n",
       "      <td>11.341954</td>\n",
       "      <td>13.261443</td>\n",
       "      <td>25.167758</td>\n",
       "      <td>18.626781</td>\n",
       "    </tr>\n",
       "    <tr>\n",
       "      <th>4</th>\n",
       "      <td>0.002454</td>\n",
       "      <td>0.000224</td>\n",
       "      <td>0.017202</td>\n",
       "      <td>0.014603</td>\n",
       "      <td>22033.382078</td>\n",
       "      <td>4793.733812</td>\n",
       "      <td>28252.036321</td>\n",
       "      <td>34124.670679</td>\n",
       "      <td>0.552582</td>\n",
       "      <td>0.706690</td>\n",
       "      <td>0.125195</td>\n",
       "      <td>-0.980704</td>\n",
       "      <td>11.657292</td>\n",
       "      <td>13.429970</td>\n",
       "      <td>25.293589</td>\n",
       "      <td>18.562591</td>\n",
       "    </tr>\n",
       "  </tbody>\n",
       "</table>\n",
       "</div>"
      ],
      "text/plain": [
       "         0         1         2         3             4             5   \\\n",
       "0  0.002454 -0.001221  0.016078  0.016148  83175.300000  31503.679104   \n",
       "1  0.002123 -0.001221  0.016078  0.013830  35594.691359  12367.931209   \n",
       "2  0.002784  0.000705  0.014955  0.022330  57290.183123   5324.741546   \n",
       "3  0.001792 -0.000258  0.014955  0.012284  36185.811721   7167.004118   \n",
       "4  0.002454  0.000224  0.017202  0.014603  22033.382078   4793.733812   \n",
       "\n",
       "             6             7         8         9         10        11  \\\n",
       "0  64245.622857  85142.152672  0.177580  0.159890 -0.286540  0.051892   \n",
       "1  44455.620186  39285.893634  0.137408  0.217005 -0.212902 -0.126882   \n",
       "2  89391.768584  35538.258799  0.147789  0.318284 -0.122926 -0.406303   \n",
       "3  26367.619636  56738.077665  0.282882  0.487074 -0.007218 -0.741849   \n",
       "4  28252.036321  34124.670679  0.552582  0.706690  0.125195 -0.980704   \n",
       "\n",
       "          12         13         14         15  \n",
       "0  11.446258  13.161945  24.856702  19.817440  \n",
       "1  11.403695  13.155661  24.961891  19.516842  \n",
       "2  11.341954  13.177480  25.011108  19.332502  \n",
       "3  11.341954  13.261443  25.167758  18.626781  \n",
       "4  11.657292  13.429970  25.293589  18.562591  "
      ]
     },
     "execution_count": 97,
     "metadata": {},
     "output_type": "execute_result"
    }
   ],
   "source": [
    "dfn = pd.DataFrame(data=Xc)\n",
    "dfn.head()"
   ]
  },
  {
   "cell_type": "code",
   "execution_count": 98,
   "metadata": {},
   "outputs": [
    {
     "data": {
      "text/plain": [
       "(11951, 16)"
      ]
     },
     "execution_count": 98,
     "metadata": {},
     "output_type": "execute_result"
    }
   ],
   "source": [
    "Xc.shape"
   ]
  },
  {
   "cell_type": "code",
   "execution_count": 99,
   "metadata": {},
   "outputs": [
    {
     "data": {
      "text/plain": [
       "252"
      ]
     },
     "execution_count": 99,
     "metadata": {},
     "output_type": "execute_result"
    }
   ],
   "source": [
    "len(DATA_hs)"
   ]
  },
  {
   "cell_type": "code",
   "execution_count": 101,
   "metadata": {},
   "outputs": [],
   "source": [
    "#Carregando arquivos\n",
    "DATA_vs = []\n",
    "\n",
    "for i in range(0,len(DATA_hs),3):\n",
    "    VStacker(DATA_hs[i:i+3],(re.findall('\\d*\\D+',DATA_hs[i:i+3][0])[0]+str(i/3)))"
   ]
  },
  {
   "cell_type": "code",
   "execution_count": 102,
   "metadata": {},
   "outputs": [
    {
     "data": {
      "text/plain": [
       "84"
      ]
     },
     "execution_count": 102,
     "metadata": {},
     "output_type": "execute_result"
    }
   ],
   "source": [
    "len(DATA_vs)"
   ]
  },
  {
   "cell_type": "code",
   "execution_count": 103,
   "metadata": {},
   "outputs": [
    {
     "data": {
      "text/plain": [
       "(35853, 12)"
      ]
     },
     "execution_count": 103,
     "metadata": {},
     "output_type": "execute_result"
    }
   ],
   "source": [
    "Xc = np.load('DB_PKS/stacked/Arthur Araujo Filho 3_vs.npy')\n",
    "dfn = pd.DataFrame(data=Xc)\n",
    "#dfn.head()\n",
    "\n",
    "Xc[:35853].shape"
   ]
  },
  {
   "cell_type": "code",
   "execution_count": 104,
   "metadata": {},
   "outputs": [
    {
     "name": "stdout",
     "output_type": "stream",
     "text": [
      "35853\n",
      "35853\n",
      "39853\n",
      "35853\n",
      "35853\n",
      "35853\n",
      "35853\n",
      "35853\n",
      "35853\n",
      "35853\n",
      "35853\n",
      "35853\n",
      "35853\n",
      "35853\n"
     ]
    }
   ],
   "source": [
    "for i in range(0,len(DATA_vs),6):\n",
    "    print min(np.load('DB_PKS/stacked/'+DATA_vs[i:i+6][0]).shape[0],np.load('DB_PKS/stacked/'+DATA_vs[i:i+6][1]).shape[0],\n",
    "           np.load('DB_PKS/stacked/'+DATA_vs[i:i+6][2]).shape[0],np.load('DB_PKS/stacked/'+DATA_vs[i:i+6][3]).shape[0],\n",
    "           np.load('DB_PKS/stacked/'+DATA_vs[i:i+6][4]).shape[0], np.load('DB_PKS/stacked/'+DATA_vs[i:i+6][5]).shape[0])"
   ]
  },
  {
   "cell_type": "code",
   "execution_count": 105,
   "metadata": {
    "scrolled": true
   },
   "outputs": [
    {
     "data": {
      "text/plain": [
       "['Arthur Araujo Filho 0_vs.npy',\n",
       " 'Arthur Araujo Filho 1_vs.npy',\n",
       " 'Arthur Araujo Filho 2_vs.npy',\n",
       " 'Arthur Araujo Filho 3_vs.npy',\n",
       " 'Arthur Araujo Filho 4_vs.npy',\n",
       " 'Arthur Araujo Filho 5_vs.npy',\n",
       " 'Boanerges Ramos Cunha 6_vs.npy',\n",
       " 'Boanerges Ramos Cunha 7_vs.npy',\n",
       " 'Boanerges Ramos Cunha 8_vs.npy',\n",
       " 'Boanerges Ramos Cunha 9_vs.npy',\n",
       " 'Boanerges Ramos Cunha 10_vs.npy',\n",
       " 'Boanerges Ramos Cunha 11_vs.npy',\n",
       " 'Carmino Pereira da Silva 12_vs.npy',\n",
       " 'Carmino Pereira da Silva 13_vs.npy',\n",
       " 'Carmino Pereira da Silva 14_vs.npy',\n",
       " 'Carmino Pereira da Silva 15_vs.npy',\n",
       " 'Carmino Pereira da Silva 16_vs.npy',\n",
       " 'Carmino Pereira da Silva 17_vs.npy',\n",
       " 'Diniz Esmeraldo 18_vs.npy',\n",
       " 'Diniz Esmeraldo 19_vs.npy',\n",
       " 'Diniz Esmeraldo 20_vs.npy',\n",
       " 'Diniz Esmeraldo 21_vs.npy',\n",
       " 'Diniz Esmeraldo 22_vs.npy',\n",
       " 'Diniz Esmeraldo 23_vs.npy',\n",
       " 'Donia Aires 24_vs.npy',\n",
       " 'Donia Aires 25_vs.npy',\n",
       " 'Donia Aires 26_vs.npy',\n",
       " 'Donia Aires 27_vs.npy',\n",
       " 'Donia Aires 28_vs.npy',\n",
       " 'Donia Aires 29_vs.npy',\n",
       " 'Fernando Francisco da Silva 30_vs.npy',\n",
       " 'Fernando Francisco da Silva 31_vs.npy',\n",
       " 'Fernando Francisco da Silva 32_vs.npy',\n",
       " 'Fernando Francisco da Silva 33_vs.npy',\n",
       " 'Fernando Francisco da Silva 34_vs.npy',\n",
       " 'Fernando Francisco da Silva 35_vs.npy',\n",
       " 'Gastao Goncalves da Silva 36_vs.npy',\n",
       " 'Gastao Goncalves da Silva 37_vs.npy',\n",
       " 'Gastao Goncalves da Silva 38_vs.npy',\n",
       " 'Gastao Goncalves da Silva 39_vs.npy',\n",
       " 'Gastao Goncalves da Silva 40_vs.npy',\n",
       " 'Gastao Goncalves da Silva 41_vs.npy',\n",
       " 'Ismael Rodrigues do Carmo 42_vs.npy',\n",
       " 'Ismael Rodrigues do Carmo 43_vs.npy',\n",
       " 'Ismael Rodrigues do Carmo 44_vs.npy',\n",
       " 'Ismael Rodrigues do Carmo 45_vs.npy',\n",
       " 'Ismael Rodrigues do Carmo 46_vs.npy',\n",
       " 'Ismael Rodrigues do Carmo 47_vs.npy',\n",
       " 'Ivanildes Barbosa 48_vs.npy',\n",
       " 'Ivanildes Barbosa 49_vs.npy',\n",
       " 'Ivanildes Barbosa 50_vs.npy',\n",
       " 'Ivanildes Barbosa 51_vs.npy',\n",
       " 'Ivanildes Barbosa 52_vs.npy',\n",
       " 'Ivanildes Barbosa 53_vs.npy',\n",
       " 'Jose Fernandes Araujo 54_vs.npy',\n",
       " 'Jose Fernandes Araujo 55_vs.npy',\n",
       " 'Jose Fernandes Araujo 56_vs.npy',\n",
       " 'Jose Fernandes Araujo 57_vs.npy',\n",
       " 'Jose Fernandes Araujo 58_vs.npy',\n",
       " 'Jose Fernandes Araujo 59_vs.npy',\n",
       " 'Jose Francisto Fontineli  60_vs.npy',\n",
       " 'Jose Francisto Fontineli  61_vs.npy',\n",
       " 'Jose Francisto Fontineli  62_vs.npy',\n",
       " 'Jose Francisto Fontineli  63_vs.npy',\n",
       " 'Jose Francisto Fontineli  64_vs.npy',\n",
       " 'Jose Francisto Fontineli  65_vs.npy',\n",
       " 'Marcilio Pontinho de Rezende 66_vs.npy',\n",
       " 'Marcilio Pontinho de Rezende 67_vs.npy',\n",
       " 'Marcilio Pontinho de Rezende 68_vs.npy',\n",
       " 'Marcilio Pontinho de Rezende 69_vs.npy',\n",
       " 'Marcilio Pontinho de Rezende 70_vs.npy',\n",
       " 'Marcilio Pontinho de Rezende 71_vs.npy',\n",
       " 'Osvaldir Borborema 72_vs.npy',\n",
       " 'Osvaldir Borborema 73_vs.npy',\n",
       " 'Osvaldir Borborema 74_vs.npy',\n",
       " 'Osvaldir Borborema 75_vs.npy',\n",
       " 'Osvaldir Borborema 76_vs.npy',\n",
       " 'Osvaldir Borborema 77_vs.npy',\n",
       " 'Sergio Lamenza 78_vs.npy',\n",
       " 'Sergio Lamenza 79_vs.npy',\n",
       " 'Sergio Lamenza 80_vs.npy',\n",
       " 'Sergio Lamenza 81_vs.npy',\n",
       " 'Sergio Lamenza 82_vs.npy',\n",
       " 'Sergio Lamenza 83_vs.npy']"
      ]
     },
     "execution_count": 105,
     "metadata": {},
     "output_type": "execute_result"
    }
   ],
   "source": [
    "DATA_vs"
   ]
  },
  {
   "cell_type": "code",
   "execution_count": 106,
   "metadata": {},
   "outputs": [
    {
     "data": {
      "text/plain": [
       "['Sergio Lamenza 78_vs.npy',\n",
       " 'Sergio Lamenza 79_vs.npy',\n",
       " 'Sergio Lamenza 80_vs.npy',\n",
       " 'Sergio Lamenza 81_vs.npy',\n",
       " 'Sergio Lamenza 82_vs.npy',\n",
       " 'Sergio Lamenza 83_vs.npy']"
      ]
     },
     "execution_count": 106,
     "metadata": {},
     "output_type": "execute_result"
    }
   ],
   "source": [
    "DATA_vs[78:78+6]"
   ]
  },
  {
   "cell_type": "code",
   "execution_count": 107,
   "metadata": {
    "collapsed": true,
    "scrolled": false
   },
   "outputs": [],
   "source": [
    "DATA_fs = []\n",
    "\n",
    "for i in range(0,len(DATA_vs),6):\n",
    "    HStackerF(DATA_vs[i:i+6],(re.findall('\\d*\\D+',DATA_vs[i:i+6][0])[0]+str(i/6)))"
   ]
  },
  {
   "cell_type": "code",
   "execution_count": 108,
   "metadata": {
    "scrolled": true
   },
   "outputs": [
    {
     "data": {
      "text/plain": [
       "['Arthur Araujo Filho 0_fs.npy',\n",
       " 'Boanerges Ramos Cunha 1_fs.npy',\n",
       " 'Carmino Pereira da Silva 2_fs.npy',\n",
       " 'Diniz Esmeraldo 3_fs.npy',\n",
       " 'Donia Aires 4_fs.npy',\n",
       " 'Fernando Francisco da Silva 5_fs.npy',\n",
       " 'Gastao Goncalves da Silva 6_fs.npy',\n",
       " 'Ismael Rodrigues do Carmo 7_fs.npy',\n",
       " 'Ivanildes Barbosa 8_fs.npy',\n",
       " 'Jose Fernandes Araujo 9_fs.npy',\n",
       " 'Jose Francisto Fontineli  10_fs.npy',\n",
       " 'Marcilio Pontinho de Rezende 11_fs.npy',\n",
       " 'Osvaldir Borborema 12_fs.npy',\n",
       " 'Sergio Lamenza 13_fs.npy']"
      ]
     },
     "execution_count": 108,
     "metadata": {},
     "output_type": "execute_result"
    }
   ],
   "source": [
    "DATA_fs"
   ]
  },
  {
   "cell_type": "code",
   "execution_count": 109,
   "metadata": {
    "collapsed": true
   },
   "outputs": [],
   "source": [
    "def proccess_data(x,DATA,LABEL):\n",
    "    \n",
    "    Xc = np.load(\"DB_PKS/stacked/\"+x)\n",
    "    print '\\nXc initial shape ', Xc.shape\n",
    "    \n",
    "    #Principal component analysis\n",
    "    pca = PCA(n_components=12)\n",
    "    pca.fit(Xc)\n",
    "    Xc = pca.transform(Xc)\n",
    "    print pca.explained_variance_ratio_\n",
    "    print ('Entropia: %3f' % (sum(pca.explained_variance_ratio_)))\n",
    "    print '\\nXc PCA shape ', Xc.shape\n",
    "    \n",
    "    #Create temporal serie\n",
    "    #Xc = mls.generate_envelope(Xc, NUM_SAMPLES)\n",
    "    #print 'Xc temporal-serie shape ', Xc.shape\n",
    "    \n",
    "    #Labeling the PKS level    \n",
    "    C = (np.ones(len(Xc))*LABEL).reshape((len(Xc),1))\n",
    "    Xc = np.hstack((Xc.reshape(Xc.shape),C.reshape((len(Xc),1)))) \n",
    "    print 'Xc labeled shape ', Xc.shape\n",
    "    \n",
    "    # Salving in file on the folder <DB_PKS/preproc/labeled>\n",
    "    np.save('./DB_PKS/labeled/'+x[:2]+'_tsl', Xc, allow_pickle=False)\n",
    "    print ''+x[:2]+'_tsl'\n",
    "    \n",
    "    DATA.append(x[:2]+'_tsl.npy')"
   ]
  },
  {
   "cell_type": "markdown",
   "metadata": {},
   "source": [
    "---"
   ]
  },
  {
   "cell_type": "markdown",
   "metadata": {},
   "source": [
    "#Validação\n",
    "start = timeit.default_timer()\n",
    "\n",
    "NUM_SAMPLES = 500\n",
    "l = [1]\n",
    "DATA = []\n",
    "\n",
    "for x, y in zip(DATA_hs, l):\n",
    "    proccess_data(x,DATA,NUM_SAMPLES,y)\n",
    "    \n",
    "stop = timeit.default_timer()\n",
    "ti = stop - start \n",
    "print ('Tempo total para o envelopamento: %.2f min' % (ti/60))"
   ]
  },
  {
   "cell_type": "markdown",
   "metadata": {},
   "source": [
    "DATA"
   ]
  },
  {
   "cell_type": "markdown",
   "metadata": {},
   "source": [
    "Xc = np.load('DB_INTENC/preproc/labeled/p4_hs.npy_tsl.npy')\n",
    "dfn = pd.DataFrame(data=Xc)\n",
    "dfn.head()"
   ]
  },
  {
   "cell_type": "markdown",
   "metadata": {},
   "source": [
    "---"
   ]
  },
  {
   "cell_type": "code",
   "execution_count": 110,
   "metadata": {
    "scrolled": true
   },
   "outputs": [
    {
     "name": "stdout",
     "output_type": "stream",
     "text": [
      "Arthur Araujo Filho 0_fs 1\n",
      "Boanerges Ramos Cunha 1_fs 2\n",
      "Carmino Pereira da Silva 2_fs 15\n",
      "Diniz Esmeraldo 3_fs 15\n",
      "Donia Aires 4_fs 2\n",
      "Fernando Francisco da Silva 5_fs 1\n",
      "Gastao Goncalves da Silva 6_fs 15\n",
      "Ismael Rodrigues do Carmo 7_fs 15\n",
      "Ivanildes Barbosa 8_fs 1\n",
      "Jose Fernandes Araujo 9_fs 1\n",
      "Jose Francisto Fontineli  10_fs 3\n",
      "Marcilio Pontinho de Rezende 11_fs 1\n",
      "Osvaldir Borborema 12_fs 4\n",
      "Sergio Lamenza 13_fs 1\n"
     ]
    }
   ],
   "source": [
    "#X = 'F'\n",
    "#Y = 'F'\n",
    "#Z = 'F'\n",
    "#l = [1, 1, 1, 1, 1, 1, 2, 2, 2, 2, 2, 2, 15, 15, 15, 15, 15, 15, 15, 15, 15, 15, 15, 15, 2, 2, 2, 2, 2, 2, 1, 1, 1, 1, 1, 1,\n",
    "# X, X, X, X, X, X, 15, 15, 15, 15, 15, 15, Y, Y, Y, Y, Y, Y, 15, 15, 15, 15, 15, 15, 1, 1, 1, 1, 1, 1, 1, 1, 1, 1, 1, 1,\n",
    "# 3, 3, 3, 3, 3, 3, Z, Z, Z, Z, Z, Z, 1, 1, 1, 1, 1, 1, 4, 4, 4, 4, 4, 4, 1, 1, 1, 1, 1, 1]\n",
    "\n",
    "l = [1, 2, 15, 15, 2, 1, 15, 15, 1, 1, 3, 1, 4, 1]\n",
    "\n",
    "#l = [2, 15, 4, 1, 0, 0, 15]\n",
    "for x, y in zip(DATA_fs, l):\n",
    "    print x[:-4],y"
   ]
  },
  {
   "cell_type": "code",
   "execution_count": null,
   "metadata": {
    "collapsed": true
   },
   "outputs": [],
   "source": []
  },
  {
   "cell_type": "code",
   "execution_count": 111,
   "metadata": {
    "scrolled": true
   },
   "outputs": [
    {
     "name": "stdout",
     "output_type": "stream",
     "text": [
      "\n",
      "Xc initial shape  (35853, 88)\n",
      "[ 0.75478122  0.12071703  0.06353929  0.01095846  0.01022043  0.00920592\n",
      "  0.00701385  0.00572622  0.00419019  0.00254314  0.00224999  0.00191954]\n",
      "Entropia: 0.993065\n",
      "\n",
      "Xc PCA shape  (35853, 12)\n",
      "Xc labeled shape  (35853, 13)\n",
      "Ar_tsl\n",
      "\n",
      "Xc initial shape  (35853, 88)\n",
      "[ 0.42418019  0.32884695  0.10093067  0.05033382  0.02355611  0.02021968\n",
      "  0.01950159  0.00924617  0.00678366  0.00429708  0.00305789  0.00276637]\n",
      "Entropia: 0.993720\n",
      "\n",
      "Xc PCA shape  (35853, 12)\n",
      "Xc labeled shape  (35853, 13)\n",
      "Bo_tsl\n",
      "\n",
      "Xc initial shape  (35853, 88)\n",
      "[ 0.53088855  0.15830302  0.08233744  0.06239993  0.03909952  0.03707633\n",
      "  0.02894163  0.01907319  0.01347736  0.00650038  0.00486483  0.00327569]\n",
      "Entropia: 0.986238\n",
      "\n",
      "Xc PCA shape  (35853, 12)\n",
      "Xc labeled shape  (35853, 13)\n",
      "Ca_tsl\n",
      "\n",
      "Xc initial shape  (35853, 88)\n",
      "[  7.38086773e-01   1.81515353e-01   3.31816303e-02   2.23501722e-02\n",
      "   8.22099828e-03   4.73083706e-03   3.58003276e-03   3.23731552e-03\n",
      "   1.58222345e-03   9.31496449e-04   7.13404796e-04   5.56413397e-04]\n",
      "Entropia: 0.998687\n",
      "\n",
      "Xc PCA shape  (35853, 12)\n",
      "Xc labeled shape  (35853, 13)\n",
      "Di_tsl\n",
      "\n",
      "Xc initial shape  (35853, 88)\n",
      "[ 0.50548947  0.16371263  0.09611457  0.09075973  0.02218702  0.02094877\n",
      "  0.01597057  0.01287112  0.01180572  0.00905537  0.00740166  0.00679647]\n",
      "Entropia: 0.963113\n",
      "\n",
      "Xc PCA shape  (35853, 12)\n",
      "Xc labeled shape  (35853, 13)\n",
      "Do_tsl\n",
      "\n",
      "Xc initial shape  (35853, 84)\n",
      "[ 0.47961244  0.24487698  0.07528204  0.04660988  0.04245367  0.02624848\n",
      "  0.02291692  0.01727302  0.01442059  0.00835114  0.0051551   0.00446639]\n",
      "Entropia: 0.987667\n",
      "\n",
      "Xc PCA shape  (35853, 12)\n",
      "Xc labeled shape  (35853, 13)\n",
      "Fe_tsl\n",
      "\n",
      "Xc initial shape  (35853, 88)\n",
      "[ 0.51929506  0.17225238  0.11345692  0.07176323  0.03450737  0.02019165\n",
      "  0.01534907  0.01349096  0.01031385  0.007229    0.00519748  0.00511572]\n",
      "Entropia: 0.988163\n",
      "\n",
      "Xc PCA shape  (35853, 12)\n",
      "Xc labeled shape  (35853, 13)\n",
      "Ga_tsl\n",
      "\n",
      "Xc initial shape  (35853, 88)\n",
      "[  5.81000528e-01   1.66736447e-01   1.33491621e-01   1.11654520e-01\n",
      "   4.91085339e-03   1.23710845e-03   3.56712361e-04   2.53326318e-04\n",
      "   8.99445727e-05   5.67370234e-05   4.87395031e-05   4.49859073e-05]\n",
      "Entropia: 0.999882\n",
      "\n",
      "Xc PCA shape  (35853, 12)\n",
      "Xc labeled shape  (35853, 13)\n",
      "Is_tsl\n",
      "\n",
      "Xc initial shape  (35853, 88)\n",
      "[ 0.62996185  0.14805746  0.09544059  0.05688521  0.03005966  0.01610565\n",
      "  0.00636929  0.0045374   0.00248648  0.00208584  0.0017914   0.00169328]\n",
      "Entropia: 0.995474\n",
      "\n",
      "Xc PCA shape  (35853, 12)\n",
      "Xc labeled shape  (35853, 13)\n",
      "Iv_tsl\n",
      "\n",
      "Xc initial shape  (35853, 88)\n",
      "[ 0.6609874   0.11776574  0.06663586  0.06140431  0.02822319  0.01734173\n",
      "  0.01264526  0.00991653  0.00692393  0.00394753  0.00332425  0.00282597]\n",
      "Entropia: 0.991942\n",
      "\n",
      "Xc PCA shape  (35853, 12)\n",
      "Xc labeled shape  (35853, 13)\n",
      "Jo_tsl\n",
      "\n",
      "Xc initial shape  (35853, 88)\n",
      "[ 0.68010523  0.12554454  0.08399712  0.02983276  0.01851963  0.01676124\n",
      "  0.01169792  0.00823705  0.00608777  0.00591092  0.00261411  0.00220523]\n",
      "Entropia: 0.991514\n",
      "\n",
      "Xc PCA shape  (35853, 12)\n",
      "Xc labeled shape  (35853, 13)\n",
      "Jo_tsl\n",
      "\n",
      "Xc initial shape  (35853, 88)\n",
      "[ 0.45080097  0.17312828  0.11241283  0.0600201   0.04919863  0.04629041\n",
      "  0.03069568  0.01983982  0.01889255  0.01590194  0.00547902  0.00509645]\n",
      "Entropia: 0.987757\n",
      "\n",
      "Xc PCA shape  (35853, 12)\n",
      "Xc labeled shape  (35853, 13)\n",
      "Ma_tsl\n",
      "\n",
      "Xc initial shape  (35853, 88)\n",
      "[ 0.65609776  0.070934    0.05783835  0.04684423  0.03297913  0.02806173\n",
      "  0.02229417  0.01736132  0.0140699   0.01141666  0.01014768  0.00724537]\n",
      "Entropia: 0.975290\n",
      "\n",
      "Xc PCA shape  (35853, 12)\n",
      "Xc labeled shape  (35853, 13)\n",
      "Os_tsl\n",
      "\n",
      "Xc initial shape  (35853, 88)\n",
      "[  8.89334987e-01   4.15824019e-02   2.15413881e-02   1.68420646e-02\n",
      "   6.27220034e-03   5.40334498e-03   5.09233100e-03   4.11540979e-03\n",
      "   3.68263359e-03   1.18742329e-03   1.07962423e-03   8.36583635e-04]\n",
      "Entropia: 0.996970\n",
      "\n",
      "Xc PCA shape  (35853, 12)\n",
      "Xc labeled shape  (35853, 13)\n",
      "Se_tsl\n",
      "Tempo total para o envelopamento: 0.04 min\n"
     ]
    }
   ],
   "source": [
    "#Grupo total\n",
    "start = timeit.default_timer()\n",
    "\n",
    "DATA = []\n",
    "\n",
    "for x, y in zip(DATA_fs, l):\n",
    "    proccess_data(x,DATA,y)\n",
    "    \n",
    "stop = timeit.default_timer()\n",
    "ti = stop - start \n",
    "print ('Tempo total para o envelopamento: %.2f min' % (ti/60))"
   ]
  },
  {
   "cell_type": "markdown",
   "metadata": {},
   "source": [
    "#Não foram incluidas as amostras p4 e c3, serão utilizadas para validação!"
   ]
  },
  {
   "cell_type": "code",
   "execution_count": 112,
   "metadata": {},
   "outputs": [
    {
     "data": {
      "text/plain": [
       "['Bo_tsl.npy',\n",
       " 'Ca_tsl.npy',\n",
       " 'Di_tsl.npy',\n",
       " 'Do_tsl.npy',\n",
       " 'Fe_tsl.npy',\n",
       " 'Ga_tsl.npy',\n",
       " 'Is_tsl.npy',\n",
       " 'Iv_tsl.npy',\n",
       " 'Jo_tsl.npy',\n",
       " 'Jo_tsl.npy',\n",
       " 'Ma_tsl.npy']"
      ]
     },
     "execution_count": 112,
     "metadata": {},
     "output_type": "execute_result"
    }
   ],
   "source": [
    "DATA[1:-2]"
   ]
  },
  {
   "cell_type": "markdown",
   "metadata": {},
   "source": [
    "---"
   ]
  },
  {
   "cell_type": "markdown",
   "metadata": {},
   "source": [
    "## Shape data"
   ]
  },
  {
   "cell_type": "code",
   "execution_count": 113,
   "metadata": {
    "collapsed": true
   },
   "outputs": [],
   "source": [
    "Xc = np.load(\"DB_PKS/labeled/\"+DATA[0])\n",
    "for i in DATA[1:-2]:\n",
    "    Xc = np.vstack((Xc,np.load('DB_PKS/labeled/'+i))) "
   ]
  },
  {
   "cell_type": "markdown",
   "metadata": {},
   "source": [
    "### Split tipo 1"
   ]
  },
  {
   "cell_type": "markdown",
   "metadata": {},
   "source": [
    "#Dividindo os dados em sets de treino, test e validação\n",
    "dfn = pd.DataFrame(data=Xc)\n",
    "train, validate, test = np.split(dfn.sample(frac=1), [int(.6*len(dfn)), int(.8*len(dfn))])"
   ]
  },
  {
   "cell_type": "markdown",
   "metadata": {},
   "source": [
    "np.save('./DB_INTENC/preproc/labeled/train', train, allow_pickle=False)\n",
    "np.save('./DB_INTENC/preproc/labeled/validate', validate, allow_pickle=False)\n",
    "np.save('./DB_INTENC/preproc/labeled/test', test, allow_pickle=False)"
   ]
  },
  {
   "cell_type": "markdown",
   "metadata": {},
   "source": [
    "Xc_train = np.load(\"DB_INTENC/preproc/labeled/train.npy\")\n",
    "\n",
    "X_train = Xc_train[:,0:(Xc_train.shape[1]-1)]\n",
    "\n",
    "yz = Xc_train[:,[(Xc_train.shape[1]-1)]]\n",
    "y_train = np.array([])\n",
    "for i in range(len(yz)):\n",
    "    y_train = np.hstack((y_train,yz[i]))\n",
    "    \n",
    "lab_enc = preprocessing.LabelEncoder()\n",
    "y_train = lab_enc.fit_transform(y_train)\n",
    "\n",
    "X_train.shape, y_train.shape"
   ]
  },
  {
   "cell_type": "markdown",
   "metadata": {},
   "source": [
    "#Xc_validate = np.load(\"DB_INTENC/preproc/labeled/validate.npy\")\n",
    "Xc_validate = Xc\n",
    "\n",
    "X_validate = Xc_validate[:,0:(Xc_validate.shape[1]-1)]\n",
    "\n",
    "yz = Xc_validate[:,[(Xc_validate.shape[1]-1)]]\n",
    "y_validate = np.array([])\n",
    "for i in range(len(yz)):\n",
    "    y_validate = np.hstack((y_validate,yz[i]))\n",
    "    \n",
    "#lab_enc = preprocessing.LabelEncoder()\n",
    "#y_validate = lab_enc.fit_transform(y_validate)\n",
    "\n",
    "X_validate.shape, y_validate.shape"
   ]
  },
  {
   "cell_type": "markdown",
   "metadata": {},
   "source": [
    "Xc_test= np.load(\"DB_INTENC/preproc/labeled/validate.npy\")\n",
    "\n",
    "X_test = Xc_test[:,0:(Xc_test.shape[1]-1)]\n",
    "\n",
    "yz = Xc_test[:,[(Xc_test.shape[1]-1)]]\n",
    "y_test = np.array([])\n",
    "for i in range(len(yz)):\n",
    "    y_test = np.hstack((y_test,yz[i]))\n",
    "    \n",
    "lab_enc = preprocessing.LabelEncoder()\n",
    "y_test = lab_enc.fit_transform(y_test)\n",
    "\n",
    "X_test.shape, y_test.shape"
   ]
  },
  {
   "cell_type": "markdown",
   "metadata": {},
   "source": [
    "### Split tipo 2"
   ]
  },
  {
   "cell_type": "code",
   "execution_count": 142,
   "metadata": {},
   "outputs": [
    {
     "data": {
      "text/plain": [
       "'Ca_tsl.npy'"
      ]
     },
     "execution_count": 142,
     "metadata": {},
     "output_type": "execute_result"
    }
   ],
   "source": [
    "DATA[2]"
   ]
  },
  {
   "cell_type": "code",
   "execution_count": 143,
   "metadata": {
    "scrolled": true
   },
   "outputs": [
    {
     "name": "stdout",
     "output_type": "stream",
     "text": [
      "Bo_tsl.npy\n",
      "Ca_tsl.npy\n"
     ]
    }
   ],
   "source": [
    "for i in DATA[1:3]:\n",
    "    print i"
   ]
  },
  {
   "cell_type": "code",
   "execution_count": 144,
   "metadata": {},
   "outputs": [
    {
     "data": {
      "text/plain": [
       "((107559, 12), (107559,))"
      ]
     },
     "execution_count": 144,
     "metadata": {},
     "output_type": "execute_result"
    }
   ],
   "source": [
    "#Separando set de dados X, e set de labels y - Validação DATA[5] e DATA[6]\n",
    "Xc = np.load(\"DB_PKS/labeled/\"+DATA[0])\n",
    "\n",
    "for i in DATA[1:3]:\n",
    "    Xc = np.vstack((Xc,np.load('DB_PKS/labeled/'+i))) \n",
    "    \n",
    "X_validate = Xc[:,0:(Xc.shape[1]-1)]\n",
    "\n",
    "yz = Xc[:,[(Xc.shape[1]-1)]]\n",
    "y_validate = np.array([])\n",
    "for i in range(len(yz)):\n",
    "    y_validate = np.hstack((y_validate,yz[i]))\n",
    "    \n",
    "X_validate.shape, y_validate.shape"
   ]
  },
  {
   "cell_type": "code",
   "execution_count": 145,
   "metadata": {},
   "outputs": [
    {
     "data": {
      "text/plain": [
       "((107559, 12), (107559,))"
      ]
     },
     "execution_count": 145,
     "metadata": {},
     "output_type": "execute_result"
    }
   ],
   "source": [
    "X_validate_std = sc.transform(X_validate)\n",
    "\n",
    "X_validate_std.shape, y_validate.shape"
   ]
  },
  {
   "cell_type": "code",
   "execution_count": 115,
   "metadata": {},
   "outputs": [
    {
     "data": {
      "text/plain": [
       "((394383, 12), (394383,))"
      ]
     },
     "execution_count": 115,
     "metadata": {},
     "output_type": "execute_result"
    }
   ],
   "source": [
    "#Separando set de dados X, e set de labels y - Treino e Teste\n",
    "Xc = np.load(\"DB_PKS/labeled/\"+DATA[3])\n",
    "#for i in DATA[1:-2]:\n",
    "for i in DATA[4:]:\n",
    "    Xc = np.vstack((Xc,np.load('DB_PKS/labeled/'+i))) \n",
    "    \n",
    "X = Xc[:,0:(Xc.shape[1]-1)]\n",
    "\n",
    "yz = Xc[:,[(Xc.shape[1]-1)]]\n",
    "y = np.array([])\n",
    "for i in range(len(yz)):\n",
    "    y = np.hstack((y,yz[i]))\n",
    "    \n",
    "X.shape, y.shape"
   ]
  },
  {
   "cell_type": "code",
   "execution_count": 116,
   "metadata": {},
   "outputs": [
    {
     "data": {
      "text/plain": [
       "array([  1.,   2.,   3.,   4.,  15.])"
      ]
     },
     "execution_count": 116,
     "metadata": {},
     "output_type": "execute_result"
    }
   ],
   "source": [
    "np.unique(y)"
   ]
  },
  {
   "cell_type": "code",
   "execution_count": 117,
   "metadata": {},
   "outputs": [],
   "source": [
    "#Dividindo os dados em sets de treino e test\n",
    "from sklearn.model_selection import train_test_split\n",
    "X_train, X_test, y_train, y_test = train_test_split(X, y, test_size=0.3, random_state=1)\n",
    "\n",
    "#X_test, X_validate, y_test, y_validate = train_test_split(X, y, test_size=0.5, random_state=1)"
   ]
  },
  {
   "cell_type": "code",
   "execution_count": 118,
   "metadata": {},
   "outputs": [
    {
     "name": "stdout",
     "output_type": "stream",
     "text": [
      "(276068, 12) (118315, 12) (35853, 12) (276068,) (118315,) (35853,)\n"
     ]
    }
   ],
   "source": [
    "#Aplica normalizador P.S.: Verificar necessidade pois os dados já foram normalizados anteriormente\n",
    "from sklearn.preprocessing import StandardScaler\n",
    "sc = StandardScaler()\n",
    "sc.fit(X_train)\n",
    "X_train_std = sc.transform(X_train)\n",
    "X_test_std = sc.transform(X_test)\n",
    "X_validate_std = sc.transform(X_validate)\n",
    "\n",
    "print X_train_std.shape, X_test_std.shape, X_validate_std.shape, y_train.shape, y_test.shape, y_validate.shape"
   ]
  },
  {
   "cell_type": "markdown",
   "metadata": {},
   "source": [
    "---"
   ]
  },
  {
   "cell_type": "markdown",
   "metadata": {},
   "source": [
    "## Classifiers"
   ]
  },
  {
   "cell_type": "markdown",
   "metadata": {},
   "source": [
    "### Random Forest"
   ]
  },
  {
   "cell_type": "code",
   "execution_count": 120,
   "metadata": {},
   "outputs": [
    {
     "name": "stdout",
     "output_type": "stream",
     "text": [
      "Training time\n",
      "CPU times: user 4min 12s, sys: 1.13 s, total: 4min 13s\n",
      "Wall time: 1min 20s\n",
      "\n",
      "Predict time\n",
      "CPU times: user 3.82 s, sys: 188 ms, total: 4 s\n",
      "Wall time: 1.45 s\n",
      "\n",
      "ClassifyRF accuracy:---------->98.35 %\n"
     ]
    }
   ],
   "source": [
    "#Training and test\n",
    "from sklearn.ensemble import RandomForestClassifier\n",
    "rfc = RandomForestClassifier(n_estimators=100, n_jobs = 4)\n",
    "\n",
    "print 'Training time'\n",
    "%time rfc = rfc.fit(X_train_std, y_train)\n",
    "\n",
    "print''\n",
    "\n",
    "print 'Predict time'\n",
    "%time y_pred = rfc.predict(X_test_std)\n",
    "\n",
    "print''\n",
    "\n",
    "from sklearn.metrics import accuracy_score\n",
    "print ('ClassifyRF accuracy:---------->%.2f %%' % (accuracy_score(y_test, y_pred)*100))"
   ]
  },
  {
   "cell_type": "markdown",
   "metadata": {},
   "source": [
    "#Salva a rede treinada para um arquivo\n",
    "joblib.dump(rfc, 'DB_INTENC/preproc/labeled/rfc_split2.pkl') "
   ]
  },
  {
   "cell_type": "markdown",
   "metadata": {
    "collapsed": true
   },
   "source": [
    "rfc = joblib.load('DB_INTENC/preproc/labeled/rfc.pkl')"
   ]
  },
  {
   "cell_type": "code",
   "execution_count": 146,
   "metadata": {},
   "outputs": [
    {
     "name": "stdout",
     "output_type": "stream",
     "text": [
      "Predict time\n",
      "CPU times: user 1.37 s, sys: 216 ms, total: 1.59 s\n",
      "Wall time: 591 ms\n",
      "\n",
      "ClassifyRF accuracy:---------->22.04 %\n"
     ]
    }
   ],
   "source": [
    "#Validation\n",
    "print 'Predict time'\n",
    "%time y_pred = rfc.predict(X_validate)\n",
    "\n",
    "print''\n",
    "\n",
    "from sklearn.metrics import accuracy_score\n",
    "\n",
    "result = ('ClassifyRF accuracy:---------->%.2f %%' % (accuracy_score(y_pred, y_validate)*100))\n",
    "\n",
    "print result"
   ]
  },
  {
   "cell_type": "code",
   "execution_count": 147,
   "metadata": {},
   "outputs": [
    {
     "name": "stdout",
     "output_type": "stream",
     "text": [
      "Predict time\n",
      "CPU times: user 2.17 s, sys: 104 ms, total: 2.27 s\n",
      "Wall time: 810 ms\n",
      "\n",
      "ClassifyRF accuracy:---------->18.04 %\n"
     ]
    }
   ],
   "source": [
    "#Validation\n",
    "print 'Predict time'\n",
    "%time y_pred = rfc.predict(X_validate_std)\n",
    "\n",
    "print''\n",
    "\n",
    "from sklearn.metrics import accuracy_score\n",
    "\n",
    "result = ('ClassifyRF accuracy:---------->%.2f %%' % (accuracy_score(y_pred, y_validate)*100))\n",
    "\n",
    "print result"
   ]
  },
  {
   "cell_type": "markdown",
   "metadata": {},
   "source": [
    "---"
   ]
  },
  {
   "cell_type": "markdown",
   "metadata": {},
   "source": [
    "## Support Vector Machine"
   ]
  },
  {
   "cell_type": "code",
   "execution_count": 70,
   "metadata": {},
   "outputs": [
    {
     "name": "stdout",
     "output_type": "stream",
     "text": [
      "Processing time SVM\n"
     ]
    },
    {
     "ename": "KeyboardInterrupt",
     "evalue": "",
     "output_type": "error",
     "traceback": [
      "\u001b[0;31m---------------------------------------------------------------------------\u001b[0m",
      "\u001b[0;31mKeyboardInterrupt\u001b[0m                         Traceback (most recent call last)",
      "\u001b[0;32m<ipython-input-70-064ab5fc820a>\u001b[0m in \u001b[0;36m<module>\u001b[0;34m()\u001b[0m\n\u001b[1;32m      2\u001b[0m \u001b[0;34m\u001b[0m\u001b[0m\n\u001b[1;32m      3\u001b[0m \u001b[0;32mprint\u001b[0m \u001b[0;34m'Processing time SVM'\u001b[0m\u001b[0;34m\u001b[0m\u001b[0m\n\u001b[0;32m----> 4\u001b[0;31m \u001b[0mget_ipython\u001b[0m\u001b[0;34m(\u001b[0m\u001b[0;34m)\u001b[0m\u001b[0;34m.\u001b[0m\u001b[0mmagic\u001b[0m\u001b[0;34m(\u001b[0m\u001b[0;34mu\"time svm = svm.SVC(kernel='rbf', gamma=0.2, C=6, decision_function_shape='ovr').fit(X_train_std, y_train)\"\u001b[0m\u001b[0;34m)\u001b[0m\u001b[0;34m\u001b[0m\u001b[0m\n\u001b[0m\u001b[1;32m      5\u001b[0m \u001b[0;34m\u001b[0m\u001b[0m\n\u001b[1;32m      6\u001b[0m \u001b[0;32mprint\u001b[0m \u001b[0;34m''\u001b[0m\u001b[0;34m\u001b[0m\u001b[0m\n",
      "\u001b[0;32m/home/collumbus/anaconda2/lib/python2.7/site-packages/IPython/core/interactiveshell.pyc\u001b[0m in \u001b[0;36mmagic\u001b[0;34m(self, arg_s)\u001b[0m\n\u001b[1;32m   2156\u001b[0m         \u001b[0mmagic_name\u001b[0m\u001b[0;34m,\u001b[0m \u001b[0m_\u001b[0m\u001b[0;34m,\u001b[0m \u001b[0mmagic_arg_s\u001b[0m \u001b[0;34m=\u001b[0m \u001b[0marg_s\u001b[0m\u001b[0;34m.\u001b[0m\u001b[0mpartition\u001b[0m\u001b[0;34m(\u001b[0m\u001b[0;34m' '\u001b[0m\u001b[0;34m)\u001b[0m\u001b[0;34m\u001b[0m\u001b[0m\n\u001b[1;32m   2157\u001b[0m         \u001b[0mmagic_name\u001b[0m \u001b[0;34m=\u001b[0m \u001b[0mmagic_name\u001b[0m\u001b[0;34m.\u001b[0m\u001b[0mlstrip\u001b[0m\u001b[0;34m(\u001b[0m\u001b[0mprefilter\u001b[0m\u001b[0;34m.\u001b[0m\u001b[0mESC_MAGIC\u001b[0m\u001b[0;34m)\u001b[0m\u001b[0;34m\u001b[0m\u001b[0m\n\u001b[0;32m-> 2158\u001b[0;31m         \u001b[0;32mreturn\u001b[0m \u001b[0mself\u001b[0m\u001b[0;34m.\u001b[0m\u001b[0mrun_line_magic\u001b[0m\u001b[0;34m(\u001b[0m\u001b[0mmagic_name\u001b[0m\u001b[0;34m,\u001b[0m \u001b[0mmagic_arg_s\u001b[0m\u001b[0;34m)\u001b[0m\u001b[0;34m\u001b[0m\u001b[0m\n\u001b[0m\u001b[1;32m   2159\u001b[0m \u001b[0;34m\u001b[0m\u001b[0m\n\u001b[1;32m   2160\u001b[0m     \u001b[0;31m#-------------------------------------------------------------------------\u001b[0m\u001b[0;34m\u001b[0m\u001b[0;34m\u001b[0m\u001b[0m\n",
      "\u001b[0;32m/home/collumbus/anaconda2/lib/python2.7/site-packages/IPython/core/interactiveshell.pyc\u001b[0m in \u001b[0;36mrun_line_magic\u001b[0;34m(self, magic_name, line)\u001b[0m\n\u001b[1;32m   2077\u001b[0m                 \u001b[0mkwargs\u001b[0m\u001b[0;34m[\u001b[0m\u001b[0;34m'local_ns'\u001b[0m\u001b[0;34m]\u001b[0m \u001b[0;34m=\u001b[0m \u001b[0msys\u001b[0m\u001b[0;34m.\u001b[0m\u001b[0m_getframe\u001b[0m\u001b[0;34m(\u001b[0m\u001b[0mstack_depth\u001b[0m\u001b[0;34m)\u001b[0m\u001b[0;34m.\u001b[0m\u001b[0mf_locals\u001b[0m\u001b[0;34m\u001b[0m\u001b[0m\n\u001b[1;32m   2078\u001b[0m             \u001b[0;32mwith\u001b[0m \u001b[0mself\u001b[0m\u001b[0;34m.\u001b[0m\u001b[0mbuiltin_trap\u001b[0m\u001b[0;34m:\u001b[0m\u001b[0;34m\u001b[0m\u001b[0m\n\u001b[0;32m-> 2079\u001b[0;31m                 \u001b[0mresult\u001b[0m \u001b[0;34m=\u001b[0m \u001b[0mfn\u001b[0m\u001b[0;34m(\u001b[0m\u001b[0;34m*\u001b[0m\u001b[0margs\u001b[0m\u001b[0;34m,\u001b[0m\u001b[0;34m**\u001b[0m\u001b[0mkwargs\u001b[0m\u001b[0;34m)\u001b[0m\u001b[0;34m\u001b[0m\u001b[0m\n\u001b[0m\u001b[1;32m   2080\u001b[0m             \u001b[0;32mreturn\u001b[0m \u001b[0mresult\u001b[0m\u001b[0;34m\u001b[0m\u001b[0m\n\u001b[1;32m   2081\u001b[0m \u001b[0;34m\u001b[0m\u001b[0m\n",
      "\u001b[0;32m<decorator-gen-59>\u001b[0m in \u001b[0;36mtime\u001b[0;34m(self, line, cell, local_ns)\u001b[0m\n",
      "\u001b[0;32m/home/collumbus/anaconda2/lib/python2.7/site-packages/IPython/core/magic.pyc\u001b[0m in \u001b[0;36m<lambda>\u001b[0;34m(f, *a, **k)\u001b[0m\n\u001b[1;32m    186\u001b[0m     \u001b[0;31m# but it's overkill for just that one bit of state.\u001b[0m\u001b[0;34m\u001b[0m\u001b[0;34m\u001b[0m\u001b[0m\n\u001b[1;32m    187\u001b[0m     \u001b[0;32mdef\u001b[0m \u001b[0mmagic_deco\u001b[0m\u001b[0;34m(\u001b[0m\u001b[0marg\u001b[0m\u001b[0;34m)\u001b[0m\u001b[0;34m:\u001b[0m\u001b[0;34m\u001b[0m\u001b[0m\n\u001b[0;32m--> 188\u001b[0;31m         \u001b[0mcall\u001b[0m \u001b[0;34m=\u001b[0m \u001b[0;32mlambda\u001b[0m \u001b[0mf\u001b[0m\u001b[0;34m,\u001b[0m \u001b[0;34m*\u001b[0m\u001b[0ma\u001b[0m\u001b[0;34m,\u001b[0m \u001b[0;34m**\u001b[0m\u001b[0mk\u001b[0m\u001b[0;34m:\u001b[0m \u001b[0mf\u001b[0m\u001b[0;34m(\u001b[0m\u001b[0;34m*\u001b[0m\u001b[0ma\u001b[0m\u001b[0;34m,\u001b[0m \u001b[0;34m**\u001b[0m\u001b[0mk\u001b[0m\u001b[0;34m)\u001b[0m\u001b[0;34m\u001b[0m\u001b[0m\n\u001b[0m\u001b[1;32m    189\u001b[0m \u001b[0;34m\u001b[0m\u001b[0m\n\u001b[1;32m    190\u001b[0m         \u001b[0;32mif\u001b[0m \u001b[0mcallable\u001b[0m\u001b[0;34m(\u001b[0m\u001b[0marg\u001b[0m\u001b[0;34m)\u001b[0m\u001b[0;34m:\u001b[0m\u001b[0;34m\u001b[0m\u001b[0m\n",
      "\u001b[0;32m/home/collumbus/anaconda2/lib/python2.7/site-packages/IPython/core/magics/execution.pyc\u001b[0m in \u001b[0;36mtime\u001b[0;34m(self, line, cell, local_ns)\u001b[0m\n\u001b[1;32m   1183\u001b[0m         \u001b[0;32melse\u001b[0m\u001b[0;34m:\u001b[0m\u001b[0;34m\u001b[0m\u001b[0m\n\u001b[1;32m   1184\u001b[0m             \u001b[0mst\u001b[0m \u001b[0;34m=\u001b[0m \u001b[0mclock2\u001b[0m\u001b[0;34m(\u001b[0m\u001b[0;34m)\u001b[0m\u001b[0;34m\u001b[0m\u001b[0m\n\u001b[0;32m-> 1185\u001b[0;31m             \u001b[0;32mexec\u001b[0m\u001b[0;34m(\u001b[0m\u001b[0mcode\u001b[0m\u001b[0;34m,\u001b[0m \u001b[0mglob\u001b[0m\u001b[0;34m,\u001b[0m \u001b[0mlocal_ns\u001b[0m\u001b[0;34m)\u001b[0m\u001b[0;34m\u001b[0m\u001b[0m\n\u001b[0m\u001b[1;32m   1186\u001b[0m             \u001b[0mend\u001b[0m \u001b[0;34m=\u001b[0m \u001b[0mclock2\u001b[0m\u001b[0;34m(\u001b[0m\u001b[0;34m)\u001b[0m\u001b[0;34m\u001b[0m\u001b[0m\n\u001b[1;32m   1187\u001b[0m             \u001b[0mout\u001b[0m \u001b[0;34m=\u001b[0m \u001b[0mNone\u001b[0m\u001b[0;34m\u001b[0m\u001b[0m\n",
      "\u001b[0;32m<timed exec>\u001b[0m in \u001b[0;36m<module>\u001b[0;34m()\u001b[0m\n",
      "\u001b[0;32m/home/collumbus/anaconda2/lib/python2.7/site-packages/sklearn/svm/base.pyc\u001b[0m in \u001b[0;36mfit\u001b[0;34m(self, X, y, sample_weight)\u001b[0m\n\u001b[1;32m    187\u001b[0m \u001b[0;34m\u001b[0m\u001b[0m\n\u001b[1;32m    188\u001b[0m         \u001b[0mseed\u001b[0m \u001b[0;34m=\u001b[0m \u001b[0mrnd\u001b[0m\u001b[0;34m.\u001b[0m\u001b[0mrandint\u001b[0m\u001b[0;34m(\u001b[0m\u001b[0mnp\u001b[0m\u001b[0;34m.\u001b[0m\u001b[0miinfo\u001b[0m\u001b[0;34m(\u001b[0m\u001b[0;34m'i'\u001b[0m\u001b[0;34m)\u001b[0m\u001b[0;34m.\u001b[0m\u001b[0mmax\u001b[0m\u001b[0;34m)\u001b[0m\u001b[0;34m\u001b[0m\u001b[0m\n\u001b[0;32m--> 189\u001b[0;31m         \u001b[0mfit\u001b[0m\u001b[0;34m(\u001b[0m\u001b[0mX\u001b[0m\u001b[0;34m,\u001b[0m \u001b[0my\u001b[0m\u001b[0;34m,\u001b[0m \u001b[0msample_weight\u001b[0m\u001b[0;34m,\u001b[0m \u001b[0msolver_type\u001b[0m\u001b[0;34m,\u001b[0m \u001b[0mkernel\u001b[0m\u001b[0;34m,\u001b[0m \u001b[0mrandom_seed\u001b[0m\u001b[0;34m=\u001b[0m\u001b[0mseed\u001b[0m\u001b[0;34m)\u001b[0m\u001b[0;34m\u001b[0m\u001b[0m\n\u001b[0m\u001b[1;32m    190\u001b[0m         \u001b[0;31m# see comment on the other call to np.iinfo in this file\u001b[0m\u001b[0;34m\u001b[0m\u001b[0;34m\u001b[0m\u001b[0m\n\u001b[1;32m    191\u001b[0m \u001b[0;34m\u001b[0m\u001b[0m\n",
      "\u001b[0;32m/home/collumbus/anaconda2/lib/python2.7/site-packages/sklearn/svm/base.pyc\u001b[0m in \u001b[0;36m_dense_fit\u001b[0;34m(self, X, y, sample_weight, solver_type, kernel, random_seed)\u001b[0m\n\u001b[1;32m    254\u001b[0m                 \u001b[0mcache_size\u001b[0m\u001b[0;34m=\u001b[0m\u001b[0mself\u001b[0m\u001b[0;34m.\u001b[0m\u001b[0mcache_size\u001b[0m\u001b[0;34m,\u001b[0m \u001b[0mcoef0\u001b[0m\u001b[0;34m=\u001b[0m\u001b[0mself\u001b[0m\u001b[0;34m.\u001b[0m\u001b[0mcoef0\u001b[0m\u001b[0;34m,\u001b[0m\u001b[0;34m\u001b[0m\u001b[0m\n\u001b[1;32m    255\u001b[0m                 \u001b[0mgamma\u001b[0m\u001b[0;34m=\u001b[0m\u001b[0mself\u001b[0m\u001b[0;34m.\u001b[0m\u001b[0m_gamma\u001b[0m\u001b[0;34m,\u001b[0m \u001b[0mepsilon\u001b[0m\u001b[0;34m=\u001b[0m\u001b[0mself\u001b[0m\u001b[0;34m.\u001b[0m\u001b[0mepsilon\u001b[0m\u001b[0;34m,\u001b[0m\u001b[0;34m\u001b[0m\u001b[0m\n\u001b[0;32m--> 256\u001b[0;31m                 max_iter=self.max_iter, random_seed=random_seed)\n\u001b[0m\u001b[1;32m    257\u001b[0m \u001b[0;34m\u001b[0m\u001b[0m\n\u001b[1;32m    258\u001b[0m         \u001b[0mself\u001b[0m\u001b[0;34m.\u001b[0m\u001b[0m_warn_from_fit_status\u001b[0m\u001b[0;34m(\u001b[0m\u001b[0;34m)\u001b[0m\u001b[0;34m\u001b[0m\u001b[0m\n",
      "\u001b[0;31mKeyboardInterrupt\u001b[0m: "
     ]
    }
   ],
   "source": [
    "from sklearn import svm, datasets\n",
    "\n",
    "print 'Processing time SVM'\n",
    "%time svm = svm.SVC(kernel='rbf', gamma=0.2, C=6, decision_function_shape='ovr').fit(X_train_std, y_train)\n",
    "\n",
    "print ''\n",
    "\n",
    "from sklearn.metrics import accuracy_score\n",
    "\n",
    "print 'Predict time'  \n",
    "%time y_pred = svm.predict(X_test_std)\n",
    "from sklearn.metrics import accuracy_score\n",
    "print ('SVM-RBF accuracy:---------->%.2f %%' % (accuracy_score(y_test, y_pred)*100))"
   ]
  },
  {
   "cell_type": "code",
   "execution_count": 54,
   "metadata": {},
   "outputs": [
    {
     "name": "stdout",
     "output_type": "stream",
     "text": [
      "Predict time\n",
      "CPU times: user 7min 15s, sys: 436 ms, total: 7min 15s\n",
      "Wall time: 7min 16s\n",
      "SVM-RBF accuracy:---------->59.99 %\n"
     ]
    }
   ],
   "source": [
    "print 'Predict time'  \n",
    "%time y_pred = svm.predict(X_validate_std)\n",
    "from sklearn.metrics import accuracy_score\n",
    "print ('SVM-RBF accuracy:---------->%.2f %%' % (accuracy_score(y_validate, y_pred)*100))"
   ]
  },
  {
   "cell_type": "code",
   "execution_count": null,
   "metadata": {
    "collapsed": true
   },
   "outputs": [],
   "source": []
  }
 ],
 "metadata": {
  "kernelspec": {
   "display_name": "Python 2",
   "language": "python",
   "name": "python2"
  },
  "language_info": {
   "codemirror_mode": {
    "name": "ipython",
    "version": 2
   },
   "file_extension": ".py",
   "mimetype": "text/x-python",
   "name": "python",
   "nbconvert_exporter": "python",
   "pygments_lexer": "ipython2",
   "version": "2.7.13"
  }
 },
 "nbformat": 4,
 "nbformat_minor": 2
}
