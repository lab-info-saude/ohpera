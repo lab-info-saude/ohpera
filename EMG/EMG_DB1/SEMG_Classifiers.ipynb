{
 "cells": [
  {
   "cell_type": "code",
   "execution_count": 4,
   "metadata": {
    "collapsed": false
   },
   "outputs": [],
   "source": [
    "import numpy as np\n",
    "import matplotlib.pyplot as plt\n",
    "from Data_Savior_J import load_file\n",
    "\n",
    "Xc = load_file(\"preprocessed_data/1Nmar.data\")"
   ]
  },
  {
   "cell_type": "markdown",
   "metadata": {},
   "source": [
    "\\section{Features vector for classification:}\n",
    "\n",
    "$X_c = [RF~| ~BF~| ~VM~| ~ES~| ~FE~| ~GP~| ~MP]$\n",
    "\n",
    "$X_c = [~~0~~|~~1~~|~~~2~~~|~~3~~|~~4~~~|~~~5~~~|~~6~~]$\n",
    "\n",
    "#### $RF \\rightarrow$ rectus femoris; $BF \\rightarrow$ biceps femoris; $VM \\rightarrow$ vastus internus;$VM \\rightarrow$ semitendinosus; $VM \\rightarrow$ knee flexion\n",
    "\n",
    "\n",
    "$GP$ \\textbf{$\\rightarrow$ gait pattern}\n",
    "\n",
    "\\begin{itemize}\n",
    "\\item $GP = 0 \\rightarrow$ normal gait\n",
    "\\item $GP = 1 \\rightarrow$ pathologic gait;\n",
    "\\end{itemize}\n",
    "\n",
    "$MP$ \\textbf{$\\rightarrow$ movement pattern}\n",
    "\n",
    "\\begin{itemize}\n",
    "\\item $MP = 0 \\rightarrow$ march \n",
    "\\item $MP = 1 \\rightarrow$ extention of the leg from sit position; \n",
    "\\item $MP = 2 \\rightarrow$ flexion of the knee stand up\n",
    "\\end{itemize}"
   ]
  },
  {
   "cell_type": "code",
   "execution_count": 5,
   "metadata": {
    "collapsed": false
   },
   "outputs": [
    {
     "ename": "IOError",
     "evalue": "[Errno 2] No such file or directory: 'preprocessed_data/1Amar.data'",
     "output_type": "error",
     "traceback": [
      "\u001b[1;31m---------------------------------------------------------------------------\u001b[0m",
      "\u001b[1;31mIOError\u001b[0m                                   Traceback (most recent call last)",
      "\u001b[1;32m<ipython-input-5-3f0657386ca4>\u001b[0m in \u001b[0;36m<module>\u001b[1;34m()\u001b[0m\n\u001b[0;32m      2\u001b[0m \u001b[1;32mfrom\u001b[0m \u001b[0mData_Savior_J\u001b[0m \u001b[1;32mimport\u001b[0m \u001b[0mload_file\u001b[0m\u001b[1;33m\u001b[0m\u001b[0m\n\u001b[0;32m      3\u001b[0m \u001b[1;33m\u001b[0m\u001b[0m\n\u001b[1;32m----> 4\u001b[1;33m \u001b[0mXc\u001b[0m \u001b[1;33m=\u001b[0m \u001b[0mload_file\u001b[0m\u001b[1;33m(\u001b[0m\u001b[1;34m\"preprocessed_data/1Amar.data\"\u001b[0m\u001b[1;33m)\u001b[0m\u001b[1;33m\u001b[0m\u001b[0m\n\u001b[0m\u001b[0;32m      5\u001b[0m \u001b[1;33m\u001b[0m\u001b[0m\n\u001b[0;32m      6\u001b[0m \u001b[1;33m\u001b[0m\u001b[0m\n",
      "\u001b[1;32m/home/collumbus/Documentos/ohpera/EMG/EMG_DB1/Data_Savior_J.pyc\u001b[0m in \u001b[0;36mload_file\u001b[1;34m(file_name)\u001b[0m\n\u001b[0;32m     25\u001b[0m \u001b[1;33m\u001b[0m\u001b[0m\n\u001b[0;32m     26\u001b[0m \u001b[1;32mdef\u001b[0m \u001b[0mload_file\u001b[0m\u001b[1;33m(\u001b[0m\u001b[0mfile_name\u001b[0m\u001b[1;33m=\u001b[0m\u001b[1;34m\"data_1\"\u001b[0m\u001b[1;33m)\u001b[0m\u001b[1;33m:\u001b[0m\u001b[1;33m\u001b[0m\u001b[0m\n\u001b[1;32m---> 27\u001b[1;33m     \u001b[0mf\u001b[0m \u001b[1;33m=\u001b[0m \u001b[0mopen\u001b[0m\u001b[1;33m(\u001b[0m\u001b[0mfile_name\u001b[0m\u001b[1;33m,\u001b[0m \u001b[1;34m\"r\"\u001b[0m\u001b[1;33m)\u001b[0m\u001b[1;33m\u001b[0m\u001b[0m\n\u001b[0m\u001b[0;32m     28\u001b[0m     \u001b[1;32mreturn\u001b[0m \u001b[0mpickle\u001b[0m\u001b[1;33m.\u001b[0m\u001b[0mloads\u001b[0m\u001b[1;33m(\u001b[0m\u001b[0mf\u001b[0m\u001b[1;33m.\u001b[0m\u001b[0mread\u001b[0m\u001b[1;33m(\u001b[0m\u001b[1;33m)\u001b[0m\u001b[1;33m)\u001b[0m\u001b[1;33m\u001b[0m\u001b[0m\n",
      "\u001b[1;31mIOError\u001b[0m: [Errno 2] No such file or directory: 'preprocessed_data/1Amar.data'"
     ]
    }
   ],
   "source": [
    "import numpy as np\n",
    "from Data_Savior_J import load_file\n",
    "\n",
    "Xc = load_file(\"preprocessed_data/1Amar.data\")\n",
    "\n",
    "\n",
    "DATAFILE = ['1Apie.data', '1Asen.data', '2Amar.data', '2Apie.data', '2Asen.data', '3Amar.data', '3Apie.data', \n",
    "            '3Asen.data', '4Amar.data', '4Apie.data', '4Asen.data', '5Amar.data', '5Apie.data', '5Asen.data', \n",
    "            '6Amar.data', '6Apie.data', '6Asen.data', '7Amar.data', '7Apie.data', '7Asen.data', '8Amar.data', \n",
    "            '8Apie.data', '8Asen.data', '9Amar.data', '9Apie.data', '9Asen.data', '10Amar.data', '10Apie.data', \n",
    "            '10Asen.data', '11Amar.data', '11Apie.data', '11Asen.data', '1Nmar.data', '1Npie.data', '1Nsen.data', \n",
    "            '2Nmar.data', '2Npie.data', '2Nsen.data', '3Nmar.data', '3Npie.data', '3Nsen.data', '4Nmar.data', \n",
    "            '4Npie.data', '4Nsen.data', '5Nmar.data', '5Npie.data', '5Nsen.data', '6Nmar.data', '6Npie.data', \n",
    "            '6Nsen.data', '7Nmar.data', '7Npie.data', '7Nsen.data', '8Nmar.data', '8Npie.data', '8Nsen.data', \n",
    "            '9Nmar.data', '9Npie.data', '9Nsen.data', '10Nmar.data', '10Npie.data', '10Nsen.data', '11Nmar.data', \n",
    "            '11Npie.data', '11Nsen.data']\n",
    "\n",
    "\n",
    "for i in DATAFILE:\n",
    "    Xc = np.vstack((Xc,load_file(\"preprocessed_data/\"+i)))    \n",
    "    "
   ]
  },
  {
   "cell_type": "code",
   "execution_count": 6,
   "metadata": {
    "collapsed": false
   },
   "outputs": [
    {
     "ename": "IOError",
     "evalue": "[Errno 2] No such file or directory: 'preprocessed_data/2Nmar.data'",
     "output_type": "error",
     "traceback": [
      "\u001b[1;31m---------------------------------------------------------------------------\u001b[0m",
      "\u001b[1;31mIOError\u001b[0m                                   Traceback (most recent call last)",
      "\u001b[1;32m<ipython-input-6-96f4210b376a>\u001b[0m in \u001b[0;36m<module>\u001b[1;34m()\u001b[0m\n\u001b[0;32m      7\u001b[0m \u001b[1;33m\u001b[0m\u001b[0m\n\u001b[0;32m      8\u001b[0m \u001b[1;32mfor\u001b[0m \u001b[0mi\u001b[0m \u001b[1;32min\u001b[0m \u001b[0mDATAFILE\u001b[0m\u001b[1;33m:\u001b[0m\u001b[1;33m\u001b[0m\u001b[0m\n\u001b[1;32m----> 9\u001b[1;33m     \u001b[0mXc\u001b[0m \u001b[1;33m=\u001b[0m \u001b[0mnp\u001b[0m\u001b[1;33m.\u001b[0m\u001b[0mvstack\u001b[0m\u001b[1;33m(\u001b[0m\u001b[1;33m(\u001b[0m\u001b[0mXc\u001b[0m\u001b[1;33m,\u001b[0m\u001b[0mload_file\u001b[0m\u001b[1;33m(\u001b[0m\u001b[1;34m\"preprocessed_data/\"\u001b[0m\u001b[1;33m+\u001b[0m\u001b[0mi\u001b[0m\u001b[1;33m)\u001b[0m\u001b[1;33m)\u001b[0m\u001b[1;33m)\u001b[0m\u001b[1;33m\u001b[0m\u001b[0m\n\u001b[0m",
      "\u001b[1;32m/home/collumbus/Documentos/ohpera/EMG/EMG_DB1/Data_Savior_J.pyc\u001b[0m in \u001b[0;36mload_file\u001b[1;34m(file_name)\u001b[0m\n\u001b[0;32m     25\u001b[0m \u001b[1;33m\u001b[0m\u001b[0m\n\u001b[0;32m     26\u001b[0m \u001b[1;32mdef\u001b[0m \u001b[0mload_file\u001b[0m\u001b[1;33m(\u001b[0m\u001b[0mfile_name\u001b[0m\u001b[1;33m=\u001b[0m\u001b[1;34m\"data_1\"\u001b[0m\u001b[1;33m)\u001b[0m\u001b[1;33m:\u001b[0m\u001b[1;33m\u001b[0m\u001b[0m\n\u001b[1;32m---> 27\u001b[1;33m     \u001b[0mf\u001b[0m \u001b[1;33m=\u001b[0m \u001b[0mopen\u001b[0m\u001b[1;33m(\u001b[0m\u001b[0mfile_name\u001b[0m\u001b[1;33m,\u001b[0m \u001b[1;34m\"r\"\u001b[0m\u001b[1;33m)\u001b[0m\u001b[1;33m\u001b[0m\u001b[0m\n\u001b[0m\u001b[0;32m     28\u001b[0m     \u001b[1;32mreturn\u001b[0m \u001b[0mpickle\u001b[0m\u001b[1;33m.\u001b[0m\u001b[0mloads\u001b[0m\u001b[1;33m(\u001b[0m\u001b[0mf\u001b[0m\u001b[1;33m.\u001b[0m\u001b[0mread\u001b[0m\u001b[1;33m(\u001b[0m\u001b[1;33m)\u001b[0m\u001b[1;33m)\u001b[0m\u001b[1;33m\u001b[0m\u001b[0m\n",
      "\u001b[1;31mIOError\u001b[0m: [Errno 2] No such file or directory: 'preprocessed_data/2Nmar.data'"
     ]
    }
   ],
   "source": [
    "DATAFILE = ['1Nmar.data', '1Npie.data', '1Nsen.data', \n",
    "            '2Nmar.data', '2Npie.data', '2Nsen.data',\n",
    "            '3Nmar.data', '3Npie.data', '3Nsen.data',\n",
    "            '4Nmar.data', '4Npie.data', '4Nsen.data',\n",
    "            '5Nmar.data', '5Npie.data', '5Nsen.data',\n",
    "            '6Nmar.data', '6Npie.data', '6Nsen.data',]\n",
    "\n",
    "for i in DATAFILE:\n",
    "    Xc = np.vstack((Xc,load_file(\"preprocessed_data/\"+i))) "
   ]
  },
  {
   "cell_type": "code",
   "execution_count": 22,
   "metadata": {
    "collapsed": false
   },
   "outputs": [
    {
     "data": {
      "text/plain": [
       "(377494, 7)"
      ]
     },
     "execution_count": 22,
     "metadata": {},
     "output_type": "execute_result"
    }
   ],
   "source": [
    "Xc.shape"
   ]
  },
  {
   "cell_type": "code",
   "execution_count": 23,
   "metadata": {
    "collapsed": false
   },
   "outputs": [
    {
     "data": {
      "text/plain": [
       "((377494, 5), (377494,))"
      ]
     },
     "execution_count": 23,
     "metadata": {},
     "output_type": "execute_result"
    }
   ],
   "source": [
    "import numpy as np\n",
    "\n",
    "X = Xc[:,[0,1,2,3,4]]\n",
    "\n",
    "yc = Xc[:,[6]]\n",
    "y = np.array([])\n",
    "for i in range(len(yc)):\n",
    "    y = np.hstack((y,yc[i]))\n",
    "\n",
    "X.shape, y.shape"
   ]
  },
  {
   "cell_type": "code",
   "execution_count": 24,
   "metadata": {
    "collapsed": false
   },
   "outputs": [
    {
     "data": {
      "text/plain": [
       "array([ 0.,  1.,  2.])"
      ]
     },
     "execution_count": 24,
     "metadata": {},
     "output_type": "execute_result"
    }
   ],
   "source": [
    "np.unique(y) # possíveis valores de y"
   ]
  },
  {
   "cell_type": "code",
   "execution_count": 25,
   "metadata": {
    "collapsed": false
   },
   "outputs": [],
   "source": [
    "from sklearn.cross_validation import train_test_split\n",
    "X_train, X_test, y_train, y_test = train_test_split(X, y, test_size=0.25, \n",
    "                                                    random_state=10)"
   ]
  },
  {
   "cell_type": "code",
   "execution_count": 26,
   "metadata": {
    "collapsed": false
   },
   "outputs": [],
   "source": [
    "\n",
    "from sklearn.preprocessing import StandardScaler\n",
    "sc = StandardScaler()\n",
    "sc.fit(X_train)\n",
    "X_train_std = sc.transform(X_train)\n",
    "X_test_std = sc.transform(X_test)\n"
   ]
  },
  {
   "cell_type": "code",
   "execution_count": 27,
   "metadata": {
    "collapsed": false
   },
   "outputs": [
    {
     "name": "stdout",
     "output_type": "stream",
     "text": [
      "(283120, 5)\n"
     ]
    }
   ],
   "source": [
    "print X_train_std.shape"
   ]
  },
  {
   "cell_type": "markdown",
   "metadata": {},
   "source": [
    "# SVM RBF/Polynomial Classifier"
   ]
  },
  {
   "cell_type": "code",
   "execution_count": null,
   "metadata": {
    "collapsed": false
   },
   "outputs": [
    {
     "name": "stdout",
     "output_type": "stream",
     "text": [
      "CPU times: user 1h 27min 8s, sys: 720 ms, total: 1h 27min 9s\n",
      "Wall time: 1h 27min 10s\n",
      "\n",
      "Processing time Polynomial\n"
     ]
    }
   ],
   "source": [
    "import numpy as np\n",
    "import matplotlib.pyplot as plt\n",
    "from sklearn import svm, datasets\n",
    "\n",
    "#print 'Processing time RBF'\n",
    "%time rbf_svc = svm.SVC(kernel='rbf', gamma=0.2, C=6, decision_function_shape='ovr').fit(X_train_std, y_train)\n",
    "print ''\n",
    "print 'Processing time Polynomial'\n",
    "%time poly_svc = svm.SVC(kernel='poly', degree=2, coef0=4.7, C=48.9, decision_function_shape='ovr').fit(X_train_std, y_train)\n",
    "\n",
    "from sklearn.metrics import accuracy_score\n",
    "y_pred = poly_svc.predict(X_test_std)\n",
    "\n",
    "def run_svm(svc, X_test_std, y_test):\n",
    "    y_pred = svc.predict(X_test_std)\n",
    "    from sklearn.metrics import accuracy_score\n",
    "    if (svc==rbf_svc):\n",
    "        print ('SVM-RBF accuracy:---------->%.2f %%' % (accuracy_score(y_test, y_pred)*100))\n",
    "    elif(svc==poly_svc):\n",
    "        print ('SVM-Polynomial accuracy:--->%.2f %%' % (accuracy_score(y_test, y_pred)*100))\n",
    "        \n",
    "run_svm(rbf_svc, X_test_std, y_test)\n",
    "#run_svm(poly_svc, X_test_std, y_test)"
   ]
  },
  {
   "cell_type": "markdown",
   "metadata": {},
   "source": [
    "# Confusion Matrix for SVM RBF/Polynomial Classifier"
   ]
  },
  {
   "cell_type": "code",
   "execution_count": 11,
   "metadata": {
    "collapsed": false
   },
   "outputs": [
    {
     "ename": "NameError",
     "evalue": "name 'plt' is not defined",
     "output_type": "error",
     "traceback": [
      "\u001b[1;31m---------------------------------------------------------------------------\u001b[0m",
      "\u001b[1;31mNameError\u001b[0m                                 Traceback (most recent call last)",
      "\u001b[1;32m<ipython-input-11-18266ef08024>\u001b[0m in \u001b[0;36m<module>\u001b[1;34m()\u001b[0m\n\u001b[0;32m      8\u001b[0m                           \u001b[0mnormalize\u001b[0m\u001b[1;33m=\u001b[0m\u001b[0mFalse\u001b[0m\u001b[1;33m,\u001b[0m\u001b[1;33m\u001b[0m\u001b[0m\n\u001b[0;32m      9\u001b[0m                           \u001b[0mtitle\u001b[0m\u001b[1;33m=\u001b[0m\u001b[1;34m'Confusion matrix'\u001b[0m\u001b[1;33m,\u001b[0m\u001b[1;33m\u001b[0m\u001b[0m\n\u001b[1;32m---> 10\u001b[1;33m                           cmap=plt.cm.Blues):\n\u001b[0m\u001b[0;32m     11\u001b[0m     \"\"\"\n\u001b[0;32m     12\u001b[0m     \u001b[0mThis\u001b[0m \u001b[0mfunction\u001b[0m \u001b[0mprints\u001b[0m \u001b[1;32mand\u001b[0m \u001b[0mplots\u001b[0m \u001b[0mthe\u001b[0m \u001b[0mconfusion\u001b[0m \u001b[0mmatrix\u001b[0m\u001b[1;33m.\u001b[0m\u001b[1;33m\u001b[0m\u001b[0m\n",
      "\u001b[1;31mNameError\u001b[0m: name 'plt' is not defined"
     ]
    }
   ],
   "source": [
    "from sklearn.metrics import confusion_matrix\n",
    "import itertools\n",
    "\n",
    "%matplotlib inline\n",
    "class_names = np.array(['normal', 'stair ascent', 'stair descent'])\n",
    "\n",
    "def plot_confusion_matrix(cm, classes,\n",
    "                          normalize=False,\n",
    "                          title='Confusion matrix',\n",
    "                          cmap=plt.cm.Blues):\n",
    "    \"\"\"\n",
    "    This function prints and plots the confusion matrix.\n",
    "    Normalization can be applied by setting `normalize=True`.\n",
    "    \"\"\"\n",
    "    plt.imshow(cm, interpolation='nearest', cmap=cmap)\n",
    "    plt.title(title)\n",
    "    plt.colorbar()\n",
    "    tick_marks = np.arange(len(classes))\n",
    "    plt.xticks(tick_marks, classes, rotation=45)\n",
    "    plt.yticks(tick_marks, classes)\n",
    "\n",
    "    if normalize:\n",
    "        cm = cm.astype('float') / cm.sum(axis=1)[:, np.newaxis]\n",
    "        print(\"Normalized confusion matrix\")\n",
    "    else:\n",
    "        print('Confusion matrix, without normalization')\n",
    "\n",
    "    print(cm)\n",
    "\n",
    "    thresh = cm.max() / 2.\n",
    "    for i, j in itertools.product(range(cm.shape[0]), range(cm.shape[1])):\n",
    "        plt.text(j, i, cm[i, j],\n",
    "                 horizontalalignment=\"center\",\n",
    "                 color=\"white\" if cm[i, j] > thresh else \"black\")\n",
    "\n",
    "    plt.tight_layout()\n",
    "    plt.ylabel('True label')\n",
    "    plt.xlabel('Predicted label')\n",
    "\n",
    "# Compute confusion matrix\n",
    "cnf_matrix = confusion_matrix(y_test, y_pred)\n",
    "np.set_printoptions(precision=2)\n",
    "\n",
    "# Plot non-normalized confusion matrix\n",
    "plt.figure()\n",
    "plot_confusion_matrix(cnf_matrix, classes=class_names,\n",
    "                      title='Confusion matrix, without normalization')\n",
    "\n",
    "# Plot normalized confusion matrix\n",
    "plt.figure()\n",
    "plot_confusion_matrix(cnf_matrix, classes=class_names, normalize=True,\n",
    "                      title='Normalized confusion matrix')\n",
    "\n",
    "plt.show()"
   ]
  },
  {
   "cell_type": "code",
   "execution_count": 9,
   "metadata": {
    "collapsed": false
   },
   "outputs": [
    {
     "name": "stdout",
     "output_type": "stream",
     "text": [
      "PERFORMANCE MEASURES BY CONFUSION MATRIX\n",
      "Accuracy: 99.00 %\n",
      "\n",
      "Sensitivity-A: 100.00 %\n",
      "Sensitivity-B: 97.01 %\n",
      "Sensitivity-C: 100.00 %\n",
      "\n",
      "Precision-A: 98.53 %\n",
      "Precision-B: 100.00 %\n",
      "Precision-C: 98.53 %\n",
      "\n",
      "Specificity-A: 99.25 %\n",
      "Specificity-B: 100.00 %\n",
      "Specificity-C: 99.25 %\n"
     ]
    }
   ],
   "source": [
    "cm = confusion_matrix(y_test, y_pred)\n",
    "cm = cm.astype('float') / cm.sum(axis=1)[:, np.newaxis]\n",
    "TPa = float(cm[0][0])\n",
    "Eab = float(cm[0][1])\n",
    "Eac = float(cm[0][2])\n",
    "#####################\n",
    "Eba = float(cm[1][0])\n",
    "TPb = float(cm[1][1])\n",
    "Ebc = float(cm[1][2])\n",
    "#####################\n",
    "Eca = float(cm[2][0])\n",
    "Ecb = float(cm[2][1])\n",
    "TPc = float(cm[2][2])\n",
    "\n",
    "Pa = TPa/(TPa+Eba+Eca)\n",
    "Pb = TPb/(TPb+Eab+Ecb)\n",
    "Pc = TPc/(TPc+Eac+Ebc)\n",
    "\n",
    "Ra = TPa/(TPa+Eab+Eab)\n",
    "Rb = TPb/(TPb+Eba+Ebc)\n",
    "Rc = TPc/(TPc+Eca+Ecb)\n",
    "\n",
    "TNa = TPb+Ebc+Ecb+TPc\n",
    "TNb = TPa+Eac+Eca+TPc\n",
    "TNc = TPa+Eab+Eba+TPb\n",
    "\n",
    "Sa = TNa/(TNa+Eba+Eca)\n",
    "Sb = TNb/(TNb+Eab+Eac)\n",
    "Sc = TNc/(TNc+Eac+Ebc)\n",
    "\n",
    "Acc = (TPa+TPb+TPc)/(TPa+Eab+Eac+Eba+TPb+Ebc+Eca+Ecb+TPc)\n",
    "\n",
    "print 'PERFORMANCE MEASURES BY CONFUSION MATRIX'\n",
    "print ('Accuracy: %.2f %%' % (Acc*100))\n",
    "print ''\n",
    "print ('Sensitivity-A: %.2f %%' % (Ra*100))\n",
    "print ('Sensitivity-B: %.2f %%' % (Rb*100))\n",
    "print ('Sensitivity-C: %.2f %%' % (Rc*100))\n",
    "print ''\n",
    "print ('Precision-A: %.2f %%' % (Pa*100))\n",
    "print ('Precision-B: %.2f %%' % (Pb*100))\n",
    "print ('Precision-C: %.2f %%' % (Pc*100))\n",
    "print ''\n",
    "print ('Specificity-A: %.2f %%' % (Sa*100))\n",
    "print ('Specificity-B: %.2f %%' % (Sb*100))\n",
    "print ('Specificity-C: %.2f %%' % (Sc*100))\n"
   ]
  },
  {
   "cell_type": "markdown",
   "metadata": {},
   "source": [
    "# Gaussian Naive Bayes Classifier"
   ]
  },
  {
   "cell_type": "code",
   "execution_count": 31,
   "metadata": {
    "collapsed": false
   },
   "outputs": [
    {
     "name": "stdout",
     "output_type": "stream",
     "text": [
      "ClassifyGNB accuracy:---------->61.90 %\n"
     ]
    }
   ],
   "source": [
    "from sklearn.naive_bayes import GaussianNB\n",
    "\n",
    "gnb = GaussianNB()\n",
    "gnb.fit(X_train_std, y_train)\n",
    "\n",
    "y_pred = gnb.predict(X_test_std)\n",
    "\n",
    "from sklearn.metrics import accuracy_score\n",
    "print ('ClassifyGNB accuracy:---------->%.2f %%' % (accuracy_score(y_test, y_pred)*100))"
   ]
  },
  {
   "cell_type": "markdown",
   "metadata": {},
   "source": [
    "# Confusion Matrix for Gaussian Naive Bayes Classifier"
   ]
  },
  {
   "cell_type": "code",
   "execution_count": 11,
   "metadata": {
    "collapsed": false
   },
   "outputs": [
    {
     "name": "stdout",
     "output_type": "stream",
     "text": [
      "Confusion matrix, without normalization\n",
      "[[58  2  2]\n",
      " [10 46 11]\n",
      " [ 1  0 75]]\n",
      "Normalized confusion matrix\n",
      "[[ 0.94  0.03  0.03]\n",
      " [ 0.15  0.69  0.16]\n",
      " [ 0.01  0.    0.99]]\n"
     ]
    },
    {
     "data": {
      "image/png": "[encoded data removed]",
      "text/plain": [
       "<matplotlib.figure.Figure at 0x7ff506f10190>"
      ]
     },
     "metadata": {},
     "output_type": "display_data"
    },
    {
     "data": {
      "image/png": "[encoded data removed]",
      "text/plain": [
       "<matplotlib.figure.Figure at 0x7ff5071813d0>"
      ]
     },
     "metadata": {},
     "output_type": "display_data"
    }
   ],
   "source": [
    "from sklearn.metrics import confusion_matrix\n",
    "import itertools\n",
    "\n",
    "#%matplotlib inline\n",
    "class_names = np.array(['normal', 'stair ascent', 'stair descent'])\n",
    "\n",
    "def plot_confusion_matrix(cm, classes,\n",
    "                          normalize=False,\n",
    "                          title='Confusion matrix',\n",
    "                          cmap=plt.cm.Blues):\n",
    "    \"\"\"\n",
    "    This function prints and plots the confusion matrix.\n",
    "    Normalization can be applied by setting `normalize=True`.\n",
    "    \"\"\"\n",
    "    plt.imshow(cm, interpolation='nearest', cmap=cmap)\n",
    "    plt.title(title)\n",
    "    plt.colorbar()\n",
    "    tick_marks = np.arange(len(classes))\n",
    "    plt.xticks(tick_marks, classes, rotation=45)\n",
    "    plt.yticks(tick_marks, classes)\n",
    "\n",
    "    if normalize:\n",
    "        cm = cm.astype('float') / cm.sum(axis=1)[:, np.newaxis]\n",
    "        print(\"Normalized confusion matrix\")\n",
    "    else:\n",
    "        print('Confusion matrix, without normalization')\n",
    "\n",
    "    print(cm)\n",
    "\n",
    "    thresh = cm.max() / 2.\n",
    "    for i, j in itertools.product(range(cm.shape[0]), range(cm.shape[1])):\n",
    "        plt.text(j, i, cm[i, j],\n",
    "                 horizontalalignment=\"center\",\n",
    "                 color=\"white\" if cm[i, j] > thresh else \"black\")\n",
    "\n",
    "    plt.tight_layout()\n",
    "    plt.ylabel('True label')\n",
    "    plt.xlabel('Predicted label')\n",
    "\n",
    "# Compute confusion matrix\n",
    "cnf_matrix = confusion_matrix(y_test, y_pred)\n",
    "np.set_printoptions(precision=2)\n",
    "\n",
    "# Plot non-normalized confusion matrix\n",
    "plt.figure()\n",
    "plot_confusion_matrix(cnf_matrix, classes=class_names,\n",
    "                      title='Confusion matrix, without normalization')\n",
    "\n",
    "# Plot normalized confusion matrix\n",
    "plt.figure()\n",
    "plot_confusion_matrix(cnf_matrix, classes=class_names, normalize=True,\n",
    "                      title='Normalized confusion matrix')\n",
    "\n",
    "plt.show()"
   ]
  },
  {
   "cell_type": "code",
   "execution_count": 12,
   "metadata": {
    "collapsed": false
   },
   "outputs": [
    {
     "name": "stdout",
     "output_type": "stream",
     "text": [
      "PERFORMANCE MEASURES BY CONFUSION MATRIX\n",
      "Accuracy: 86.96 %\n",
      "\n",
      "Sensitivity-A: 93.55 %\n",
      "Sensitivity-B: 68.66 %\n",
      "Sensitivity-C: 98.68 %\n",
      "\n",
      "Precision-A: 85.21 %\n",
      "Precision-B: 95.51 %\n",
      "Precision-C: 83.40 %\n",
      "\n",
      "Specificity-A: 91.88 %\n",
      "Specificity-B: 96.83 %\n",
      "Specificity-C: 90.18 %\n"
     ]
    }
   ],
   "source": [
    "cm = confusion_matrix(y_test, y_pred)\n",
    "cm = cm.astype('float') / cm.sum(axis=1)[:, np.newaxis]\n",
    "TPa = float(cm[0][0])\n",
    "Eab = float(cm[0][1])\n",
    "Eac = float(cm[0][2])\n",
    "#####################\n",
    "Eba = float(cm[1][0])\n",
    "TPb = float(cm[1][1])\n",
    "Ebc = float(cm[1][2])\n",
    "#####################\n",
    "Eca = float(cm[2][0])\n",
    "Ecb = float(cm[2][1])\n",
    "TPc = float(cm[2][2])\n",
    "\n",
    "Pa = TPa/(TPa+Eba+Eca)\n",
    "Pb = TPb/(TPb+Eab+Ecb)\n",
    "Pc = TPc/(TPc+Eac+Ebc)\n",
    "\n",
    "Ra = TPa/(TPa+Eab+Eab)\n",
    "Rb = TPb/(TPb+Eba+Ebc)\n",
    "Rc = TPc/(TPc+Eca+Ecb)\n",
    "\n",
    "TNa = TPb+Ebc+Ecb+TPc\n",
    "TNb = TPa+Eac+Eca+TPc\n",
    "TNc = TPa+Eab+Eba+TPb\n",
    "\n",
    "Sa = TNa/(TNa+Eba+Eca)\n",
    "Sb = TNb/(TNb+Eab+Eac)\n",
    "Sc = TNc/(TNc+Eac+Ebc)\n",
    "\n",
    "Acc = (TPa+TPb+TPc)/(TPa+Eab+Eac+Eba+TPb+Ebc+Eca+Ecb+TPc)\n",
    "\n",
    "print 'PERFORMANCE MEASURES BY CONFUSION MATRIX'\n",
    "print ('Accuracy: %.2f %%' % (Acc*100))\n",
    "print ''\n",
    "print ('Sensitivity-A: %.2f %%' % (Ra*100))\n",
    "print ('Sensitivity-B: %.2f %%' % (Rb*100))\n",
    "print ('Sensitivity-C: %.2f %%' % (Rc*100))\n",
    "print ''\n",
    "print ('Precision-A: %.2f %%' % (Pa*100))\n",
    "print ('Precision-B: %.2f %%' % (Pb*100))\n",
    "print ('Precision-C: %.2f %%' % (Pc*100))\n",
    "print ''\n",
    "print ('Specificity-A: %.2f %%' % (Sa*100))\n",
    "print ('Specificity-B: %.2f %%' % (Sb*100))\n",
    "print ('Specificity-C: %.2f %%' % (Sc*100))\n"
   ]
  },
  {
   "cell_type": "markdown",
   "metadata": {},
   "source": [
    "# Random Forest Classifier"
   ]
  },
  {
   "cell_type": "code",
   "execution_count": 28,
   "metadata": {
    "collapsed": false
   },
   "outputs": [
    {
     "name": "stdout",
     "output_type": "stream",
     "text": [
      "Training time\n",
      "CPU times: user 1min 49s, sys: 208 ms, total: 1min 49s\n",
      "Wall time: 1min 49s\n",
      "\n",
      "Predict time\n",
      "CPU times: user 3.77 s, sys: 192 ms, total: 3.96 s\n",
      "Wall time: 3.96 s\n",
      "\n",
      "ClassifyRF accuracy:---------->93.06 %\n"
     ]
    }
   ],
   "source": [
    "from sklearn.ensemble import RandomForestClassifier\n",
    "rfc = RandomForestClassifier(n_estimators=100)\n",
    "\n",
    "print 'Training time'\n",
    "%time rfc = rfc.fit(X_train_std, y_train)\n",
    "\n",
    "print''\n",
    "\n",
    "print 'Predict time'\n",
    "%time y_pred = rfc.predict(X_test_std)\n",
    "\n",
    "print''\n",
    "\n",
    "from sklearn.metrics import accuracy_score\n",
    "print ('ClassifyRF accuracy:---------->%.2f %%' % (accuracy_score(y_test, y_pred)*100))"
   ]
  },
  {
   "cell_type": "markdown",
   "metadata": {},
   "source": [
    "# Confusion Matrix for Random Forest Classifier"
   ]
  },
  {
   "cell_type": "code",
   "execution_count": 15,
   "metadata": {
    "collapsed": false
   },
   "outputs": [
    {
     "name": "stdout",
     "output_type": "stream",
     "text": [
      "Confusion matrix, without normalization\n",
      "[[4386  159  120]\n",
      " [ 134 3390   81]\n",
      " [  25   66 3758]]\n",
      "Normalized confusion matrix\n",
      "[[ 0.94  0.03  0.03]\n",
      " [ 0.04  0.94  0.02]\n",
      " [ 0.01  0.02  0.98]]\n"
     ]
    },
    {
     "data": {
      "image/png": "[encoded data removed]",
      "text/plain": [
       "<matplotlib.figure.Figure at 0x7f9b2010c290>"
      ]
     },
     "metadata": {},
     "output_type": "display_data"
    },
    {
     "data": {
      "image/png": "[encoded data removed]",
      "text/plain": [
       "<matplotlib.figure.Figure at 0x7f9b20070950>"
      ]
     },
     "metadata": {},
     "output_type": "display_data"
    }
   ],
   "source": [
    "from sklearn.metrics import confusion_matrix\n",
    "import itertools\n",
    "\n",
    "%matplotlib inline\n",
    "class_names = np.array(['normal', 'stair ascent', 'stair descent'])\n",
    "\n",
    "def plot_confusion_matrix(cm, classes,\n",
    "                          normalize=False,\n",
    "                          title='Confusion matrix',\n",
    "                          cmap=plt.cm.Blues):\n",
    "    \"\"\"\n",
    "    This function prints and plots the confusion matrix.\n",
    "    Normalization can be applied by setting `normalize=True`.\n",
    "    \"\"\"\n",
    "    plt.imshow(cm, interpolation='nearest', cmap=cmap)\n",
    "    plt.title(title)\n",
    "    plt.colorbar()\n",
    "    tick_marks = np.arange(len(classes))\n",
    "    plt.xticks(tick_marks, classes, rotation=45)\n",
    "    plt.yticks(tick_marks, classes)\n",
    "\n",
    "    if normalize:\n",
    "        cm = cm.astype('float') / cm.sum(axis=1)[:, np.newaxis]\n",
    "        print(\"Normalized confusion matrix\")\n",
    "    else:\n",
    "        print('Confusion matrix, without normalization')\n",
    "\n",
    "    print(cm)\n",
    "\n",
    "    thresh = cm.max() / 2.\n",
    "    for i, j in itertools.product(range(cm.shape[0]), range(cm.shape[1])):\n",
    "        plt.text(j, i, cm[i, j],\n",
    "                 horizontalalignment=\"center\",\n",
    "                 color=\"white\" if cm[i, j] > thresh else \"black\")\n",
    "\n",
    "    plt.tight_layout()\n",
    "    plt.ylabel('True label')\n",
    "    plt.xlabel('Predicted label')\n",
    "\n",
    "# Compute confusion matrix\n",
    "cnf_matrix = confusion_matrix(y_test, y_pred)\n",
    "np.set_printoptions(precision=2)\n",
    "\n",
    "# Plot non-normalized confusion matrix\n",
    "plt.figure()\n",
    "plot_confusion_matrix(cnf_matrix, classes=class_names,\n",
    "                      title='Confusion matrix, without normalization')\n",
    "\n",
    "# Plot normalized confusion matrix\n",
    "plt.figure()\n",
    "plot_confusion_matrix(cnf_matrix, classes=class_names, normalize=True,\n",
    "                      title='Normalized confusion matrix')\n",
    "\n",
    "plt.show()"
   ]
  },
  {
   "cell_type": "code",
   "execution_count": 15,
   "metadata": {
    "collapsed": false
   },
   "outputs": [
    {
     "name": "stdout",
     "output_type": "stream",
     "text": [
      "PERFORMANCE MEASURES BY CONFUSION MATRIX\n",
      "Accuracy: 99.00 %\n",
      "\n",
      "Sensitivity-A: 100.00 %\n",
      "Sensitivity-B: 97.01 %\n",
      "Sensitivity-C: 100.00 %\n",
      "\n",
      "Precision-A: 97.10 %\n",
      "Precision-B: 100.00 %\n",
      "Precision-C: 100.00 %\n",
      "\n",
      "Specificity-A: 98.51 %\n",
      "Specificity-B: 100.00 %\n",
      "Specificity-C: 100.00 %\n"
     ]
    }
   ],
   "source": [
    "cm = confusion_matrix(y_test, y_pred)\n",
    "cm = cm.astype('float') / cm.sum(axis=1)[:, np.newaxis]\n",
    "TPa = float(cm[0][0])\n",
    "Eab = float(cm[0][1])\n",
    "Eac = float(cm[0][2])\n",
    "#####################\n",
    "Eba = float(cm[1][0])\n",
    "TPb = float(cm[1][1])\n",
    "Ebc = float(cm[1][2])\n",
    "#####################\n",
    "Eca = float(cm[2][0])\n",
    "Ecb = float(cm[2][1])\n",
    "TPc = float(cm[2][2])\n",
    "\n",
    "Pa = TPa/(TPa+Eba+Eca)\n",
    "Pb = TPb/(TPb+Eab+Ecb)\n",
    "Pc = TPc/(TPc+Eac+Ebc)\n",
    "\n",
    "Ra = TPa/(TPa+Eab+Eab)\n",
    "Rb = TPb/(TPb+Eba+Ebc)\n",
    "Rc = TPc/(TPc+Eca+Ecb)\n",
    "\n",
    "TNa = TPb+Ebc+Ecb+TPc\n",
    "TNb = TPa+Eac+Eca+TPc\n",
    "TNc = TPa+Eab+Eba+TPb\n",
    "\n",
    "Sa = TNa/(TNa+Eba+Eca)\n",
    "Sb = TNb/(TNb+Eab+Eac)\n",
    "Sc = TNc/(TNc+Eac+Ebc)\n",
    "\n",
    "Acc = (TPa+TPb+TPc)/(TPa+Eab+Eac+Eba+TPb+Ebc+Eca+Ecb+TPc)\n",
    "\n",
    "print 'PERFORMANCE MEASURES BY CONFUSION MATRIX'\n",
    "print ('Accuracy: %.2f %%' % (Acc*100))\n",
    "print ''\n",
    "print ('Sensitivity-A: %.2f %%' % (Ra*100))\n",
    "print ('Sensitivity-B: %.2f %%' % (Rb*100))\n",
    "print ('Sensitivity-C: %.2f %%' % (Rc*100))\n",
    "print ''\n",
    "print ('Precision-A: %.2f %%' % (Pa*100))\n",
    "print ('Precision-B: %.2f %%' % (Pb*100))\n",
    "print ('Precision-C: %.2f %%' % (Pc*100))\n",
    "print ''\n",
    "print ('Specificity-A: %.2f %%' % (Sa*100))\n",
    "print ('Specificity-B: %.2f %%' % (Sb*100))\n",
    "print ('Specificity-C: %.2f %%' % (Sc*100))\n"
   ]
  },
  {
   "cell_type": "markdown",
   "metadata": {
    "collapsed": true
   },
   "source": [
    "# Decision Tree Classifier"
   ]
  },
  {
   "cell_type": "code",
   "execution_count": 29,
   "metadata": {
    "collapsed": false
   },
   "outputs": [
    {
     "name": "stdout",
     "output_type": "stream",
     "text": [
      "\n",
      "Predict time\n",
      "CPU times: user 16 ms, sys: 0 ns, total: 16 ms\n",
      "Wall time: 18.8 ms\n",
      "\n",
      "ClassifyDT accuracy:---------->86.90 %\n"
     ]
    }
   ],
   "source": [
    "from sklearn import tree\n",
    "dtc = tree.DecisionTreeClassifier(min_samples_split = 20)\n",
    "dtc = dtc.fit(X_train_std, y_train)\n",
    "\n",
    "print''\n",
    "\n",
    "print 'Predict time'\n",
    "%time y_pred = dtc.predict(X_test_std)\n",
    "\n",
    "print''\n",
    "\n",
    "from sklearn.metrics import accuracy_score\n",
    "print ('ClassifyDT accuracy:---------->%.2f %%' % (accuracy_score(y_test, y_pred)*100))"
   ]
  },
  {
   "cell_type": "markdown",
   "metadata": {},
   "source": [
    "# Confusion Matrix for Decision Tree Classifier"
   ]
  },
  {
   "cell_type": "code",
   "execution_count": 17,
   "metadata": {
    "collapsed": false
   },
   "outputs": [
    {
     "name": "stdout",
     "output_type": "stream",
     "text": [
      "Confusion matrix, without normalization\n",
      "[[61  1  0]\n",
      " [ 0 62  5]\n",
      " [ 1  3 72]]\n",
      "Normalized confusion matrix\n",
      "[[ 0.98  0.02  0.  ]\n",
      " [ 0.    0.93  0.07]\n",
      " [ 0.01  0.04  0.95]]\n"
     ]
    },
    {
     "data": {
      "image/png": "[encoded data removed]",
      "text/plain": [
       "<matplotlib.figure.Figure at 0x7ff4fc68a4d0>"
      ]
     },
     "metadata": {},
     "output_type": "display_data"
    },
    {
     "data": {
      "image/png": "[encoded data removed]",
      "text/plain": [
       "<matplotlib.figure.Figure at 0x7ff4fd8a4e10>"
      ]
     },
     "metadata": {},
     "output_type": "display_data"
    }
   ],
   "source": [
    "from sklearn.metrics import confusion_matrix\n",
    "import itertools\n",
    "\n",
    "#%matplotlib inline\n",
    "class_names = np.array(['normal', 'stair ascent', 'stair descent'])\n",
    "\n",
    "def plot_confusion_matrix(cm, classes,\n",
    "                          normalize=False,\n",
    "                          title='Confusion matrix',\n",
    "                          cmap=plt.cm.Blues):\n",
    "    \"\"\"\n",
    "    This function prints and plots the confusion matrix.\n",
    "    Normalization can be applied by setting `normalize=True`.\n",
    "    \"\"\"\n",
    "    plt.imshow(cm, interpolation='nearest', cmap=cmap)\n",
    "    plt.title(title)\n",
    "    plt.colorbar()\n",
    "    tick_marks = np.arange(len(classes))\n",
    "    plt.xticks(tick_marks, classes, rotation=45)\n",
    "    plt.yticks(tick_marks, classes)\n",
    "\n",
    "    if normalize:\n",
    "        cm = cm.astype('float') / cm.sum(axis=1)[:, np.newaxis]\n",
    "        print(\"Normalized confusion matrix\")\n",
    "    else:\n",
    "        print('Confusion matrix, without normalization')\n",
    "\n",
    "    print(cm)\n",
    "\n",
    "    thresh = cm.max() / 2.\n",
    "    for i, j in itertools.product(range(cm.shape[0]), range(cm.shape[1])):\n",
    "        plt.text(j, i, cm[i, j],\n",
    "                 horizontalalignment=\"center\",\n",
    "                 color=\"white\" if cm[i, j] > thresh else \"black\")\n",
    "\n",
    "    plt.tight_layout()\n",
    "    plt.ylabel('True label')\n",
    "    plt.xlabel('Predicted label')\n",
    "\n",
    "# Compute confusion matrix\n",
    "cnf_matrix = confusion_matrix(y_test, y_pred)\n",
    "np.set_printoptions(precision=2)\n",
    "\n",
    "# Plot non-normalized confusion matrix\n",
    "plt.figure()\n",
    "plot_confusion_matrix(cnf_matrix, classes=class_names,\n",
    "                      title='Confusion matrix, without normalization')\n",
    "\n",
    "# Plot normalized confusion matrix\n",
    "plt.figure()\n",
    "plot_confusion_matrix(cnf_matrix, classes=class_names, normalize=True,\n",
    "                      title='Normalized confusion matrix')\n",
    "\n",
    "plt.show()"
   ]
  },
  {
   "cell_type": "code",
   "execution_count": 18,
   "metadata": {
    "collapsed": false
   },
   "outputs": [
    {
     "name": "stdout",
     "output_type": "stream",
     "text": [
      "PERFORMANCE MEASURES BY CONFUSION MATRIX\n",
      "Accuracy: 95.22 %\n",
      "\n",
      "Sensitivity-A: 96.83 %\n",
      "Sensitivity-B: 92.54 %\n",
      "Sensitivity-C: 94.74 %\n",
      "\n",
      "Precision-A: 98.68 %\n",
      "Precision-B: 94.33 %\n",
      "Precision-C: 92.70 %\n",
      "\n",
      "Specificity-A: 99.34 %\n",
      "Specificity-B: 99.18 %\n",
      "Specificity-C: 96.27 %\n"
     ]
    }
   ],
   "source": [
    "cm = confusion_matrix(y_test, y_pred)\n",
    "cm = cm.astype('float') / cm.sum(axis=1)[:, np.newaxis]\n",
    "TPa = float(cm[0][0])\n",
    "Eab = float(cm[0][1])\n",
    "Eac = float(cm[0][2])\n",
    "#####################\n",
    "Eba = float(cm[1][0])\n",
    "TPb = float(cm[1][1])\n",
    "Ebc = float(cm[1][2])\n",
    "#####################\n",
    "Eca = float(cm[2][0])\n",
    "Ecb = float(cm[2][1])\n",
    "TPc = float(cm[2][2])\n",
    "\n",
    "Pa = TPa/(TPa+Eba+Eca)\n",
    "Pb = TPb/(TPb+Eab+Ecb)\n",
    "Pc = TPc/(TPc+Eac+Ebc)\n",
    "\n",
    "Ra = TPa/(TPa+Eab+Eab)\n",
    "Rb = TPb/(TPb+Eba+Ebc)\n",
    "Rc = TPc/(TPc+Eca+Ecb)\n",
    "\n",
    "TNa = TPb+Ebc+Ecb+TPc\n",
    "TNb = TPa+Eac+Eca+TPc\n",
    "TNc = TPa+Eab+Eba+TPb\n",
    "\n",
    "Sa = TNa/(TNa+Eba+Eca)\n",
    "Sb = TNb/(TNb+Eab+Eac)\n",
    "Sc = TNc/(TNc+Eac+Ebc)\n",
    "\n",
    "Acc = (TPa+TPb+TPc)/(TPa+Eab+Eac+Eba+TPb+Ebc+Eca+Ecb+TPc)\n",
    "\n",
    "print 'PERFORMANCE MEASURES BY CONFUSION MATRIX'\n",
    "print ('Accuracy: %.2f %%' % (Acc*100))\n",
    "print ''\n",
    "print ('Sensitivity-A: %.2f %%' % (Ra*100))\n",
    "print ('Sensitivity-B: %.2f %%' % (Rb*100))\n",
    "print ('Sensitivity-C: %.2f %%' % (Rc*100))\n",
    "print ''\n",
    "print ('Precision-A: %.2f %%' % (Pa*100))\n",
    "print ('Precision-B: %.2f %%' % (Pb*100))\n",
    "print ('Precision-C: %.2f %%' % (Pc*100))\n",
    "print ''\n",
    "print ('Specificity-A: %.2f %%' % (Sa*100))\n",
    "print ('Specificity-B: %.2f %%' % (Sb*100))\n",
    "print ('Specificity-C: %.2f %%' % (Sc*100))\n"
   ]
  },
  {
   "cell_type": "markdown",
   "metadata": {},
   "source": [
    "# Ada Boost Classifier"
   ]
  },
  {
   "cell_type": "code",
   "execution_count": 28,
   "metadata": {
    "collapsed": false
   },
   "outputs": [
    {
     "name": "stdout",
     "output_type": "stream",
     "text": [
      "\n",
      "Predict time\n",
      "CPU times: user 4.04 s, sys: 0 ns, total: 4.04 s\n",
      "Wall time: 4.04 s\n",
      "\n",
      "ClassifyAB accuracy:---------->59.42 %\n"
     ]
    }
   ],
   "source": [
    "from sklearn.ensemble import AdaBoostClassifier\n",
    "abc = AdaBoostClassifier(n_estimators=100, learning_rate = 2.5395)\n",
    "abc = abc.fit(X_train_std, y_train)\n",
    "print''\n",
    "\n",
    "print 'Predict time'\n",
    "%time y_pred = abc.predict(X_test_std)\n",
    "\n",
    "print''\n",
    "\n",
    "from sklearn.metrics import accuracy_score\n",
    "\n",
    "\n",
    "print ('ClassifyAB accuracy:---------->%.2f %%' % (accuracy_score(y_test, y_pred)*100))"
   ]
  },
  {
   "cell_type": "markdown",
   "metadata": {},
   "source": [
    "# Confusion Matrix for Ada Boost Classifier"
   ]
  },
  {
   "cell_type": "code",
   "execution_count": 27,
   "metadata": {
    "collapsed": false
   },
   "outputs": [
    {
     "name": "stdout",
     "output_type": "stream",
     "text": [
      "Confusion matrix, without normalization\n",
      "[[11994  1597  1440]\n",
      " [ 1428 22086   726]\n",
      " [ 1580   759 24378]]\n",
      "Normalized confusion matrix\n",
      "[[ 0.8   0.11  0.1 ]\n",
      " [ 0.06  0.91  0.03]\n",
      " [ 0.06  0.03  0.91]]\n"
     ]
    },
    {
     "data": {
      "image/png": "[encoded data removed]",
      "text/plain": [
       "<matplotlib.figure.Figure at 0x7f9b1b5d1810>"
      ]
     },
     "metadata": {},
     "output_type": "display_data"
    },
    {
     "data": {
      "image/png": "[encoded data removed]",
      "text/plain": [
       "<matplotlib.figure.Figure at 0x7f9b1b7543d0>"
      ]
     },
     "metadata": {},
     "output_type": "display_data"
    }
   ],
   "source": [
    "from sklearn.metrics import confusion_matrix\n",
    "import itertools\n",
    "\n",
    "#%matplotlib inline\n",
    "class_names = np.array(['normal', 'stair ascent', 'stair descent'])\n",
    "\n",
    "def plot_confusion_matrix(cm, classes,\n",
    "                          normalize=False,\n",
    "                          title='Confusion matrix',\n",
    "                          cmap=plt.cm.Blues):\n",
    "    \"\"\"\n",
    "    This function prints and plots the confusion matrix.\n",
    "    Normalization can be applied by setting `normalize=True`.\n",
    "    \"\"\"\n",
    "    plt.imshow(cm, interpolation='nearest', cmap=cmap)\n",
    "    plt.title(title)\n",
    "    plt.colorbar()\n",
    "    tick_marks = np.arange(len(classes))\n",
    "    plt.xticks(tick_marks, classes, rotation=45)\n",
    "    plt.yticks(tick_marks, classes)\n",
    "\n",
    "    if normalize:\n",
    "        cm = cm.astype('float') / cm.sum(axis=1)[:, np.newaxis]\n",
    "        print(\"Normalized confusion matrix\")\n",
    "    else:\n",
    "        print('Confusion matrix, without normalization')\n",
    "\n",
    "    print(cm)\n",
    "\n",
    "    thresh = cm.max() / 2.\n",
    "    for i, j in itertools.product(range(cm.shape[0]), range(cm.shape[1])):\n",
    "        plt.text(j, i, cm[i, j],\n",
    "                 horizontalalignment=\"center\",\n",
    "                 color=\"white\" if cm[i, j] > thresh else \"black\")\n",
    "\n",
    "    plt.tight_layout()\n",
    "    plt.ylabel('True label')\n",
    "    plt.xlabel('Predicted label')\n",
    "\n",
    "# Compute confusion matrix\n",
    "cnf_matrix = confusion_matrix(y_test, y_pred)\n",
    "np.set_printoptions(precision=2)\n",
    "\n",
    "# Plot non-normalized confusion matrix\n",
    "plt.figure()\n",
    "plot_confusion_matrix(cnf_matrix, classes=class_names,\n",
    "                      title='Confusion matrix, without normalization')\n",
    "\n",
    "# Plot normalized confusion matrix\n",
    "plt.figure()\n",
    "plot_confusion_matrix(cnf_matrix, classes=class_names, normalize=True,\n",
    "                      title='Normalized confusion matrix')\n",
    "\n",
    "plt.show()"
   ]
  },
  {
   "cell_type": "code",
   "execution_count": 21,
   "metadata": {
    "collapsed": false
   },
   "outputs": [
    {
     "name": "stdout",
     "output_type": "stream",
     "text": [
      "PERFORMANCE MEASURES BY CONFUSION MATRIX\n",
      "Accuracy: 85.43 %\n",
      "\n",
      "Sensitivity-A: 84.38 %\n",
      "Sensitivity-B: 73.13 %\n",
      "Sensitivity-C: 96.05 %\n",
      "\n",
      "Precision-A: 89.29 %\n",
      "Precision-B: 85.89 %\n",
      "Precision-C: 81.88 %\n",
      "\n",
      "Specificity-A: 94.78 %\n",
      "Specificity-B: 93.58 %\n",
      "Specificity-C: 89.37 %\n"
     ]
    }
   ],
   "source": [
    "cm = confusion_matrix(y_test, y_pred)\n",
    "cm = cm.astype('float') / cm.sum(axis=1)[:, np.newaxis]\n",
    "TPa = float(cm[0][0])\n",
    "Eab = float(cm[0][1])\n",
    "Eac = float(cm[0][2])\n",
    "#####################\n",
    "Eba = float(cm[1][0])\n",
    "TPb = float(cm[1][1])\n",
    "Ebc = float(cm[1][2])\n",
    "#####################\n",
    "Eca = float(cm[2][0])\n",
    "Ecb = float(cm[2][1])\n",
    "TPc = float(cm[2][2])\n",
    "\n",
    "Pa = TPa/(TPa+Eba+Eca)\n",
    "Pb = TPb/(TPb+Eab+Ecb)\n",
    "Pc = TPc/(TPc+Eac+Ebc)\n",
    "\n",
    "Ra = TPa/(TPa+Eab+Eab)\n",
    "Rb = TPb/(TPb+Eba+Ebc)\n",
    "Rc = TPc/(TPc+Eca+Ecb)\n",
    "\n",
    "TNa = TPb+Ebc+Ecb+TPc\n",
    "TNb = TPa+Eac+Eca+TPc\n",
    "TNc = TPa+Eab+Eba+TPb\n",
    "\n",
    "Sa = TNa/(TNa+Eba+Eca)\n",
    "Sb = TNb/(TNb+Eab+Eac)\n",
    "Sc = TNc/(TNc+Eac+Ebc)\n",
    "\n",
    "Acc = (TPa+TPb+TPc)/(TPa+Eab+Eac+Eba+TPb+Ebc+Eca+Ecb+TPc)\n",
    "\n",
    "print 'PERFORMANCE MEASURES BY CONFUSION MATRIX'\n",
    "print ('Accuracy: %.2f %%' % (Acc*100))\n",
    "print ''\n",
    "print ('Sensitivity-A: %.2f %%' % (Ra*100))\n",
    "print ('Sensitivity-B: %.2f %%' % (Rb*100))\n",
    "print ('Sensitivity-C: %.2f %%' % (Rc*100))\n",
    "print ''\n",
    "print ('Precision-A: %.2f %%' % (Pa*100))\n",
    "print ('Precision-B: %.2f %%' % (Pb*100))\n",
    "print ('Precision-C: %.2f %%' % (Pc*100))\n",
    "print ''\n",
    "print ('Specificity-A: %.2f %%' % (Sa*100))\n",
    "print ('Specificity-B: %.2f %%' % (Sb*100))\n",
    "print ('Specificity-C: %.2f %%' % (Sc*100))\n"
   ]
  },
  {
   "cell_type": "markdown",
   "metadata": {},
   "source": [
    "# KNeighbors Classifier"
   ]
  },
  {
   "cell_type": "code",
   "execution_count": 26,
   "metadata": {
    "collapsed": false
   },
   "outputs": [
    {
     "name": "stdout",
     "output_type": "stream",
     "text": [
      "\n",
      "Predict time\n",
      "CPU times: user 5.04 s, sys: 0 ns, total: 5.04 s\n",
      "Wall time: 5.05 s\n",
      "\n",
      "ClassifyKN accuracy:---------->88.59 %\n"
     ]
    }
   ],
   "source": [
    "from sklearn.neighbors import KNeighborsClassifier\n",
    "knc = KNeighborsClassifier(n_neighbors=2, weights = 'distance', algorithm = 'auto', p = 1)\n",
    "knc = knc.fit(X_train_std, y_train)\n",
    "print''\n",
    "\n",
    "print 'Predict time'\n",
    "%time y_pred = knc.predict(X_test_std)\n",
    "\n",
    "print''\n",
    "\n",
    "from sklearn.metrics import accuracy_score\n",
    "\n",
    "\n",
    "\n",
    "print ('ClassifyKN accuracy:---------->%.2f %%' % (accuracy_score(y_test, y_pred)*100))\n"
   ]
  },
  {
   "cell_type": "markdown",
   "metadata": {},
   "source": [
    "# Confusion Matrix for KNeighbors Classifier"
   ]
  },
  {
   "cell_type": "code",
   "execution_count": 23,
   "metadata": {
    "collapsed": false
   },
   "outputs": [
    {
     "name": "stdout",
     "output_type": "stream",
     "text": [
      "Confusion matrix, without normalization\n",
      "[[61  1  0]\n",
      " [ 0 67  0]\n",
      " [ 0  1 75]]\n",
      "Normalized confusion matrix\n",
      "[[ 0.98  0.02  0.  ]\n",
      " [ 0.    1.    0.  ]\n",
      " [ 0.    0.01  0.99]]\n"
     ]
    },
    {
     "data": {
      "image/png": "[encoded data removed]",
      "text/plain": [
       "<matplotlib.figure.Figure at 0x7ff4fd924c50>"
      ]
     },
     "metadata": {},
     "output_type": "display_data"
    },
    {
     "data": {
      "image/png": "[encoded data removed]",
      "text/plain": [
       "<matplotlib.figure.Figure at 0x7ff4fd924750>"
      ]
     },
     "metadata": {},
     "output_type": "display_data"
    }
   ],
   "source": [
    "from sklearn.metrics import confusion_matrix\n",
    "import itertools\n",
    "\n",
    "#%matplotlib inline\n",
    "class_names = np.array(['normal', 'stair ascent', 'stair descent'])\n",
    "\n",
    "def plot_confusion_matrix(cm, classes,\n",
    "                          normalize=False,\n",
    "                          title='Confusion matrix',\n",
    "                          cmap=plt.cm.Blues):\n",
    "    \"\"\"\n",
    "    This function prints and plots the confusion matrix.\n",
    "    Normalization can be applied by setting `normalize=True`.\n",
    "    \"\"\"\n",
    "    plt.imshow(cm, interpolation='nearest', cmap=cmap)\n",
    "    plt.title(title)\n",
    "    plt.colorbar()\n",
    "    tick_marks = np.arange(len(classes))\n",
    "    plt.xticks(tick_marks, classes, rotation=45)\n",
    "    plt.yticks(tick_marks, classes)\n",
    "\n",
    "    if normalize:\n",
    "        cm = cm.astype('float') / cm.sum(axis=1)[:, np.newaxis]\n",
    "        print(\"Normalized confusion matrix\")\n",
    "    else:\n",
    "        print('Confusion matrix, without normalization')\n",
    "\n",
    "    print(cm)\n",
    "\n",
    "    thresh = cm.max() / 2.\n",
    "    for i, j in itertools.product(range(cm.shape[0]), range(cm.shape[1])):\n",
    "        plt.text(j, i, cm[i, j],\n",
    "                 horizontalalignment=\"center\",\n",
    "                 color=\"white\" if cm[i, j] > thresh else \"black\")\n",
    "\n",
    "    plt.tight_layout()\n",
    "    plt.ylabel('True label')\n",
    "    plt.xlabel('Predicted label')\n",
    "\n",
    "# Compute confusion matrix\n",
    "cnf_matrix = confusion_matrix(y_test, y_pred)\n",
    "np.set_printoptions(precision=2)\n",
    "\n",
    "# Plot non-normalized confusion matrix\n",
    "plt.figure()\n",
    "plot_confusion_matrix(cnf_matrix, classes=class_names,\n",
    "                      title='Confusion matrix, without normalization')\n",
    "\n",
    "# Plot normalized confusion matrix\n",
    "plt.figure()\n",
    "plot_confusion_matrix(cnf_matrix, classes=class_names, normalize=True,\n",
    "                      title='Normalized confusion matrix')\n",
    "\n",
    "plt.show()"
   ]
  },
  {
   "cell_type": "code",
   "execution_count": 24,
   "metadata": {
    "collapsed": false
   },
   "outputs": [
    {
     "name": "stdout",
     "output_type": "stream",
     "text": [
      "PERFORMANCE MEASURES BY CONFUSION MATRIX\n",
      "Accuracy: 99.02 %\n",
      "\n",
      "Sensitivity-A: 96.83 %\n",
      "Sensitivity-B: 100.00 %\n",
      "Sensitivity-C: 98.68 %\n",
      "\n",
      "Precision-A: 100.00 %\n",
      "Precision-B: 97.15 %\n",
      "Precision-C: 100.00 %\n",
      "\n",
      "Specificity-A: 100.00 %\n",
      "Specificity-B: 99.19 %\n",
      "Specificity-C: 100.00 %\n"
     ]
    }
   ],
   "source": [
    "cm = confusion_matrix(y_test, y_pred)\n",
    "cm = cm.astype('float') / cm.sum(axis=1)[:, np.newaxis]\n",
    "TPa = float(cm[0][0])\n",
    "Eab = float(cm[0][1])\n",
    "Eac = float(cm[0][2])\n",
    "#####################\n",
    "Eba = float(cm[1][0])\n",
    "TPb = float(cm[1][1])\n",
    "Ebc = float(cm[1][2])\n",
    "#####################\n",
    "Eca = float(cm[2][0])\n",
    "Ecb = float(cm[2][1])\n",
    "TPc = float(cm[2][2])\n",
    "\n",
    "Pa = TPa/(TPa+Eba+Eca)\n",
    "Pb = TPb/(TPb+Eab+Ecb)\n",
    "Pc = TPc/(TPc+Eac+Ebc)\n",
    "\n",
    "Ra = TPa/(TPa+Eab+Eab)\n",
    "Rb = TPb/(TPb+Eba+Ebc)\n",
    "Rc = TPc/(TPc+Eca+Ecb)\n",
    "\n",
    "TNa = TPb+Ebc+Ecb+TPc\n",
    "TNb = TPa+Eac+Eca+TPc\n",
    "TNc = TPa+Eab+Eba+TPb\n",
    "\n",
    "Sa = TNa/(TNa+Eba+Eca)\n",
    "Sb = TNb/(TNb+Eab+Eac)\n",
    "Sc = TNc/(TNc+Eac+Ebc)\n",
    "\n",
    "Acc = (TPa+TPb+TPc)/(TPa+Eab+Eac+Eba+TPb+Ebc+Eca+Ecb+TPc)\n",
    "\n",
    "print 'PERFORMANCE MEASURES BY CONFUSION MATRIX'\n",
    "print ('Accuracy: %.2f %%' % (Acc*100))\n",
    "print ''\n",
    "print ('Sensitivity-A: %.2f %%' % (Ra*100))\n",
    "print ('Sensitivity-B: %.2f %%' % (Rb*100))\n",
    "print ('Sensitivity-C: %.2f %%' % (Rc*100))\n",
    "print ''\n",
    "print ('Precision-A: %.2f %%' % (Pa*100))\n",
    "print ('Precision-B: %.2f %%' % (Pb*100))\n",
    "print ('Precision-C: %.2f %%' % (Pc*100))\n",
    "print ''\n",
    "print ('Specificity-A: %.2f %%' % (Sa*100))\n",
    "print ('Specificity-B: %.2f %%' % (Sb*100))\n",
    "print ('Specificity-C: %.2f %%' % (Sc*100))\n"
   ]
  },
  {
   "cell_type": "markdown",
   "metadata": {
    "collapsed": true
   },
   "source": [
    "# Classificadores Utilizados:\n",
    "\n",
    "### knc : KNeighborsClassifier; \n",
    "### abc : AdaBoostClassifier; \n",
    "### dtc : tree.DecisionTreeClassifier; \n",
    "### rfc : RandomForestClassifier; \n",
    "### gnb : GaussianNB; \n",
    "### rbf_svc : SVMClassifierRBF; \n",
    "### poly_svc = SVMClassifierPoly"
   ]
  },
  {
   "cell_type": "code",
   "execution_count": 25,
   "metadata": {
    "collapsed": false
   },
   "outputs": [],
   "source": [
    "from sklearn.ensemble import VotingClassifier\n",
    "eclf1 = VotingClassifier(estimators=[('knc', knc), ('abc', abc), ('dtc', dtc), ('rfc', rfc), ('gnb', gnb), \n",
    "                                     (\"rbf_svc\", rbf_svc), ('poly_svc', poly_svc)], voting='hard',weights=[3,1,1,7,1,4,3])\n",
    "eclf1 = eclf1.fit(X_train_std, y_train)"
   ]
  },
  {
   "cell_type": "code",
   "execution_count": 26,
   "metadata": {
    "collapsed": false
   },
   "outputs": [
    {
     "name": "stdout",
     "output_type": "stream",
     "text": [
      "Accuracy: 96.73 % [KNieghbors]\n",
      "Accuracy: 77.89 % [Ada Boost]\n",
      "Accuracy: 92.15 % [Decision Tree]\n",
      "Accuracy: 99.18 % [Random Forest]\n",
      "Accuracy: 79.09 % [Naive Bayes]\n",
      "Accuracy: 96.89 % [SVM-RBF]\n",
      "Accuracy: 95.92 % [SVM-Poly]\n",
      "Accuracy: 99.67 % [Ensemble]\n"
     ]
    }
   ],
   "source": [
    "from sklearn.model_selection import cross_val_score\n",
    "from sklearn.ensemble import VotingClassifier\n",
    "\n",
    "for clf, label in zip([knc, abc, dtc, rfc, gnb, rbf_svc, poly_svc, eclf1], ['KNieghbors', 'Ada Boost', 'Decision Tree', \n",
    "                                                                           'Random Forest', 'Naive Bayes', 'SVM-RBF', \n",
    "                                                                           'SVM-Poly', 'Ensemble']):\n",
    "    scores = (cross_val_score(clf, X_train_std, y_train, cv=5, scoring='accuracy'))*100\n",
    "    #print(\"Accuracy: %0.2f %%(+/- %0.2f) [%s]\" % (scores.mean(), scores.std(), label))\n",
    "    print(\"Accuracy: %0.2f %% [%s]\" % (scores.mean(), label))"
   ]
  },
  {
   "cell_type": "code",
   "execution_count": 27,
   "metadata": {
    "collapsed": false
   },
   "outputs": [
    {
     "name": "stdout",
     "output_type": "stream",
     "text": [
      "The scikit-learn version is 0.18.1.\n"
     ]
    }
   ],
   "source": [
    "\n",
    "\n",
    "import sklearn\n",
    "\n",
    "print('The scikit-learn version is {}.'.format(sklearn.__version__))"
   ]
  },
  {
   "cell_type": "code",
   "execution_count": null,
   "metadata": {
    "collapsed": false
   },
   "outputs": [],
   "source": [
    "from sklearn.decomposition import PCA\n",
    "from sklearn.cross_decomposition import CCA\n",
    "from sklearn import cross_validation\n",
    "\n",
    "pca = PCA(n_components=10)# adjust yourself\n",
    "pca.fit(X_train)\n",
    "X_t_train = pca.transform(X_train)\n",
    "X_t_test = pca.transform(X_test)\n",
    "\n",
    "clf = rfc\n",
    "clf.fit(X_t_train, y_train)\n",
    "print 'score', clf.score(X_t_test, y_test)\n",
    "\n",
    "clf.predict(X_t_test)\n",
    "\n",
    "scores = (cross_val_score(clf, X_train_std, y_train, cv=5, scoring='accuracy'))*100\n",
    "print(\"Accuracy: %0.2f %%\" % (scores.mean()))"
   ]
  },
  {
   "cell_type": "code",
   "execution_count": null,
   "metadata": {
    "collapsed": true
   },
   "outputs": [],
   "source": []
  },
  {
   "cell_type": "markdown",
   "metadata": {},
   "source": [
    "BAK\n",
    "import math\n",
    "cm = confusion_matrix(y_test, y_pred)\n",
    "cm = cm.astype('float') / cm.sum(axis=1)[:, np.newaxis]\n",
    "TP = float(cm[0][0])\n",
    "FP = float(cm[1][0])\n",
    "FN = float(cm[0][1])\n",
    "TN = float(cm[1][1])\n",
    "\n",
    "print 'PERFORMANCE MEASURES BY CONFUSION MATRIX'\n",
    "print ('Sensitivity: %.2f %%' % (((TP)/(TP+FN))*100))\n",
    "print ('Specificity: %.2f %%' % ((TN)/((FP+TN))*100))\n",
    "print ('Accuracy: %.2f %%' % ((TP+TN)/((TP+FN)+(FP+TN))*100))\n",
    "print ('phi: %.2f ' % ((TP*TN-FP*FN)/math.sqrt((TP+FP)*(TP+FN)*(TN+FP)*(TN+FN))))\n"
   ]
  },
  {
   "cell_type": "code",
   "execution_count": null,
   "metadata": {
    "collapsed": true
   },
   "outputs": [],
   "source": []
  }
 ],
 "metadata": {
  "anaconda-cloud": {},
  "kernelspec": {
   "display_name": "Python 2",
   "language": "python",
   "name": "python2"
  },
  "language_info": {
   "codemirror_mode": {
    "name": "ipython",
    "version": 2
   },
   "file_extension": ".py",
   "mimetype": "text/x-python",
   "name": "python",
   "nbconvert_exporter": "python",
   "pygments_lexer": "ipython2",
   "version": "2.7.13"
  },
  "latex_envs": {
   "LaTeX_envs_menu_present": true,
   "autocomplete": true,
   "bibliofile": "biblio.bib",
   "cite_by": "apalike",
   "current_citInitial": 1,
   "eqLabelWithNumbers": true,
   "eqNumInitial": 1,
   "hotkeys": {
    "equation": "Ctrl-E",
    "itemize": "Ctrl-I"
   },
   "labels_anchors": false,
   "latex_user_defs": false,
   "report_style_numbering": false,
   "user_envs_cfg": false
  }
 },
 "nbformat": 4,
 "nbformat_minor": 0
}
