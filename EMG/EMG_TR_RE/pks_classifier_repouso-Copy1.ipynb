{
 "cells": [
  {
   "cell_type": "markdown",
   "metadata": {},
   "source": [
    "# Bibliotecas"
   ]
  },
  {
   "cell_type": "code",
   "execution_count": 1,
   "metadata": {},
   "outputs": [],
   "source": [
    "import os\n",
    "import pandas as pd\n",
    "import numpy as np\n",
    "import scipy as sp\n",
    "from scipy import signal\n",
    "import timeit\n",
    "from datetime import datetime\n",
    "from sklearn.externals import joblib\n",
    "import matplotlib.pyplot as plt\n",
    "from sklearn.decomposition import PCA\n",
    "from sklearn import preprocessing\n",
    "from sklearn import utils\n",
    "\n",
    "from ml_time_series import generate_envelope\n",
    "\n",
    "%matplotlib notebook"
   ]
  },
  {
   "cell_type": "code",
   "execution_count": 2,
   "metadata": {},
   "outputs": [],
   "source": [
    "def HStacker(files_,t):\n",
    "    \n",
    "    #Lê dados do arquivo e remove janela\n",
    "    Xc = np.load('DB_REPO/preproc/'+files_[3])\n",
    "    Xc = Xc[:-49] #Exclui do STD para igualar o Hshape\n",
    "    Xci = np.load('DB_REPO/preproc/'+files_[0])\n",
    "    Xci = Xci[:-49]\n",
    "    Xc = np.hstack((Xc.reshape(Xc.shape),Xci.reshape(Xci.shape)))\n",
    "    \n",
    "    #Aplica Hstack nos dados\n",
    "    for j in range(1,len(files_)-1):\n",
    "        Xci = np.load('DB_REPO/preproc/'+files_[j])\n",
    "        Xc = np.hstack((Xc.reshape(Xc.shape),Xci.reshape(Xci.shape)))\n",
    "          \n",
    "    \n",
    "    # Salving in file on the folder <DB_PKS/preproc/labeled>\n",
    "    np.save('./DB_REPO/stacked/'+t+'_hs', Xc, allow_pickle=False)\n",
    "    DATA_hs.append(t+'_hs.npy')"
   ]
  },
  {
   "cell_type": "code",
   "execution_count": 3,
   "metadata": {},
   "outputs": [],
   "source": [
    "def VStacker(files_,t):\n",
    "    \n",
    "    #Lê dados do arquivo e remove janela\n",
    "    Xc = np.load('DB_REPO/stacked/'+files_[0])\n",
    "    \n",
    "    #Aplica Hstack nos dados\n",
    "    for j in range(0,len(files_)-1):\n",
    "        Xci = np.load('DB_REPO/stacked/'+files_[j])\n",
    "        Xc = np.vstack((Xc,Xci)) \n",
    "          \n",
    "    \n",
    "    # Salving in file on the folder <DB_PKS/preproc/labeled>\n",
    "    np.save('./DB_REPO/stacked/'+t+'_vs', Xc, allow_pickle=False)\n",
    "    DATA_vs.append(t+'_vs.npy')"
   ]
  },
  {
   "cell_type": "code",
   "execution_count": 4,
   "metadata": {},
   "outputs": [],
   "source": [
    "def HStackerF(files_,t):\n",
    "    \n",
    "    #Lê dados do arquivo e remove janela\n",
    "    Xc = np.load('DB_REPO/stacked/'+files_[5])\n",
    "    Xc = Xc[:35853] #Exclui amostras para igualar tamanho e possibilitar o vstack\n",
    "    \n",
    "    #Aplica Hstack nos dados\n",
    "    for j in range(0,len(files_)-1):\n",
    "        Xci = np.load('DB_REPO/stacked/'+files_[j])\n",
    "        Xci = Xci[:35853] #Exclui amostras para igualar tamanho e possibilitar o vstack\n",
    "        Xc = np.hstack((Xc.reshape(Xc.shape),Xci.reshape(Xci.shape)))\n",
    "          \n",
    "    \n",
    "    # Salving in file on the folder <DB_PKS/preproc/labeled>\n",
    "    np.save('./DB_REPO/stacked/'+t+'_fs', Xc, allow_pickle=False)\n",
    "    DATA_fs.append(t+'_fs.npy')"
   ]
  },
  {
   "cell_type": "code",
   "execution_count": 5,
   "metadata": {},
   "outputs": [],
   "source": [
    "#Carregando arquivos\n",
    "import commands\n",
    "\n",
    "n_features = 4\n",
    "A = commands.getoutput('ls DB_REPO/preproc')\n",
    "files_ = A.split('\\n')\n",
    "DATA_hs = []\n",
    "\n",
    "for i in range(0,len(files_),n_features):\n",
    "    HStacker(files_[i:i+n_features],files_[i:i+n_features][0].split('-')[0]+str(i/n_features))\n",
    "    #print (files_[i:i+3],files_[0:3][0].split('-')[0]+str(i/3))"
   ]
  },
  {
   "cell_type": "code",
   "execution_count": 6,
   "metadata": {},
   "outputs": [
    {
     "data": {
      "text/plain": [
       "(['PK_Sergio Lamenza - Dia 17.11.25 as 16.59.00.edf_fft.npy',\n",
       "  'PK_Sergio Lamenza - Dia 17.11.25 as 16.59.00.edf_filt.npy',\n",
       "  'PK_Sergio Lamenza - Dia 17.11.25 as 16.59.00.edf_rms.npy',\n",
       "  'PK_Sergio Lamenza - Dia 17.11.25 as 16.59.00.edf_std.npy'],\n",
       " 'PK_Sergio Lamenza 83')"
      ]
     },
     "execution_count": 6,
     "metadata": {},
     "output_type": "execute_result"
    }
   ],
   "source": [
    "(files_[i:i+n_features],files_[i:i+n_features][0].split('-')[0]+str(i/n_features))"
   ]
  },
  {
   "cell_type": "code",
   "execution_count": 7,
   "metadata": {},
   "outputs": [
    {
     "data": {
      "text/plain": [
       "'PK_Sergio Lamenza 83'"
      ]
     },
     "execution_count": 7,
     "metadata": {},
     "output_type": "execute_result"
    }
   ],
   "source": [
    "files_[i:i+n_features][0].split('-')[0]+str(i/n_features)"
   ]
  },
  {
   "cell_type": "code",
   "execution_count": 8,
   "metadata": {},
   "outputs": [
    {
     "data": {
      "text/plain": [
       "'CT_Antonia Perpetuo Borges '"
      ]
     },
     "execution_count": 8,
     "metadata": {},
     "output_type": "execute_result"
    }
   ],
   "source": [
    "files_[0:][0].split('-')[0]"
   ]
  },
  {
   "cell_type": "code",
   "execution_count": 9,
   "metadata": {},
   "outputs": [
    {
     "data": {
      "text/plain": [
       "['CT_Antonia Perpetuo Borges - Dia 17.12.11 as 08.56.09.edf_fft.npy',\n",
       " 'CT_Antonia Perpetuo Borges - Dia 17.12.11 as 08.56.09.edf_filt.npy',\n",
       " 'CT_Antonia Perpetuo Borges - Dia 17.12.11 as 08.56.09.edf_rms.npy',\n",
       " 'CT_Antonia Perpetuo Borges - Dia 17.12.11 as 08.56.09.edf_std.npy']"
      ]
     },
     "execution_count": 9,
     "metadata": {},
     "output_type": "execute_result"
    }
   ],
   "source": [
    "files_[0:4]"
   ]
  },
  {
   "cell_type": "code",
   "execution_count": 10,
   "metadata": {
    "scrolled": true
   },
   "outputs": [
    {
     "name": "stdout",
     "output_type": "stream",
     "text": [
      "(12000, 11951, 11951, 12000)\n",
      "(12000, 11951, 11951, 12000)\n",
      "(12000, 11951, 11951, 12000)\n",
      "(12000, 11951, 11951, 12000)\n",
      "(12000, 11951, 11951, 12000)\n",
      "(12000, 11951, 11951, 12000)\n",
      "(12000, 11951, 11951, 12000)\n",
      "(12000, 11951, 11951, 12000)\n",
      "(12000, 11951, 11951, 12000)\n",
      "(12000, 11951, 11951, 12000)\n",
      "(12000, 11951, 11951, 12000)\n",
      "(12000, 11951, 11951, 12000)\n",
      "(12000, 11951, 11951, 12000)\n",
      "(12000, 11951, 11951, 12000)\n",
      "(12000, 11951, 11951, 12000)\n",
      "(12000, 11951, 11951, 12000)\n",
      "(12000, 11951, 11951, 12000)\n",
      "(12000, 11951, 11951, 12000)\n",
      "(12000, 11951, 11951, 12000)\n",
      "(12000, 11951, 11951, 12000)\n",
      "(12000, 11951, 11951, 12000)\n",
      "(14000, 13951, 13951, 14000)\n",
      "(12000, 11951, 11951, 12000)\n",
      "(12000, 11951, 11951, 12000)\n",
      "(12000, 11951, 11951, 12000)\n",
      "(12000, 11951, 11951, 12000)\n",
      "(12000, 11951, 11951, 12000)\n",
      "(12000, 11951, 11951, 12000)\n",
      "(12000, 11951, 11951, 12000)\n",
      "(12000, 11951, 11951, 12000)\n",
      "(22000, 21951, 21951, 22000)\n",
      "(14000, 13951, 13951, 14000)\n",
      "(12000, 11951, 11951, 12000)\n",
      "(12000, 11951, 11951, 12000)\n",
      "(22000, 21951, 21951, 22000)\n",
      "(12000, 11951, 11951, 12000)\n",
      "(12000, 11951, 11951, 12000)\n",
      "(12000, 11951, 11951, 12000)\n",
      "(12000, 11951, 11951, 12000)\n",
      "(12000, 11951, 11951, 12000)\n",
      "(12000, 11951, 11951, 12000)\n",
      "(12000, 11951, 11951, 12000)\n",
      "(12000, 11951, 11951, 12000)\n",
      "(12000, 11951, 11951, 12000)\n",
      "(12000, 11951, 11951, 12000)\n",
      "(12000, 11951, 11951, 12000)\n",
      "(12000, 11951, 11951, 12000)\n",
      "(12000, 11951, 11951, 12000)\n",
      "(14000, 13951, 13951, 14000)\n",
      "(12000, 11951, 11951, 12000)\n",
      "(12000, 11951, 11951, 12000)\n",
      "(12000, 11951, 11951, 12000)\n",
      "(12000, 11951, 11951, 12000)\n",
      "(14000, 13951, 13951, 14000)\n",
      "(12000, 11951, 11951, 12000)\n",
      "(12000, 11951, 11951, 12000)\n",
      "(12000, 11951, 11951, 12000)\n",
      "(12000, 11951, 11951, 12000)\n",
      "(12000, 11951, 11951, 12000)\n",
      "(12000, 11951, 11951, 12000)\n",
      "(12000, 11951, 11951, 12000)\n",
      "(12000, 11951, 11951, 12000)\n",
      "(12000, 11951, 11951, 12000)\n",
      "(14000, 13951, 13951, 14000)\n",
      "(12000, 11951, 11951, 12000)\n",
      "(14000, 13951, 13951, 14000)\n",
      "(12000, 11951, 11951, 12000)\n",
      "(12000, 11951, 11951, 12000)\n",
      "(12000, 11951, 11951, 12000)\n",
      "(14000, 13951, 13951, 14000)\n",
      "(12000, 11951, 11951, 12000)\n",
      "(12000, 11951, 11951, 12000)\n",
      "(12000, 11951, 11951, 12000)\n",
      "(12000, 11951, 11951, 12000)\n",
      "(12000, 11951, 11951, 12000)\n",
      "(12000, 11951, 11951, 12000)\n",
      "(12000, 11951, 11951, 12000)\n",
      "(12000, 11951, 11951, 12000)\n",
      "(12000, 11951, 11951, 12000)\n",
      "(12000, 11951, 11951, 12000)\n",
      "(14000, 13951, 13951, 14000)\n",
      "(12000, 11951, 11951, 12000)\n",
      "(12000, 11951, 11951, 12000)\n",
      "(12000, 11951, 11951, 12000)\n"
     ]
    }
   ],
   "source": [
    "for i in range(0,len(files_),4):\n",
    "    r = files_[i:i+4]\n",
    "    \n",
    "    print (((np.load('DB_REPO/preproc/'+r[0])).shape[0],(np.load('DB_REPO/preproc/'+r[1])).shape[0],\n",
    "            (np.load('DB_REPO/preproc/'+r[2])).shape[0],(np.load('DB_REPO/preproc/'+r[3])).shape[0]))"
   ]
  },
  {
   "cell_type": "code",
   "execution_count": 11,
   "metadata": {},
   "outputs": [
    {
     "name": "stdout",
     "output_type": "stream",
     "text": [
      "CT_Antonia Perpetuo Borges \n"
     ]
    }
   ],
   "source": [
    "import re \n",
    "\n",
    "print  (re.findall('\\d*\\D+',(DATA_hs[0:5][0]))[0])\n",
    "\n"
   ]
  },
  {
   "cell_type": "code",
   "execution_count": 12,
   "metadata": {
    "scrolled": true
   },
   "outputs": [
    {
     "data": {
      "text/plain": [
       "['CT_Antonia Perpetuo Borges 0_hs.npy',\n",
       " 'CT_Antonia Perpetuo Borges 1_hs.npy',\n",
       " 'CT_Antonia Perpetuo Borges 2_hs.npy',\n",
       " 'CT_Francisco das Chagas dos Santos 3_hs.npy',\n",
       " 'CT_Francisco das Chagas dos Santos 4_hs.npy',\n",
       " 'CT_Francisco das Chagas dos Santos 5_hs.npy',\n",
       " 'CT_Gelson Amantos de Souza  6_hs.npy',\n",
       " 'CT_Gelson Amantos de Souza  7_hs.npy',\n",
       " 'CT_Gelson Amantos de Souza  8_hs.npy',\n",
       " 'CT_Geraldo Dias de Oliveira 9_hs.npy',\n",
       " 'CT_Geraldo Dias de Oliveira 10_hs.npy',\n",
       " 'CT_Geraldo Dias de Oliveira 11_hs.npy',\n",
       " 'CT_Iraci Rodrigues Soares 12_hs.npy',\n",
       " 'CT_Iraci Rodrigues Soares 13_hs.npy',\n",
       " 'CT_Iraci Rodrigues Soares 14_hs.npy',\n",
       " 'CT_Joaquina de Sousa Freitas  15_hs.npy',\n",
       " 'CT_Joaquina de Sousa Freitas  16_hs.npy',\n",
       " 'CT_Joaquina de Sousa Freitas  17_hs.npy',\n",
       " 'CT_Jose Martins de Sousa  18_hs.npy',\n",
       " 'CT_Jose Martins de Sousa  19_hs.npy',\n",
       " 'CT_Jose Martins de Sousa  20_hs.npy',\n",
       " 'CT_Larcir Iria da Conceicao Santos 21_hs.npy',\n",
       " 'CT_Larcir Iria da Conceicao Santos 22_hs.npy',\n",
       " 'CT_Larcir Iria da Conceicao Santos 23_hs.npy',\n",
       " 'CT_Magda Aparecida Ferreira 24_hs.npy',\n",
       " 'CT_Magda Aparecida Ferreira 25_hs.npy',\n",
       " 'CT_Magda Aparecida Ferreira 26_hs.npy',\n",
       " 'CT_Manuel Saraiva da Rocha 27_hs.npy',\n",
       " 'CT_Manuel Saraiva da Rocha 28_hs.npy',\n",
       " 'CT_Manuel Saraiva da Rocha 29_hs.npy',\n",
       " 'CT_Maria das Gracas Vieira 30_hs.npy',\n",
       " 'CT_Maria das Gracas Vieira 31_hs.npy',\n",
       " 'CT_Maria das Gracas Vieira 32_hs.npy',\n",
       " 'CT_Maria Santana Estevam Moreira 33_hs.npy',\n",
       " 'CT_Maria Santana Estevam Moreira 34_hs.npy',\n",
       " 'CT_Maria Santana Estevam Moreira 35_hs.npy',\n",
       " 'CT_Maria Veira Borges 36_hs.npy',\n",
       " 'CT_Maria Veira Borges 37_hs.npy',\n",
       " 'CT_Maria Veira Borges 38_hs.npy',\n",
       " 'CT_Zenobia Barroso Feitosa 39_hs.npy',\n",
       " 'CT_Zenobia Barroso Feitosa 40_hs.npy',\n",
       " 'CT_Zenobia Barroso Feitosa 41_hs.npy',\n",
       " 'PK_Arthur Araujo Filho 42_hs.npy',\n",
       " 'PK_Arthur Araujo Filho 43_hs.npy',\n",
       " 'PK_Arthur Araujo Filho 44_hs.npy',\n",
       " 'PK_Boanerges Ramos Cunha 45_hs.npy',\n",
       " 'PK_Boanerges Ramos Cunha 46_hs.npy',\n",
       " 'PK_Boanerges Ramos Cunha 47_hs.npy',\n",
       " 'PK_Carmino Pereira da Silva 48_hs.npy',\n",
       " 'PK_Carmino Pereira da Silva 49_hs.npy',\n",
       " 'PK_Carmino Pereira da Silva 50_hs.npy',\n",
       " 'PK_Diniz Esmeraldo 51_hs.npy',\n",
       " 'PK_Diniz Esmeraldo 52_hs.npy',\n",
       " 'PK_Diniz Esmeraldo 53_hs.npy',\n",
       " 'PK_Donia Aires 54_hs.npy',\n",
       " 'PK_Donia Aires 55_hs.npy',\n",
       " 'PK_Donia Aires 56_hs.npy',\n",
       " 'PK_Fernando Francisco da Silva 57_hs.npy',\n",
       " 'PK_Fernando Francisco da Silva 58_hs.npy',\n",
       " 'PK_Fernando Francisco da Silva 59_hs.npy',\n",
       " 'PK_Gastao Goncalves da Silva 60_hs.npy',\n",
       " 'PK_Gastao Goncalves da Silva 61_hs.npy',\n",
       " 'PK_Gastao Goncalves da Silva 62_hs.npy',\n",
       " 'PK_Ismael Rodrigues do Carmo 63_hs.npy',\n",
       " 'PK_Ismael Rodrigues do Carmo 64_hs.npy',\n",
       " 'PK_Ismael Rodrigues do Carmo 65_hs.npy',\n",
       " 'PK_Ivanildes Barbosa 66_hs.npy',\n",
       " 'PK_Ivanildes Barbosa 67_hs.npy',\n",
       " 'PK_Ivanildes Barbosa 68_hs.npy',\n",
       " 'PK_Jose Fernandes Araujo 69_hs.npy',\n",
       " 'PK_Jose Fernandes Araujo 70_hs.npy',\n",
       " 'PK_Jose Fernandes Araujo 71_hs.npy',\n",
       " 'PK_Jose Francisto Fontineli  72_hs.npy',\n",
       " 'PK_Jose Francisto Fontineli  73_hs.npy',\n",
       " 'PK_Jose Francisto Fontineli  74_hs.npy',\n",
       " 'PK_Marcilio Pontinho de Rezende 75_hs.npy',\n",
       " 'PK_Marcilio Pontinho de Rezende 76_hs.npy',\n",
       " 'PK_Marcilio Pontinho de Rezende 77_hs.npy',\n",
       " 'PK_Osvaldir Borborema 78_hs.npy',\n",
       " 'PK_Osvaldir Borborema 79_hs.npy',\n",
       " 'PK_Osvaldir Borborema 80_hs.npy',\n",
       " 'PK_Sergio Lamenza 81_hs.npy',\n",
       " 'PK_Sergio Lamenza 82_hs.npy',\n",
       " 'PK_Sergio Lamenza 83_hs.npy']"
      ]
     },
     "execution_count": 12,
     "metadata": {},
     "output_type": "execute_result"
    }
   ],
   "source": [
    "DATA_hs"
   ]
  },
  {
   "cell_type": "code",
   "execution_count": 13,
   "metadata": {},
   "outputs": [],
   "source": [
    "Xc = np.load('DB_REPO/stacked/PK_Arthur Araujo Filho 42_hs.npy')"
   ]
  },
  {
   "cell_type": "code",
   "execution_count": 14,
   "metadata": {
    "scrolled": false
   },
   "outputs": [
    {
     "data": {
      "text/html": [
       "<div>\n",
       "<style>\n",
       "    .dataframe thead tr:only-child th {\n",
       "        text-align: right;\n",
       "    }\n",
       "\n",
       "    .dataframe thead th {\n",
       "        text-align: left;\n",
       "    }\n",
       "\n",
       "    .dataframe tbody tr th {\n",
       "        vertical-align: top;\n",
       "    }\n",
       "</style>\n",
       "<table border=\"1\" class=\"dataframe\">\n",
       "  <thead>\n",
       "    <tr style=\"text-align: right;\">\n",
       "      <th></th>\n",
       "      <th>0</th>\n",
       "      <th>1</th>\n",
       "      <th>2</th>\n",
       "      <th>3</th>\n",
       "      <th>4</th>\n",
       "      <th>5</th>\n",
       "      <th>6</th>\n",
       "      <th>7</th>\n",
       "      <th>8</th>\n",
       "      <th>9</th>\n",
       "      <th>10</th>\n",
       "      <th>11</th>\n",
       "      <th>12</th>\n",
       "      <th>13</th>\n",
       "      <th>14</th>\n",
       "      <th>15</th>\n",
       "    </tr>\n",
       "  </thead>\n",
       "  <tbody>\n",
       "    <tr>\n",
       "      <th>0</th>\n",
       "      <td>0.022327</td>\n",
       "      <td>-0.001221</td>\n",
       "      <td>0.186603</td>\n",
       "      <td>0.017612</td>\n",
       "      <td>175.605680</td>\n",
       "      <td>10.642500</td>\n",
       "      <td>591.227547</td>\n",
       "      <td>50.701473</td>\n",
       "      <td>0.000375</td>\n",
       "      <td>0.000054</td>\n",
       "      <td>-0.002637</td>\n",
       "      <td>0.000031</td>\n",
       "      <td>0.024166</td>\n",
       "      <td>0.004446</td>\n",
       "      <td>0.228747</td>\n",
       "      <td>0.011801</td>\n",
       "    </tr>\n",
       "    <tr>\n",
       "      <th>1</th>\n",
       "      <td>0.019318</td>\n",
       "      <td>-0.001221</td>\n",
       "      <td>0.186603</td>\n",
       "      <td>0.015084</td>\n",
       "      <td>75.150074</td>\n",
       "      <td>4.178106</td>\n",
       "      <td>409.107829</td>\n",
       "      <td>23.394437</td>\n",
       "      <td>0.000290</td>\n",
       "      <td>0.000073</td>\n",
       "      <td>-0.001959</td>\n",
       "      <td>-0.000076</td>\n",
       "      <td>0.024076</td>\n",
       "      <td>0.004444</td>\n",
       "      <td>0.229715</td>\n",
       "      <td>0.011622</td>\n",
       "    </tr>\n",
       "    <tr>\n",
       "      <th>2</th>\n",
       "      <td>0.025335</td>\n",
       "      <td>0.000705</td>\n",
       "      <td>0.173561</td>\n",
       "      <td>0.024354</td>\n",
       "      <td>120.955158</td>\n",
       "      <td>1.798792</td>\n",
       "      <td>822.637772</td>\n",
       "      <td>21.162750</td>\n",
       "      <td>0.000312</td>\n",
       "      <td>0.000108</td>\n",
       "      <td>-0.001131</td>\n",
       "      <td>-0.000242</td>\n",
       "      <td>0.023946</td>\n",
       "      <td>0.004452</td>\n",
       "      <td>0.230168</td>\n",
       "      <td>0.011512</td>\n",
       "    </tr>\n",
       "    <tr>\n",
       "      <th>3</th>\n",
       "      <td>0.016310</td>\n",
       "      <td>-0.000258</td>\n",
       "      <td>0.173561</td>\n",
       "      <td>0.013398</td>\n",
       "      <td>76.398090</td>\n",
       "      <td>2.421141</td>\n",
       "      <td>242.650976</td>\n",
       "      <td>33.787073</td>\n",
       "      <td>0.000597</td>\n",
       "      <td>0.000165</td>\n",
       "      <td>-0.000066</td>\n",
       "      <td>-0.000442</td>\n",
       "      <td>0.023946</td>\n",
       "      <td>0.004480</td>\n",
       "      <td>0.231609</td>\n",
       "      <td>0.011092</td>\n",
       "    </tr>\n",
       "    <tr>\n",
       "      <th>4</th>\n",
       "      <td>0.022327</td>\n",
       "      <td>0.000224</td>\n",
       "      <td>0.199644</td>\n",
       "      <td>0.015926</td>\n",
       "      <td>46.518462</td>\n",
       "      <td>1.619408</td>\n",
       "      <td>259.992532</td>\n",
       "      <td>20.320969</td>\n",
       "      <td>0.001167</td>\n",
       "      <td>0.000239</td>\n",
       "      <td>0.001152</td>\n",
       "      <td>-0.000584</td>\n",
       "      <td>0.024612</td>\n",
       "      <td>0.004537</td>\n",
       "      <td>0.232767</td>\n",
       "      <td>0.011054</td>\n",
       "    </tr>\n",
       "  </tbody>\n",
       "</table>\n",
       "</div>"
      ],
      "text/plain": [
       "         0         1         2         3           4          5           6   \\\n",
       "0  0.022327 -0.001221  0.186603  0.017612  175.605680  10.642500  591.227547   \n",
       "1  0.019318 -0.001221  0.186603  0.015084   75.150074   4.178106  409.107829   \n",
       "2  0.025335  0.000705  0.173561  0.024354  120.955158   1.798792  822.637772   \n",
       "3  0.016310 -0.000258  0.173561  0.013398   76.398090   2.421141  242.650976   \n",
       "4  0.022327  0.000224  0.199644  0.015926   46.518462   1.619408  259.992532   \n",
       "\n",
       "          7         8         9         10        11        12        13  \\\n",
       "0  50.701473  0.000375  0.000054 -0.002637  0.000031  0.024166  0.004446   \n",
       "1  23.394437  0.000290  0.000073 -0.001959 -0.000076  0.024076  0.004444   \n",
       "2  21.162750  0.000312  0.000108 -0.001131 -0.000242  0.023946  0.004452   \n",
       "3  33.787073  0.000597  0.000165 -0.000066 -0.000442  0.023946  0.004480   \n",
       "4  20.320969  0.001167  0.000239  0.001152 -0.000584  0.024612  0.004537   \n",
       "\n",
       "         14        15  \n",
       "0  0.228747  0.011801  \n",
       "1  0.229715  0.011622  \n",
       "2  0.230168  0.011512  \n",
       "3  0.231609  0.011092  \n",
       "4  0.232767  0.011054  "
      ]
     },
     "execution_count": 14,
     "metadata": {},
     "output_type": "execute_result"
    }
   ],
   "source": [
    "dfn = pd.DataFrame(data=Xc)\n",
    "dfn.head()"
   ]
  },
  {
   "cell_type": "code",
   "execution_count": 15,
   "metadata": {},
   "outputs": [
    {
     "data": {
      "text/plain": [
       "(11951, 16)"
      ]
     },
     "execution_count": 15,
     "metadata": {},
     "output_type": "execute_result"
    }
   ],
   "source": [
    "Xc.shape"
   ]
  },
  {
   "cell_type": "code",
   "execution_count": 16,
   "metadata": {},
   "outputs": [
    {
     "data": {
      "text/plain": [
       "84"
      ]
     },
     "execution_count": 16,
     "metadata": {},
     "output_type": "execute_result"
    }
   ],
   "source": [
    "len(DATA_hs)"
   ]
  },
  {
   "cell_type": "code",
   "execution_count": 17,
   "metadata": {},
   "outputs": [],
   "source": [
    "#Carregando arquivos\n",
    "DATA_vs = []\n",
    "\n",
    "for i in range(0,len(DATA_hs),3):\n",
    "    VStacker(DATA_hs[i:i+3],(re.findall('\\d*\\D+',DATA_hs[i:i+3][0])[0]+str(i/3)))"
   ]
  },
  {
   "cell_type": "code",
   "execution_count": 18,
   "metadata": {},
   "outputs": [
    {
     "data": {
      "text/plain": [
       "28"
      ]
     },
     "execution_count": 18,
     "metadata": {},
     "output_type": "execute_result"
    }
   ],
   "source": [
    "len(DATA_vs)"
   ]
  },
  {
   "cell_type": "code",
   "execution_count": 19,
   "metadata": {},
   "outputs": [
    {
     "data": {
      "text/plain": [
       "(11951, 16)"
      ]
     },
     "execution_count": 19,
     "metadata": {},
     "output_type": "execute_result"
    }
   ],
   "source": [
    "Xc = np.load('DB_REPO/stacked/PK_Arthur Araujo Filho 42_hs.npy')\n",
    "dfn = pd.DataFrame(data=Xc)\n",
    "#dfn.head()\n",
    "\n",
    "Xc[:35853].shape"
   ]
  },
  {
   "cell_type": "markdown",
   "metadata": {},
   "source": [
    "for i in range(0,len(DATA_vs),1):\n",
    "    print min(np.load('DB_REPO/stacked/'+DATA_vs[i:i+1][0]).shape[0],np.load('DB_REPO/stacked/'+DATA_vs[i:i+1][1]).shape[0],\n",
    "              np.load('DB_REPO/stacked/'+DATA_vs[i:i+1][2]).shape[0],np.load('DB_REPO/stacked/'+DATA_vs[i:i+1][3]).shape[0],\n",
    "              np.load('DB_REPO/stacked/'+DATA_vs[i:i+1][4]).shape[0], np.load('DB_REPO/stacked/'+DATA_vs[i:i+1][5]).shape[0])"
   ]
  },
  {
   "cell_type": "markdown",
   "metadata": {},
   "source": [
    "i= 6\n",
    "print min(np.load('DB_REPO/stacked/'+DATA_vs[i:i+6][0]).shape[0],np.load('DB_REPO/stacked/'+DATA_vs[i:i+6][1]).shape[0],\n",
    "           np.load('DB_REPO/stacked/'+DATA_vs[i:i+6][2]).shape[0],np.load('DB_REPO/stacked/'+DATA_vs[i:i+6][3]).shape[0],\n",
    "           np.load('DB_REPO/stacked/'+DATA_vs[i:i+6][4]).shape[0], np.load('DB_REPO/stacked/'+DATA_vs[i:i+6][5]).shape[0])"
   ]
  },
  {
   "cell_type": "code",
   "execution_count": 20,
   "metadata": {
    "scrolled": true
   },
   "outputs": [
    {
     "data": {
      "text/plain": [
       "['CT_Antonia Perpetuo Borges 0_vs.npy',\n",
       " 'CT_Francisco das Chagas dos Santos 1_vs.npy',\n",
       " 'CT_Gelson Amantos de Souza  2_vs.npy',\n",
       " 'CT_Geraldo Dias de Oliveira 3_vs.npy',\n",
       " 'CT_Iraci Rodrigues Soares 4_vs.npy',\n",
       " 'CT_Joaquina de Sousa Freitas  5_vs.npy',\n",
       " 'CT_Jose Martins de Sousa  6_vs.npy',\n",
       " 'CT_Larcir Iria da Conceicao Santos 7_vs.npy',\n",
       " 'CT_Magda Aparecida Ferreira 8_vs.npy',\n",
       " 'CT_Manuel Saraiva da Rocha 9_vs.npy',\n",
       " 'CT_Maria das Gracas Vieira 10_vs.npy',\n",
       " 'CT_Maria Santana Estevam Moreira 11_vs.npy',\n",
       " 'CT_Maria Veira Borges 12_vs.npy',\n",
       " 'CT_Zenobia Barroso Feitosa 13_vs.npy',\n",
       " 'PK_Arthur Araujo Filho 14_vs.npy',\n",
       " 'PK_Boanerges Ramos Cunha 15_vs.npy',\n",
       " 'PK_Carmino Pereira da Silva 16_vs.npy',\n",
       " 'PK_Diniz Esmeraldo 17_vs.npy',\n",
       " 'PK_Donia Aires 18_vs.npy',\n",
       " 'PK_Fernando Francisco da Silva 19_vs.npy',\n",
       " 'PK_Gastao Goncalves da Silva 20_vs.npy',\n",
       " 'PK_Ismael Rodrigues do Carmo 21_vs.npy',\n",
       " 'PK_Ivanildes Barbosa 22_vs.npy',\n",
       " 'PK_Jose Fernandes Araujo 23_vs.npy',\n",
       " 'PK_Jose Francisto Fontineli  24_vs.npy',\n",
       " 'PK_Marcilio Pontinho de Rezende 25_vs.npy',\n",
       " 'PK_Osvaldir Borborema 26_vs.npy',\n",
       " 'PK_Sergio Lamenza 27_vs.npy']"
      ]
     },
     "execution_count": 20,
     "metadata": {},
     "output_type": "execute_result"
    }
   ],
   "source": [
    "DATA_vs"
   ]
  },
  {
   "cell_type": "markdown",
   "metadata": {},
   "source": [
    "DATA_vs[78:78+6]"
   ]
  },
  {
   "cell_type": "markdown",
   "metadata": {
    "collapsed": true,
    "scrolled": false
   },
   "source": [
    "DATA_fs = []\n",
    "\n",
    "for i in range(0,len(DATA_vs),6):\n",
    "    HStackerF(DATA_vs[i:i+6],(re.findall('\\d*\\D+',DATA_vs[i:i+6][0])[0]+str(i/6)))"
   ]
  },
  {
   "cell_type": "markdown",
   "metadata": {
    "scrolled": true
   },
   "source": [
    "DATA_fs"
   ]
  },
  {
   "cell_type": "code",
   "execution_count": 21,
   "metadata": {},
   "outputs": [],
   "source": [
    "def proccess_data(x,DATA,LABEL,NUM_SAMPLES = 50):\n",
    "    \n",
    "    Xc = np.load(\"DB_REPO/stacked/\"+x)\n",
    "    print '\\nXc initial shape ', Xc.shape\n",
    "    \n",
    "    #Principal component analysis\n",
    "    #pca = PCA(n_components=3)\n",
    "    #pca.fit(Xc)\n",
    "    #Xc = pca.transform(Xc)\n",
    "    #print pca.explained_variance_ratio_\n",
    "    #print ('Entropia: %3f' % (sum(pca.explained_variance_ratio_)))\n",
    "    #print '\\nXc PCA shape ', Xc.shape\n",
    "    \n",
    "    #Create temporal serie\n",
    "    Xc = generate_envelope(Xc, NUM_SAMPLES)\n",
    "    print 'Xc temporal-serie shape ', Xc.shape\n",
    "    \n",
    "    #Labeling the PKS level    \n",
    "    C = (np.ones(len(Xc))*LABEL).reshape((len(Xc),1))\n",
    "    Xc = np.hstack((Xc.reshape(Xc.shape),C.reshape((len(Xc),1)))) \n",
    "    print 'Xc labeled shape ', Xc.shape\n",
    "    \n",
    "    # Salving in file on the folder <DB_PKS/preproc/labeled>\n",
    "    #np.save('./DB_REPO/labeled/'+x[:2]+'_tsl', Xc, allow_pickle=False)\n",
    "    np.save('./DB_REPO/labeled/'+x[:-4]+'_'+str(y), Xc, allow_pickle=False)\n",
    "    #print ''+x[:2]+'_tsl'\n",
    "    print x[:-4]+'_'+str(y)\n",
    "    #DATA.append(x[:2]+'_tsl.npy')\n",
    "    DATA.append(x[:-4]+'_'+str(y))"
   ]
  },
  {
   "cell_type": "markdown",
   "metadata": {},
   "source": [
    "---"
   ]
  },
  {
   "cell_type": "markdown",
   "metadata": {},
   "source": [
    "#Validação\n",
    "start = timeit.default_timer()\n",
    "\n",
    "NUM_SAMPLES = 500\n",
    "l = [1]\n",
    "DATA = []\n",
    "\n",
    "for x, y in zip(DATA_hs, l):\n",
    "    proccess_data(x,DATA,NUM_SAMPLES,y)\n",
    "    \n",
    "stop = timeit.default_timer()\n",
    "ti = stop - start \n",
    "print ('Tempo total para o envelopamento: %.2f min' % (ti/60))"
   ]
  },
  {
   "cell_type": "markdown",
   "metadata": {},
   "source": [
    "DATA"
   ]
  },
  {
   "cell_type": "markdown",
   "metadata": {},
   "source": [
    "Xc = np.load('DB_INTENC/preproc/labeled/p4_hs.npy_tsl.npy')\n",
    "dfn = pd.DataFrame(data=Xc)\n",
    "dfn.head()"
   ]
  },
  {
   "cell_type": "markdown",
   "metadata": {},
   "source": [
    "---"
   ]
  },
  {
   "cell_type": "code",
   "execution_count": 22,
   "metadata": {
    "scrolled": true
   },
   "outputs": [
    {
     "name": "stdout",
     "output_type": "stream",
     "text": [
      "CT_Antonia Perpetuo Borges 0_vs_0\n",
      "CT_Francisco das Chagas dos Santos 1_vs_0\n",
      "CT_Gelson Amantos de Souza  2_vs_0\n",
      "CT_Geraldo Dias de Oliveira 3_vs_0\n",
      "CT_Iraci Rodrigues Soares 4_vs_0\n",
      "CT_Joaquina de Sousa Freitas  5_vs_0\n",
      "CT_Jose Martins de Sousa  6_vs_0\n",
      "CT_Larcir Iria da Conceicao Santos 7_vs_0\n",
      "CT_Magda Aparecida Ferreira 8_vs_0\n",
      "CT_Manuel Saraiva da Rocha 9_vs_0\n",
      "CT_Maria das Gracas Vieira 10_vs_0\n",
      "CT_Maria Santana Estevam Moreira 11_vs_0\n",
      "CT_Maria Veira Borges 12_vs_0\n",
      "CT_Zenobia Barroso Feitosa 13_vs_0\n",
      "PK_Arthur Araujo Filho 14_vs_1\n",
      "PK_Boanerges Ramos Cunha 15_vs_1\n",
      "PK_Carmino Pereira da Silva 16_vs_1\n",
      "PK_Diniz Esmeraldo 17_vs_1\n",
      "PK_Donia Aires 18_vs_1\n",
      "PK_Fernando Francisco da Silva 19_vs_1\n",
      "PK_Gastao Goncalves da Silva 20_vs_1\n",
      "PK_Ismael Rodrigues do Carmo 21_vs_1\n",
      "PK_Ivanildes Barbosa 22_vs_1\n",
      "PK_Jose Fernandes Araujo 23_vs_1\n",
      "PK_Jose Francisto Fontineli  24_vs_1\n",
      "PK_Marcilio Pontinho de Rezende 25_vs_1\n",
      "PK_Osvaldir Borborema 26_vs_1\n",
      "PK_Sergio Lamenza 27_vs_1\n"
     ]
    }
   ],
   "source": [
    "#X = 'F'\n",
    "#Y = 'F'\n",
    "#Z = 'F'\n",
    "#l = [1, 1, 1, 1, 1, 1, 2, 2, 2, 2, 2, 2, 15, 15, 15, 15, 15, 15, 15, 15, 15, 15, 15, 15, 2, 2, 2, 2, 2, 2, 1, 1, 1, 1, 1, 1,\n",
    "# X, X, X, X, X, X, 15, 15, 15, 15, 15, 15, Y, Y, Y, Y, Y, Y, 15, 15, 15, 15, 15, 15, 1, 1, 1, 1, 1, 1, 1, 1, 1, 1, 1, 1,\n",
    "# 3, 3, 3, 3, 3, 3, Z, Z, Z, Z, Z, Z, 1, 1, 1, 1, 1, 1, 4, 4, 4, 4, 4, 4, 1, 1, 1, 1, 1, 1]\n",
    "\n",
    "#l = [1, 2, 15, 15, 2, 1, 15, 15, 1, 1, 3, 1, 4, 1]\n",
    "l = [0,0,0,0,0,0,0,0,0,0,0,0,0,0,1,1,1,1,1,1,1,1,1,1,1,1,1,1]\n",
    "#l = [2, 15, 4, 1, 0, 0, 15]\n",
    "for x, y in zip(DATA_vs, l):\n",
    "    print (x[:-4]+'_'+str(y))"
   ]
  },
  {
   "cell_type": "code",
   "execution_count": 23,
   "metadata": {
    "scrolled": true
   },
   "outputs": [
    {
     "name": "stdout",
     "output_type": "stream",
     "text": [
      "\n",
      "Xc initial shape  (35853, 16)\n",
      "Xc temporal-serie shape  (35804, 800)\n",
      "Xc labeled shape  (35804, 801)\n",
      "CT_Antonia Perpetuo Borges 0_vs_0\n",
      "\n",
      "Xc initial shape  (35853, 16)\n",
      "Xc temporal-serie shape  (35804, 800)\n",
      "Xc labeled shape  (35804, 801)\n",
      "CT_Francisco das Chagas dos Santos 1_vs_0\n",
      "\n",
      "Xc initial shape  (35853, 16)\n",
      "Xc temporal-serie shape  (35804, 800)\n",
      "Xc labeled shape  (35804, 801)\n",
      "CT_Gelson Amantos de Souza  2_vs_0\n",
      "\n",
      "Xc initial shape  (35853, 16)\n",
      "Xc temporal-serie shape  (35804, 800)\n",
      "Xc labeled shape  (35804, 801)\n",
      "CT_Geraldo Dias de Oliveira 3_vs_0\n",
      "\n",
      "Xc initial shape  (35853, 16)\n",
      "Xc temporal-serie shape  (35804, 800)\n",
      "Xc labeled shape  (35804, 801)\n",
      "CT_Iraci Rodrigues Soares 4_vs_0\n",
      "\n",
      "Xc initial shape  (35853, 16)\n",
      "Xc temporal-serie shape  (35804, 800)\n",
      "Xc labeled shape  (35804, 801)\n",
      "CT_Joaquina de Sousa Freitas  5_vs_0\n",
      "\n",
      "Xc initial shape  (35853, 16)\n",
      "Xc temporal-serie shape  (35804, 800)\n",
      "Xc labeled shape  (35804, 801)\n",
      "CT_Jose Martins de Sousa  6_vs_0\n",
      "\n",
      "Xc initial shape  (39853, 16)\n",
      "Xc temporal-serie shape  (39804, 800)\n",
      "Xc labeled shape  (39804, 801)\n",
      "CT_Larcir Iria da Conceicao Santos 7_vs_0\n",
      "\n",
      "Xc initial shape  (35853, 16)\n",
      "Xc temporal-serie shape  (35804, 800)\n",
      "Xc labeled shape  (35804, 801)\n",
      "CT_Magda Aparecida Ferreira 8_vs_0\n",
      "\n",
      "Xc initial shape  (35853, 16)\n",
      "Xc temporal-serie shape  (35804, 800)\n",
      "Xc labeled shape  (35804, 801)\n",
      "CT_Manuel Saraiva da Rocha 9_vs_0\n",
      "\n",
      "Xc initial shape  (57853, 16)\n",
      "Xc temporal-serie shape  (57804, 800)\n",
      "Xc labeled shape  (57804, 801)\n",
      "CT_Maria das Gracas Vieira 10_vs_0\n",
      "\n",
      "Xc initial shape  (45853, 16)\n",
      "Xc temporal-serie shape  (45804, 800)\n",
      "Xc labeled shape  (45804, 801)\n",
      "CT_Maria Santana Estevam Moreira 11_vs_0\n",
      "\n",
      "Xc initial shape  (35853, 16)\n",
      "Xc temporal-serie shape  (35804, 800)\n",
      "Xc labeled shape  (35804, 801)\n",
      "CT_Maria Veira Borges 12_vs_0\n",
      "\n",
      "Xc initial shape  (35853, 16)\n",
      "Xc temporal-serie shape  (35804, 800)\n",
      "Xc labeled shape  (35804, 801)\n",
      "CT_Zenobia Barroso Feitosa 13_vs_0\n",
      "\n",
      "Xc initial shape  (35853, 16)\n",
      "Xc temporal-serie shape  (35804, 800)\n",
      "Xc labeled shape  (35804, 801)\n",
      "PK_Arthur Araujo Filho 14_vs_1\n",
      "\n",
      "Xc initial shape  (35853, 16)\n",
      "Xc temporal-serie shape  (35804, 800)\n",
      "Xc labeled shape  (35804, 801)\n",
      "PK_Boanerges Ramos Cunha 15_vs_1\n",
      "\n",
      "Xc initial shape  (39853, 16)\n",
      "Xc temporal-serie shape  (39804, 800)\n",
      "Xc labeled shape  (39804, 801)\n",
      "PK_Carmino Pereira da Silva 16_vs_1\n",
      "\n",
      "Xc initial shape  (35853, 16)\n",
      "Xc temporal-serie shape  (35804, 800)\n",
      "Xc labeled shape  (35804, 801)\n",
      "PK_Diniz Esmeraldo 17_vs_1\n",
      "\n",
      "Xc initial shape  (35853, 16)\n",
      "Xc temporal-serie shape  (35804, 800)\n",
      "Xc labeled shape  (35804, 801)\n",
      "PK_Donia Aires 18_vs_1\n",
      "\n",
      "Xc initial shape  (35853, 16)\n",
      "Xc temporal-serie shape  (35804, 800)\n",
      "Xc labeled shape  (35804, 801)\n",
      "PK_Fernando Francisco da Silva 19_vs_1\n",
      "\n",
      "Xc initial shape  (35853, 16)\n",
      "Xc temporal-serie shape  (35804, 800)\n",
      "Xc labeled shape  (35804, 801)\n",
      "PK_Gastao Goncalves da Silva 20_vs_1\n",
      "\n",
      "Xc initial shape  (39853, 16)\n",
      "Xc temporal-serie shape  (39804, 800)\n",
      "Xc labeled shape  (39804, 801)\n",
      "PK_Ismael Rodrigues do Carmo 21_vs_1\n",
      "\n",
      "Xc initial shape  (35853, 16)\n",
      "Xc temporal-serie shape  (35804, 800)\n",
      "Xc labeled shape  (35804, 801)\n",
      "PK_Ivanildes Barbosa 22_vs_1\n",
      "\n",
      "Xc initial shape  (39853, 16)\n",
      "Xc temporal-serie shape  (39804, 800)\n",
      "Xc labeled shape  (39804, 801)\n",
      "PK_Jose Fernandes Araujo 23_vs_1\n",
      "\n",
      "Xc initial shape  (35853, 16)\n",
      "Xc temporal-serie shape  (35804, 800)\n",
      "Xc labeled shape  (35804, 801)\n",
      "PK_Jose Francisto Fontineli  24_vs_1\n",
      "\n",
      "Xc initial shape  (35853, 16)\n",
      "Xc temporal-serie shape  (35804, 800)\n",
      "Xc labeled shape  (35804, 801)\n",
      "PK_Marcilio Pontinho de Rezende 25_vs_1\n",
      "\n",
      "Xc initial shape  (35853, 16)\n",
      "Xc temporal-serie shape  (35804, 800)\n",
      "Xc labeled shape  (35804, 801)\n",
      "PK_Osvaldir Borborema 26_vs_1\n",
      "\n",
      "Xc initial shape  (35853, 16)\n",
      "Xc temporal-serie shape  (35804, 800)\n",
      "Xc labeled shape  (35804, 801)\n",
      "PK_Sergio Lamenza 27_vs_1\n",
      "Tempo total para o envelopamento: 1862.99 min\n"
     ]
    }
   ],
   "source": [
    "#Envelope size.\n",
    "\n",
    "#Grupo total\n",
    "start = timeit.default_timer()\n",
    "\n",
    "DATA = []\n",
    "\n",
    "for x, y in zip(DATA_vs, l):\n",
    "    proccess_data(x,DATA,y)\n",
    "    \n",
    "stop = timeit.default_timer()\n",
    "ti = stop - start \n",
    "print ('Tempo total para o envelopamento: %.2f min' % (ti/60))"
   ]
  },
  {
   "cell_type": "code",
   "execution_count": 70,
   "metadata": {},
   "outputs": [],
   "source": [
    "def pca_data(x,DATA,entrol,LABEL):\n",
    "    \n",
    "    Xc = np.load(\"DB_REPO/labeled/\"+x+'.npy')\n",
    "    Xc = Xc[:,:800]\n",
    "    print '\\nXc initial shape ', Xc.shape\n",
    "    \n",
    "    #Principal component analysis\n",
    "    pca = PCA(n_components=100)\n",
    "    pca.fit(Xc)\n",
    "    Xc = pca.transform(Xc)\n",
    "    print pca.explained_variance_ratio_\n",
    "    print ('Entropia: %3f' % (sum(pca.explained_variance_ratio_)))\n",
    "    print '\\nXc PCA shape ', Xc.shape\n",
    "    entro.append((sum(pca.explained_variance_ratio_)))\n",
    "    \n",
    "    #Labeling the PKS level    \n",
    "    C = (np.ones(len(Xc))*LABEL).reshape((len(Xc),1))\n",
    "    Xc = np.hstack((Xc.reshape(Xc.shape),C.reshape((len(Xc),1)))) \n",
    "    print 'Xc labeled shape ', Xc.shape\n",
    "   \n",
    "    # Salving in file on the folder <DB_PKS/preproc/labeled>\n",
    "    #np.save('./DB_REPO/labeled/'+x[:2]+'_tsl', Xc, allow_pickle=False)\n",
    "    np.save('./DB_REPO/pca/'+x[:-4]+'_'+str(y)+'pca', Xc, allow_pickle=False)\n",
    "    #print ''+x[:2]+'_tsl'\n",
    "    print x[:-4]+'_'+str(y)+'pca'\n",
    "    #DATA.append(x[:2]+'_tsl.npy')\n",
    "    DATA_pca.append(x[:-4]+'_'+str(y)+'pca')"
   ]
  },
  {
   "cell_type": "code",
   "execution_count": 71,
   "metadata": {
    "scrolled": true
   },
   "outputs": [
    {
     "name": "stdout",
     "output_type": "stream",
     "text": [
      "\n",
      "Xc initial shape  (35804, 800)\n",
      "[ 0.45822796  0.044436    0.01976266  0.01408631  0.01165447  0.01153257\n",
      "  0.0105412   0.01012086  0.00991677  0.0098396   0.00969482  0.00963181\n",
      "  0.00946164  0.00940352  0.00928442  0.00914114  0.00905835  0.00902179\n",
      "  0.00899015  0.00883158  0.00864941  0.0085273   0.00832677  0.00832305\n",
      "  0.00820021  0.0081231   0.00804149  0.00792649  0.00790257  0.00778255\n",
      "  0.0077594   0.0076359   0.00751268  0.00746591  0.00736659  0.00726381\n",
      "  0.00725727  0.00717927  0.00715411  0.00706665  0.00705891  0.00702994\n",
      "  0.00702038  0.00693928  0.00688328  0.00674569  0.00673271  0.00668355\n",
      "  0.00666967  0.00639968  0.00636511  0.00461572  0.00426974  0.00284461\n",
      "  0.00247874  0.00246539  0.00223655  0.00195974  0.00188605  0.00182798\n",
      "  0.00178725  0.00162548  0.00157817  0.00153612  0.00142922  0.00142579\n",
      "  0.00139151  0.00136602  0.00135911  0.00134673  0.00129551  0.00128712\n",
      "  0.00122259  0.00118997  0.00118321  0.00118239  0.00115655  0.00115008\n",
      "  0.00107561  0.00106278  0.00099339  0.00097396  0.00094985  0.00094109\n",
      "  0.0009365   0.00092814  0.00085004  0.00081376  0.00078516  0.00076731\n",
      "  0.00073004  0.00072109  0.00069418  0.00069217  0.00065283  0.00064046\n",
      "  0.00061491  0.00059898  0.00059725  0.00055673]\n",
      "Entropia: 0.989304\n",
      "\n",
      "Xc PCA shape  (35804, 100)\n",
      "Xc labeled shape  (35804, 101)\n",
      "CT_Antonia Perpetuo Borges 0__0pca\n",
      "\n",
      "Xc initial shape  (35804, 800)\n",
      "[ 0.12807926  0.01936236  0.01907878  0.01902636  0.01859632  0.01854207\n",
      "  0.01834451  0.01803317  0.01791977  0.01788804  0.01775125  0.01770976\n",
      "  0.01768701  0.01768694  0.01752219  0.01725183  0.0172155   0.01719065\n",
      "  0.01716745  0.01695168  0.01693807  0.01686797  0.01678265  0.01663932\n",
      "  0.01662335  0.01651871  0.01642638  0.01641051  0.01629439  0.01609355\n",
      "  0.01607832  0.01605681  0.0160169   0.01592388  0.01578099  0.01568222\n",
      "  0.01550597  0.01546198  0.01541158  0.0153999   0.01534118  0.01533204\n",
      "  0.01528471  0.01523862  0.01511147  0.01507673  0.01498031  0.01496284\n",
      "  0.01428769  0.0142786   0.00241902  0.00125471  0.00125345  0.00116741\n",
      "  0.00116442  0.00113227  0.00113059  0.00112101  0.00111761  0.0011078\n",
      "  0.00110263  0.00105278  0.00105017  0.00104879  0.00104726  0.00104515\n",
      "  0.00104381  0.00103853  0.00103842  0.00103401  0.00103236  0.00102062\n",
      "  0.0010192   0.00101406  0.00101048  0.00100579  0.00099015  0.00098896\n",
      "  0.000988    0.00098605  0.00097953  0.00097431  0.000965    0.00096415\n",
      "  0.00096025  0.00095878  0.00094959  0.00094191  0.00092943  0.00092695\n",
      "  0.00091248  0.0009077   0.00090513  0.00090503  0.00089942  0.00089595\n",
      "  0.00088502  0.00087992  0.00084676  0.00084642]\n",
      "Entropia: 0.993672\n",
      "\n",
      "Xc PCA shape  (35804, 100)\n",
      "Xc labeled shape  (35804, 101)\n",
      "CT_Francisco das Chagas dos Santos 1__0pca\n",
      "\n",
      "Xc initial shape  (35804, 800)\n",
      "[  5.53227963e-01   6.41533921e-02   2.45440973e-02   1.38028082e-02\n",
      "   1.08454294e-02   1.06965359e-02   1.00090751e-02   9.85939923e-03\n",
      "   9.47554357e-03   8.69465610e-03   8.42923868e-03   8.34642439e-03\n",
      "   8.29481527e-03   8.15181778e-03   8.11140204e-03   8.03455056e-03\n",
      "   7.97686420e-03   7.96011897e-03   7.83518099e-03   7.59616377e-03\n",
      "   7.58078354e-03   7.53506860e-03   7.39654264e-03   7.33982020e-03\n",
      "   7.32859458e-03   7.23807921e-03   7.21474863e-03   7.09131578e-03\n",
      "   6.99127519e-03   6.95985348e-03   6.87801521e-03   6.79846040e-03\n",
      "   6.67999055e-03   6.59420967e-03   6.55672747e-03   6.45220106e-03\n",
      "   6.44681807e-03   6.27925633e-03   6.24853182e-03   6.19907213e-03\n",
      "   5.93922989e-03   5.89044106e-03   5.81568225e-03   5.81035121e-03\n",
      "   5.70303325e-03   5.69642813e-03   5.44017099e-03   5.43185846e-03\n",
      "   5.31588395e-03   5.29106646e-03   7.05940152e-04   2.36126234e-04\n",
      "   2.07604369e-04   1.94452954e-04   1.86060152e-04   1.80552813e-04\n",
      "   1.80138761e-04   1.75806578e-04   1.71297166e-04   1.71005456e-04\n",
      "   1.70726980e-04   1.70395567e-04   1.66154867e-04   1.66015802e-04\n",
      "   1.65844129e-04   1.65627588e-04   1.62081304e-04   1.61908071e-04\n",
      "   1.61823084e-04   1.60908945e-04   1.60897120e-04   1.60604755e-04\n",
      "   1.59768752e-04   1.58699561e-04   1.58415461e-04   1.56878269e-04\n",
      "   1.56825354e-04   1.56347117e-04   1.55076222e-04   1.54764630e-04\n",
      "   1.54724065e-04   1.54462611e-04   1.52538983e-04   1.52093664e-04\n",
      "   1.49612597e-04   1.49420012e-04   1.49074504e-04   1.49041960e-04\n",
      "   1.48468155e-04   1.48416070e-04   1.47032028e-04   1.46788313e-04\n",
      "   1.45709178e-04   1.45581940e-04   1.43071875e-04   1.42939147e-04\n",
      "   1.42655533e-04   1.42001210e-04   1.36700224e-04   1.36171216e-04]\n",
      "Entropia: 0.998764\n",
      "\n",
      "Xc PCA shape  (35804, 100)\n",
      "Xc labeled shape  (35804, 101)\n",
      "CT_Gelson Amantos de Souza  2__0pca\n",
      "\n",
      "Xc initial shape  (35804, 800)\n",
      "[  3.99109671e-01   9.08906136e-02   4.56574001e-02   2.28522133e-02\n",
      "   1.29797640e-02   1.29452964e-02   1.23310921e-02   1.09818544e-02\n",
      "   1.09726332e-02   1.04694786e-02   1.04033915e-02   1.00630884e-02\n",
      "   9.85653756e-03   9.77562086e-03   9.76574600e-03   9.57251054e-03\n",
      "   9.43782693e-03   9.37370194e-03   9.20782518e-03   9.10779880e-03\n",
      "   9.07573343e-03   9.00744166e-03   8.86696718e-03   8.73528951e-03\n",
      "   8.61106998e-03   8.56950376e-03   8.54650003e-03   8.54139007e-03\n",
      "   8.51791175e-03   8.43928357e-03   8.40306750e-03   8.34087337e-03\n",
      "   8.19951665e-03   8.19470300e-03   7.92110415e-03   7.87994334e-03\n",
      "   7.85542705e-03   7.84810642e-03   7.71742409e-03   7.68730310e-03\n",
      "   7.50533185e-03   7.45173003e-03   6.80043497e-03   6.72955560e-03\n",
      "   6.67600608e-03   6.61179680e-03   6.37397856e-03   6.34551040e-03\n",
      "   5.92656201e-03   5.87945555e-03   5.71048785e-03   1.40680818e-03\n",
      "   1.07791042e-03   1.01052523e-03   9.68658940e-04   9.53904141e-04\n",
      "   9.27331911e-04   7.90746577e-04   6.40359655e-04   5.02028041e-04\n",
      "   4.30393388e-04   3.84919922e-04   3.71273629e-04   3.68335376e-04\n",
      "   3.56544346e-04   3.55096151e-04   3.53464473e-04   3.51440526e-04\n",
      "   3.49575954e-04   3.46752159e-04   3.46196847e-04   3.42559273e-04\n",
      "   3.41797450e-04   3.38447470e-04   3.37894374e-04   3.35294556e-04\n",
      "   3.34443511e-04   3.32797738e-04   3.31749554e-04   3.28846911e-04\n",
      "   3.27547491e-04   3.26240667e-04   3.25140332e-04   3.24105761e-04\n",
      "   3.22767754e-04   3.20713169e-04   3.18487646e-04   3.17437797e-04\n",
      "   3.16607320e-04   3.15565672e-04   3.13119704e-04   3.11952829e-04\n",
      "   3.11011268e-04   3.07107695e-04   3.05634379e-04   3.04995755e-04\n",
      "   3.01233692e-04   2.99081137e-04   2.95886635e-04   2.93713437e-04]\n",
      "Entropia: 0.986298\n",
      "\n",
      "Xc PCA shape  (35804, 100)\n",
      "Xc labeled shape  (35804, 101)\n",
      "CT_Geraldo Dias de Oliveira 3__0pca\n",
      "\n",
      "Xc initial shape  (35804, 800)\n",
      "[ 0.15486107  0.01841704  0.01838322  0.01772225  0.01759437  0.01743032\n",
      "  0.01724861  0.01712037  0.01704178  0.01703604  0.01698995  0.01692801\n",
      "  0.01688514  0.01687632  0.01685561  0.01672545  0.01664906  0.01649749\n",
      "  0.01648739  0.01645595  0.01645355  0.01643703  0.01638238  0.01632519\n",
      "  0.01624029  0.01622019  0.01584813  0.01566385  0.01561708  0.0155909\n",
      "  0.01556494  0.01544943  0.01533903  0.01528952  0.01525294  0.01521444\n",
      "  0.01519617  0.01516938  0.01514836  0.01512272  0.01505656  0.01490784\n",
      "  0.01455171  0.01454353  0.01408237  0.01405754  0.01389072  0.01387681\n",
      "  0.01363781  0.01362245  0.00289104  0.00124721  0.00124488  0.0012335\n",
      "  0.00122126  0.00120495  0.00119689  0.00118099  0.00117395  0.0011666\n",
      "  0.00116366  0.00115991  0.00115278  0.00114823  0.00114574  0.0011403\n",
      "  0.00114015  0.00113558  0.00113519  0.00113368  0.00112602  0.0011228\n",
      "  0.00110129  0.00110049  0.00108983  0.00108961  0.00108435  0.00108099\n",
      "  0.00107855  0.0010627   0.00106162  0.00105939  0.00105433  0.00104529\n",
      "  0.00104138  0.00103872  0.00103587  0.00103452  0.00102779  0.001026\n",
      "  0.00100365  0.0010019   0.00099379  0.00099019  0.0009717   0.00096798\n",
      "  0.00096003  0.00095414  0.00093407  0.00092672]\n",
      "Entropia: 0.992241\n",
      "\n",
      "Xc PCA shape  (35804, 100)\n",
      "Xc labeled shape  (35804, 101)\n",
      "CT_Iraci Rodrigues Soares 4__0pca\n",
      "\n",
      "Xc initial shape  (35804, 800)\n",
      "[ 0.1334408   0.01898556  0.01883048  0.01841495  0.01835854  0.01803253\n",
      "  0.01796776  0.01777947  0.01773321  0.017593    0.01748173  0.01740885\n",
      "  0.01736206  0.01731294  0.01720764  0.01712786  0.01708899  0.01691135\n",
      "  0.01688566  0.01684384  0.01683045  0.01682433  0.01673845  0.01672058\n",
      "  0.01669686  0.01661383  0.01647086  0.01643958  0.01643838  0.01640365\n",
      "  0.01638535  0.01622081  0.01594762  0.0158618   0.01581089  0.01578173\n",
      "  0.01568089  0.01566281  0.01557171  0.01556574  0.01552718  0.01546687\n",
      "  0.01535338  0.0152742   0.01527056  0.01511636  0.01511494  0.01506066\n",
      "  0.01483466  0.01482571  0.00306946  0.00108264  0.00108228  0.00105754\n",
      "  0.00105514  0.00104182  0.00103972  0.0009948   0.00098878  0.00098755\n",
      "  0.00097892  0.00097776  0.00097073  0.00096813  0.00096326  0.0009613\n",
      "  0.00094584  0.00094385  0.00094075  0.00093775  0.00093557  0.00093318\n",
      "  0.00093242  0.00092601  0.00092567  0.00092524  0.00091879  0.00091736\n",
      "  0.00091538  0.00090962  0.00090767  0.00090445  0.0008962   0.00089543\n",
      "  0.00088538  0.00088487  0.00088346  0.00087977  0.0008786   0.00087567\n",
      "  0.00085983  0.00085922  0.00085399  0.00085352  0.0008534   0.00084961\n",
      "  0.00084266  0.00083311  0.00078749  0.00077895]\n",
      "Entropia: 0.993769\n",
      "\n",
      "Xc PCA shape  (35804, 100)\n",
      "Xc labeled shape  (35804, 101)\n",
      "CT_Joaquina de Sousa Freitas  5__0pca\n"
     ]
    },
    {
     "name": "stdout",
     "output_type": "stream",
     "text": [
      "\n",
      "Xc initial shape  (35804, 800)\n",
      "[ 0.24417731  0.04182153  0.0268659   0.02291443  0.02241843  0.02185217\n",
      "  0.01951798  0.01860307  0.01803033  0.01745478  0.01706615  0.01661332\n",
      "  0.01653558  0.0162408   0.01600081  0.01532666  0.01508785  0.01492959\n",
      "  0.01410134  0.01329252  0.0132879   0.01302561  0.01237437  0.01231172\n",
      "  0.01200575  0.01195028  0.0118555   0.01178321  0.01167448  0.0116212\n",
      "  0.01148533  0.01148041  0.01136208  0.01078569  0.01057929  0.01056304\n",
      "  0.01050788  0.01037614  0.01035395  0.01022308  0.00984746  0.00935391\n",
      "  0.00925298  0.00904671  0.00897239  0.00838921  0.0082229   0.00820336\n",
      "  0.00804506  0.00753265  0.0064047   0.00223932  0.00178901  0.00163991\n",
      "  0.00159838  0.00157635  0.00156976  0.00148513  0.00144656  0.00140582\n",
      "  0.00134251  0.00132568  0.00129864  0.00128544  0.00127526  0.00126614\n",
      "  0.00124807  0.00123202  0.00122145  0.00121348  0.00120859  0.00119203\n",
      "  0.00118072  0.00117897  0.00117346  0.00117238  0.00113392  0.00113212\n",
      "  0.00112619  0.00111327  0.00110523  0.00109395  0.001087    0.00106789\n",
      "  0.00106608  0.00106352  0.0010621   0.00106132  0.00103143  0.00102939\n",
      "  0.00099937  0.00097983  0.00097554  0.00097421  0.0009582   0.00095546\n",
      "  0.0009177   0.00091002  0.00090582  0.00089445]\n",
      "Entropia: 0.990938\n",
      "\n",
      "Xc PCA shape  (35804, 100)\n",
      "Xc labeled shape  (35804, 101)\n",
      "CT_Jose Martins de Sousa  6__0pca\n",
      "\n",
      "Xc initial shape  (39804, 800)\n",
      "[ 0.16751995  0.05213219  0.03271818  0.02903042  0.02042607  0.01406783\n",
      "  0.01205542  0.01198717  0.01192408  0.01186376  0.01170195  0.011643\n",
      "  0.01159849  0.0115931   0.01147685  0.01133586  0.01130453  0.01127981\n",
      "  0.01124602  0.01120703  0.01118064  0.01117826  0.01109271  0.01103099\n",
      "  0.01100261  0.01099674  0.0109759   0.01095705  0.01083526  0.01082676\n",
      "  0.01079551  0.01077947  0.01076093  0.0107444   0.01072323  0.01071298\n",
      "  0.01067577  0.01065948  0.01056202  0.01033546  0.01029215  0.01028289\n",
      "  0.01020003  0.01019229  0.01018674  0.01016697  0.01011625  0.01003767\n",
      "  0.01003739  0.01002183  0.00993087  0.0099142   0.00978488  0.00880605\n",
      "  0.0086466   0.0074555   0.00574613  0.00539337  0.00510486  0.00474904\n",
      "  0.00456478  0.00435122  0.00421168  0.00410579  0.00408088  0.00397422\n",
      "  0.00388415  0.00373236  0.00354273  0.00349493  0.00345446  0.00344512\n",
      "  0.00334828  0.00332895  0.00329844  0.00326529  0.00323472  0.00323186\n",
      "  0.00321819  0.00320903  0.00318823  0.00318506  0.00312221  0.0030418\n",
      "  0.0029972   0.00287352  0.00286668  0.00279443  0.00267286  0.00256921\n",
      "  0.0025528   0.0025296   0.00251893  0.00243362  0.00240536  0.00228343\n",
      "  0.00181664  0.00180924  0.00166553  0.00155334]\n",
      "Entropia: 0.995860\n",
      "\n",
      "Xc PCA shape  (39804, 100)\n",
      "Xc labeled shape  (39804, 101)\n",
      "CT_Larcir Iria da Conceicao Santos 7__0pca\n",
      "\n",
      "Xc initial shape  (35804, 800)\n",
      "[  3.47588093e-01   2.41282483e-02   1.84509687e-02   1.80631924e-02\n",
      "   1.67471830e-02   1.61513484e-02   1.61315717e-02   1.59764014e-02\n",
      "   1.49643951e-02   1.44564139e-02   1.43429610e-02   1.41338074e-02\n",
      "   1.40999739e-02   1.40348927e-02   1.39617638e-02   1.36939518e-02\n",
      "   1.34863638e-02   1.32754818e-02   1.32525998e-02   1.32005546e-02\n",
      "   1.31535453e-02   1.31245544e-02   1.28247943e-02   1.27547188e-02\n",
      "   1.26538771e-02   1.26133029e-02   1.24146038e-02   1.22259590e-02\n",
      "   1.21562904e-02   1.21205262e-02   1.20480995e-02   1.19909035e-02\n",
      "   1.18758640e-02   1.17248768e-02   1.16793802e-02   1.16585184e-02\n",
      "   1.15578558e-02   1.15289811e-02   1.11090041e-02   1.10314872e-02\n",
      "   1.10148221e-02   1.09513360e-02   1.02676174e-02   1.01703038e-02\n",
      "   9.93130919e-03   9.87225591e-03   9.80837650e-03   9.74517269e-03\n",
      "   8.14356238e-03   8.11720704e-03   9.43564918e-04   3.91845916e-04\n",
      "   3.88500127e-04   3.71309090e-04   3.69306620e-04   3.68487334e-04\n",
      "   3.67407624e-04   3.60201921e-04   3.59662769e-04   3.58780261e-04\n",
      "   3.57452009e-04   3.52587561e-04   3.49739387e-04   3.45825807e-04\n",
      "   3.45674143e-04   3.43158770e-04   3.42124265e-04   3.39289682e-04\n",
      "   3.38236184e-04   3.37243305e-04   3.33478157e-04   3.33427468e-04\n",
      "   3.28872400e-04   3.28841984e-04   3.28716354e-04   3.27668927e-04\n",
      "   3.24200691e-04   3.21582952e-04   3.20867701e-04   3.18851047e-04\n",
      "   3.18646258e-04   3.18587350e-04   3.16142045e-04   3.16088134e-04\n",
      "   3.15519083e-04   3.15066435e-04   3.14279270e-04   3.13711022e-04\n",
      "   3.08305672e-04   3.06612825e-04   3.05122644e-04   3.04818909e-04\n",
      "   3.04670220e-04   3.04357759e-04   3.02941111e-04   3.01159141e-04\n",
      "   2.96010476e-04   2.91828460e-04   2.82943627e-04   2.81028274e-04]\n",
      "Entropia: 0.997524\n",
      "\n",
      "Xc PCA shape  (35804, 100)\n",
      "Xc labeled shape  (35804, 101)\n",
      "CT_Magda Aparecida Ferreira 8__0pca\n",
      "\n",
      "Xc initial shape  (35804, 800)\n",
      "[ 0.04676465  0.02567155  0.0234788   0.02209669  0.02083324  0.02040823\n",
      "  0.01953406  0.01942687  0.01937643  0.01921422  0.01902166  0.01896682\n",
      "  0.01895246  0.01884897  0.01874643  0.01869924  0.01865661  0.01823433\n",
      "  0.01813553  0.01793683  0.01789777  0.01780571  0.01778885  0.0176103\n",
      "  0.01758826  0.01751248  0.01751197  0.01743013  0.01736973  0.01736008\n",
      "  0.01716036  0.01708804  0.01708077  0.01706798  0.01706193  0.01687637\n",
      "  0.01687371  0.01683234  0.0168197   0.01671795  0.01665797  0.01643336\n",
      "  0.01643234  0.01630838  0.01629686  0.0161336   0.0161196   0.01585706\n",
      "  0.0154145   0.01540715  0.00472469  0.00136036  0.00135221  0.00133879\n",
      "  0.00133657  0.00131698  0.00131658  0.0012848   0.00127951  0.00127723\n",
      "  0.00127177  0.00126777  0.00125005  0.00124873  0.00124531  0.00124401\n",
      "  0.0012396   0.00122884  0.00122606  0.00122292  0.00122277  0.00121576\n",
      "  0.00119276  0.00119109  0.00118575  0.00118026  0.00116799  0.00116735\n",
      "  0.00116298  0.00115292  0.00115127  0.00114601  0.00113797  0.00113127\n",
      "  0.0011246   0.00112219  0.00111239  0.00111102  0.00110738  0.00110409\n",
      "  0.00109851  0.00109593  0.00108087  0.00107204  0.0010584   0.00105071\n",
      "  0.00102424  0.00102391  0.00101847  0.00101744]\n",
      "Entropia: 0.992180\n",
      "\n",
      "Xc PCA shape  (35804, 100)\n",
      "Xc labeled shape  (35804, 101)\n",
      "CT_Manuel Saraiva da Rocha 9__0pca\n",
      "\n",
      "Xc initial shape  (57804, 800)\n",
      "[  4.52482118e-01   8.28801184e-02   3.62466745e-02   1.89140141e-02\n",
      "   1.38313694e-02   1.30871084e-02   1.19616486e-02   1.17426626e-02\n",
      "   1.16537163e-02   1.13081711e-02   1.07938892e-02   1.05681526e-02\n",
      "   1.04901237e-02   1.04027604e-02   1.02810013e-02   9.82630575e-03\n",
      "   9.07403647e-03   8.90215667e-03   8.78337490e-03   8.55081589e-03\n",
      "   8.39030096e-03   8.23590358e-03   8.11678109e-03   7.95051086e-03\n",
      "   7.92124269e-03   7.83173159e-03   7.74163106e-03   7.66772562e-03\n",
      "   7.64032270e-03   7.48738779e-03   7.46822033e-03   7.43608141e-03\n",
      "   7.41478306e-03   7.33058292e-03   7.30811002e-03   7.26226198e-03\n",
      "   7.20008655e-03   7.15360137e-03   7.10088350e-03   7.07745313e-03\n",
      "   7.03014821e-03   6.99712944e-03   6.99014246e-03   6.84815024e-03\n",
      "   6.42836435e-03   6.30459954e-03   6.06950203e-03   6.03663881e-03\n",
      "   5.77327707e-03   5.72820031e-03   2.99940404e-03   6.39362775e-04\n",
      "   4.07761608e-04   3.66858758e-04   3.44043244e-04   3.39768877e-04\n",
      "   3.24042912e-04   3.23830417e-04   3.18725462e-04   3.14921896e-04\n",
      "   3.00436408e-04   2.88170939e-04   2.87703943e-04   2.81874511e-04\n",
      "   2.77511821e-04   2.76418988e-04   2.73399837e-04   2.71992896e-04\n",
      "   2.70443803e-04   2.69370824e-04   2.66145814e-04   2.64584594e-04\n",
      "   2.64417803e-04   2.63997504e-04   2.63173438e-04   2.61345475e-04\n",
      "   2.60300076e-04   2.59897624e-04   2.57895658e-04   2.55570193e-04\n",
      "   2.55137728e-04   2.54496202e-04   2.54322894e-04   2.54044843e-04\n",
      "   2.52840273e-04   2.51985864e-04   2.51197093e-04   2.48528792e-04\n",
      "   2.47733264e-04   2.45183604e-04   2.44811855e-04   2.44353263e-04\n",
      "   2.44238400e-04   2.43070806e-04   2.42315264e-04   2.41145135e-04\n",
      "   2.39360334e-04   2.35200263e-04   2.33750288e-04   2.20591502e-04]\n",
      "Entropia: 0.994420\n",
      "\n",
      "Xc PCA shape  (57804, 100)\n",
      "Xc labeled shape  (57804, 101)\n",
      "CT_Maria das Gracas Vieira 10__0pca\n",
      "\n",
      "Xc initial shape  (45804, 800)\n",
      "[ 0.29379699  0.05184207  0.03063353  0.01628552  0.01166112  0.01013438\n",
      "  0.00905083  0.00902963  0.00894065  0.0087148   0.00869605  0.0086726\n",
      "  0.00864439  0.00862696  0.00861322  0.00860165  0.00858541  0.00856688\n",
      "  0.00853717  0.00839655  0.0083655   0.00835488  0.00832855  0.00832353\n",
      "  0.00829989  0.00821181  0.00819555  0.00817515  0.00814343  0.00812894\n",
      "  0.00810532  0.00807342  0.00807186  0.00806385  0.00802591  0.00800618\n",
      "  0.00795094  0.00790868  0.00788092  0.00782276  0.00781959  0.00769228\n",
      "  0.00769046  0.00767423  0.0076686   0.00762334  0.00760397  0.00756239\n",
      "  0.00755082  0.0075013   0.00746005  0.00743251  0.00724137  0.00679382\n",
      "  0.00612454  0.00560837  0.00535589  0.00516013  0.00503841  0.00496911\n",
      "  0.00486943  0.0047423   0.00464498  0.00460896  0.00455678  0.0044278\n",
      "  0.00441495  0.00434294  0.00428492  0.00428254  0.00421851  0.00419444\n",
      "  0.0041208   0.00411104  0.00409346  0.00407637  0.00406984  0.00403881\n",
      "  0.00402573  0.004004    0.00399381  0.00397897  0.00396147  0.00390941\n",
      "  0.00390198  0.00384633  0.00384125  0.00380981  0.00377599  0.00375718\n",
      "  0.00375494  0.00370995  0.0036793   0.00364493  0.00359334  0.0035765\n",
      "  0.00354097  0.0034818   0.00345425  0.00344472]\n",
      "Entropia: 0.996824\n",
      "\n",
      "Xc PCA shape  (45804, 100)\n",
      "Xc labeled shape  (45804, 101)\n",
      "CT_Maria Santana Estevam Moreira 11__0pca\n"
     ]
    },
    {
     "name": "stdout",
     "output_type": "stream",
     "text": [
      "\n",
      "Xc initial shape  (35804, 800)\n",
      "[ 0.06083736  0.02443321  0.02196851  0.02026603  0.02007599  0.01994895\n",
      "  0.01988881  0.01979926  0.01977531  0.01951254  0.01940318  0.01915402\n",
      "  0.01890817  0.0187237   0.01866007  0.01862072  0.0184813   0.01835505\n",
      "  0.01823434  0.01822599  0.01821494  0.01816169  0.01814125  0.01813815\n",
      "  0.01806633  0.0180282   0.01795753  0.0178319   0.01745621  0.01737031\n",
      "  0.01733006  0.01731478  0.01725914  0.01717617  0.01715884  0.01707955\n",
      "  0.01694889  0.01691027  0.01676765  0.01675657  0.01649821  0.01649174\n",
      "  0.01619487  0.01614781  0.01611541  0.0160886   0.01578876  0.01572342\n",
      "  0.01549733  0.01548647  0.00586824  0.00101023  0.00100577  0.00099377\n",
      "  0.00098265  0.0009705   0.00095892  0.00095437  0.00095151  0.00094632\n",
      "  0.0009452   0.00093306  0.00092266  0.00092206  0.00091894  0.00091619\n",
      "  0.0009153   0.00091201  0.00091044  0.00090821  0.0009035   0.00090324\n",
      "  0.00089937  0.00089613  0.00089366  0.00089344  0.000891    0.0008898\n",
      "  0.00088092  0.00087675  0.00087486  0.00087268  0.00087074  0.00086156\n",
      "  0.00086032  0.00085237  0.00084916  0.00084555  0.00082124  0.00081821\n",
      "  0.00081617  0.00080851  0.00080719  0.00080098  0.00079981  0.00079795\n",
      "  0.00079378  0.0007935   0.00078404  0.00078344]\n",
      "Entropia: 0.992660\n",
      "\n",
      "Xc PCA shape  (35804, 100)\n",
      "Xc labeled shape  (35804, 101)\n",
      "CT_Maria Veira Borges 12__0pca\n",
      "\n",
      "Xc initial shape  (35804, 800)\n",
      "[ 0.10193661  0.0354272   0.02287383  0.01700222  0.01694593  0.01675338\n",
      "  0.0166807   0.01665716  0.0163045   0.01608507  0.0159793   0.01597271\n",
      "  0.01597228  0.01577256  0.01556232  0.01534303  0.0153317   0.01513265\n",
      "  0.01508926  0.01494494  0.01492092  0.01482374  0.01482202  0.01478151\n",
      "  0.01475327  0.01469075  0.0146626   0.0146054   0.01457732  0.01449701\n",
      "  0.01444299  0.01432064  0.01424639  0.01417719  0.01415333  0.01406766\n",
      "  0.01405617  0.01402724  0.01391053  0.01388254  0.01385789  0.01375113\n",
      "  0.01371625  0.01358812  0.01354037  0.01352934  0.01348031  0.0134582\n",
      "  0.01268538  0.01264809  0.01259114  0.01255378  0.00899961  0.00456414\n",
      "  0.00282875  0.00270115  0.00202658  0.00176384  0.00171388  0.00142961\n",
      "  0.00137971  0.00134779  0.00132924  0.00130368  0.0012934   0.00127358\n",
      "  0.00122273  0.00120111  0.0011808   0.00117733  0.0011376   0.00112239\n",
      "  0.00111789  0.00110894  0.00108233  0.00107728  0.00107527  0.00107059\n",
      "  0.00105855  0.00105426  0.00104233  0.00104041  0.00103661  0.00102662\n",
      "  0.00102322  0.00101896  0.00101365  0.00100417  0.00100075  0.00099782\n",
      "  0.00099171  0.00098399  0.00098334  0.00097164  0.00096814  0.00096242\n",
      "  0.00095885  0.00095141  0.00093995  0.00093418]\n",
      "Entropia: 0.949079\n",
      "\n",
      "Xc PCA shape  (35804, 100)\n",
      "Xc labeled shape  (35804, 101)\n",
      "CT_Zenobia Barroso Feitosa 13__0pca\n",
      "\n",
      "Xc initial shape  (35804, 800)\n",
      "[  4.49918236e-01   1.26355368e-01   7.07223012e-02   4.98003516e-02\n",
      "   3.43486497e-02   2.08504719e-02   1.33002437e-02   1.19248502e-02\n",
      "   1.09901040e-02   1.07362670e-02   1.00592979e-02   9.83047213e-03\n",
      "   9.66570309e-03   9.42068294e-03   9.41306744e-03   9.24101882e-03\n",
      "   8.97589363e-03   8.34359596e-03   7.23888465e-03   6.98354010e-03\n",
      "   6.92904700e-03   6.57473695e-03   6.01388835e-03   5.83050108e-03\n",
      "   5.34939718e-03   4.92067017e-03   4.43824070e-03   4.35481195e-03\n",
      "   3.95798731e-03   3.86834144e-03   3.43628110e-03   3.37787799e-03\n",
      "   3.22080600e-03   3.21751500e-03   2.92628903e-03   2.89915406e-03\n",
      "   2.71468093e-03   2.68358666e-03   2.53449755e-03   2.44394858e-03\n",
      "   2.26379892e-03   2.22947704e-03   1.93949514e-03   1.90921926e-03\n",
      "   1.69808582e-03   1.67704851e-03   1.49454131e-03   1.47867956e-03\n",
      "   1.40885307e-03   1.40258669e-03   1.06396542e-03   4.86459708e-04\n",
      "   4.62290216e-04   4.34273491e-04   4.27289847e-04   4.04316687e-04\n",
      "   3.90537638e-04   3.70827229e-04   3.32912252e-04   3.27879187e-04\n",
      "   3.25254703e-04   3.16290943e-04   2.73606940e-04   2.66471244e-04\n",
      "   2.57860671e-04   2.56857637e-04   2.47005161e-04   2.42754572e-04\n",
      "   2.36979299e-04   2.26594052e-04   2.19828114e-04   2.03624422e-04\n",
      "   2.03252482e-04   1.95346899e-04   1.92848946e-04   1.86125023e-04\n",
      "   1.85596039e-04   1.83231349e-04   1.79220415e-04   1.67505444e-04\n",
      "   1.63070663e-04   1.55962789e-04   1.53599768e-04   1.47767775e-04\n",
      "   1.41142060e-04   1.40637779e-04   1.33450423e-04   1.20951674e-04\n",
      "   1.20760243e-04   1.18649711e-04   1.17427121e-04   1.12848190e-04\n",
      "   1.08714187e-04   1.06938354e-04   1.05076602e-04   9.81746179e-05\n",
      "   9.76270526e-05   9.57317589e-05   8.54203209e-05   8.42453534e-05]\n",
      "Entropia: 0.998988\n",
      "\n",
      "Xc PCA shape  (35804, 100)\n",
      "Xc labeled shape  (35804, 101)\n",
      "PK_Arthur Araujo Filho 14__1pca\n",
      "\n",
      "Xc initial shape  (35804, 800)\n",
      "[  3.20085450e-01   1.09678537e-01   7.07403871e-02   5.26419948e-02\n",
      "   3.42191857e-02   2.59650700e-02   2.50190555e-02   2.37363336e-02\n",
      "   2.17998396e-02   2.05594738e-02   1.95371614e-02   1.93255882e-02\n",
      "   1.80873013e-02   1.39206441e-02   1.15909473e-02   1.09696657e-02\n",
      "   1.08212803e-02   1.03112966e-02   1.00793264e-02   9.64691090e-03\n",
      "   9.10893606e-03   8.80838370e-03   8.74715210e-03   7.99392424e-03\n",
      "   7.62375180e-03   7.41383793e-03   7.34999883e-03   7.11358830e-03\n",
      "   5.92049621e-03   5.78367206e-03   5.11713117e-03   4.90484050e-03\n",
      "   4.76033859e-03   4.64506414e-03   4.43203470e-03   4.39068891e-03\n",
      "   4.28643405e-03   4.28490232e-03   4.14104942e-03   4.12872139e-03\n",
      "   4.00423675e-03   3.95967309e-03   3.89144366e-03   3.72144065e-03\n",
      "   3.71639431e-03   3.66484623e-03   3.27808588e-03   3.25862528e-03\n",
      "   2.62712296e-03   2.59248519e-03   4.51412254e-04   1.71482162e-04\n",
      "   1.29464741e-04   8.80852678e-05   8.77849303e-05   8.61640086e-05\n",
      "   8.61288136e-05   8.41289855e-05   8.37572241e-05   8.34730266e-05\n",
      "   8.29820205e-05   8.29740645e-05   8.21487374e-05   8.20396053e-05\n",
      "   8.17381194e-05   8.15902292e-05   8.13883243e-05   8.13137579e-05\n",
      "   8.12812006e-05   8.10469977e-05   8.06100029e-05   8.05417315e-05\n",
      "   8.03422454e-05   7.99307013e-05   7.96396352e-05   7.94632959e-05\n",
      "   7.91962739e-05   7.91418815e-05   7.89339918e-05   7.87244500e-05\n",
      "   7.86474955e-05   7.85823787e-05   7.83711876e-05   7.78716791e-05\n",
      "   7.77485587e-05   7.77021705e-05   7.75867195e-05   7.75686778e-05\n",
      "   7.75067566e-05   7.73815797e-05   7.63603156e-05   7.62995087e-05\n",
      "   7.57154719e-05   7.56265071e-05   7.49478653e-05   7.34408427e-05\n",
      "   7.13964259e-05   7.10896916e-05   7.07010889e-05   7.05899302e-05]\n",
      "Entropia: 0.998887\n",
      "\n",
      "Xc PCA shape  (35804, 100)\n",
      "Xc labeled shape  (35804, 101)\n",
      "PK_Boanerges Ramos Cunha 15__1pca\n",
      "\n",
      "Xc initial shape  (39804, 800)\n",
      "[ 0.25461047  0.02037948  0.01611816  0.01453339  0.01449343  0.0142634\n",
      "  0.01399639  0.01387892  0.01365529  0.0135719   0.01347217  0.01345836\n",
      "  0.01337886  0.01336223  0.01333634  0.01326783  0.01324817  0.01324311\n",
      "  0.01316432  0.0130709   0.0129924   0.01292224  0.01279809  0.01272506\n",
      "  0.01268986  0.01265294  0.01252222  0.01250854  0.01248251  0.01243656\n",
      "  0.01226427  0.01225384  0.0121563   0.01213157  0.01203033  0.01200908\n",
      "  0.01199085  0.01185807  0.01183252  0.01179389  0.01178901  0.01176272\n",
      "  0.01174662  0.01170143  0.01150304  0.01148412  0.01145469  0.01111483\n",
      "  0.01107953  0.01096188  0.01084803  0.00748386  0.00473217  0.00339559\n",
      "  0.00262392  0.00237558  0.00230433  0.00219137  0.00208983  0.00204724\n",
      "  0.00199448  0.00198786  0.001958    0.00187433  0.00185504  0.00183802\n",
      "  0.00181134  0.00181038  0.00179479  0.00179414  0.00175474  0.0017259\n",
      "  0.00171532  0.00171098  0.00167769  0.00167508  0.00166727  0.00163404\n",
      "  0.00163131  0.00161464  0.00161161  0.00160076  0.00159097  0.00157056\n",
      "  0.00155838  0.00154324  0.00152472  0.00150708  0.00150595  0.00150104\n",
      "  0.00146123  0.00145222  0.00139796  0.00139472  0.00134351  0.00134064\n",
      "  0.00132618  0.00132325  0.00114566  0.00112915]\n",
      "Entropia: 0.988598\n",
      "\n",
      "Xc PCA shape  (39804, 100)\n",
      "Xc labeled shape  (39804, 101)\n",
      "PK_Carmino Pereira da Silva 16__1pca\n",
      "\n",
      "Xc initial shape  (35804, 800)\n",
      "[  4.83668062e-01   1.42173257e-01   6.32379036e-02   4.89981987e-02\n",
      "   3.76646586e-02   2.36844546e-02   1.52915213e-02   1.07312753e-02\n",
      "   9.16167021e-03   8.95419996e-03   8.55564354e-03   7.96337228e-03\n",
      "   7.60468258e-03   6.43211560e-03   6.31276089e-03   5.85462477e-03\n",
      "   5.73149266e-03   5.64288089e-03   5.46945602e-03   5.37481611e-03\n",
      "   5.25177398e-03   4.63419393e-03   4.55554596e-03   4.37489131e-03\n",
      "   4.06694807e-03   3.98390988e-03   3.84839772e-03   3.83139318e-03\n",
      "   3.67390892e-03   3.65460130e-03   3.11862800e-03   2.81504139e-03\n",
      "   2.58223306e-03   2.53608810e-03   2.53483970e-03   2.48963633e-03\n",
      "   2.37235787e-03   2.34658296e-03   2.27650437e-03   2.22180143e-03\n",
      "   2.13029100e-03   2.08220840e-03   2.04314788e-03   2.02301296e-03\n",
      "   1.92809152e-03   1.84606898e-03   1.84092074e-03   1.81678832e-03\n",
      "   1.78268235e-03   1.72297258e-03   1.68841669e-03   2.34725550e-04\n",
      "   9.39550096e-05   8.08702607e-05   7.47812223e-05   7.35541055e-05\n",
      "   7.22876031e-05   6.99837843e-05   6.99119728e-05   6.92934554e-05\n",
      "   6.88916310e-05   6.85212511e-05   6.48350460e-05   6.40285454e-05\n",
      "   6.22578080e-05   6.18313307e-05   6.11627134e-05   6.04506409e-05\n",
      "   5.98697397e-05   5.94847991e-05   5.85851654e-05   5.82206910e-05\n",
      "   5.78776541e-05   5.75765065e-05   5.67296380e-05   5.64949449e-05\n",
      "   5.63189659e-05   5.51447194e-05   5.50134482e-05   5.48479637e-05\n",
      "   5.43362316e-05   5.37041062e-05   5.31926700e-05   5.28851136e-05\n",
      "   5.26866127e-05   5.24977828e-05   5.22694983e-05   5.19324204e-05\n",
      "   5.17092323e-05   5.14043351e-05   5.10265479e-05   5.08642646e-05\n",
      "   4.99104357e-05   4.95832398e-05   4.92070423e-05   4.90628281e-05\n",
      "   4.61359807e-05   4.59798489e-05   4.59325285e-05   4.58045008e-05]\n",
      "Entropia: 0.999629\n",
      "\n",
      "Xc PCA shape  (35804, 100)\n",
      "Xc labeled shape  (35804, 101)\n",
      "PK_Diniz Esmeraldo 17__1pca\n"
     ]
    },
    {
     "name": "stdout",
     "output_type": "stream",
     "text": [
      "\n",
      "Xc initial shape  (35804, 800)\n",
      "[ 0.18558391  0.01700938  0.01699024  0.01692783  0.01692572  0.0169182\n",
      "  0.01617184  0.01614545  0.01607739  0.01606949  0.01599538  0.01599118\n",
      "  0.01596775  0.01595143  0.01593584  0.01593518  0.01564914  0.01553208\n",
      "  0.0155248   0.0155057   0.01549841  0.01548918  0.01546848  0.01540941\n",
      "  0.01538879  0.01537336  0.0153173   0.0152666   0.01516828  0.01512802\n",
      "  0.01504305  0.01502492  0.01493183  0.01486811  0.01483145  0.01482699\n",
      "  0.01472869  0.01468884  0.01464756  0.01459563  0.01446436  0.01442727\n",
      "  0.01408505  0.01401549  0.0140081   0.01376823  0.0137325   0.01327073\n",
      "  0.01312551  0.01312076  0.00646476  0.00133233  0.00124109  0.00121037\n",
      "  0.00120782  0.00120196  0.0011969   0.00118595  0.00118441  0.0011792\n",
      "  0.00117777  0.00117722  0.00117588  0.00117522  0.00115969  0.00115499\n",
      "  0.00114906  0.00113694  0.00113336  0.00113268  0.00112729  0.001127\n",
      "  0.00112021  0.00111426  0.0011109   0.0011062   0.00110583  0.00110194\n",
      "  0.00110056  0.00109931  0.00109677  0.00109513  0.00108462  0.00107729\n",
      "  0.00107325  0.00107081  0.00105961  0.00105238  0.00105096  0.00104489\n",
      "  0.00104394  0.0010394   0.00102187  0.00101424  0.00101321  0.00100384\n",
      "  0.00100301  0.00100088  0.00095278  0.00095035]\n",
      "Entropia: 0.993361\n",
      "\n",
      "Xc PCA shape  (35804, 100)\n",
      "Xc labeled shape  (35804, 101)\n",
      "PK_Donia Aires 18__1pca\n",
      "\n",
      "Xc initial shape  (35804, 800)\n",
      "[  6.46265291e-01   1.06358699e-02   9.27684920e-03   9.21251887e-03\n",
      "   8.84521402e-03   8.78127472e-03   8.58234607e-03   8.51397005e-03\n",
      "   8.43139012e-03   8.09985610e-03   8.07648626e-03   7.94977498e-03\n",
      "   7.80011787e-03   7.71969653e-03   7.57073100e-03   7.53043444e-03\n",
      "   7.47867800e-03   7.33628958e-03   7.30556066e-03   7.23683681e-03\n",
      "   7.17157169e-03   7.13514471e-03   7.08402915e-03   7.06296042e-03\n",
      "   6.94384573e-03   6.90153730e-03   6.87434069e-03   6.85748138e-03\n",
      "   6.76896777e-03   6.71564019e-03   6.64136717e-03   6.55630806e-03\n",
      "   6.52986002e-03   6.48936123e-03   6.32938592e-03   6.32539660e-03\n",
      "   6.30936565e-03   6.27613617e-03   6.18316052e-03   6.17961770e-03\n",
      "   6.05239012e-03   5.97126186e-03   5.91320018e-03   5.90468210e-03\n",
      "   5.88855624e-03   5.88265734e-03   5.82982881e-03   5.79014266e-03\n",
      "   5.74806147e-03   5.67164284e-03   7.50715796e-04   1.23339520e-04\n",
      "   9.03994877e-05   8.94185039e-05   8.82934015e-05   8.65264725e-05\n",
      "   8.64826363e-05   8.51914597e-05   8.48295502e-05   8.43802375e-05\n",
      "   8.31358914e-05   8.29449576e-05   8.29030634e-05   8.21139171e-05\n",
      "   8.18774379e-05   8.08739235e-05   8.07542317e-05   8.02466202e-05\n",
      "   8.00007223e-05   7.85176049e-05   7.80442182e-05   7.77422708e-05\n",
      "   7.74222966e-05   7.72357803e-05   7.69230070e-05   7.68599483e-05\n",
      "   7.67972064e-05   7.66787693e-05   7.66645832e-05   7.59320556e-05\n",
      "   7.59279017e-05   7.52512119e-05   7.40889476e-05   7.38507480e-05\n",
      "   7.34110294e-05   7.33449381e-05   7.23292248e-05   7.20721752e-05\n",
      "   7.20319812e-05   7.16562824e-05   7.10056194e-05   7.08045806e-05\n",
      "   7.04845881e-05   6.99929662e-05   6.99236057e-05   6.91486630e-05\n",
      "   6.90226999e-05   6.86240605e-05   6.83466683e-05   6.61551679e-05]\n",
      "Entropia: 0.999218\n",
      "\n",
      "Xc PCA shape  (35804, 100)\n",
      "Xc labeled shape  (35804, 101)\n",
      "PK_Fernando Francisco da Silva 19__1pca\n",
      "\n",
      "Xc initial shape  (35804, 800)\n",
      "[  4.57531147e-01   1.42957857e-01   7.33722120e-02   4.44124029e-02\n",
      "   2.91089261e-02   1.64902461e-02   9.86586066e-03   9.79812310e-03\n",
      "   9.64781366e-03   9.40519588e-03   9.26602772e-03   8.63957828e-03\n",
      "   8.12483053e-03   7.85216523e-03   7.32365698e-03   7.15154266e-03\n",
      "   7.03721980e-03   7.03069970e-03   6.91355095e-03   6.40115026e-03\n",
      "   6.18972997e-03   6.10962392e-03   5.79969977e-03   5.59176919e-03\n",
      "   5.48277923e-03   5.08844798e-03   5.06880253e-03   5.01036311e-03\n",
      "   4.97229852e-03   4.83645336e-03   4.79368452e-03   4.13616250e-03\n",
      "   3.97834926e-03   3.97758038e-03   3.77909336e-03   3.72384235e-03\n",
      "   3.07332553e-03   2.98609185e-03   2.92179787e-03   2.84203267e-03\n",
      "   2.77192054e-03   2.64162788e-03   2.52234154e-03   2.50914702e-03\n",
      "   2.23528511e-03   2.20219488e-03   2.15271016e-03   2.13170537e-03\n",
      "   1.73085475e-03   1.35503329e-03   1.24684209e-03   1.06314629e-03\n",
      "   5.44579674e-04   2.68753977e-04   2.22642352e-04   2.16482256e-04\n",
      "   2.06965075e-04   1.86142029e-04   1.84654278e-04   1.81861178e-04\n",
      "   1.70039447e-04   1.63251036e-04   1.57634787e-04   1.49199821e-04\n",
      "   1.40217618e-04   1.39673972e-04   1.36359958e-04   1.32580193e-04\n",
      "   1.31240432e-04   1.27157233e-04   1.25801430e-04   1.22983255e-04\n",
      "   1.14574068e-04   1.12539906e-04   1.10877956e-04   1.07744976e-04\n",
      "   1.06725013e-04   1.04916146e-04   1.00897800e-04   9.61764333e-05\n",
      "   9.26481867e-05   9.09270785e-05   9.04821028e-05   8.59469751e-05\n",
      "   7.76676913e-05   7.45039446e-05   7.25917423e-05   7.11062992e-05\n",
      "   7.05040070e-05   7.00144305e-05   6.86851259e-05   6.83953050e-05\n",
      "   6.39753196e-05   6.38659953e-05   5.96629688e-05   5.88517722e-05\n",
      "   5.84645809e-05   5.75301428e-05   5.50206396e-05   4.96089069e-05]\n",
      "Entropia: 0.999218\n",
      "\n",
      "Xc PCA shape  (35804, 100)\n",
      "Xc labeled shape  (35804, 101)\n",
      "PK_Gastao Goncalves da Silva 20__1pca\n",
      "\n",
      "Xc initial shape  (39804, 800)\n",
      "[ 0.06367001  0.04084248  0.0344398   0.03026207  0.02669276  0.02453573\n",
      "  0.02379552  0.02243416  0.02174054  0.02075208  0.0196596   0.01856644\n",
      "  0.01771938  0.01689434  0.01682159  0.01681653  0.01669099  0.0166338\n",
      "  0.01662149  0.0166211   0.01656981  0.0165649   0.01653301  0.01652715\n",
      "  0.01652455  0.01652324  0.01647441  0.01644151  0.01638057  0.01636412\n",
      "  0.0163564   0.01634598  0.01634463  0.01634341  0.01632828  0.01631997\n",
      "  0.01631738  0.01631645  0.01631062  0.0162902   0.01628219  0.01624292\n",
      "  0.01623316  0.01615892  0.01615179  0.01608369  0.01607133  0.01602195\n",
      "  0.01597624  0.01588119  0.0158755   0.0004939   0.00049348  0.00046981\n",
      "  0.00045332  0.0004429   0.00042209  0.00040328  0.00038526  0.00037674\n",
      "  0.00037656  0.00036729  0.00031034  0.00030967  0.00030031  0.00027169\n",
      "  0.00026891  0.00026808  0.00025675  0.00025579  0.00025057  0.00024599\n",
      "  0.0002356   0.00023449  0.00023187  0.00023074  0.00021904  0.00020202\n",
      "  0.000202    0.00019643  0.00019581  0.00017885  0.00016352  0.00016233\n",
      "  0.00015981  0.00015756  0.00014176  0.00013292  0.00013281  0.00013126\n",
      "  0.00013118  0.0001264   0.00012617  0.00012289  0.00012153  0.00012081\n",
      "  0.00011303  0.0001064   0.00010425  0.00010177]\n",
      "Entropia: 0.999272\n",
      "\n",
      "Xc PCA shape  (39804, 100)\n",
      "Xc labeled shape  (39804, 101)\n",
      "PK_Ismael Rodrigues do Carmo 21__1pca\n",
      "\n",
      "Xc initial shape  (35804, 800)\n",
      "[  3.96590600e-01   1.75754505e-01   9.25581197e-02   5.16080530e-02\n",
      "   4.85420835e-02   3.09179845e-02   2.04358662e-02   1.74536502e-02\n",
      "   1.37481862e-02   1.09320106e-02   8.37687740e-03   5.68313792e-03\n",
      "   4.76148690e-03   4.00923235e-03   3.75631379e-03   3.57118826e-03\n",
      "   3.23158032e-03   3.11597420e-03   2.86332476e-03   2.80478195e-03\n",
      "   2.78947852e-03   2.64995221e-03   2.63568563e-03   2.55312718e-03\n",
      "   2.54668938e-03   2.51073953e-03   2.49297820e-03   2.47707269e-03\n",
      "   2.42392299e-03   2.29921572e-03   2.26666765e-03   2.23619350e-03\n",
      "   2.20136313e-03   2.16519728e-03   2.05542156e-03   2.03098700e-03\n",
      "   1.97702172e-03   1.94350004e-03   1.92420927e-03   1.91517145e-03\n",
      "   1.90237644e-03   1.87589998e-03   1.80442857e-03   1.79325498e-03\n",
      "   1.77454318e-03   1.71627595e-03   1.68097799e-03   1.67451330e-03\n",
      "   1.63021275e-03   1.61545741e-03   1.59081024e-03   1.57848754e-03\n",
      "   1.50700949e-03   1.48988998e-03   1.36981169e-03   1.35428860e-03\n",
      "   1.34326141e-03   1.28142978e-03   1.16023287e-03   1.13859942e-03\n",
      "   1.13559914e-03   1.13116311e-03   1.04356964e-03   9.43108953e-04\n",
      "   8.90859159e-04   8.13734375e-04   7.35543298e-04   6.70362656e-04\n",
      "   6.25507058e-04   5.11035709e-04   4.72010385e-04   3.77501212e-04\n",
      "   3.39902309e-04   3.27738576e-04   3.24262190e-04   3.14933442e-04\n",
      "   2.98485697e-04   2.92604805e-04   2.86478218e-04   2.83788304e-04\n",
      "   2.76316206e-04   2.70039473e-04   2.67299836e-04   2.57438885e-04\n",
      "   2.46405563e-04   2.44000234e-04   2.42934588e-04   2.37042852e-04\n",
      "   2.34801868e-04   2.34688500e-04   2.33077783e-04   2.29050393e-04\n",
      "   2.21544331e-04   2.20101635e-04   2.19095327e-04   2.16871313e-04\n",
      "   2.10467709e-04   2.04682289e-04   2.01057697e-04   1.99571455e-04]\n",
      "Entropia: 0.994576\n",
      "\n",
      "Xc PCA shape  (35804, 100)\n",
      "Xc labeled shape  (35804, 101)\n",
      "PK_Ivanildes Barbosa 22__1pca\n"
     ]
    },
    {
     "name": "stdout",
     "output_type": "stream",
     "text": [
      "\n",
      "Xc initial shape  (39804, 800)\n",
      "[ 0.51152474  0.0292984   0.00817809  0.0077949   0.00647931  0.00621747\n",
      "  0.00613757  0.00604335  0.00599183  0.00597135  0.00595615  0.00591916\n",
      "  0.00590931  0.00586465  0.0058599   0.00584924  0.00579354  0.0057169\n",
      "  0.0057057   0.00570538  0.00565303  0.00564101  0.00559707  0.00556326\n",
      "  0.0055333   0.00550975  0.00550065  0.00550034  0.00549412  0.00547102\n",
      "  0.00542688  0.0054204   0.00538795  0.00530946  0.0052928   0.00518646\n",
      "  0.00518335  0.00515828  0.00514484  0.00513604  0.00508209  0.00506359\n",
      "  0.00505615  0.00501869  0.00501348  0.00496827  0.00495982  0.00478142\n",
      "  0.00477089  0.00474712  0.00473644  0.00468086  0.00465619  0.00437237\n",
      "  0.00435922  0.00428594  0.0042829   0.00426511  0.00426076  0.00414927\n",
      "  0.00411145  0.00410187  0.00409757  0.00408579  0.00407323  0.00406245\n",
      "  0.00403562  0.00402837  0.00402561  0.00401319  0.00395263  0.00387685\n",
      "  0.00385826  0.00385597  0.00379675  0.00377078  0.00373279  0.00371794\n",
      "  0.00369865  0.00366573  0.00363819  0.00358777  0.00357231  0.00352042\n",
      "  0.00345763  0.00337863  0.00336189  0.00334714  0.00333475  0.00329852\n",
      "  0.00329498  0.00324884  0.00319594  0.00319446  0.00314981  0.00314632\n",
      "  0.00312849  0.0031154   0.00294251  0.0029331 ]\n",
      "Entropia: 0.997946\n",
      "\n",
      "Xc PCA shape  (39804, 100)\n",
      "Xc labeled shape  (39804, 101)\n",
      "PK_Jose Fernandes Araujo 23__1pca\n",
      "\n",
      "Xc initial shape  (35804, 800)\n",
      "[  5.82237857e-01   1.90398708e-02   1.22006686e-02   1.07148420e-02\n",
      "   1.06844125e-02   1.05310798e-02   1.04036128e-02   9.66279730e-03\n",
      "   9.60952424e-03   9.55989221e-03   9.52382885e-03   9.32402285e-03\n",
      "   9.12014290e-03   8.75374873e-03   8.69598449e-03   8.60491447e-03\n",
      "   8.55871390e-03   8.53543814e-03   8.49813257e-03   8.32202936e-03\n",
      "   8.32061104e-03   8.25851460e-03   8.23640149e-03   8.19034075e-03\n",
      "   8.14671862e-03   8.13282124e-03   7.98676002e-03   7.98012823e-03\n",
      "   7.85794153e-03   7.74722517e-03   7.68859075e-03   7.43520990e-03\n",
      "   7.36235030e-03   7.31042607e-03   7.27930496e-03   7.26871618e-03\n",
      "   7.26004406e-03   7.03481091e-03   6.82526195e-03   6.82135650e-03\n",
      "   6.65360491e-03   6.48488273e-03   6.43586172e-03   6.37699883e-03\n",
      "   6.27157071e-03   6.24567184e-03   6.03137596e-03   5.94519770e-03\n",
      "   5.94273467e-03   5.72280966e-03   7.78400774e-04   4.06913489e-04\n",
      "   1.77003850e-04   1.68335361e-04   1.67456608e-04   1.60022873e-04\n",
      "   1.51155399e-04   1.48787573e-04   1.48227826e-04   1.46119836e-04\n",
      "   1.42552161e-04   1.38707213e-04   1.38490320e-04   1.35660117e-04\n",
      "   1.34004108e-04   1.31941854e-04   1.30211623e-04   1.26514418e-04\n",
      "   1.25595822e-04   1.24772160e-04   1.23136294e-04   1.21771535e-04\n",
      "   1.20974742e-04   1.19430374e-04   1.19270424e-04   1.19213979e-04\n",
      "   1.17998691e-04   1.17099416e-04   1.15509797e-04   1.15137235e-04\n",
      "   1.14269889e-04   1.13780235e-04   1.13184809e-04   1.11990176e-04\n",
      "   1.10704149e-04   1.10028577e-04   1.09128583e-04   1.08509928e-04\n",
      "   1.08287354e-04   1.07758984e-04   1.06387415e-04   1.05377139e-04\n",
      "   1.04835633e-04   1.04102589e-04   1.03495879e-04   1.03005164e-04\n",
      "   1.00949239e-04   1.00552374e-04   1.00065993e-04   9.95383345e-05]\n",
      "Entropia: 0.994942\n",
      "\n",
      "Xc PCA shape  (35804, 100)\n",
      "Xc labeled shape  (35804, 101)\n",
      "PK_Jose Francisto Fontineli  24__1pca\n",
      "\n",
      "Xc initial shape  (35804, 800)\n",
      "[ 0.11443206  0.02918538  0.01801889  0.01796622  0.01788207  0.0178263\n",
      "  0.01776633  0.01765599  0.01757494  0.01737196  0.01725951  0.01725035\n",
      "  0.01724862  0.01716012  0.01700714  0.01698366  0.01650479  0.01641835\n",
      "  0.01636976  0.01620331  0.0161561   0.01601284  0.01583166  0.01582699\n",
      "  0.01570567  0.01562893  0.01553045  0.01552193  0.01544861  0.01543582\n",
      "  0.01539708  0.01535104  0.01534796  0.01527683  0.01516993  0.01513375\n",
      "  0.0151039   0.01503558  0.01495813  0.01494397  0.01492872  0.01486597\n",
      "  0.01483151  0.01476526  0.01463637  0.01460894  0.01455212  0.01453598\n",
      "  0.01450881  0.01438962  0.01435309  0.0027155   0.00122063  0.00121966\n",
      "  0.00121115  0.00120813  0.00120768  0.0012014   0.00119004  0.00118585\n",
      "  0.00117558  0.00117537  0.00116928  0.0011634   0.00116309  0.00115991\n",
      "  0.00114654  0.00114643  0.00112949  0.00111972  0.00111309  0.0011127\n",
      "  0.00108874  0.00108586  0.00108215  0.00107422  0.00106746  0.00106643\n",
      "  0.00106583  0.00106495  0.00105575  0.00105562  0.00105562  0.00105036\n",
      "  0.00104861  0.00104676  0.00104276  0.00104129  0.00104074  0.00103858\n",
      "  0.00103833  0.00102939  0.00102413  0.0010237   0.00101901  0.00101639\n",
      "  0.00101608  0.00101155  0.00101111  0.00095523]\n",
      "Entropia: 0.979231\n",
      "\n",
      "Xc PCA shape  (35804, 100)\n",
      "Xc labeled shape  (35804, 101)\n",
      "PK_Marcilio Pontinho de Rezende 25__1pca\n",
      "\n",
      "Xc initial shape  (35804, 800)\n",
      "[  6.00520062e-01   1.80791500e-02   1.23923278e-02   1.09577048e-02\n",
      "   1.06707819e-02   1.06636855e-02   9.73882460e-03   9.69362941e-03\n",
      "   9.20164301e-03   8.58318315e-03   8.47663324e-03   8.46273655e-03\n",
      "   8.34946283e-03   8.31244294e-03   8.26634721e-03   8.16920037e-03\n",
      "   8.16275398e-03   8.14159313e-03   8.07906131e-03   8.04772975e-03\n",
      "   7.96685519e-03   7.87851582e-03   7.85141843e-03   7.76189363e-03\n",
      "   7.54437200e-03   7.49484892e-03   7.49333292e-03   7.47222703e-03\n",
      "   7.40656190e-03   7.27909564e-03   7.09675146e-03   7.08538884e-03\n",
      "   7.02660157e-03   7.02200198e-03   6.92057048e-03   6.89037841e-03\n",
      "   6.75342511e-03   6.68724882e-03   6.64090543e-03   6.62892666e-03\n",
      "   6.35794781e-03   6.35516806e-03   6.27437743e-03   6.18107341e-03\n",
      "   6.03944474e-03   6.03783129e-03   5.92336997e-03   5.92004585e-03\n",
      "   5.48925198e-03   5.45715080e-03   4.26862221e-03   6.03664639e-04\n",
      "   4.02408379e-04   2.90017494e-04   2.24971726e-04   1.95062777e-04\n",
      "   1.69727524e-04   1.64076164e-04   1.60975131e-04   1.58319310e-04\n",
      "   1.56994275e-04   1.55527623e-04   1.54101426e-04   1.53343708e-04\n",
      "   1.50729218e-04   1.46263072e-04   1.44193357e-04   1.39657401e-04\n",
      "   1.35256513e-04   1.34330222e-04   1.32855333e-04   1.27965633e-04\n",
      "   1.25531052e-04   1.22779752e-04   1.18586725e-04   1.18347342e-04\n",
      "   1.17990527e-04   1.17121618e-04   1.11779635e-04   1.11056599e-04\n",
      "   1.10395352e-04   1.05969801e-04   1.05505431e-04   1.04583242e-04\n",
      "   1.04425159e-04   1.03792226e-04   1.02939176e-04   9.94610925e-05\n",
      "   9.81825305e-05   9.69640642e-05   9.65021680e-05   9.48296028e-05\n",
      "   9.47366571e-05   9.44006247e-05   9.41228387e-05   9.16947942e-05\n",
      "   8.78510651e-05   8.75914854e-05   8.48201992e-05   8.46293438e-05]\n",
      "Entropia: 0.999162\n",
      "\n",
      "Xc PCA shape  (35804, 100)\n",
      "Xc labeled shape  (35804, 101)\n",
      "PK_Osvaldir Borborema 26__1pca\n",
      "\n",
      "Xc initial shape  (35804, 800)\n",
      "[ 0.25235543  0.01925636  0.01875982  0.01785698  0.01646928  0.01636018\n",
      "  0.01592351  0.01586063  0.01574825  0.01562487  0.01528567  0.01482489\n",
      "  0.01475475  0.01474614  0.01472226  0.01454422  0.01452063  0.01420366\n",
      "  0.0139757   0.01388698  0.01380783  0.01371766  0.01360215  0.01359558\n",
      "  0.01353231  0.01350975  0.01350245  0.01337137  0.01336289  0.01326555\n",
      "  0.01324685  0.01311707  0.01308934  0.01300997  0.0129028   0.01280842\n",
      "  0.01280126  0.0127803   0.01276847  0.01249749  0.01247148  0.01232258\n",
      "  0.01231426  0.01220532  0.0120798   0.01207274  0.01179798  0.01172305\n",
      "  0.01142895  0.01135968  0.00402356  0.00242082  0.00190864  0.00161265\n",
      "  0.00148051  0.00142646  0.0014244   0.00138785  0.00127978  0.00117947\n",
      "  0.0011661   0.00114579  0.00113315  0.00112838  0.0011174   0.00111704\n",
      "  0.00111642  0.00111376  0.0011057   0.00110149  0.00107697  0.00106849\n",
      "  0.00106744  0.00106664  0.00106395  0.00105481  0.00105006  0.00104371\n",
      "  0.00104073  0.00103839  0.00103481  0.0010238   0.00102302  0.00101463\n",
      "  0.0010145   0.00100968  0.00100708  0.00100386  0.00100258  0.00099826\n",
      "  0.0009931   0.0009922   0.00098413  0.00097699  0.00097493  0.00097482\n",
      "  0.00096337  0.000962    0.00091855  0.00090853]\n",
      "Entropia: 0.993487\n",
      "\n",
      "Xc PCA shape  (35804, 100)\n",
      "Xc labeled shape  (35804, 101)\n",
      "PK_Sergio Lamenza 27__1pca\n",
      "Tempo total para o envelopamento: 1.84 min\n"
     ]
    }
   ],
   "source": [
    "#PCA\n",
    "entro = []\n",
    "\n",
    "start = timeit.default_timer()\n",
    "\n",
    "DATA_pca = []\n",
    "\n",
    "for x, y in zip(DATA, l):\n",
    "    pca_data(x,DATA_pca, entro, y)\n",
    "    \n",
    "stop = timeit.default_timer()\n",
    "ti = stop - start \n",
    "print ('Tempo total para o envelopamento: %.2f min' % (ti/60))"
   ]
  },
  {
   "cell_type": "code",
   "execution_count": 75,
   "metadata": {
    "scrolled": false
   },
   "outputs": [
    {
     "name": "stdout",
     "output_type": "stream",
     "text": [
      "Entropia média: 0.99286\n",
      "Maior entropia: 0.99963\n",
      "Menor entropia: 0.94908\n"
     ]
    }
   ],
   "source": [
    "print ('Entropia média: %.5f' % np.mean(entro))\n",
    "print ('Maior entropia: %.5f' % np.max(entro))\n",
    "print ('Menor entropia: %.5f' % np.min(entro))"
   ]
  },
  {
   "cell_type": "markdown",
   "metadata": {},
   "source": [
    "100 F -> 0.99285877528474364\n",
    "120 F -> 0.99564845657083167\n",
    "160 F -> 0.99895491841525164"
   ]
  },
  {
   "cell_type": "code",
   "execution_count": 26,
   "metadata": {},
   "outputs": [
    {
     "data": {
      "text/plain": [
       "77.62458333333333"
      ]
     },
     "execution_count": 26,
     "metadata": {},
     "output_type": "execute_result"
    }
   ],
   "source": [
    "1862.99/60/4*10"
   ]
  },
  {
   "cell_type": "code",
   "execution_count": 38,
   "metadata": {},
   "outputs": [],
   "source": [
    "K = np.load(\"DB_REPO/labeled/\"+DATA[1]+'.npy')"
   ]
  },
  {
   "cell_type": "code",
   "execution_count": 44,
   "metadata": {},
   "outputs": [
    {
     "data": {
      "text/plain": [
       "(35804, 800)"
      ]
     },
     "execution_count": 44,
     "metadata": {},
     "output_type": "execute_result"
    }
   ],
   "source": [
    "K[:,:800].shape"
   ]
  },
  {
   "cell_type": "code",
   "execution_count": 80,
   "metadata": {},
   "outputs": [],
   "source": [
    "#Comentar caso não use janelamento\n",
    "DATA = DATA_pca"
   ]
  },
  {
   "cell_type": "markdown",
   "metadata": {},
   "source": [
    "#Não foram incluidas as amostras p4 e c3, serão utilizadas para validação!"
   ]
  },
  {
   "cell_type": "code",
   "execution_count": 81,
   "metadata": {},
   "outputs": [
    {
     "data": {
      "text/plain": [
       "['CT_Gelson Amantos de Souza  2__0pca',\n",
       " 'CT_Geraldo Dias de Oliveira 3__0pca',\n",
       " 'CT_Iraci Rodrigues Soares 4__0pca',\n",
       " 'CT_Joaquina de Sousa Freitas  5__0pca',\n",
       " 'CT_Jose Martins de Sousa  6__0pca',\n",
       " 'CT_Larcir Iria da Conceicao Santos 7__0pca',\n",
       " 'CT_Magda Aparecida Ferreira 8__0pca',\n",
       " 'CT_Manuel Saraiva da Rocha 9__0pca',\n",
       " 'CT_Maria das Gracas Vieira 10__0pca',\n",
       " 'CT_Maria Santana Estevam Moreira 11__0pca',\n",
       " 'CT_Maria Veira Borges 12__0pca',\n",
       " 'CT_Zenobia Barroso Feitosa 13__0pca',\n",
       " 'PK_Arthur Araujo Filho 14__1pca',\n",
       " 'PK_Boanerges Ramos Cunha 15__1pca',\n",
       " 'PK_Carmino Pereira da Silva 16__1pca',\n",
       " 'PK_Diniz Esmeraldo 17__1pca',\n",
       " 'PK_Donia Aires 18__1pca',\n",
       " 'PK_Fernando Francisco da Silva 19__1pca',\n",
       " 'PK_Gastao Goncalves da Silva 20__1pca',\n",
       " 'PK_Ismael Rodrigues do Carmo 21__1pca',\n",
       " 'PK_Ivanildes Barbosa 22__1pca',\n",
       " 'PK_Jose Fernandes Araujo 23__1pca',\n",
       " 'PK_Jose Francisto Fontineli  24__1pca',\n",
       " 'PK_Marcilio Pontinho de Rezende 25__1pca']"
      ]
     },
     "execution_count": 81,
     "metadata": {},
     "output_type": "execute_result"
    }
   ],
   "source": [
    "DATA[2:-2]"
   ]
  },
  {
   "cell_type": "code",
   "execution_count": 82,
   "metadata": {},
   "outputs": [
    {
     "data": {
      "text/plain": [
       "24"
      ]
     },
     "execution_count": 82,
     "metadata": {},
     "output_type": "execute_result"
    }
   ],
   "source": [
    "len(DATA[2:-2])"
   ]
  },
  {
   "cell_type": "code",
   "execution_count": 83,
   "metadata": {},
   "outputs": [
    {
     "data": {
      "text/plain": [
       "'PK_Sergio Lamenza 27__1pca'"
      ]
     },
     "execution_count": 83,
     "metadata": {},
     "output_type": "execute_result"
    }
   ],
   "source": [
    "DATA[-1]"
   ]
  },
  {
   "cell_type": "markdown",
   "metadata": {},
   "source": [
    "---"
   ]
  },
  {
   "cell_type": "markdown",
   "metadata": {},
   "source": [
    "## Shape data"
   ]
  },
  {
   "cell_type": "code",
   "execution_count": 86,
   "metadata": {},
   "outputs": [],
   "source": [
    "#Xc = np.load(\"DB_REPO/labeled/\"+DATA[0]+'.npy')\n",
    "Xc = np.load(\"DB_REPO/pca/\"+DATA[0]+'.npy')\n",
    "for i in DATA[2:-2]:\n",
    "    #Xc = np.vstack((Xc,np.load('DB_REPO/labeled/'+i+'.npy')))\n",
    "    Xc = np.vstack((Xc,np.load('DB_REPO/pca/'+i+'.npy')))"
   ]
  },
  {
   "cell_type": "markdown",
   "metadata": {},
   "source": [
    "### Split tipo 1"
   ]
  },
  {
   "cell_type": "markdown",
   "metadata": {},
   "source": [
    "#Dividindo os dados em sets de treino, test e validação\n",
    "dfn = pd.DataFrame(data=Xc)\n",
    "train, validate, test = np.split(dfn.sample(frac=1), [int(.6*len(dfn)), int(.8*len(dfn))])"
   ]
  },
  {
   "cell_type": "markdown",
   "metadata": {},
   "source": [
    "np.save('./DB_INTENC/preproc/labeled/train', train, allow_pickle=False)\n",
    "np.save('./DB_INTENC/preproc/labeled/validate', validate, allow_pickle=False)\n",
    "np.save('./DB_INTENC/preproc/labeled/test', test, allow_pickle=False)"
   ]
  },
  {
   "cell_type": "markdown",
   "metadata": {},
   "source": [
    "Xc_train = np.load(\"DB_INTENC/preproc/labeled/train.npy\")\n",
    "\n",
    "X_train = Xc_train[:,0:(Xc_train.shape[1]-1)]\n",
    "\n",
    "yz = Xc_train[:,[(Xc_train.shape[1]-1)]]\n",
    "y_train = np.array([])\n",
    "for i in range(len(yz)):\n",
    "    y_train = np.hstack((y_train,yz[i]))\n",
    "    \n",
    "lab_enc = preprocessing.LabelEncoder()\n",
    "y_train = lab_enc.fit_transform(y_train)\n",
    "\n",
    "X_train.shape, y_train.shape"
   ]
  },
  {
   "cell_type": "markdown",
   "metadata": {},
   "source": [
    "#Xc_validate = np.load(\"DB_INTENC/preproc/labeled/validate.npy\")\n",
    "Xc_validate = Xc\n",
    "\n",
    "X_validate = Xc_validate[:,0:(Xc_validate.shape[1]-1)]\n",
    "\n",
    "yz = Xc_validate[:,[(Xc_validate.shape[1]-1)]]\n",
    "y_validate = np.array([])\n",
    "for i in range(len(yz)):\n",
    "    y_validate = np.hstack((y_validate,yz[i]))\n",
    "    \n",
    "#lab_enc = preprocessing.LabelEncoder()\n",
    "#y_validate = lab_enc.fit_transform(y_validate)\n",
    "\n",
    "X_validate.shape, y_validate.shape"
   ]
  },
  {
   "cell_type": "markdown",
   "metadata": {},
   "source": [
    "Xc_test= np.load(\"DB_INTENC/preproc/labeled/validate.npy\")\n",
    "\n",
    "X_test = Xc_test[:,0:(Xc_test.shape[1]-1)]\n",
    "\n",
    "yz = Xc_test[:,[(Xc_test.shape[1]-1)]]\n",
    "y_test = np.array([])\n",
    "for i in range(len(yz)):\n",
    "    y_test = np.hstack((y_test,yz[i]))\n",
    "    \n",
    "lab_enc = preprocessing.LabelEncoder()\n",
    "y_test = lab_enc.fit_transform(y_test)\n",
    "\n",
    "X_test.shape, y_test.shape"
   ]
  },
  {
   "cell_type": "markdown",
   "metadata": {},
   "source": [
    "### Split tipo 2"
   ]
  },
  {
   "cell_type": "code",
   "execution_count": 87,
   "metadata": {},
   "outputs": [
    {
     "name": "stdout",
     "output_type": "stream",
     "text": [
      "CT_Antonia Perpetuo Borges 0__0pca\n",
      "CT_Francisco das Chagas dos Santos 1__0pca\n",
      "PK_Sergio Lamenza 27__1pca\n",
      "PK_Osvaldir Borborema 26__1pca\n"
     ]
    }
   ],
   "source": [
    "print DATA[0]\n",
    "print DATA[1]\n",
    "print DATA[-1]\n",
    "print DATA[-2]"
   ]
  },
  {
   "cell_type": "code",
   "execution_count": 88,
   "metadata": {
    "scrolled": true
   },
   "outputs": [
    {
     "name": "stdout",
     "output_type": "stream",
     "text": [
      "CT_Francisco das Chagas dos Santos 1__0pca\n",
      "CT_Gelson Amantos de Souza  2__0pca\n"
     ]
    }
   ],
   "source": [
    "for i in DATA[1:3]:\n",
    "    print i"
   ]
  },
  {
   "cell_type": "code",
   "execution_count": 89,
   "metadata": {},
   "outputs": [
    {
     "data": {
      "text/plain": [
       "((143216, 100), (143216,))"
      ]
     },
     "execution_count": 89,
     "metadata": {},
     "output_type": "execute_result"
    }
   ],
   "source": [
    "#Separando set de dados X, e set de labels y - Validação DATA[5] e DATA[6]\n",
    "#Xc = np.load(\"DB_REPO/labeled/\"+DATA[0]+'.npy')\n",
    "Xc = np.load(\"DB_REPO/pca/\"+DATA[0]+'.npy')\n",
    "\n",
    "#for i in DATA[1:3]:\n",
    "#    Xc = np.vstack((Xc,np.load('DB_REPO/labeled/'+i))) \n",
    "\n",
    "#Xc = np.vstack((Xc,np.load('DB_REPO/labeled/'+DATA[1]+'.npy')))\n",
    "#Xc = np.vstack((Xc,np.load('DB_REPO/labeled/'+DATA[-1]+'.npy')))\n",
    "#Xc = np.vstack((Xc,np.load('DB_REPO/labeled/'+DATA[-2]+'.npy')))\n",
    "\n",
    "Xc = np.vstack((Xc,np.load('DB_REPO/pca/'+DATA[1]+'.npy')))\n",
    "Xc = np.vstack((Xc,np.load('DB_REPO/pca/'+DATA[-1]+'.npy')))\n",
    "Xc = np.vstack((Xc,np.load('DB_REPO/pca/'+DATA[-2]+'.npy')))\n",
    "\n",
    "X_validate = Xc[:,0:(Xc.shape[1]-1)]\n",
    "\n",
    "yz = Xc[:,[(Xc.shape[1]-1)]]\n",
    "y_validate = np.array([])\n",
    "for i in range(len(yz)):\n",
    "    y_validate = np.hstack((y_validate,yz[i]))\n",
    "    \n",
    "X_validate.shape, y_validate.shape"
   ]
  },
  {
   "cell_type": "code",
   "execution_count": 94,
   "metadata": {},
   "outputs": [
    {
     "data": {
      "text/plain": [
       "((143216, 100), (143216,))"
      ]
     },
     "execution_count": 94,
     "metadata": {},
     "output_type": "execute_result"
    }
   ],
   "source": [
    "X_validate_std = sc.transform(X_validate)\n",
    "\n",
    "X_validate_std.shape, y_validate.shape"
   ]
  },
  {
   "cell_type": "code",
   "execution_count": 90,
   "metadata": {},
   "outputs": [
    {
     "data": {
      "text/plain": [
       "((871492, 100), (871492,))"
      ]
     },
     "execution_count": 90,
     "metadata": {},
     "output_type": "execute_result"
    }
   ],
   "source": [
    "#Separando set de dados X, e set de labels y - Treino e Teste\n",
    "#Xc = np.load(\"DB_REPO/labeled/\"+DATA[3]+'.npy')\n",
    "Xc = np.load(\"DB_REPO/pca/\"+DATA[3]+'.npy')\n",
    "\n",
    "#for i in DATA[1:-2]:\n",
    "for i in DATA[4:-2]:\n",
    "    #Xc = np.vstack((Xc,np.load('DB_REPO/labeled/'+i+'.npy'))) \n",
    "    Xc = np.vstack((Xc,np.load('DB_REPO/pca/'+i+'.npy'))) \n",
    "    \n",
    "X = Xc[:,0:(Xc.shape[1]-1)]\n",
    "\n",
    "yz = Xc[:,[(Xc.shape[1]-1)]]\n",
    "y = np.array([])\n",
    "for i in range(len(yz)):\n",
    "    y = np.hstack((y,yz[i]))\n",
    "    \n",
    "X.shape, y.shape"
   ]
  },
  {
   "cell_type": "code",
   "execution_count": 91,
   "metadata": {},
   "outputs": [
    {
     "data": {
      "text/plain": [
       "array([ 0.,  1.])"
      ]
     },
     "execution_count": 91,
     "metadata": {},
     "output_type": "execute_result"
    }
   ],
   "source": [
    "np.unique(y)"
   ]
  },
  {
   "cell_type": "code",
   "execution_count": 92,
   "metadata": {},
   "outputs": [],
   "source": [
    "#Dividindo os dados em sets de treino e test\n",
    "from sklearn.model_selection import train_test_split\n",
    "X_train, X_test, y_train, y_test = train_test_split(X, y, test_size=0.3, random_state=1)\n",
    "\n",
    "#X_test, X_validate, y_test, y_validate = train_test_split(X, y, test_size=0.5, random_state=1)"
   ]
  },
  {
   "cell_type": "code",
   "execution_count": 93,
   "metadata": {},
   "outputs": [
    {
     "name": "stdout",
     "output_type": "stream",
     "text": [
      "(610044, 100) (261448, 100) (143216, 100) (610044,) (261448,) (143216,)\n"
     ]
    }
   ],
   "source": [
    "#Aplica normalizador P.S.: Verificar necessidade pois os dados já foram normalizados anteriormente\n",
    "from sklearn.preprocessing import StandardScaler\n",
    "sc = StandardScaler()\n",
    "sc.fit(X_train)\n",
    "X_train_std = sc.transform(X_train)\n",
    "X_test_std = sc.transform(X_test)\n",
    "X_validate_std = sc.transform(X_validate)\n",
    "\n",
    "print X_train_std.shape, X_test_std.shape, X_validate_std.shape, y_train.shape, y_test.shape, y_validate.shape"
   ]
  },
  {
   "cell_type": "markdown",
   "metadata": {},
   "source": [
    "---"
   ]
  },
  {
   "cell_type": "markdown",
   "metadata": {},
   "source": [
    "## Classifiers"
   ]
  },
  {
   "cell_type": "markdown",
   "metadata": {},
   "source": [
    "### Random Forest"
   ]
  },
  {
   "cell_type": "code",
   "execution_count": 95,
   "metadata": {},
   "outputs": [
    {
     "name": "stdout",
     "output_type": "stream",
     "text": [
      "Training time\n",
      "CPU times: user 49min 25s, sys: 6.66 s, total: 49min 31s\n",
      "Wall time: 13min 9s\n",
      "\n",
      "Predict time\n",
      "CPU times: user 23.9 s, sys: 244 ms, total: 24.1 s\n",
      "Wall time: 6.53 s\n",
      "\n",
      "ClassifyRF accuracy:---------->90.08 %\n"
     ]
    }
   ],
   "source": [
    "#Training and test\n",
    "from sklearn.ensemble import RandomForestClassifier\n",
    "rfc = RandomForestClassifier(n_estimators=100, n_jobs = 4)\n",
    "\n",
    "print 'Training time'\n",
    "%time rfc = rfc.fit(X_train_std, y_train)\n",
    "\n",
    "print''\n",
    "\n",
    "print 'Predict time'\n",
    "%time y_pred = rfc.predict(X_test_std)\n",
    "\n",
    "print''\n",
    "\n",
    "from sklearn.metrics import accuracy_score\n",
    "print ('ClassifyRF accuracy:---------->%.2f %%' % (accuracy_score(y_test, y_pred)*100))"
   ]
  },
  {
   "cell_type": "markdown",
   "metadata": {},
   "source": [
    "### Memória anterior\n",
    "Training time\n",
    "CPU times: user 4min 12s, sys: 1.13 s, total: 4min 13s\n",
    "Wall time: 1min 20s\n",
    "\n",
    "Predict time\n",
    "CPU times: user 3.82 s, sys: 188 ms, total: 4 s\n",
    "Wall time: 1.45 s\n",
    "\n",
    "ClassifyRF accuracy:---------->98.35 %\n"
   ]
  },
  {
   "cell_type": "markdown",
   "metadata": {},
   "source": [
    "#Salva a rede treinada para um arquivo\n",
    "joblib.dump(rfc, 'DB_INTENC/preproc/labeled/rfc_split2.pkl') "
   ]
  },
  {
   "cell_type": "markdown",
   "metadata": {
    "collapsed": true
   },
   "source": [
    "rfc = joblib.load('DB_INTENC/preproc/labeled/rfc.pkl')"
   ]
  },
  {
   "cell_type": "code",
   "execution_count": 96,
   "metadata": {},
   "outputs": [
    {
     "name": "stdout",
     "output_type": "stream",
     "text": [
      "Predict time\n",
      "CPU times: user 2.98 s, sys: 52 ms, total: 3.03 s\n",
      "Wall time: 1.17 s\n",
      "\n",
      "ClassifyRF accuracy:---------->50.14 %\n"
     ]
    }
   ],
   "source": [
    "#Validation\n",
    "print 'Predict time'\n",
    "%time y_pred = rfc.predict(X_validate)\n",
    "\n",
    "print''\n",
    "\n",
    "from sklearn.metrics import accuracy_score\n",
    "\n",
    "result = ('ClassifyRF accuracy:---------->%.2f %%' % (accuracy_score(y_pred, y_validate)*100))\n",
    "\n",
    "print result"
   ]
  },
  {
   "cell_type": "markdown",
   "metadata": {},
   "source": [
    "### Memória anterior\n",
    "Predict time\n",
    "CPU times: user 2.62 s, sys: 4 ms, total: 2.63 s\n",
    "Wall time: 849 ms\n",
    "\n",
    "ClassifyRF accuracy:---------->52.39 %\n",
    "\n",
    "\n",
    "Predict time\n",
    "CPU times: user 1.37 s, sys: 216 ms, total: 1.59 s\n",
    "Wall time: 591 ms\n",
    "\n",
    "ClassifyRF accuracy:---------->22.04 %\n"
   ]
  },
  {
   "cell_type": "code",
   "execution_count": 97,
   "metadata": {},
   "outputs": [
    {
     "name": "stdout",
     "output_type": "stream",
     "text": [
      "Predict time\n",
      "CPU times: user 8.6 s, sys: 36 ms, total: 8.64 s\n",
      "Wall time: 2.79 s\n",
      "\n",
      "ClassifyRF accuracy:---------->61.79 %\n"
     ]
    }
   ],
   "source": [
    "#Validation\n",
    "print 'Predict time'\n",
    "%time y_pred = rfc.predict(X_validate_std)\n",
    "\n",
    "print''\n",
    "\n",
    "from sklearn.metrics import accuracy_score\n",
    "\n",
    "result = ('ClassifyRF accuracy:---------->%.2f %%' % (accuracy_score(y_pred, y_validate)*100))\n",
    "\n",
    "print result"
   ]
  },
  {
   "cell_type": "markdown",
   "metadata": {},
   "source": [
    "### Memória anterior\n",
    "Predict time\n",
    "CPU times: user 9.48 s, sys: 12 ms, total: 9.49 s\n",
    "Wall time: 2.63 s\n",
    "\n",
    "ClassifyRF accuracy:---------->61.41 %\n",
    "\n",
    "Predict time\n",
    "CPU times: user 2.17 s, sys: 104 ms, total: 2.27 s\n",
    "Wall time: 810 ms\n",
    "\n",
    "ClassifyRF accuracy:---------->18.04 %"
   ]
  },
  {
   "cell_type": "markdown",
   "metadata": {},
   "source": [
    "---"
   ]
  },
  {
   "cell_type": "markdown",
   "metadata": {},
   "source": [
    "## Support Vector Machine"
   ]
  },
  {
   "cell_type": "code",
   "execution_count": 65,
   "metadata": {},
   "outputs": [
    {
     "name": "stdout",
     "output_type": "stream",
     "text": [
      "Processing time SVM\n",
      "CPU times: user 1h 45min 48s, sys: 2.05 s, total: 1h 45min 50s\n",
      "Wall time: 1h 45min 54s\n",
      "\n",
      "Predict time\n",
      "CPU times: user 11min 41s, sys: 48 ms, total: 11min 41s\n",
      "Wall time: 11min 42s\n",
      "SVM-RBF accuracy:---------->81.72 %\n"
     ]
    }
   ],
   "source": [
    "from sklearn import svm, datasets\n",
    "\n",
    "print 'Processing time SVM'\n",
    "%time svm = svm.SVC(kernel='rbf', gamma=0.2, C=6, decision_function_shape='ovr').fit(X_train_std, y_train)\n",
    "\n",
    "print ''\n",
    "\n",
    "from sklearn.metrics import accuracy_score\n",
    "\n",
    "print 'Predict time'  \n",
    "%time y_pred = svm.predict(X_test_std)\n",
    "from sklearn.metrics import accuracy_score\n",
    "print ('SVM-RBF accuracy:---------->%.2f %%' % (accuracy_score(y_test, y_pred)*100))"
   ]
  },
  {
   "cell_type": "code",
   "execution_count": 66,
   "metadata": {
    "scrolled": true
   },
   "outputs": [
    {
     "name": "stdout",
     "output_type": "stream",
     "text": [
      "Predict time\n",
      "CPU times: user 10min 56s, sys: 24 ms, total: 10min 56s\n",
      "Wall time: 10min 56s\n",
      "SVM-RBF accuracy:---------->6.63 %\n"
     ]
    }
   ],
   "source": [
    "print 'Predict time'  \n",
    "%time y_pred = svm.predict(X_validate_std)\n",
    "from sklearn.metrics import accuracy_score\n",
    "print ('SVM-RBF accuracy:---------->%.2f %%' % (accuracy_score(y_validate, y_pred)*100))"
   ]
  },
  {
   "cell_type": "markdown",
   "metadata": {
    "collapsed": true
   },
   "source": [
    "## TESTS"
   ]
  },
  {
   "cell_type": "code",
   "execution_count": 79,
   "metadata": {},
   "outputs": [
    {
     "name": "stdout",
     "output_type": "stream",
     "text": [
      "Processing time ADA\n",
      "CPU times: user 6min 55s, sys: 52 ms, total: 6min 55s\n",
      "Wall time: 6min 55s\n",
      "\n",
      "Predict time\n",
      "CPU times: user 15.4 s, sys: 12 ms, total: 15.5 s\n",
      "Wall time: 15.5 s\n",
      "ADA accuracy:---------->59.37 %\n"
     ]
    }
   ],
   "source": [
    "from sklearn.ensemble import AdaBoostClassifier\n",
    "print 'Processing time ADA'\n",
    "%time ada = AdaBoostClassifier(n_estimators=600,learning_rate=0.3).fit(X_train_std, y_train)\n",
    "\n",
    "print ''\n",
    "\n",
    "print 'Predict time'  \n",
    "%time y_pred = ada.predict(X_test_std)\n",
    "print ('ADA accuracy:---------->%.2f %%' % (accuracy_score(y_test, y_pred)*100))"
   ]
  },
  {
   "cell_type": "code",
   "execution_count": 80,
   "metadata": {},
   "outputs": [
    {
     "name": "stdout",
     "output_type": "stream",
     "text": [
      "Predict time\n",
      "CPU times: user 13.9 s, sys: 0 ns, total: 13.9 s\n",
      "Wall time: 13.9 s\n",
      "ADA accuracy:---------->6.72 %\n"
     ]
    }
   ],
   "source": [
    "print 'Predict time'  \n",
    "%time y_pred = ada.predict(X_validate_std)\n",
    "print ('ADA accuracy:---------->%.2f %%' % (accuracy_score(y_validate, y_pred)*100))"
   ]
  },
  {
   "cell_type": "markdown",
   "metadata": {},
   "source": [
    "## 2"
   ]
  },
  {
   "cell_type": "code",
   "execution_count": 73,
   "metadata": {},
   "outputs": [
    {
     "name": "stdout",
     "output_type": "stream",
     "text": [
      "Processing time ADA\n",
      "CPU times: user 13min 4s, sys: 288 ms, total: 13min 4s\n",
      "Wall time: 13min 5s\n",
      "\n",
      "Predict time\n",
      "CPU times: user 15 s, sys: 0 ns, total: 15 s\n",
      "Wall time: 15 s\n",
      "ADA accuracy:---------->39.56 %\n"
     ]
    }
   ],
   "source": [
    "from sklearn.tree import DecisionTreeClassifier\n",
    "print 'Processing time ADA'\n",
    "%time ada = AdaBoostClassifier(DecisionTreeClassifier(max_depth=2),n_estimators=600,learning_rate=1).fit(X_train_std, y_train)\n",
    "\n",
    "print ''\n",
    "\n",
    "print 'Predict time'  \n",
    "%time y_pred = ada.predict(X_test_std)\n",
    "print ('ADA accuracy:---------->%.2f %%' % (accuracy_score(y_test, y_pred)*100))"
   ]
  },
  {
   "cell_type": "code",
   "execution_count": 74,
   "metadata": {},
   "outputs": [
    {
     "name": "stdout",
     "output_type": "stream",
     "text": [
      "Predict time\n",
      "CPU times: user 14.3 s, sys: 0 ns, total: 14.3 s\n",
      "Wall time: 14.3 s\n",
      "ADA accuracy:---------->10.59 %\n"
     ]
    }
   ],
   "source": [
    "print 'Predict time'  \n",
    "%time y_pred = ada.predict(X_validate_std)\n",
    "print ('ADA accuracy:---------->%.2f %%' % (accuracy_score(y_validate, y_pred)*100))"
   ]
  },
  {
   "cell_type": "code",
   "execution_count": null,
   "metadata": {},
   "outputs": [],
   "source": []
  }
 ],
 "metadata": {
  "kernelspec": {
   "display_name": "Python 2",
   "language": "python",
   "name": "python2"
  },
  "language_info": {
   "codemirror_mode": {
    "name": "ipython",
    "version": 2
   },
   "file_extension": ".py",
   "mimetype": "text/x-python",
   "name": "python",
   "nbconvert_exporter": "python",
   "pygments_lexer": "ipython2",
   "version": "2.7.13"
  }
 },
 "nbformat": 4,
 "nbformat_minor": 2
}
