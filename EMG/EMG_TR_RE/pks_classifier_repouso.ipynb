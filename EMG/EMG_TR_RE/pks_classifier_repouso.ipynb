{
 "cells": [
  {
   "cell_type": "markdown",
   "metadata": {},
   "source": [
    "# Bibliotecas"
   ]
  },
  {
   "cell_type": "code",
   "execution_count": 260,
   "metadata": {},
   "outputs": [],
   "source": [
    "import os\n",
    "import pandas as pd\n",
    "import numpy as np\n",
    "import scipy as sp\n",
    "from scipy import signal\n",
    "import timeit\n",
    "from datetime import datetime\n",
    "from sklearn.externals import joblib\n",
    "import matplotlib.pyplot as plt\n",
    "from sklearn.decomposition import PCA\n",
    "from sklearn import preprocessing\n",
    "from sklearn import utils\n",
    "\n",
    "from ml_time_series import generate_envelope\n",
    "\n",
    "%matplotlib notebook"
   ]
  },
  {
   "cell_type": "code",
   "execution_count": 233,
   "metadata": {},
   "outputs": [],
   "source": [
    "def HStacker(files_,t):\n",
    "    \n",
    "    #Lê dados do arquivo e remove janela\n",
    "    Xc = np.load('DB_REPO/preproc/'+files_[3])\n",
    "    Xc = Xc[:-49] #Exclui do STD para igualar o Hshape\n",
    "    Xci = np.load('DB_REPO/preproc/'+files_[0])\n",
    "    Xci = Xci[:-49]\n",
    "    Xc = np.hstack((Xc.reshape(Xc.shape),Xci.reshape(Xci.shape)))\n",
    "    \n",
    "    #Aplica Hstack nos dados\n",
    "    for j in range(1,len(files_)-1):\n",
    "        Xci = np.load('DB_REPO/preproc/'+files_[j])\n",
    "        Xc = np.hstack((Xc.reshape(Xc.shape),Xci.reshape(Xci.shape)))\n",
    "          \n",
    "    \n",
    "    # Salving in file on the folder <DB_PKS/preproc/labeled>\n",
    "    np.save('./DB_REPO/stacked/'+t+'_hs', Xc, allow_pickle=False)\n",
    "    DATA_hs.append(t+'_hs.npy')"
   ]
  },
  {
   "cell_type": "code",
   "execution_count": 234,
   "metadata": {},
   "outputs": [],
   "source": [
    "def VStacker(files_,t):\n",
    "    \n",
    "    #Lê dados do arquivo e remove janela\n",
    "    Xc = np.load('DB_REPO/stacked/'+files_[0])\n",
    "    \n",
    "    #Aplica Hstack nos dados\n",
    "    for j in range(0,len(files_)-1):\n",
    "        Xci = np.load('DB_REPO/stacked/'+files_[j])\n",
    "        Xc = np.vstack((Xc,Xci)) \n",
    "          \n",
    "    \n",
    "    # Salving in file on the folder <DB_PKS/preproc/labeled>\n",
    "    np.save('./DB_REPO/stacked/'+t+'_vs', Xc, allow_pickle=False)\n",
    "    DATA_vs.append(t+'_vs.npy')"
   ]
  },
  {
   "cell_type": "code",
   "execution_count": 235,
   "metadata": {},
   "outputs": [],
   "source": [
    "def HStackerF(files_,t):\n",
    "    \n",
    "    #Lê dados do arquivo e remove janela\n",
    "    Xc = np.load('DB_REPO/stacked/'+files_[5])\n",
    "    Xc = Xc[:35853] #Exclui amostras para igualar tamanho e possibilitar o vstack\n",
    "    \n",
    "    #Aplica Hstack nos dados\n",
    "    for j in range(0,len(files_)-1):\n",
    "        Xci = np.load('DB_REPO/stacked/'+files_[j])\n",
    "        Xci = Xci[:35853] #Exclui amostras para igualar tamanho e possibilitar o vstack\n",
    "        Xc = np.hstack((Xc.reshape(Xc.shape),Xci.reshape(Xci.shape)))\n",
    "          \n",
    "    \n",
    "    # Salving in file on the folder <DB_PKS/preproc/labeled>\n",
    "    np.save('./DB_REPO/stacked/'+t+'_fs', Xc, allow_pickle=False)\n",
    "    DATA_fs.append(t+'_fs.npy')"
   ]
  },
  {
   "cell_type": "code",
   "execution_count": 236,
   "metadata": {},
   "outputs": [],
   "source": [
    "#Carregando arquivos\n",
    "import commands\n",
    "\n",
    "n_features = 4\n",
    "A = commands.getoutput('ls DB_REPO/preproc')\n",
    "files_ = A.split('\\n')\n",
    "DATA_hs = []\n",
    "\n",
    "for i in range(0,len(files_),n_features):\n",
    "    HStacker(files_[i:i+n_features],files_[i:i+n_features][0].split('-')[0]+str(i/n_features))\n",
    "    #print (files_[i:i+3],files_[0:3][0].split('-')[0]+str(i/3))"
   ]
  },
  {
   "cell_type": "code",
   "execution_count": 237,
   "metadata": {},
   "outputs": [
    {
     "data": {
      "text/plain": [
       "(['PK_Sergio Lamenza - Dia 17.11.25 as 16.59.00.edf_fft.npy',\n",
       "  'PK_Sergio Lamenza - Dia 17.11.25 as 16.59.00.edf_filt.npy',\n",
       "  'PK_Sergio Lamenza - Dia 17.11.25 as 16.59.00.edf_rms.npy',\n",
       "  'PK_Sergio Lamenza - Dia 17.11.25 as 16.59.00.edf_std.npy'],\n",
       " 'PK_Sergio Lamenza 83')"
      ]
     },
     "execution_count": 237,
     "metadata": {},
     "output_type": "execute_result"
    }
   ],
   "source": [
    "(files_[i:i+n_features],files_[i:i+n_features][0].split('-')[0]+str(i/n_features))"
   ]
  },
  {
   "cell_type": "code",
   "execution_count": 238,
   "metadata": {},
   "outputs": [
    {
     "data": {
      "text/plain": [
       "'PK_Sergio Lamenza 83'"
      ]
     },
     "execution_count": 238,
     "metadata": {},
     "output_type": "execute_result"
    }
   ],
   "source": [
    "files_[i:i+n_features][0].split('-')[0]+str(i/n_features)"
   ]
  },
  {
   "cell_type": "code",
   "execution_count": 239,
   "metadata": {},
   "outputs": [
    {
     "data": {
      "text/plain": [
       "'CT_Antonia Perpetuo Borges '"
      ]
     },
     "execution_count": 239,
     "metadata": {},
     "output_type": "execute_result"
    }
   ],
   "source": [
    "files_[0:][0].split('-')[0]"
   ]
  },
  {
   "cell_type": "code",
   "execution_count": 240,
   "metadata": {},
   "outputs": [
    {
     "data": {
      "text/plain": [
       "['CT_Antonia Perpetuo Borges - Dia 17.12.11 as 08.56.09.edf_fft.npy',\n",
       " 'CT_Antonia Perpetuo Borges - Dia 17.12.11 as 08.56.09.edf_filt.npy',\n",
       " 'CT_Antonia Perpetuo Borges - Dia 17.12.11 as 08.56.09.edf_rms.npy',\n",
       " 'CT_Antonia Perpetuo Borges - Dia 17.12.11 as 08.56.09.edf_std.npy']"
      ]
     },
     "execution_count": 240,
     "metadata": {},
     "output_type": "execute_result"
    }
   ],
   "source": [
    "files_[0:4]"
   ]
  },
  {
   "cell_type": "code",
   "execution_count": 242,
   "metadata": {
    "scrolled": true
   },
   "outputs": [
    {
     "name": "stdout",
     "output_type": "stream",
     "text": [
      "(12000, 11951, 11951, 12000)\n",
      "(12000, 11951, 11951, 12000)\n",
      "(12000, 11951, 11951, 12000)\n",
      "(12000, 11951, 11951, 12000)\n",
      "(12000, 11951, 11951, 12000)\n",
      "(12000, 11951, 11951, 12000)\n",
      "(12000, 11951, 11951, 12000)\n",
      "(12000, 11951, 11951, 12000)\n",
      "(12000, 11951, 11951, 12000)\n",
      "(12000, 11951, 11951, 12000)\n",
      "(12000, 11951, 11951, 12000)\n",
      "(12000, 11951, 11951, 12000)\n",
      "(12000, 11951, 11951, 12000)\n",
      "(12000, 11951, 11951, 12000)\n",
      "(12000, 11951, 11951, 12000)\n",
      "(12000, 11951, 11951, 12000)\n",
      "(12000, 11951, 11951, 12000)\n",
      "(12000, 11951, 11951, 12000)\n",
      "(12000, 11951, 11951, 12000)\n",
      "(12000, 11951, 11951, 12000)\n",
      "(12000, 11951, 11951, 12000)\n",
      "(14000, 13951, 13951, 14000)\n",
      "(12000, 11951, 11951, 12000)\n",
      "(12000, 11951, 11951, 12000)\n",
      "(12000, 11951, 11951, 12000)\n",
      "(12000, 11951, 11951, 12000)\n",
      "(12000, 11951, 11951, 12000)\n",
      "(12000, 11951, 11951, 12000)\n",
      "(12000, 11951, 11951, 12000)\n",
      "(12000, 11951, 11951, 12000)\n",
      "(22000, 21951, 21951, 22000)\n",
      "(14000, 13951, 13951, 14000)\n",
      "(12000, 11951, 11951, 12000)\n",
      "(12000, 11951, 11951, 12000)\n",
      "(22000, 21951, 21951, 22000)\n",
      "(12000, 11951, 11951, 12000)\n",
      "(12000, 11951, 11951, 12000)\n",
      "(12000, 11951, 11951, 12000)\n",
      "(12000, 11951, 11951, 12000)\n",
      "(12000, 11951, 11951, 12000)\n",
      "(12000, 11951, 11951, 12000)\n",
      "(12000, 11951, 11951, 12000)\n",
      "(12000, 11951, 11951, 12000)\n",
      "(12000, 11951, 11951, 12000)\n",
      "(12000, 11951, 11951, 12000)\n",
      "(12000, 11951, 11951, 12000)\n",
      "(12000, 11951, 11951, 12000)\n",
      "(12000, 11951, 11951, 12000)\n",
      "(14000, 13951, 13951, 14000)\n",
      "(12000, 11951, 11951, 12000)\n",
      "(12000, 11951, 11951, 12000)\n",
      "(12000, 11951, 11951, 12000)\n",
      "(12000, 11951, 11951, 12000)\n",
      "(14000, 13951, 13951, 14000)\n",
      "(12000, 11951, 11951, 12000)\n",
      "(12000, 11951, 11951, 12000)\n",
      "(12000, 11951, 11951, 12000)\n",
      "(12000, 11951, 11951, 12000)\n",
      "(12000, 11951, 11951, 12000)\n",
      "(12000, 11951, 11951, 12000)\n",
      "(12000, 11951, 11951, 12000)\n",
      "(12000, 11951, 11951, 12000)\n",
      "(12000, 11951, 11951, 12000)\n",
      "(14000, 13951, 13951, 14000)\n",
      "(12000, 11951, 11951, 12000)\n",
      "(14000, 13951, 13951, 14000)\n",
      "(12000, 11951, 11951, 12000)\n",
      "(12000, 11951, 11951, 12000)\n",
      "(12000, 11951, 11951, 12000)\n",
      "(14000, 13951, 13951, 14000)\n",
      "(12000, 11951, 11951, 12000)\n",
      "(12000, 11951, 11951, 12000)\n",
      "(12000, 11951, 11951, 12000)\n",
      "(12000, 11951, 11951, 12000)\n",
      "(12000, 11951, 11951, 12000)\n",
      "(12000, 11951, 11951, 12000)\n",
      "(12000, 11951, 11951, 12000)\n",
      "(12000, 11951, 11951, 12000)\n",
      "(12000, 11951, 11951, 12000)\n",
      "(12000, 11951, 11951, 12000)\n",
      "(14000, 13951, 13951, 14000)\n",
      "(12000, 11951, 11951, 12000)\n",
      "(12000, 11951, 11951, 12000)\n",
      "(12000, 11951, 11951, 12000)\n"
     ]
    }
   ],
   "source": [
    "for i in range(0,len(files_),4):\n",
    "    r = files_[i:i+4]\n",
    "    \n",
    "    print (((np.load('DB_REPO/preproc/'+r[0])).shape[0],(np.load('DB_REPO/preproc/'+r[1])).shape[0],\n",
    "            (np.load('DB_REPO/preproc/'+r[2])).shape[0],(np.load('DB_REPO/preproc/'+r[3])).shape[0]))"
   ]
  },
  {
   "cell_type": "code",
   "execution_count": 243,
   "metadata": {},
   "outputs": [
    {
     "name": "stdout",
     "output_type": "stream",
     "text": [
      "CT_Antonia Perpetuo Borges \n"
     ]
    }
   ],
   "source": [
    "import re \n",
    "\n",
    "print  (re.findall('\\d*\\D+',(DATA_hs[0:5][0]))[0])\n",
    "\n"
   ]
  },
  {
   "cell_type": "code",
   "execution_count": 244,
   "metadata": {
    "scrolled": true
   },
   "outputs": [
    {
     "data": {
      "text/plain": [
       "['CT_Antonia Perpetuo Borges 0_hs.npy',\n",
       " 'CT_Antonia Perpetuo Borges 1_hs.npy',\n",
       " 'CT_Antonia Perpetuo Borges 2_hs.npy',\n",
       " 'CT_Francisco das Chagas dos Santos 3_hs.npy',\n",
       " 'CT_Francisco das Chagas dos Santos 4_hs.npy',\n",
       " 'CT_Francisco das Chagas dos Santos 5_hs.npy',\n",
       " 'CT_Gelson Amantos de Souza  6_hs.npy',\n",
       " 'CT_Gelson Amantos de Souza  7_hs.npy',\n",
       " 'CT_Gelson Amantos de Souza  8_hs.npy',\n",
       " 'CT_Geraldo Dias de Oliveira 9_hs.npy',\n",
       " 'CT_Geraldo Dias de Oliveira 10_hs.npy',\n",
       " 'CT_Geraldo Dias de Oliveira 11_hs.npy',\n",
       " 'CT_Iraci Rodrigues Soares 12_hs.npy',\n",
       " 'CT_Iraci Rodrigues Soares 13_hs.npy',\n",
       " 'CT_Iraci Rodrigues Soares 14_hs.npy',\n",
       " 'CT_Joaquina de Sousa Freitas  15_hs.npy',\n",
       " 'CT_Joaquina de Sousa Freitas  16_hs.npy',\n",
       " 'CT_Joaquina de Sousa Freitas  17_hs.npy',\n",
       " 'CT_Jose Martins de Sousa  18_hs.npy',\n",
       " 'CT_Jose Martins de Sousa  19_hs.npy',\n",
       " 'CT_Jose Martins de Sousa  20_hs.npy',\n",
       " 'CT_Larcir Iria da Conceicao Santos 21_hs.npy',\n",
       " 'CT_Larcir Iria da Conceicao Santos 22_hs.npy',\n",
       " 'CT_Larcir Iria da Conceicao Santos 23_hs.npy',\n",
       " 'CT_Magda Aparecida Ferreira 24_hs.npy',\n",
       " 'CT_Magda Aparecida Ferreira 25_hs.npy',\n",
       " 'CT_Magda Aparecida Ferreira 26_hs.npy',\n",
       " 'CT_Manuel Saraiva da Rocha 27_hs.npy',\n",
       " 'CT_Manuel Saraiva da Rocha 28_hs.npy',\n",
       " 'CT_Manuel Saraiva da Rocha 29_hs.npy',\n",
       " 'CT_Maria das Gracas Vieira 30_hs.npy',\n",
       " 'CT_Maria das Gracas Vieira 31_hs.npy',\n",
       " 'CT_Maria das Gracas Vieira 32_hs.npy',\n",
       " 'CT_Maria Santana Estevam Moreira 33_hs.npy',\n",
       " 'CT_Maria Santana Estevam Moreira 34_hs.npy',\n",
       " 'CT_Maria Santana Estevam Moreira 35_hs.npy',\n",
       " 'CT_Maria Veira Borges 36_hs.npy',\n",
       " 'CT_Maria Veira Borges 37_hs.npy',\n",
       " 'CT_Maria Veira Borges 38_hs.npy',\n",
       " 'CT_Zenobia Barroso Feitosa 39_hs.npy',\n",
       " 'CT_Zenobia Barroso Feitosa 40_hs.npy',\n",
       " 'CT_Zenobia Barroso Feitosa 41_hs.npy',\n",
       " 'PK_Arthur Araujo Filho 42_hs.npy',\n",
       " 'PK_Arthur Araujo Filho 43_hs.npy',\n",
       " 'PK_Arthur Araujo Filho 44_hs.npy',\n",
       " 'PK_Boanerges Ramos Cunha 45_hs.npy',\n",
       " 'PK_Boanerges Ramos Cunha 46_hs.npy',\n",
       " 'PK_Boanerges Ramos Cunha 47_hs.npy',\n",
       " 'PK_Carmino Pereira da Silva 48_hs.npy',\n",
       " 'PK_Carmino Pereira da Silva 49_hs.npy',\n",
       " 'PK_Carmino Pereira da Silva 50_hs.npy',\n",
       " 'PK_Diniz Esmeraldo 51_hs.npy',\n",
       " 'PK_Diniz Esmeraldo 52_hs.npy',\n",
       " 'PK_Diniz Esmeraldo 53_hs.npy',\n",
       " 'PK_Donia Aires 54_hs.npy',\n",
       " 'PK_Donia Aires 55_hs.npy',\n",
       " 'PK_Donia Aires 56_hs.npy',\n",
       " 'PK_Fernando Francisco da Silva 57_hs.npy',\n",
       " 'PK_Fernando Francisco da Silva 58_hs.npy',\n",
       " 'PK_Fernando Francisco da Silva 59_hs.npy',\n",
       " 'PK_Gastao Goncalves da Silva 60_hs.npy',\n",
       " 'PK_Gastao Goncalves da Silva 61_hs.npy',\n",
       " 'PK_Gastao Goncalves da Silva 62_hs.npy',\n",
       " 'PK_Ismael Rodrigues do Carmo 63_hs.npy',\n",
       " 'PK_Ismael Rodrigues do Carmo 64_hs.npy',\n",
       " 'PK_Ismael Rodrigues do Carmo 65_hs.npy',\n",
       " 'PK_Ivanildes Barbosa 66_hs.npy',\n",
       " 'PK_Ivanildes Barbosa 67_hs.npy',\n",
       " 'PK_Ivanildes Barbosa 68_hs.npy',\n",
       " 'PK_Jose Fernandes Araujo 69_hs.npy',\n",
       " 'PK_Jose Fernandes Araujo 70_hs.npy',\n",
       " 'PK_Jose Fernandes Araujo 71_hs.npy',\n",
       " 'PK_Jose Francisto Fontineli  72_hs.npy',\n",
       " 'PK_Jose Francisto Fontineli  73_hs.npy',\n",
       " 'PK_Jose Francisto Fontineli  74_hs.npy',\n",
       " 'PK_Marcilio Pontinho de Rezende 75_hs.npy',\n",
       " 'PK_Marcilio Pontinho de Rezende 76_hs.npy',\n",
       " 'PK_Marcilio Pontinho de Rezende 77_hs.npy',\n",
       " 'PK_Osvaldir Borborema 78_hs.npy',\n",
       " 'PK_Osvaldir Borborema 79_hs.npy',\n",
       " 'PK_Osvaldir Borborema 80_hs.npy',\n",
       " 'PK_Sergio Lamenza 81_hs.npy',\n",
       " 'PK_Sergio Lamenza 82_hs.npy',\n",
       " 'PK_Sergio Lamenza 83_hs.npy']"
      ]
     },
     "execution_count": 244,
     "metadata": {},
     "output_type": "execute_result"
    }
   ],
   "source": [
    "DATA_hs"
   ]
  },
  {
   "cell_type": "code",
   "execution_count": 245,
   "metadata": {},
   "outputs": [],
   "source": [
    "Xc = np.load('DB_REPO/stacked/PK_Arthur Araujo Filho 42_hs.npy')"
   ]
  },
  {
   "cell_type": "code",
   "execution_count": 246,
   "metadata": {
    "scrolled": false
   },
   "outputs": [
    {
     "data": {
      "text/html": [
       "<div>\n",
       "<style>\n",
       "    .dataframe thead tr:only-child th {\n",
       "        text-align: right;\n",
       "    }\n",
       "\n",
       "    .dataframe thead th {\n",
       "        text-align: left;\n",
       "    }\n",
       "\n",
       "    .dataframe tbody tr th {\n",
       "        vertical-align: top;\n",
       "    }\n",
       "</style>\n",
       "<table border=\"1\" class=\"dataframe\">\n",
       "  <thead>\n",
       "    <tr style=\"text-align: right;\">\n",
       "      <th></th>\n",
       "      <th>0</th>\n",
       "      <th>1</th>\n",
       "      <th>2</th>\n",
       "      <th>3</th>\n",
       "      <th>4</th>\n",
       "      <th>5</th>\n",
       "      <th>6</th>\n",
       "      <th>7</th>\n",
       "      <th>8</th>\n",
       "      <th>9</th>\n",
       "      <th>10</th>\n",
       "      <th>11</th>\n",
       "      <th>12</th>\n",
       "      <th>13</th>\n",
       "      <th>14</th>\n",
       "      <th>15</th>\n",
       "    </tr>\n",
       "  </thead>\n",
       "  <tbody>\n",
       "    <tr>\n",
       "      <th>0</th>\n",
       "      <td>0.022327</td>\n",
       "      <td>-0.001221</td>\n",
       "      <td>0.186603</td>\n",
       "      <td>0.017612</td>\n",
       "      <td>175.605680</td>\n",
       "      <td>10.642500</td>\n",
       "      <td>591.227547</td>\n",
       "      <td>50.701473</td>\n",
       "      <td>0.000375</td>\n",
       "      <td>0.000054</td>\n",
       "      <td>-0.002637</td>\n",
       "      <td>0.000031</td>\n",
       "      <td>0.024166</td>\n",
       "      <td>0.004446</td>\n",
       "      <td>0.228747</td>\n",
       "      <td>0.011801</td>\n",
       "    </tr>\n",
       "    <tr>\n",
       "      <th>1</th>\n",
       "      <td>0.019318</td>\n",
       "      <td>-0.001221</td>\n",
       "      <td>0.186603</td>\n",
       "      <td>0.015084</td>\n",
       "      <td>75.150074</td>\n",
       "      <td>4.178106</td>\n",
       "      <td>409.107829</td>\n",
       "      <td>23.394437</td>\n",
       "      <td>0.000290</td>\n",
       "      <td>0.000073</td>\n",
       "      <td>-0.001959</td>\n",
       "      <td>-0.000076</td>\n",
       "      <td>0.024076</td>\n",
       "      <td>0.004444</td>\n",
       "      <td>0.229715</td>\n",
       "      <td>0.011622</td>\n",
       "    </tr>\n",
       "    <tr>\n",
       "      <th>2</th>\n",
       "      <td>0.025335</td>\n",
       "      <td>0.000705</td>\n",
       "      <td>0.173561</td>\n",
       "      <td>0.024354</td>\n",
       "      <td>120.955158</td>\n",
       "      <td>1.798792</td>\n",
       "      <td>822.637772</td>\n",
       "      <td>21.162750</td>\n",
       "      <td>0.000312</td>\n",
       "      <td>0.000108</td>\n",
       "      <td>-0.001131</td>\n",
       "      <td>-0.000242</td>\n",
       "      <td>0.023946</td>\n",
       "      <td>0.004452</td>\n",
       "      <td>0.230168</td>\n",
       "      <td>0.011512</td>\n",
       "    </tr>\n",
       "    <tr>\n",
       "      <th>3</th>\n",
       "      <td>0.016310</td>\n",
       "      <td>-0.000258</td>\n",
       "      <td>0.173561</td>\n",
       "      <td>0.013398</td>\n",
       "      <td>76.398090</td>\n",
       "      <td>2.421141</td>\n",
       "      <td>242.650976</td>\n",
       "      <td>33.787073</td>\n",
       "      <td>0.000597</td>\n",
       "      <td>0.000165</td>\n",
       "      <td>-0.000066</td>\n",
       "      <td>-0.000442</td>\n",
       "      <td>0.023946</td>\n",
       "      <td>0.004480</td>\n",
       "      <td>0.231609</td>\n",
       "      <td>0.011092</td>\n",
       "    </tr>\n",
       "    <tr>\n",
       "      <th>4</th>\n",
       "      <td>0.022327</td>\n",
       "      <td>0.000224</td>\n",
       "      <td>0.199644</td>\n",
       "      <td>0.015926</td>\n",
       "      <td>46.518462</td>\n",
       "      <td>1.619408</td>\n",
       "      <td>259.992532</td>\n",
       "      <td>20.320969</td>\n",
       "      <td>0.001167</td>\n",
       "      <td>0.000239</td>\n",
       "      <td>0.001152</td>\n",
       "      <td>-0.000584</td>\n",
       "      <td>0.024612</td>\n",
       "      <td>0.004537</td>\n",
       "      <td>0.232767</td>\n",
       "      <td>0.011054</td>\n",
       "    </tr>\n",
       "  </tbody>\n",
       "</table>\n",
       "</div>"
      ],
      "text/plain": [
       "         0         1         2         3           4          5           6   \\\n",
       "0  0.022327 -0.001221  0.186603  0.017612  175.605680  10.642500  591.227547   \n",
       "1  0.019318 -0.001221  0.186603  0.015084   75.150074   4.178106  409.107829   \n",
       "2  0.025335  0.000705  0.173561  0.024354  120.955158   1.798792  822.637772   \n",
       "3  0.016310 -0.000258  0.173561  0.013398   76.398090   2.421141  242.650976   \n",
       "4  0.022327  0.000224  0.199644  0.015926   46.518462   1.619408  259.992532   \n",
       "\n",
       "          7         8         9         10        11        12        13  \\\n",
       "0  50.701473  0.000375  0.000054 -0.002637  0.000031  0.024166  0.004446   \n",
       "1  23.394437  0.000290  0.000073 -0.001959 -0.000076  0.024076  0.004444   \n",
       "2  21.162750  0.000312  0.000108 -0.001131 -0.000242  0.023946  0.004452   \n",
       "3  33.787073  0.000597  0.000165 -0.000066 -0.000442  0.023946  0.004480   \n",
       "4  20.320969  0.001167  0.000239  0.001152 -0.000584  0.024612  0.004537   \n",
       "\n",
       "         14        15  \n",
       "0  0.228747  0.011801  \n",
       "1  0.229715  0.011622  \n",
       "2  0.230168  0.011512  \n",
       "3  0.231609  0.011092  \n",
       "4  0.232767  0.011054  "
      ]
     },
     "execution_count": 246,
     "metadata": {},
     "output_type": "execute_result"
    }
   ],
   "source": [
    "dfn = pd.DataFrame(data=Xc)\n",
    "dfn.head()"
   ]
  },
  {
   "cell_type": "code",
   "execution_count": 247,
   "metadata": {},
   "outputs": [
    {
     "data": {
      "text/plain": [
       "(11951, 16)"
      ]
     },
     "execution_count": 247,
     "metadata": {},
     "output_type": "execute_result"
    }
   ],
   "source": [
    "Xc.shape"
   ]
  },
  {
   "cell_type": "code",
   "execution_count": 248,
   "metadata": {},
   "outputs": [
    {
     "data": {
      "text/plain": [
       "84"
      ]
     },
     "execution_count": 248,
     "metadata": {},
     "output_type": "execute_result"
    }
   ],
   "source": [
    "len(DATA_hs)"
   ]
  },
  {
   "cell_type": "code",
   "execution_count": 249,
   "metadata": {},
   "outputs": [],
   "source": [
    "#Carregando arquivos\n",
    "DATA_vs = []\n",
    "\n",
    "for i in range(0,len(DATA_hs),3):\n",
    "    VStacker(DATA_hs[i:i+3],(re.findall('\\d*\\D+',DATA_hs[i:i+3][0])[0]+str(i/3)))"
   ]
  },
  {
   "cell_type": "code",
   "execution_count": 250,
   "metadata": {},
   "outputs": [
    {
     "data": {
      "text/plain": [
       "28"
      ]
     },
     "execution_count": 250,
     "metadata": {},
     "output_type": "execute_result"
    }
   ],
   "source": [
    "len(DATA_vs)"
   ]
  },
  {
   "cell_type": "code",
   "execution_count": 251,
   "metadata": {},
   "outputs": [
    {
     "data": {
      "text/plain": [
       "(11951, 16)"
      ]
     },
     "execution_count": 251,
     "metadata": {},
     "output_type": "execute_result"
    }
   ],
   "source": [
    "Xc = np.load('DB_REPO/stacked/PK_Arthur Araujo Filho 42_hs.npy')\n",
    "dfn = pd.DataFrame(data=Xc)\n",
    "#dfn.head()\n",
    "\n",
    "Xc[:35853].shape"
   ]
  },
  {
   "cell_type": "markdown",
   "metadata": {},
   "source": [
    "for i in range(0,len(DATA_vs),1):\n",
    "    print min(np.load('DB_REPO/stacked/'+DATA_vs[i:i+1][0]).shape[0],np.load('DB_REPO/stacked/'+DATA_vs[i:i+1][1]).shape[0],\n",
    "              np.load('DB_REPO/stacked/'+DATA_vs[i:i+1][2]).shape[0],np.load('DB_REPO/stacked/'+DATA_vs[i:i+1][3]).shape[0],\n",
    "              np.load('DB_REPO/stacked/'+DATA_vs[i:i+1][4]).shape[0], np.load('DB_REPO/stacked/'+DATA_vs[i:i+1][5]).shape[0])"
   ]
  },
  {
   "cell_type": "markdown",
   "metadata": {},
   "source": [
    "i= 6\n",
    "print min(np.load('DB_REPO/stacked/'+DATA_vs[i:i+6][0]).shape[0],np.load('DB_REPO/stacked/'+DATA_vs[i:i+6][1]).shape[0],\n",
    "           np.load('DB_REPO/stacked/'+DATA_vs[i:i+6][2]).shape[0],np.load('DB_REPO/stacked/'+DATA_vs[i:i+6][3]).shape[0],\n",
    "           np.load('DB_REPO/stacked/'+DATA_vs[i:i+6][4]).shape[0], np.load('DB_REPO/stacked/'+DATA_vs[i:i+6][5]).shape[0])"
   ]
  },
  {
   "cell_type": "code",
   "execution_count": 252,
   "metadata": {
    "scrolled": true
   },
   "outputs": [
    {
     "data": {
      "text/plain": [
       "['CT_Antonia Perpetuo Borges 0_vs.npy',\n",
       " 'CT_Francisco das Chagas dos Santos 1_vs.npy',\n",
       " 'CT_Gelson Amantos de Souza  2_vs.npy',\n",
       " 'CT_Geraldo Dias de Oliveira 3_vs.npy',\n",
       " 'CT_Iraci Rodrigues Soares 4_vs.npy',\n",
       " 'CT_Joaquina de Sousa Freitas  5_vs.npy',\n",
       " 'CT_Jose Martins de Sousa  6_vs.npy',\n",
       " 'CT_Larcir Iria da Conceicao Santos 7_vs.npy',\n",
       " 'CT_Magda Aparecida Ferreira 8_vs.npy',\n",
       " 'CT_Manuel Saraiva da Rocha 9_vs.npy',\n",
       " 'CT_Maria das Gracas Vieira 10_vs.npy',\n",
       " 'CT_Maria Santana Estevam Moreira 11_vs.npy',\n",
       " 'CT_Maria Veira Borges 12_vs.npy',\n",
       " 'CT_Zenobia Barroso Feitosa 13_vs.npy',\n",
       " 'PK_Arthur Araujo Filho 14_vs.npy',\n",
       " 'PK_Boanerges Ramos Cunha 15_vs.npy',\n",
       " 'PK_Carmino Pereira da Silva 16_vs.npy',\n",
       " 'PK_Diniz Esmeraldo 17_vs.npy',\n",
       " 'PK_Donia Aires 18_vs.npy',\n",
       " 'PK_Fernando Francisco da Silva 19_vs.npy',\n",
       " 'PK_Gastao Goncalves da Silva 20_vs.npy',\n",
       " 'PK_Ismael Rodrigues do Carmo 21_vs.npy',\n",
       " 'PK_Ivanildes Barbosa 22_vs.npy',\n",
       " 'PK_Jose Fernandes Araujo 23_vs.npy',\n",
       " 'PK_Jose Francisto Fontineli  24_vs.npy',\n",
       " 'PK_Marcilio Pontinho de Rezende 25_vs.npy',\n",
       " 'PK_Osvaldir Borborema 26_vs.npy',\n",
       " 'PK_Sergio Lamenza 27_vs.npy']"
      ]
     },
     "execution_count": 252,
     "metadata": {},
     "output_type": "execute_result"
    }
   ],
   "source": [
    "DATA_vs"
   ]
  },
  {
   "cell_type": "markdown",
   "metadata": {},
   "source": [
    "DATA_vs[78:78+6]"
   ]
  },
  {
   "cell_type": "markdown",
   "metadata": {
    "collapsed": true,
    "scrolled": false
   },
   "source": [
    "DATA_fs = []\n",
    "\n",
    "for i in range(0,len(DATA_vs),6):\n",
    "    HStackerF(DATA_vs[i:i+6],(re.findall('\\d*\\D+',DATA_vs[i:i+6][0])[0]+str(i/6)))"
   ]
  },
  {
   "cell_type": "markdown",
   "metadata": {
    "scrolled": true
   },
   "source": [
    "DATA_fs"
   ]
  },
  {
   "cell_type": "code",
   "execution_count": 272,
   "metadata": {},
   "outputs": [],
   "source": [
    "def proccess_data(x,DATA,LABEL,NUM_SAMPLES = 50):\n",
    "    \n",
    "    Xc = np.load(\"DB_REPO/stacked/\"+x)\n",
    "    print '\\nXc initial shape ', Xc.shape\n",
    "    \n",
    "    #Principal component analysis\n",
    "    #pca = PCA(n_components=3)\n",
    "    #pca.fit(Xc)\n",
    "    #Xc = pca.transform(Xc)\n",
    "    #print pca.explained_variance_ratio_\n",
    "    #print ('Entropia: %3f' % (sum(pca.explained_variance_ratio_)))\n",
    "    #print '\\nXc PCA shape ', Xc.shape\n",
    "    \n",
    "    #Create temporal serie\n",
    "    Xc = generate_envelope(Xc, NUM_SAMPLES)\n",
    "    print 'Xc temporal-serie shape ', Xc.shape\n",
    "    \n",
    "    #Labeling the PKS level    \n",
    "    C = (np.ones(len(Xc))*LABEL).reshape((len(Xc),1))\n",
    "    Xc = np.hstack((Xc.reshape(Xc.shape),C.reshape((len(Xc),1)))) \n",
    "    print 'Xc labeled shape ', Xc.shape\n",
    "    \n",
    "    # Salving in file on the folder <DB_PKS/preproc/labeled>\n",
    "    #np.save('./DB_REPO/labeled/'+x[:2]+'_tsl', Xc, allow_pickle=False)\n",
    "    np.save('./DB_REPO/labeled/'+x[:-4]+'_'+str(y), Xc, allow_pickle=False)\n",
    "    #print ''+x[:2]+'_tsl'\n",
    "    print x[:-4]+'_'+str(y)\n",
    "    #DATA.append(x[:2]+'_tsl.npy')\n",
    "    DATA.append(x[:-4]+'_'+str(y))"
   ]
  },
  {
   "cell_type": "markdown",
   "metadata": {},
   "source": [
    "---"
   ]
  },
  {
   "cell_type": "markdown",
   "metadata": {},
   "source": [
    "#Validação\n",
    "start = timeit.default_timer()\n",
    "\n",
    "NUM_SAMPLES = 500\n",
    "l = [1]\n",
    "DATA = []\n",
    "\n",
    "for x, y in zip(DATA_hs, l):\n",
    "    proccess_data(x,DATA,NUM_SAMPLES,y)\n",
    "    \n",
    "stop = timeit.default_timer()\n",
    "ti = stop - start \n",
    "print ('Tempo total para o envelopamento: %.2f min' % (ti/60))"
   ]
  },
  {
   "cell_type": "markdown",
   "metadata": {},
   "source": [
    "DATA"
   ]
  },
  {
   "cell_type": "markdown",
   "metadata": {},
   "source": [
    "Xc = np.load('DB_INTENC/preproc/labeled/p4_hs.npy_tsl.npy')\n",
    "dfn = pd.DataFrame(data=Xc)\n",
    "dfn.head()"
   ]
  },
  {
   "cell_type": "markdown",
   "metadata": {},
   "source": [
    "---"
   ]
  },
  {
   "cell_type": "code",
   "execution_count": 273,
   "metadata": {
    "scrolled": true
   },
   "outputs": [
    {
     "name": "stdout",
     "output_type": "stream",
     "text": [
      "CT_Antonia Perpetuo Borges 0_vs_0\n",
      "CT_Francisco das Chagas dos Santos 1_vs_0\n",
      "CT_Gelson Amantos de Souza  2_vs_0\n",
      "CT_Geraldo Dias de Oliveira 3_vs_0\n",
      "CT_Iraci Rodrigues Soares 4_vs_0\n",
      "CT_Joaquina de Sousa Freitas  5_vs_0\n",
      "CT_Jose Martins de Sousa  6_vs_0\n",
      "CT_Larcir Iria da Conceicao Santos 7_vs_0\n",
      "CT_Magda Aparecida Ferreira 8_vs_0\n",
      "CT_Manuel Saraiva da Rocha 9_vs_0\n",
      "CT_Maria das Gracas Vieira 10_vs_0\n",
      "CT_Maria Santana Estevam Moreira 11_vs_0\n",
      "CT_Maria Veira Borges 12_vs_0\n",
      "CT_Zenobia Barroso Feitosa 13_vs_0\n",
      "PK_Arthur Araujo Filho 14_vs_1\n",
      "PK_Boanerges Ramos Cunha 15_vs_1\n",
      "PK_Carmino Pereira da Silva 16_vs_1\n",
      "PK_Diniz Esmeraldo 17_vs_1\n",
      "PK_Donia Aires 18_vs_1\n",
      "PK_Fernando Francisco da Silva 19_vs_1\n",
      "PK_Gastao Goncalves da Silva 20_vs_1\n",
      "PK_Ismael Rodrigues do Carmo 21_vs_1\n",
      "PK_Ivanildes Barbosa 22_vs_1\n",
      "PK_Jose Fernandes Araujo 23_vs_1\n",
      "PK_Jose Francisto Fontineli  24_vs_1\n",
      "PK_Marcilio Pontinho de Rezende 25_vs_1\n",
      "PK_Osvaldir Borborema 26_vs_1\n",
      "PK_Sergio Lamenza 27_vs_1\n"
     ]
    }
   ],
   "source": [
    "#X = 'F'\n",
    "#Y = 'F'\n",
    "#Z = 'F'\n",
    "#l = [1, 1, 1, 1, 1, 1, 2, 2, 2, 2, 2, 2, 15, 15, 15, 15, 15, 15, 15, 15, 15, 15, 15, 15, 2, 2, 2, 2, 2, 2, 1, 1, 1, 1, 1, 1,\n",
    "# X, X, X, X, X, X, 15, 15, 15, 15, 15, 15, Y, Y, Y, Y, Y, Y, 15, 15, 15, 15, 15, 15, 1, 1, 1, 1, 1, 1, 1, 1, 1, 1, 1, 1,\n",
    "# 3, 3, 3, 3, 3, 3, Z, Z, Z, Z, Z, Z, 1, 1, 1, 1, 1, 1, 4, 4, 4, 4, 4, 4, 1, 1, 1, 1, 1, 1]\n",
    "\n",
    "#l = [1, 2, 15, 15, 2, 1, 15, 15, 1, 1, 3, 1, 4, 1]\n",
    "l = [0,0,0,0,0,0,0,0,0,0,0,0,0,0,1,1,1,1,1,1,1,1,1,1,1,1,1,1]\n",
    "#l = [2, 15, 4, 1, 0, 0, 15]\n",
    "for x, y in zip(DATA_vs, l):\n",
    "    print (x[:-4]+'_'+str(y))"
   ]
  },
  {
   "cell_type": "code",
   "execution_count": 274,
   "metadata": {},
   "outputs": [
    {
     "name": "stdout",
     "output_type": "stream",
     "text": [
      "CT_Antonia Perpetuo Borges 0_vs_0\n"
     ]
    }
   ],
   "source": [
    "for x, y in zip(DATA_vs[0:1], l[0:1]):\n",
    "    print (x[:-4]+'_'+str(y))"
   ]
  },
  {
   "cell_type": "code",
   "execution_count": 275,
   "metadata": {},
   "outputs": [
    {
     "name": "stdout",
     "output_type": "stream",
     "text": [
      "\n",
      "Xc initial shape  (35853, 16)\n",
      "Xc temporal-serie shape  (35804, 800)\n",
      "Xc labeled shape  (35804, 801)\n",
      "CT_Antonia Perpetuo Borges 0_vs_0\n",
      "Tempo total para o envelopamento: 25.67 min\n"
     ]
    }
   ],
   "source": [
    "start = timeit.default_timer()\n",
    "\n",
    "DATA = []\n",
    "\n",
    "for x, y in zip(DATA_vs[0:1], l[0:1]):\n",
    "    proccess_data(x,DATA,y)\n",
    "    \n",
    "stop = timeit.default_timer()\n",
    "ti = stop - start \n",
    "print ('Tempo total para o envelopamento: %.2f min' % (ti/60))"
   ]
  },
  {
   "cell_type": "code",
   "execution_count": 265,
   "metadata": {
    "scrolled": true
   },
   "outputs": [
    {
     "name": "stdout",
     "output_type": "stream",
     "text": [
      "\n",
      "Xc initial shape  (35853, 16)\n",
      "Xc temporal-serie shape  (35354, 8000)\n",
      "Xc labeled shape  (35354, 8001)\n",
      "CT_Antonia Perpetuo Borges 0_vs_0\n",
      "\n",
      "Xc initial shape  (35853, 16)\n"
     ]
    },
    {
     "ename": "KeyboardInterrupt",
     "evalue": "",
     "output_type": "error",
     "traceback": [
      "\u001b[0;31m---------------------------------------------------------------------------\u001b[0m",
      "\u001b[0;31mKeyboardInterrupt\u001b[0m                         Traceback (most recent call last)",
      "\u001b[0;32m<ipython-input-265-f80a611b5cbb>\u001b[0m in \u001b[0;36m<module>\u001b[0;34m()\u001b[0m\n\u001b[1;32m      7\u001b[0m \u001b[0;34m\u001b[0m\u001b[0m\n\u001b[1;32m      8\u001b[0m \u001b[0;32mfor\u001b[0m \u001b[0mx\u001b[0m\u001b[0;34m,\u001b[0m \u001b[0my\u001b[0m \u001b[0;32min\u001b[0m \u001b[0mzip\u001b[0m\u001b[0;34m(\u001b[0m\u001b[0mDATA_vs\u001b[0m\u001b[0;34m,\u001b[0m \u001b[0ml\u001b[0m\u001b[0;34m)\u001b[0m\u001b[0;34m:\u001b[0m\u001b[0;34m\u001b[0m\u001b[0m\n\u001b[0;32m----> 9\u001b[0;31m     \u001b[0mproccess_data\u001b[0m\u001b[0;34m(\u001b[0m\u001b[0mx\u001b[0m\u001b[0;34m,\u001b[0m\u001b[0mDATA\u001b[0m\u001b[0;34m,\u001b[0m\u001b[0my\u001b[0m\u001b[0;34m)\u001b[0m\u001b[0;34m\u001b[0m\u001b[0m\n\u001b[0m\u001b[1;32m     10\u001b[0m \u001b[0;34m\u001b[0m\u001b[0m\n\u001b[1;32m     11\u001b[0m \u001b[0mstop\u001b[0m \u001b[0;34m=\u001b[0m \u001b[0mtimeit\u001b[0m\u001b[0;34m.\u001b[0m\u001b[0mdefault_timer\u001b[0m\u001b[0;34m(\u001b[0m\u001b[0;34m)\u001b[0m\u001b[0;34m\u001b[0m\u001b[0m\n",
      "\u001b[0;32m<ipython-input-264-d8226668cd7b>\u001b[0m in \u001b[0;36mproccess_data\u001b[0;34m(x, DATA, LABEL, NUM_SAMPLES)\u001b[0m\n\u001b[1;32m     13\u001b[0m \u001b[0;34m\u001b[0m\u001b[0m\n\u001b[1;32m     14\u001b[0m     \u001b[0;31m#Create temporal serie\u001b[0m\u001b[0;34m\u001b[0m\u001b[0;34m\u001b[0m\u001b[0m\n\u001b[0;32m---> 15\u001b[0;31m     \u001b[0mXc\u001b[0m \u001b[0;34m=\u001b[0m \u001b[0mgenerate_envelope\u001b[0m\u001b[0;34m(\u001b[0m\u001b[0mXc\u001b[0m\u001b[0;34m,\u001b[0m \u001b[0mNUM_SAMPLES\u001b[0m\u001b[0;34m)\u001b[0m\u001b[0;34m\u001b[0m\u001b[0m\n\u001b[0m\u001b[1;32m     16\u001b[0m     \u001b[0;32mprint\u001b[0m \u001b[0;34m'Xc temporal-serie shape '\u001b[0m\u001b[0;34m,\u001b[0m \u001b[0mXc\u001b[0m\u001b[0;34m.\u001b[0m\u001b[0mshape\u001b[0m\u001b[0;34m\u001b[0m\u001b[0m\n\u001b[1;32m     17\u001b[0m \u001b[0;34m\u001b[0m\u001b[0m\n",
      "\u001b[0;32m/home/collumbus/Documentos/ohpera/EMG/EMG_TR_RE/ml_time_series.py\u001b[0m in \u001b[0;36mgenerate_envelope\u001b[0;34m(original_data, num_samples)\u001b[0m\n\u001b[1;32m     16\u001b[0m                     \u001b[0mnew_Xc\u001b[0m \u001b[0;34m=\u001b[0m \u001b[0mx\u001b[0m\u001b[0;34m\u001b[0m\u001b[0m\n\u001b[1;32m     17\u001b[0m                 \u001b[0;32melse\u001b[0m\u001b[0;34m:\u001b[0m\u001b[0;34m\u001b[0m\u001b[0m\n\u001b[0;32m---> 18\u001b[0;31m                     \u001b[0mnew_Xc\u001b[0m \u001b[0;34m=\u001b[0m \u001b[0mnp\u001b[0m\u001b[0;34m.\u001b[0m\u001b[0mvstack\u001b[0m\u001b[0;34m(\u001b[0m\u001b[0;34m(\u001b[0m\u001b[0mnew_Xc\u001b[0m\u001b[0;34m,\u001b[0m \u001b[0mx\u001b[0m\u001b[0;34m)\u001b[0m\u001b[0;34m)\u001b[0m\u001b[0;34m\u001b[0m\u001b[0m\n\u001b[0m\u001b[1;32m     19\u001b[0m     \u001b[0;32melse\u001b[0m\u001b[0;34m:\u001b[0m\u001b[0;34m\u001b[0m\u001b[0m\n\u001b[1;32m     20\u001b[0m         \u001b[0;32mprint\u001b[0m \u001b[0;34m'num_samples must be lower than original_data.'\u001b[0m\u001b[0;34m\u001b[0m\u001b[0m\n",
      "\u001b[0;32m/home/collumbus/anaconda2/envs/main/lib/python2.7/site-packages/numpy/core/shape_base.pyc\u001b[0m in \u001b[0;36mvstack\u001b[0;34m(tup)\u001b[0m\n\u001b[1;32m    232\u001b[0m \u001b[0;34m\u001b[0m\u001b[0m\n\u001b[1;32m    233\u001b[0m     \"\"\"\n\u001b[0;32m--> 234\u001b[0;31m     \u001b[0;32mreturn\u001b[0m \u001b[0m_nx\u001b[0m\u001b[0;34m.\u001b[0m\u001b[0mconcatenate\u001b[0m\u001b[0;34m(\u001b[0m\u001b[0;34m[\u001b[0m\u001b[0matleast_2d\u001b[0m\u001b[0;34m(\u001b[0m\u001b[0m_m\u001b[0m\u001b[0;34m)\u001b[0m \u001b[0;32mfor\u001b[0m \u001b[0m_m\u001b[0m \u001b[0;32min\u001b[0m \u001b[0mtup\u001b[0m\u001b[0;34m]\u001b[0m\u001b[0;34m,\u001b[0m \u001b[0;36m0\u001b[0m\u001b[0;34m)\u001b[0m\u001b[0;34m\u001b[0m\u001b[0m\n\u001b[0m\u001b[1;32m    235\u001b[0m \u001b[0;34m\u001b[0m\u001b[0m\n\u001b[1;32m    236\u001b[0m \u001b[0;32mdef\u001b[0m \u001b[0mhstack\u001b[0m\u001b[0;34m(\u001b[0m\u001b[0mtup\u001b[0m\u001b[0;34m)\u001b[0m\u001b[0;34m:\u001b[0m\u001b[0;34m\u001b[0m\u001b[0m\n",
      "\u001b[0;31mKeyboardInterrupt\u001b[0m: "
     ]
    }
   ],
   "source": [
    "#Envelope size.\n",
    "\n",
    "#Grupo total\n",
    "start = timeit.default_timer()\n",
    "\n",
    "DATA = []\n",
    "\n",
    "for x, y in zip(DATA_vs, l):\n",
    "    proccess_data(x,DATA,y)\n",
    "    \n",
    "stop = timeit.default_timer()\n",
    "ti = stop - start \n",
    "print ('Tempo total para o envelopamento: %.2f min' % (ti/60))"
   ]
  },
  {
   "cell_type": "markdown",
   "metadata": {},
   "source": [
    "#Não foram incluidas as amostras p4 e c3, serão utilizadas para validação!"
   ]
  },
  {
   "cell_type": "code",
   "execution_count": 196,
   "metadata": {},
   "outputs": [
    {
     "data": {
      "text/plain": [
       "['CT_Gelson Amantos de Souza  2_vs_0',\n",
       " 'CT_Geraldo Dias de Oliveira 3_vs_0',\n",
       " 'CT_Iraci Rodrigues Soares 4_vs_0',\n",
       " 'CT_Joaquina de Sousa Freitas  5_vs_0',\n",
       " 'CT_Jose Martins de Sousa  6_vs_0',\n",
       " 'CT_Larcir Iria da Conceicao Santos 7_vs_0',\n",
       " 'CT_Magda Aparecida Ferreira 8_vs_0',\n",
       " 'CT_Manuel Saraiva da Rocha 9_vs_0',\n",
       " 'CT_Maria das Gracas Vieira 10_vs_0',\n",
       " 'CT_Maria Santana Estevam Moreira 11_vs_0',\n",
       " 'CT_Maria Veira Borges 12_vs_0',\n",
       " 'CT_Zenobia Barroso Feitosa 13_vs_0',\n",
       " 'PK_Arthur Araujo Filho 14_vs_1',\n",
       " 'PK_Boanerges Ramos Cunha 15_vs_1',\n",
       " 'PK_Carmino Pereira da Silva 16_vs_1',\n",
       " 'PK_Diniz Esmeraldo 17_vs_1',\n",
       " 'PK_Donia Aires 18_vs_1',\n",
       " 'PK_Fernando Francisco da Silva 19_vs_1',\n",
       " 'PK_Gastao Goncalves da Silva 20_vs_1',\n",
       " 'PK_Ismael Rodrigues do Carmo 21_vs_1',\n",
       " 'PK_Ivanildes Barbosa 22_vs_1',\n",
       " 'PK_Jose Fernandes Araujo 23_vs_1',\n",
       " 'PK_Jose Francisto Fontineli  24_vs_1',\n",
       " 'PK_Marcilio Pontinho de Rezende 25_vs_1']"
      ]
     },
     "execution_count": 196,
     "metadata": {},
     "output_type": "execute_result"
    }
   ],
   "source": [
    "DATA[2:-2]"
   ]
  },
  {
   "cell_type": "code",
   "execution_count": 197,
   "metadata": {},
   "outputs": [
    {
     "data": {
      "text/plain": [
       "24"
      ]
     },
     "execution_count": 197,
     "metadata": {},
     "output_type": "execute_result"
    }
   ],
   "source": [
    "len(DATA[2:-2])"
   ]
  },
  {
   "cell_type": "code",
   "execution_count": 198,
   "metadata": {},
   "outputs": [
    {
     "data": {
      "text/plain": [
       "'PK_Sergio Lamenza 27_vs_1'"
      ]
     },
     "execution_count": 198,
     "metadata": {},
     "output_type": "execute_result"
    }
   ],
   "source": [
    "DATA[-1]"
   ]
  },
  {
   "cell_type": "markdown",
   "metadata": {},
   "source": [
    "---"
   ]
  },
  {
   "cell_type": "markdown",
   "metadata": {},
   "source": [
    "## Shape data"
   ]
  },
  {
   "cell_type": "code",
   "execution_count": 199,
   "metadata": {},
   "outputs": [],
   "source": [
    "Xc = np.load(\"DB_REPO/labeled/\"+DATA[0]+'.npy')\n",
    "for i in DATA[2:-2]:\n",
    "    Xc = np.vstack((Xc,np.load('DB_REPO/labeled/'+i+'.npy'))) "
   ]
  },
  {
   "cell_type": "markdown",
   "metadata": {},
   "source": [
    "### Split tipo 1"
   ]
  },
  {
   "cell_type": "markdown",
   "metadata": {},
   "source": [
    "#Dividindo os dados em sets de treino, test e validação\n",
    "dfn = pd.DataFrame(data=Xc)\n",
    "train, validate, test = np.split(dfn.sample(frac=1), [int(.6*len(dfn)), int(.8*len(dfn))])"
   ]
  },
  {
   "cell_type": "markdown",
   "metadata": {},
   "source": [
    "np.save('./DB_INTENC/preproc/labeled/train', train, allow_pickle=False)\n",
    "np.save('./DB_INTENC/preproc/labeled/validate', validate, allow_pickle=False)\n",
    "np.save('./DB_INTENC/preproc/labeled/test', test, allow_pickle=False)"
   ]
  },
  {
   "cell_type": "markdown",
   "metadata": {},
   "source": [
    "Xc_train = np.load(\"DB_INTENC/preproc/labeled/train.npy\")\n",
    "\n",
    "X_train = Xc_train[:,0:(Xc_train.shape[1]-1)]\n",
    "\n",
    "yz = Xc_train[:,[(Xc_train.shape[1]-1)]]\n",
    "y_train = np.array([])\n",
    "for i in range(len(yz)):\n",
    "    y_train = np.hstack((y_train,yz[i]))\n",
    "    \n",
    "lab_enc = preprocessing.LabelEncoder()\n",
    "y_train = lab_enc.fit_transform(y_train)\n",
    "\n",
    "X_train.shape, y_train.shape"
   ]
  },
  {
   "cell_type": "markdown",
   "metadata": {},
   "source": [
    "#Xc_validate = np.load(\"DB_INTENC/preproc/labeled/validate.npy\")\n",
    "Xc_validate = Xc\n",
    "\n",
    "X_validate = Xc_validate[:,0:(Xc_validate.shape[1]-1)]\n",
    "\n",
    "yz = Xc_validate[:,[(Xc_validate.shape[1]-1)]]\n",
    "y_validate = np.array([])\n",
    "for i in range(len(yz)):\n",
    "    y_validate = np.hstack((y_validate,yz[i]))\n",
    "    \n",
    "#lab_enc = preprocessing.LabelEncoder()\n",
    "#y_validate = lab_enc.fit_transform(y_validate)\n",
    "\n",
    "X_validate.shape, y_validate.shape"
   ]
  },
  {
   "cell_type": "markdown",
   "metadata": {},
   "source": [
    "Xc_test= np.load(\"DB_INTENC/preproc/labeled/validate.npy\")\n",
    "\n",
    "X_test = Xc_test[:,0:(Xc_test.shape[1]-1)]\n",
    "\n",
    "yz = Xc_test[:,[(Xc_test.shape[1]-1)]]\n",
    "y_test = np.array([])\n",
    "for i in range(len(yz)):\n",
    "    y_test = np.hstack((y_test,yz[i]))\n",
    "    \n",
    "lab_enc = preprocessing.LabelEncoder()\n",
    "y_test = lab_enc.fit_transform(y_test)\n",
    "\n",
    "X_test.shape, y_test.shape"
   ]
  },
  {
   "cell_type": "markdown",
   "metadata": {},
   "source": [
    "### Split tipo 2"
   ]
  },
  {
   "cell_type": "code",
   "execution_count": 200,
   "metadata": {},
   "outputs": [
    {
     "name": "stdout",
     "output_type": "stream",
     "text": [
      "CT_Antonia Perpetuo Borges 0_vs_0\n",
      "CT_Francisco das Chagas dos Santos 1_vs_0\n",
      "PK_Sergio Lamenza 27_vs_1\n",
      "PK_Osvaldir Borborema 26_vs_1\n"
     ]
    }
   ],
   "source": [
    "print DATA[0]\n",
    "print DATA[1]\n",
    "print DATA[-1]\n",
    "print DATA[-2]"
   ]
  },
  {
   "cell_type": "code",
   "execution_count": 201,
   "metadata": {
    "scrolled": true
   },
   "outputs": [
    {
     "name": "stdout",
     "output_type": "stream",
     "text": [
      "CT_Francisco das Chagas dos Santos 1_vs_0\n",
      "CT_Gelson Amantos de Souza  2_vs_0\n"
     ]
    }
   ],
   "source": [
    "for i in DATA[1:3]:\n",
    "    print i"
   ]
  },
  {
   "cell_type": "code",
   "execution_count": 202,
   "metadata": {},
   "outputs": [
    {
     "data": {
      "text/plain": [
       "((143412, 3), (143412,))"
      ]
     },
     "execution_count": 202,
     "metadata": {},
     "output_type": "execute_result"
    }
   ],
   "source": [
    "#Separando set de dados X, e set de labels y - Validação DATA[5] e DATA[6]\n",
    "Xc = np.load(\"DB_REPO/labeled/\"+DATA[0]+'.npy')\n",
    "\n",
    "#for i in DATA[1:3]:\n",
    "#    Xc = np.vstack((Xc,np.load('DB_REPO/labeled/'+i))) \n",
    "\n",
    "Xc = np.vstack((Xc,np.load('DB_REPO/labeled/'+DATA[1]+'.npy')))\n",
    "Xc = np.vstack((Xc,np.load('DB_REPO/labeled/'+DATA[-1]+'.npy')))\n",
    "Xc = np.vstack((Xc,np.load('DB_REPO/labeled/'+DATA[-2]+'.npy')))\n",
    "    \n",
    "X_validate = Xc[:,0:(Xc.shape[1]-1)]\n",
    "\n",
    "yz = Xc[:,[(Xc.shape[1]-1)]]\n",
    "y_validate = np.array([])\n",
    "for i in range(len(yz)):\n",
    "    y_validate = np.hstack((y_validate,yz[i]))\n",
    "    \n",
    "X_validate.shape, y_validate.shape"
   ]
  },
  {
   "cell_type": "code",
   "execution_count": 208,
   "metadata": {},
   "outputs": [
    {
     "data": {
      "text/plain": [
       "((143412, 3), (143412,))"
      ]
     },
     "execution_count": 208,
     "metadata": {},
     "output_type": "execute_result"
    }
   ],
   "source": [
    "X_validate_std = sc.transform(X_validate)\n",
    "\n",
    "X_validate_std.shape, y_validate.shape"
   ]
  },
  {
   "cell_type": "code",
   "execution_count": 204,
   "metadata": {},
   "outputs": [
    {
     "data": {
      "text/plain": [
       "((872619, 3), (872619,))"
      ]
     },
     "execution_count": 204,
     "metadata": {},
     "output_type": "execute_result"
    }
   ],
   "source": [
    "#Separando set de dados X, e set de labels y - Treino e Teste\n",
    "Xc = np.load(\"DB_REPO/labeled/\"+DATA[3]+'.npy')\n",
    "#for i in DATA[1:-2]:\n",
    "for i in DATA[4:-2]:\n",
    "    Xc = np.vstack((Xc,np.load('DB_REPO/labeled/'+i+'.npy'))) \n",
    "    \n",
    "X = Xc[:,0:(Xc.shape[1]-1)]\n",
    "\n",
    "yz = Xc[:,[(Xc.shape[1]-1)]]\n",
    "y = np.array([])\n",
    "for i in range(len(yz)):\n",
    "    y = np.hstack((y,yz[i]))\n",
    "    \n",
    "X.shape, y.shape"
   ]
  },
  {
   "cell_type": "code",
   "execution_count": 205,
   "metadata": {},
   "outputs": [
    {
     "data": {
      "text/plain": [
       "array([ 0.,  1.])"
      ]
     },
     "execution_count": 205,
     "metadata": {},
     "output_type": "execute_result"
    }
   ],
   "source": [
    "np.unique(y)"
   ]
  },
  {
   "cell_type": "code",
   "execution_count": 206,
   "metadata": {},
   "outputs": [],
   "source": [
    "#Dividindo os dados em sets de treino e test\n",
    "from sklearn.model_selection import train_test_split\n",
    "X_train, X_test, y_train, y_test = train_test_split(X, y, test_size=0.3, random_state=1)\n",
    "\n",
    "#X_test, X_validate, y_test, y_validate = train_test_split(X, y, test_size=0.5, random_state=1)"
   ]
  },
  {
   "cell_type": "code",
   "execution_count": 207,
   "metadata": {},
   "outputs": [
    {
     "name": "stdout",
     "output_type": "stream",
     "text": [
      "(610833, 3) (261786, 3) (143412, 3) (610833,) (261786,) (143412,)\n"
     ]
    }
   ],
   "source": [
    "#Aplica normalizador P.S.: Verificar necessidade pois os dados já foram normalizados anteriormente\n",
    "from sklearn.preprocessing import StandardScaler\n",
    "sc = StandardScaler()\n",
    "sc.fit(X_train)\n",
    "X_train_std = sc.transform(X_train)\n",
    "X_test_std = sc.transform(X_test)\n",
    "X_validate_std = sc.transform(X_validate)\n",
    "\n",
    "print X_train_std.shape, X_test_std.shape, X_validate_std.shape, y_train.shape, y_test.shape, y_validate.shape"
   ]
  },
  {
   "cell_type": "markdown",
   "metadata": {},
   "source": [
    "---"
   ]
  },
  {
   "cell_type": "markdown",
   "metadata": {},
   "source": [
    "## Classifiers"
   ]
  },
  {
   "cell_type": "markdown",
   "metadata": {},
   "source": [
    "### Random Forest"
   ]
  },
  {
   "cell_type": "code",
   "execution_count": 209,
   "metadata": {},
   "outputs": [
    {
     "name": "stdout",
     "output_type": "stream",
     "text": [
      "Training time\n",
      "CPU times: user 5min 10s, sys: 4.18 s, total: 5min 14s\n",
      "Wall time: 1min 26s\n",
      "\n",
      "Predict time\n",
      "CPU times: user 21.8 s, sys: 16 ms, total: 21.8 s\n",
      "Wall time: 5.63 s\n",
      "\n",
      "ClassifyRF accuracy:---------->95.60 %\n"
     ]
    }
   ],
   "source": [
    "#Training and test\n",
    "from sklearn.ensemble import RandomForestClassifier\n",
    "rfc = RandomForestClassifier(n_estimators=100, n_jobs = 4)\n",
    "\n",
    "print 'Training time'\n",
    "%time rfc = rfc.fit(X_train_std, y_train)\n",
    "\n",
    "print''\n",
    "\n",
    "print 'Predict time'\n",
    "%time y_pred = rfc.predict(X_test_std)\n",
    "\n",
    "print''\n",
    "\n",
    "from sklearn.metrics import accuracy_score\n",
    "print ('ClassifyRF accuracy:---------->%.2f %%' % (accuracy_score(y_test, y_pred)*100))"
   ]
  },
  {
   "cell_type": "markdown",
   "metadata": {},
   "source": [
    "### Memória anterior\n",
    "Training time\n",
    "CPU times: user 4min 12s, sys: 1.13 s, total: 4min 13s\n",
    "Wall time: 1min 20s\n",
    "\n",
    "Predict time\n",
    "CPU times: user 3.82 s, sys: 188 ms, total: 4 s\n",
    "Wall time: 1.45 s\n",
    "\n",
    "ClassifyRF accuracy:---------->98.35 %\n"
   ]
  },
  {
   "cell_type": "markdown",
   "metadata": {},
   "source": [
    "#Salva a rede treinada para um arquivo\n",
    "joblib.dump(rfc, 'DB_INTENC/preproc/labeled/rfc_split2.pkl') "
   ]
  },
  {
   "cell_type": "markdown",
   "metadata": {
    "collapsed": true
   },
   "source": [
    "rfc = joblib.load('DB_INTENC/preproc/labeled/rfc.pkl')"
   ]
  },
  {
   "cell_type": "code",
   "execution_count": 210,
   "metadata": {},
   "outputs": [
    {
     "name": "stdout",
     "output_type": "stream",
     "text": [
      "Predict time\n",
      "CPU times: user 2.61 s, sys: 4 ms, total: 2.61 s\n",
      "Wall time: 859 ms\n",
      "\n",
      "ClassifyRF accuracy:---------->52.72 %\n"
     ]
    }
   ],
   "source": [
    "#Validation\n",
    "print 'Predict time'\n",
    "%time y_pred = rfc.predict(X_validate)\n",
    "\n",
    "print''\n",
    "\n",
    "from sklearn.metrics import accuracy_score\n",
    "\n",
    "result = ('ClassifyRF accuracy:---------->%.2f %%' % (accuracy_score(y_pred, y_validate)*100))\n",
    "\n",
    "print result"
   ]
  },
  {
   "cell_type": "markdown",
   "metadata": {},
   "source": [
    "### Memória anterior\n",
    "Predict time\n",
    "CPU times: user 2.62 s, sys: 4 ms, total: 2.63 s\n",
    "Wall time: 849 ms\n",
    "\n",
    "ClassifyRF accuracy:---------->52.39 %\n",
    "\n",
    "\n",
    "Predict time\n",
    "CPU times: user 1.37 s, sys: 216 ms, total: 1.59 s\n",
    "Wall time: 591 ms\n",
    "\n",
    "ClassifyRF accuracy:---------->22.04 %\n"
   ]
  },
  {
   "cell_type": "code",
   "execution_count": 211,
   "metadata": {},
   "outputs": [
    {
     "name": "stdout",
     "output_type": "stream",
     "text": [
      "Predict time\n",
      "CPU times: user 9.48 s, sys: 16 ms, total: 9.49 s\n",
      "Wall time: 2.67 s\n",
      "\n",
      "ClassifyRF accuracy:---------->61.55 %\n"
     ]
    }
   ],
   "source": [
    "#Validation\n",
    "print 'Predict time'\n",
    "%time y_pred = rfc.predict(X_validate_std)\n",
    "\n",
    "print''\n",
    "\n",
    "from sklearn.metrics import accuracy_score\n",
    "\n",
    "result = ('ClassifyRF accuracy:---------->%.2f %%' % (accuracy_score(y_pred, y_validate)*100))\n",
    "\n",
    "print result"
   ]
  },
  {
   "cell_type": "markdown",
   "metadata": {},
   "source": [
    "### Memória anterior\n",
    "Predict time\n",
    "CPU times: user 9.48 s, sys: 12 ms, total: 9.49 s\n",
    "Wall time: 2.63 s\n",
    "\n",
    "ClassifyRF accuracy:---------->61.41 %\n",
    "\n",
    "Predict time\n",
    "CPU times: user 2.17 s, sys: 104 ms, total: 2.27 s\n",
    "Wall time: 810 ms\n",
    "\n",
    "ClassifyRF accuracy:---------->18.04 %"
   ]
  },
  {
   "cell_type": "markdown",
   "metadata": {},
   "source": [
    "---"
   ]
  },
  {
   "cell_type": "markdown",
   "metadata": {},
   "source": [
    "## Support Vector Machine"
   ]
  },
  {
   "cell_type": "code",
   "execution_count": 65,
   "metadata": {},
   "outputs": [
    {
     "name": "stdout",
     "output_type": "stream",
     "text": [
      "Processing time SVM\n",
      "CPU times: user 1h 45min 48s, sys: 2.05 s, total: 1h 45min 50s\n",
      "Wall time: 1h 45min 54s\n",
      "\n",
      "Predict time\n",
      "CPU times: user 11min 41s, sys: 48 ms, total: 11min 41s\n",
      "Wall time: 11min 42s\n",
      "SVM-RBF accuracy:---------->81.72 %\n"
     ]
    }
   ],
   "source": [
    "from sklearn import svm, datasets\n",
    "\n",
    "print 'Processing time SVM'\n",
    "%time svm = svm.SVC(kernel='rbf', gamma=0.2, C=6, decision_function_shape='ovr').fit(X_train_std, y_train)\n",
    "\n",
    "print ''\n",
    "\n",
    "from sklearn.metrics import accuracy_score\n",
    "\n",
    "print 'Predict time'  \n",
    "%time y_pred = svm.predict(X_test_std)\n",
    "from sklearn.metrics import accuracy_score\n",
    "print ('SVM-RBF accuracy:---------->%.2f %%' % (accuracy_score(y_test, y_pred)*100))"
   ]
  },
  {
   "cell_type": "code",
   "execution_count": 66,
   "metadata": {
    "scrolled": true
   },
   "outputs": [
    {
     "name": "stdout",
     "output_type": "stream",
     "text": [
      "Predict time\n",
      "CPU times: user 10min 56s, sys: 24 ms, total: 10min 56s\n",
      "Wall time: 10min 56s\n",
      "SVM-RBF accuracy:---------->6.63 %\n"
     ]
    }
   ],
   "source": [
    "print 'Predict time'  \n",
    "%time y_pred = svm.predict(X_validate_std)\n",
    "from sklearn.metrics import accuracy_score\n",
    "print ('SVM-RBF accuracy:---------->%.2f %%' % (accuracy_score(y_validate, y_pred)*100))"
   ]
  },
  {
   "cell_type": "markdown",
   "metadata": {
    "collapsed": true
   },
   "source": [
    "## TESTS"
   ]
  },
  {
   "cell_type": "code",
   "execution_count": 79,
   "metadata": {},
   "outputs": [
    {
     "name": "stdout",
     "output_type": "stream",
     "text": [
      "Processing time ADA\n",
      "CPU times: user 6min 55s, sys: 52 ms, total: 6min 55s\n",
      "Wall time: 6min 55s\n",
      "\n",
      "Predict time\n",
      "CPU times: user 15.4 s, sys: 12 ms, total: 15.5 s\n",
      "Wall time: 15.5 s\n",
      "ADA accuracy:---------->59.37 %\n"
     ]
    }
   ],
   "source": [
    "from sklearn.ensemble import AdaBoostClassifier\n",
    "print 'Processing time ADA'\n",
    "%time ada = AdaBoostClassifier(n_estimators=600,learning_rate=0.3).fit(X_train_std, y_train)\n",
    "\n",
    "print ''\n",
    "\n",
    "print 'Predict time'  \n",
    "%time y_pred = ada.predict(X_test_std)\n",
    "print ('ADA accuracy:---------->%.2f %%' % (accuracy_score(y_test, y_pred)*100))"
   ]
  },
  {
   "cell_type": "code",
   "execution_count": 80,
   "metadata": {},
   "outputs": [
    {
     "name": "stdout",
     "output_type": "stream",
     "text": [
      "Predict time\n",
      "CPU times: user 13.9 s, sys: 0 ns, total: 13.9 s\n",
      "Wall time: 13.9 s\n",
      "ADA accuracy:---------->6.72 %\n"
     ]
    }
   ],
   "source": [
    "print 'Predict time'  \n",
    "%time y_pred = ada.predict(X_validate_std)\n",
    "print ('ADA accuracy:---------->%.2f %%' % (accuracy_score(y_validate, y_pred)*100))"
   ]
  },
  {
   "cell_type": "markdown",
   "metadata": {},
   "source": [
    "## 2"
   ]
  },
  {
   "cell_type": "code",
   "execution_count": 73,
   "metadata": {},
   "outputs": [
    {
     "name": "stdout",
     "output_type": "stream",
     "text": [
      "Processing time ADA\n",
      "CPU times: user 13min 4s, sys: 288 ms, total: 13min 4s\n",
      "Wall time: 13min 5s\n",
      "\n",
      "Predict time\n",
      "CPU times: user 15 s, sys: 0 ns, total: 15 s\n",
      "Wall time: 15 s\n",
      "ADA accuracy:---------->39.56 %\n"
     ]
    }
   ],
   "source": [
    "from sklearn.tree import DecisionTreeClassifier\n",
    "print 'Processing time ADA'\n",
    "%time ada = AdaBoostClassifier(DecisionTreeClassifier(max_depth=2),n_estimators=600,learning_rate=1).fit(X_train_std, y_train)\n",
    "\n",
    "print ''\n",
    "\n",
    "print 'Predict time'  \n",
    "%time y_pred = ada.predict(X_test_std)\n",
    "print ('ADA accuracy:---------->%.2f %%' % (accuracy_score(y_test, y_pred)*100))"
   ]
  },
  {
   "cell_type": "code",
   "execution_count": 74,
   "metadata": {},
   "outputs": [
    {
     "name": "stdout",
     "output_type": "stream",
     "text": [
      "Predict time\n",
      "CPU times: user 14.3 s, sys: 0 ns, total: 14.3 s\n",
      "Wall time: 14.3 s\n",
      "ADA accuracy:---------->10.59 %\n"
     ]
    }
   ],
   "source": [
    "print 'Predict time'  \n",
    "%time y_pred = ada.predict(X_validate_std)\n",
    "print ('ADA accuracy:---------->%.2f %%' % (accuracy_score(y_validate, y_pred)*100))"
   ]
  },
  {
   "cell_type": "code",
   "execution_count": null,
   "metadata": {},
   "outputs": [],
   "source": []
  }
 ],
 "metadata": {
  "kernelspec": {
   "display_name": "Python 2",
   "language": "python",
   "name": "python2"
  },
  "language_info": {
   "codemirror_mode": {
    "name": "ipython",
    "version": 2
   },
   "file_extension": ".py",
   "mimetype": "text/x-python",
   "name": "python",
   "nbconvert_exporter": "python",
   "pygments_lexer": "ipython2",
   "version": "2.7.13"
  }
 },
 "nbformat": 4,
 "nbformat_minor": 2
}
